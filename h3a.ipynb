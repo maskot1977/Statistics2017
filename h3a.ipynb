{
 "cells": [
  {
   "cell_type": "markdown",
   "metadata": {},
   "source": [
    "# ハンバーガー統計学 with Python 第3章\n",
    "\n",
    "第３回講義（2017年10月3日講義、10月10日課題提出締切）\n",
    "\n",
    "このページは、<a href=\"http://kogolab.chillout.jp/elearn/hamburger/index.html\" target=\"_blank\">ハンバーガー統計学にようこそ！</a>の内容をプログラミング言語 Python に合わせて書き直したものです（著作権者の許諾を得て利用しております）。"
   ]
  },
  {
   "cell_type": "markdown",
   "metadata": {},
   "source": [
    "<h1 STYLE=\"background: #c2edff;padding: 0.5em;\"><a href=\"http://kogolab.chillout.jp/elearn/hamburger/chap3/sec0.html\" target=\"_blank\">第３章 カイ２乗検定</a></h1>\n",
    "\n",
    "<img src=\"image/w-chicken.jpg\">\n",
    "\n",
    "毎日お店に来ては、ポテトの長さを調べたりお客さんのポテトを数えていたあなた。\n",
    "\n",
    "それを見ていたワクワクバーガーの店員さんが、思い詰めた顔をしてあなたののところにやってきました。\n",
    "\n",
    "「実は、ひとつ気になることがあるんだけど、君の統計学の知識でなんとかならないかなぁ。それはね……」\n",
    "\n",
    "ワクワクバーガーの店員さんは、悩みをあなたに打ち明けました。"
   ]
  },
  {
   "cell_type": "markdown",
   "metadata": {},
   "source": [
    "<h2 STYLE=\"background: #c2edff;padding: 0.5em;\"><a href=\"http://kogolab.chillout.jp/elearn/hamburger/chap3/sec1.html\" target=\"_blank\">3.1　チキンの売り上げは少ないのか</a></h2>\n",
    "\n",
    "ワクワクバーガーの店員さんの悩みとは、次のようなことでした。\n",
    "\n",
    "<img src=\"image/salesman00006.jpg\">\n",
    "\n",
    "「うちの店では、ポテトやハンバーガーの売り上げは上々で、かなりいいんだ。でも、それに比べると、フライドチキンの売り上げはイマイチなような気がするんだよね」\n",
    "\n",
    "「それでね、うちのフライドチキンは、ライバル店のモグモグバーガーと比べて、本当に売れてないのか調べたいんだよ。お願い、どうか力を貸してくれないか」\n",
    "\n",
    "店員さんに頼み込まれてしまったあなたは、その調査依頼を引き受けることにしました。"
   ]
  },
  {
   "cell_type": "markdown",
   "metadata": {},
   "source": [
    "<h4 style=\"border-bottom: solid 1px black;\">ポテトとチキンの売り上げを調べる</h4>\n",
    "\n",
    "まず、ワクワクとモグモグでの、ポテトとチキンの１日の売り上げ個数を調べることにしました。\n",
    "\n",
    "その個数は次の表のようになりました。"
   ]
  },
  {
   "cell_type": "markdown",
   "metadata": {},
   "source": [
    "  <center>表3.1　ワクワクとモグモグでのポテトとチキンの売り上げ数</center>\n",
    "<TABLE BORDER=\"1\" BGCOLOR=\"#FFFFFF\" cellpadding=\"0\" cellspacing=\"0\">\n",
    "  <TR> \n",
    "    <th WIDTH=\"100\" HEIGHT=\"30\" BGCOLOR=\"#CCCC99\"> お店 </th>\n",
    "    <th WIDTH=\"81\" HEIGHT=\"30\" BGCOLOR=\"#FFFFCC\"> ポテト </th>\n",
    "    <th WIDTH=\"100\" HEIGHT=\"30\" BGCOLOR=\"#FFCCCC\"> チキン </th>\n",
    "    <th WIDTH=\"100\" HEIGHT=\"30\" BGCOLOR=\"#CCCCCC\"> 合計 </th>\n",
    "  </TR>\n",
    "  <TR align=\"center\"> \n",
    "    <TD WIDTH=\"100\" HEIGHT=\"30\" BGCOLOR=\"#CCCC99\"> ワクワク </TD>\n",
    "    <TD WIDTH=\"100\" HEIGHT=\"30\" BGCOLOR=\"#FFFFFF\"> 435</TD>\n",
    "    <TD WIDTH=\"100\" HEIGHT=\"30\" BGCOLOR=\"#FFFFFF\"> 165</TD>\n",
    "    <TD WIDTH=\"100\" HEIGHT=\"30\" BGCOLOR=\"#CCCCCC\"> 600</TD>\n",
    "  </TR>\n",
    "  <TR align=\"center\"> \n",
    "    <TD WIDTH=\"119\" HEIGHT=\"30\" BGCOLOR=\"#CCCC99\"> モグモグ </TD>\n",
    "    <TD WIDTH=\"81\" HEIGHT=\"30\" BGCOLOR=\"#FFFFFF\"> 265</TD>\n",
    "    <TD WIDTH=\"100\" HEIGHT=\"30\" BGCOLOR=\"#FFFFFF\"> 135</TD>\n",
    "    <TD WIDTH=\"100\" HEIGHT=\"30\" BGCOLOR=\"#CCCCCC\"> 400</TD>\n",
    "  </TR>\n",
    "</TABLE>"
   ]
  },
  {
   "cell_type": "markdown",
   "metadata": {},
   "source": [
    "この表によると、ワクワクのチキンの売り上げは165個で、それに対してモグモグのチキンの売り上げは135個でした。しかし、このチキンの売り上げ数だけを単純に比べても、両店で違いがあるかどうかは分かりません。なぜなら、両店の全体の売り上げ数が違うからです。そこで、ハンバーガーショップの定番商品であるポテトの売り上げ数を基準にして比べることにします。\n",
    "\n",
    "* ワクワクでは、ポテト435個に対してチキン165個で、約4割です。\n",
    "* 対するモグモグでは、ポテト265個に対してチキン135個で、約5割です。\n",
    "\n",
    "これで見る限り、モグモグの方がチキンの売り上げの割合が多そうに思えます。\n",
    "\n",
    "さて、これだけで、「モグモグの方がチキンの売り上げが、割合として多い」と断言していいのでしょうか。統計学では、これをどのように考えるのでしょうか。"
   ]
  },
  {
   "cell_type": "markdown",
   "metadata": {},
   "source": [
    "<h4 style=\"border-bottom: solid 1px black;\">仮説を立てる</h4>\n",
    "\n",
    "統計学では、まず「仮説」を立てるところから出発します。仮説とは、「○○である」ということを仮に立てたものです。そのあとで、それを肯定するか、あるいは否定するかを決めるのです。\n",
    "\n",
    "ここでは、次の仮説を立ててみました。\n",
    "\n",
    "「チキンとポテトの売り上げの割合に関して、モグモグとワクワクの間に差はない」\n",
    "\n",
    "おや「……差はない」ですか。これはどういうことでしょうか。ふつうは、「差がある」ことを証明したいわけですから、「差はある」という仮説を立てるのが自然ではないでしょうか。\n",
    "\n",
    "その通りです。しかし、統計学では、あえて「差はない」という仮説を最初に立てます。これを「帰無仮説」と呼びます。\n",
    "\n",
    "なぜ帰無仮説を最初に立てるかというと、「差はある」という仮説は、「大きな差がある」、「小さな差がある」、「中位の差がある」などなど、無限に立てられるからです。そのひとつひとつについて検討するのは事実上不可能です。それに対して、帰無仮説「差はない」というのは、これ以外の形はありません。ですから、これを肯定するか、否定するかを決めればいいことになり、単純になります。\n",
    "\n",
    "仮説を肯定することを「採択する」、否定することを「棄却する」といいます。\n",
    "\n",
    "もし帰無仮説が採択されれば、「差はない」と結論します。反対に、もし帰無仮説が棄却された場合は、「差はない、とは言えない」つまり「差はある」と結論されることになります。帰無仮説の反対の仮説のことを、「対立仮説」と呼びます。対立仮説は、帰無仮説が棄却されたときに採択される仮説で、「差はないとは言えない、つまり差はある」という形です。\n",
    "\n",
    "まとめると、次のような流れになります。\n",
    "\n",
    "* まず、帰無仮説「差はない」を立てる\n",
    "* 次に、帰無仮説を採択するか、棄却するかを決める\n",
    "* 帰無仮説を採択した場合は、「差はない」と結論する\n",
    "* 帰無仮説を棄却した場合は、対立仮説を採択し、「差はないとはいえない、つまり差はある」と結論する"
   ]
  },
  {
   "cell_type": "markdown",
   "metadata": {},
   "source": [
    "<h4 style=\"border-bottom: solid 1px black;\">仮説を検討してみよう</h4>\n",
    "\n",
    "帰無仮説として「売り上げの割合に差はない」という仮説を立てます。ワクワクもモグモグも、ポテトとチキンがまったく同じ割合で売れるとしたときの、売り上げ個数をだしてみましょう。そこで、帰無仮説による個数と実際の個数がそれほど変わらなければ、帰無仮説を採択し、差はないと結論することになります。"
   ]
  },
  {
   "cell_type": "markdown",
   "metadata": {},
   "source": [
    "<h4 style=\"border-bottom: solid 1px black;\">ポテトとチキンが同じ割合で売れるとしたときの個数の出し方</h4>\n",
    "\n",
    "両店で、ポテトとチキンが同じ割合で売れるとしたときの個数を計算します。それぞれのお店の売り上げ個数と、ポテトとチキンの売り上げ個数を使えば、その個数を求めることができます。"
   ]
  },
  {
   "cell_type": "markdown",
   "metadata": {},
   "source": [
    "  <center>表3.2　同じ割合で売れるとしたときの、ポテトとチキンの売り上げ数を逆算する(1)</center>\n",
    "<TABLE BORDER=\"1\" BGCOLOR=\"#FFFFFF\" cellpadding=\"0\" cellspacing=\"0\" align=\"center\">\n",
    "  <TR> \n",
    "    <th WIDTH=\"100\" HEIGHT=\"30\" BGCOLOR=\"#CCCC99\"> お店 </th>\n",
    "    <th WIDTH=\"81\" HEIGHT=\"30\" BGCOLOR=\"#FFFFCC\"> ポテト </th>\n",
    "    <th WIDTH=\"100\" HEIGHT=\"30\" BGCOLOR=\"#FFCCCC\"> チキン </th>\n",
    "    <th WIDTH=\"100\" HEIGHT=\"30\" BGCOLOR=\"#CCCCCC\"> 合計 </th>\n",
    "  </TR>\n",
    "  <TR align=\"center\"> \n",
    "    <TD WIDTH=\"100\" HEIGHT=\"30\" BGCOLOR=\"#CCCC99\"> ワクワク </TD>\n",
    "    <TD WIDTH=\"100\" HEIGHT=\"30\" BGCOLOR=\"#FFFFFF\"> ?</TD>\n",
    "    <TD WIDTH=\"100\" HEIGHT=\"30\" BGCOLOR=\"#FFFFFF\"> ?</TD>\n",
    "    <TD WIDTH=\"100\" HEIGHT=\"30\" BGCOLOR=\"#CCCCCC\"> 600</TD>\n",
    "  </TR>\n",
    "  <TR align=\"center\"> \n",
    "    <TD WIDTH=\"119\" HEIGHT=\"30\" BGCOLOR=\"#CCCC99\"> モグモグ </TD>\n",
    "    <TD WIDTH=\"81\" HEIGHT=\"30\" BGCOLOR=\"#FFFFFF\"> ?</TD>\n",
    "    <TD WIDTH=\"100\" HEIGHT=\"30\" BGCOLOR=\"#FFFFFF\"> ?</TD>\n",
    "    <TD WIDTH=\"100\" HEIGHT=\"30\" BGCOLOR=\"#CCCCCC\"> 400</TD>\n",
    "  </TR>\n",
    "  <TR align=\"center\" bgcolor=\"#CCCCCC\"> \n",
    "    <TD WIDTH=\"119\" HEIGHT=\"30\">合計</TD>\n",
    "    <TD WIDTH=\"81\" HEIGHT=\"30\">700</TD>\n",
    "    <TD WIDTH=\"100\" HEIGHT=\"30\">300</TD>\n",
    "    <TD WIDTH=\"100\" HEIGHT=\"30\">1000</TD>\n",
    "  </TR>\n",
    "</TABLE>"
   ]
  },
  {
   "cell_type": "markdown",
   "metadata": {},
   "source": [
    "上の表のように合計個数だけをみると、全体の売り上げに対して、それぞれのお店の合計個数の割合は、\n",
    "\n",
    "* ワクワクで、600÷1000\n",
    "* モグモグで、400÷1000　　になります。\n",
    "\n",
    "それに対して、ポテトとチキンの割合は700対300です。\n",
    "\n",
    "ですから、同じ割合で売れるとしたら、\n",
    "\n",
    "* ワクワクのポテトは、600÷1000×700＝420\n",
    "* モグモグのポテトは、400÷1000×700＝280　　になります。\n",
    "\n",
    "それでは、チキンの個数はどれくらいになるでしょうか。計算して、下の表を埋めてください。"
   ]
  },
  {
   "cell_type": "markdown",
   "metadata": {},
   "source": [
    "  <center>表3.3　同じ割合で売れるとしたときの、ポテトとチキンの売り上げ数を逆算する(2)</center>\n",
    "<TABLE BORDER=\"1\" BGCOLOR=\"#FFFFFF\" cellpadding=\"0\" cellspacing=\"0\" align=\"center\">\n",
    "  <TR> \n",
    "    <th WIDTH=\"100\" HEIGHT=\"30\" BGCOLOR=\"#CCCC99\"> お店 </th>\n",
    "    <th WIDTH=\"81\" HEIGHT=\"30\" BGCOLOR=\"#FFFFCC\"> ポテト </th>\n",
    "    <th WIDTH=\"100\" HEIGHT=\"30\" BGCOLOR=\"#FFCCCC\"> チキン </th>\n",
    "    <th WIDTH=\"100\" HEIGHT=\"30\" BGCOLOR=\"#CCCCCC\"> 合計 </th>\n",
    "  </TR>\n",
    "  <TR align=\"center\"> \n",
    "    <TD WIDTH=\"100\" HEIGHT=\"30\" BGCOLOR=\"#CCCC99\"> ワクワク </TD>\n",
    "    <TD WIDTH=\"100\" HEIGHT=\"30\" BGCOLOR=\"#FFFFFF\"> 420</TD>\n",
    "    <TD WIDTH=\"100\" HEIGHT=\"30\" BGCOLOR=\"#FFFFFF\">　 </TD>\n",
    "    <TD WIDTH=\"100\" HEIGHT=\"30\" BGCOLOR=\"#CCCCCC\"> 600</TD>\n",
    "  </TR>\n",
    "  <TR align=\"center\"> \n",
    "    <TD WIDTH=\"119\" HEIGHT=\"30\" BGCOLOR=\"#CCCC99\"> モグモグ </TD>\n",
    "    <TD WIDTH=\"81\" HEIGHT=\"30\" BGCOLOR=\"#FFFFFF\"> 280</TD>\n",
    "    <TD WIDTH=\"100\" HEIGHT=\"30\" BGCOLOR=\"#FFFFFF\">　 </TD>\n",
    "    <TD WIDTH=\"100\" HEIGHT=\"30\" BGCOLOR=\"#CCCCCC\"> 400</TD>\n",
    "  </TR>\n",
    "  <TR align=\"center\" bgcolor=\"#CCCCCC\"> \n",
    "    <TD WIDTH=\"119\" HEIGHT=\"30\">合計</TD>\n",
    "    <TD WIDTH=\"81\" HEIGHT=\"30\">700</TD>\n",
    "    <TD WIDTH=\"100\" HEIGHT=\"30\">300</TD>\n",
    "    <TD WIDTH=\"100\" HEIGHT=\"30\">1000</TD>\n",
    "  </TR>\n",
    "</TABLE>"
   ]
  },
  {
   "cell_type": "code",
   "execution_count": 1,
   "metadata": {
    "collapsed": true
   },
   "outputs": [],
   "source": [
    "# 表3.3の空欄を埋めてください"
   ]
  },
  {
   "cell_type": "markdown",
   "metadata": {},
   "source": [
    "どうなりましたか。私の計算では、\n",
    "\n",
    "* ワクワクのチキンは、600÷1000×300＝180\n",
    "* モグモグのチキンは、400÷1000×300＝120　　になりました。　　　\n",
    "\n",
    "結局、同じ割合で売れるとしたときの売り上げ個数の表は下のようになります。"
   ]
  },
  {
   "cell_type": "markdown",
   "metadata": {},
   "source": [
    "  <center>表3.4　同じ割合で売れるとしたときの、ポテトとチキンの売り上げ数</center>\n",
    "<TABLE BORDER=\"1\" BGCOLOR=\"#FFFFFF\" cellpadding=\"0\" cellspacing=\"0\" align=\"center\">\n",
    "  <TR> \n",
    "    <th WIDTH=\"100\" HEIGHT=\"30\" BGCOLOR=\"#CCCC99\"> お店 </th>\n",
    "    <th WIDTH=\"81\" HEIGHT=\"30\" BGCOLOR=\"#FFFFCC\"> ポテト </th>\n",
    "    <th WIDTH=\"100\" HEIGHT=\"30\" BGCOLOR=\"#FFCCCC\"> チキン </th>\n",
    "    <th WIDTH=\"100\" HEIGHT=\"30\" BGCOLOR=\"#CCCCCC\"> 合計 </th>\n",
    "  </TR>\n",
    "  <TR align=\"center\"> \n",
    "    <TD WIDTH=\"100\" HEIGHT=\"30\" BGCOLOR=\"#CCCC99\"> ワクワク </TD>\n",
    "    <TD WIDTH=\"100\" HEIGHT=\"30\" BGCOLOR=\"#FFFFFF\"> 420</TD>\n",
    "    <TD WIDTH=\"100\" HEIGHT=\"30\" BGCOLOR=\"#FFFFFF\">180</TD>\n",
    "    <TD WIDTH=\"100\" HEIGHT=\"30\" BGCOLOR=\"#CCCCCC\"> 600</TD>\n",
    "  </TR>\n",
    "  <TR align=\"center\"> \n",
    "    <TD WIDTH=\"119\" HEIGHT=\"30\" BGCOLOR=\"#CCCC99\"> モグモグ </TD>\n",
    "    <TD WIDTH=\"81\" HEIGHT=\"30\" BGCOLOR=\"#FFFFFF\"> 280</TD>\n",
    "    <TD WIDTH=\"100\" HEIGHT=\"30\" BGCOLOR=\"#FFFFFF\">120</TD>\n",
    "    <TD WIDTH=\"100\" HEIGHT=\"30\" BGCOLOR=\"#CCCCCC\"> 400</TD>\n",
    "  </TR>\n",
    "  <TR align=\"center\" bgcolor=\"#CCCCCC\"> \n",
    "    <TD WIDTH=\"119\" HEIGHT=\"30\">合計</TD>\n",
    "    <TD WIDTH=\"81\" HEIGHT=\"30\">700</TD>\n",
    "    <TD WIDTH=\"100\" HEIGHT=\"30\">300</TD>\n",
    "    <TD WIDTH=\"100\" HEIGHT=\"30\">1000</TD>\n",
    "  </TR>\n",
    "</TABLE>"
   ]
  },
  {
   "cell_type": "markdown",
   "metadata": {},
   "source": [
    "この個数を「期待度数」と呼びます。これは、帰無仮説、つまり「両店のポテトとチキンの売り上げ割合に差がない」が成立したときに、期待される度数ということです。\n",
    "\n",
    "しかし、実際の売り上げ個数はこのようになっていました。"
   ]
  },
  {
   "cell_type": "markdown",
   "metadata": {},
   "source": [
    "  <center>表3.5　実際のポテトとチキンの売り上げ数</center>\n",
    "<TABLE BORDER=\"1\" BGCOLOR=\"#FFFFFF\" cellpadding=\"0\" cellspacing=\"0\" align=\"center\">\n",
    "  <TR> \n",
    "    <th WIDTH=\"100\" HEIGHT=\"30\" BGCOLOR=\"#CCCC99\"> お店 </th>\n",
    "    <th WIDTH=\"81\" HEIGHT=\"30\" BGCOLOR=\"#FFFFCC\"> ポテト </th>\n",
    "    <th WIDTH=\"100\" HEIGHT=\"30\" BGCOLOR=\"#FFCCCC\"> チキン </th>\n",
    "    <th WIDTH=\"100\" HEIGHT=\"30\" BGCOLOR=\"#CCCCCC\"> 合計 </th>\n",
    "  </TR>\n",
    "  <TR align=\"center\"> \n",
    "    <TD WIDTH=\"100\" HEIGHT=\"30\" BGCOLOR=\"#CCCC99\"> ワクワク </TD>\n",
    "    <TD WIDTH=\"100\" HEIGHT=\"30\" BGCOLOR=\"#FFFFFF\"> 435</TD>\n",
    "    <TD WIDTH=\"100\" HEIGHT=\"30\" BGCOLOR=\"#FFFFFF\">165</TD>\n",
    "    <TD WIDTH=\"100\" HEIGHT=\"30\" BGCOLOR=\"#CCCCCC\"> 600</TD>\n",
    "  </TR>\n",
    "  <TR align=\"center\"> \n",
    "    <TD WIDTH=\"119\" HEIGHT=\"30\" BGCOLOR=\"#CCCC99\"> モグモグ </TD>\n",
    "    <TD WIDTH=\"81\" HEIGHT=\"30\" BGCOLOR=\"#FFFFFF\"> 265</TD>\n",
    "    <TD WIDTH=\"100\" HEIGHT=\"30\" BGCOLOR=\"#FFFFFF\">135</TD>\n",
    "    <TD WIDTH=\"100\" HEIGHT=\"30\" BGCOLOR=\"#CCCCCC\"> 400</TD>\n",
    "  </TR>\n",
    "  <TR align=\"center\" bgcolor=\"#CCCCCC\"> \n",
    "    <TD WIDTH=\"119\" HEIGHT=\"30\">合計</TD>\n",
    "    <TD WIDTH=\"81\" HEIGHT=\"30\">700</TD>\n",
    "    <TD WIDTH=\"100\" HEIGHT=\"30\">300</TD>\n",
    "    <TD WIDTH=\"100\" HEIGHT=\"30\">1000</TD>\n",
    "  </TR>\n",
    "</TABLE>\n",
    "\n",
    "この個数を「観測度数」と呼びます。つまり、実際に観測された度数ということです。"
   ]
  },
  {
   "cell_type": "markdown",
   "metadata": {},
   "source": [
    "<h4 style=\"border-bottom: solid 1px black;\">観測度数と期待度数を比べてみる</h4>\n",
    "\n",
    "観測度数と期待度数とを比較してみると、次のことが言えます。\n",
    "\n",
    "ワクワクでは、\n",
    "\n",
    "* ポテトは実際の方が多い（観測度数435に対して期待度数420）。\n",
    "* チキンは実際の方が少ない（観測度数165に対して期待度数180）。\n",
    "\n",
    "モグモグでは、\n",
    "\n",
    "* ポテトは実際の方が少ない（観測度数265に対して期待度数280）。\n",
    "* チキンは実際の方が多い（観測135に対して期待度数120）。\n",
    "\n",
    "さて、このように期待度数と観測度数には違いがあることがわかりました。しかし、はたしてこの違いには「意味があるのでしょうか」？　たとえば、ワクワクのポテトの個数は、観測度数435に対して、期待度数は420でした。この435と420との差「15」には意味があるのかどうか？\n",
    "\n",
    "「意味があるのかどうか」ということは、こういうことです。たとえば、460と420というデータがあって、この２つのずれは、本来同じだったのにたまたまずれてしまったものなのか、あるいは、本来違っているものが現れてきたものなのか、このどちらなのかを決めるということです。\n",
    "\n",
    "さらに言い換えれば、このずれは「誤差の範囲内のもの」なのか、それとも「誤差とは言えない、誤差以上のもの」なのか、を決めるということです。\n",
    "\n",
    "これを決めるためには、検定という考え方を知る必要があります。\n",
    "\n"
   ]
  },
  {
   "cell_type": "markdown",
   "metadata": {},
   "source": [
    "<h2 STYLE=\"background: #c2edff;padding: 0.5em;\"><a href=\"http://kogolab.chillout.jp/elearn/hamburger/chap3/sec2.html\" target=\"_blank\">3.2　カイ２乗値とカイ２乗分布</a></h2>"
   ]
  },
  {
   "cell_type": "markdown",
   "metadata": {},
   "source": [
    "<h4 style=\"border-bottom: solid 1px black;\">観測度数と期待度数のずれを数値にする</h4>\n",
    "\n",
    "平均からのばらつきを数値にするために、分散という考え方を使いました。それと同じように、観測度数と期待度数のずれを数値にすることはできないのでしょうか。それを考えていきましょう。\n",
    "\n",
    "まず、観測度数と期待度数のずれですから、それらをすべて足してみます。\n",
    "\n",
    "* ずれ案1＝（観測度数－期待度数）の総和\n",
    "\n",
    "しかし、これで実際に計算してみると、\n",
    "\n",
    "* (435-420)+(165-180)+(265-280)+(135-120)\n",
    "=15+(-15)+(-15)+15\n",
    "=0\n",
    "\n",
    "となり、常に0になってしまいます。プラスのところとマイナスのところが打ち消し合っているからです。\n",
    "\n",
    "そこで、分散の計算の時のように２乗してから足していきます。\n",
    "\n",
    "* ずれ案2＝（（観測度数－期待度数）の２乗）の総和\n",
    "\n",
    "* (435-420)^2+(165-180)^2+(265-280)^2+(135-120)^2\n",
    "=15^2+(-15)^2+(-15)^2+15^2\n",
    "=900\n",
    "\n",
    "となり、よさそうです。\n",
    "\n",
    "しかし、これでもまだまずいところがあります。たとえば、ポテトとチキンの売り上げデータを10日分とったとします。単純に考えて、データが１日分の10倍となったとすると、ずれの値は、\n",
    "\n",
    "* (4350-4200)^2+(1650-1800)^2+(2650-2800)^2+(1350-1200)^2\n",
    "=150^2+(-150)^2+(-150)^2+150^2\n",
    "=90000\n",
    "\n",
    "となって、非常に大きくなってしまいます。\n",
    "\n",
    "そこで、（観測度数－期待度数）の２乗を期待度数で割っておくことにします。\n",
    "\n",
    "* ずれ案3＝（（（観測度数－期待度数）の２乗）÷期待度数）の総和\n",
    "\n",
    "* (435-420)^2/420+(165-180)^2/180+(265-280)^2/280+(135-120)^2/120\n",
    "=15^2/420+(-15)^2/180+(-15)^2/280+15^2/120\n",
    "=0.536+1.250+0.804+1.875\n",
    "=4.464\n",
    "\n",
    "これをカイ２乗値と呼びます。カイというのは、ギリシャ文字で「χ」と書きます。\n",
    "\n",
    "もう一度まとめておきます。\n",
    "\n",
    "* カイ２乗値＝（（（観測度数－期待度数）の２乗）÷期待度数）の総和\n",
    "\n",
    "この式からわかることは、\n",
    "\n",
    "* 期待度数と観測度数が完全に一致すれば、カイ２乗値はゼロになる\n",
    "* 逆に、不一致（ずれ）が大きくなれば、カイ２乗値は大きな値になる\n",
    "\n",
    "ということです。"
   ]
  },
  {
   "cell_type": "markdown",
   "metadata": {},
   "source": [
    "<h4 style=\"border-bottom: solid 1px black;\">カイ２乗分布</h4>\n",
    "\n",
    "さて、計算した結果、カイ２乗値は4.464になりました。これはゼロではありませんから、観測度数と期待度数にずれがあることを示しています。それでは、このカイ２乗値は大きいのでしょうか、それともとるにたらないものなのでしょうか？\n",
    "\n",
    "これを決めるためには、カイ２乗値の性質、つまりカイ２乗分布を調べておく必要があります。"
   ]
  },
  {
   "cell_type": "markdown",
   "metadata": {},
   "source": [
    "<h4 style=\"border-bottom: solid 1px black;\">ピンポン玉実験</h4>\n",
    "\n",
    "白とオレンジのピンポン玉をそれぞれ50個ずつ箱に入れておきます。よくかき混ぜて、無作為に10個取り出します。そのときの、白の数とオレンジの数を調べます。調べたら、また取り出した分を箱の中に戻して、また同じように無作為に10個取り出します。\n",
    "\n",
    "<img src=\"image/chi1.jpg\">"
   ]
  },
  {
   "cell_type": "markdown",
   "metadata": {},
   "source": [
    "このような実験を何回も繰り返すとどうなるでしょうか。\n",
    "\n",
    "白とオレンジがそれぞれ5個ずつである場合は、比較的起こりやすそうです。もともと箱の中には半々ではいっていたのですから。\n",
    "\n",
    "このときのカイ２乗値は（期待度数は5個と5個ですから）、\n",
    "\n",
    "* カイ２乗値＝(5-5)^2/5+(5-5)^2/5=0\n",
    "\n",
    "このようにゼロになります。\n",
    "\n",
    "それでは、白とオレンジが、6個と4個になる場合はあるでしょうか。これも、よく起こりそうです。このときのカイ２乗値は、\n",
    "\n",
    "* カイ２乗値＝(6-5)^2/5+(4-5)^2/5=0.4\n",
    "\n",
    "0.4になります。\n",
    "\n",
    "それでは、白とオレンジが、7個と3個になる場合はどうでしょう。6個と4個よりは起こりにくそうです。\n",
    "\n",
    "* カイ２乗値＝(7-5)^2/5+(3-5)^2/5=1.6\n",
    "\n",
    "1.6になりました。\n",
    "\n",
    "さらに、白とオレンジが、8個と2個の場合はどうでしょうか。これはあまり起こらない場合です。\n",
    "\n",
    "* カイ２乗値＝(8-5)^2/5+(2-5)^2/5=3.6\n",
    "\n",
    "カイ２乗値は3.6になります。\n",
    "\n",
    "最後に、白とオレンジが、9個と1個の場合はどうでしょう。これはめったに起こらない場合です。\n",
    "\n",
    "* カイ２乗値＝(9-5)^2/5+(1-5)^2/5=6.4\n",
    "\n",
    "カイ２乗値は6.4になりました。\n",
    "\n",
    "以上のことを表にまとめると、次のようになります。"
   ]
  },
  {
   "cell_type": "markdown",
   "metadata": {},
   "source": [
    "  <center>表3.6　起こりやすさとカイ２乗値</center>\n",
    "<table width=\"80%\" border=\"1\" align=\"center\" cellpadding=\"0\" cellspacing=\"0\">\n",
    "  <tr bgcolor=\"#CCCCCC\"> \n",
    "    <th>白とオレンジの個数</th>\n",
    "    <th>起こりやすさ（確率）</th>\n",
    "    <th>カイ２乗値</th>\n",
    "  </tr>\n",
    "  <tr> \n",
    "    <td> \n",
    "      <div align=\"center\">5個と5個</div>\n",
    "    </td>\n",
    "    <td> \n",
    "      <div align=\"center\">最も起こりやすい</div>\n",
    "    </td>\n",
    "    <td> \n",
    "      <div align=\"center\">0</div>\n",
    "    </td>\n",
    "  </tr>\n",
    "  <tr> \n",
    "    <td> \n",
    "      <div align=\"center\">6個と4個</div>\n",
    "    </td>\n",
    "    <td> \n",
    "      <div align=\"center\">起こりやすい</div>\n",
    "    </td>\n",
    "    <td> \n",
    "      <div align=\"center\">0.4</div>\n",
    "    </td>\n",
    "  </tr>\n",
    "  <tr> \n",
    "    <td> \n",
    "      <div align=\"center\">7個と3個</div>\n",
    "    </td>\n",
    "    <td> \n",
    "      <div align=\"center\">起こりにくい</div>\n",
    "    </td>\n",
    "    <td> \n",
    "      <div align=\"center\">1.6</div>\n",
    "    </td>\n",
    "  </tr>\n",
    "  <tr> \n",
    "    <td> \n",
    "      <div align=\"center\">8個と2個</div>\n",
    "    </td>\n",
    "    <td> \n",
    "      <div align=\"center\">かなり起こりにくい</div>\n",
    "    </td>\n",
    "    <td> \n",
    "      <div align=\"center\">3.6</div>\n",
    "    </td>\n",
    "  </tr>\n",
    "  <tr> \n",
    "    <td> \n",
    "      <div align=\"center\">9個と1個</div>\n",
    "    </td>\n",
    "    <td> \n",
    "      <div align=\"center\">非常に起こりにくい</div>\n",
    "    </td>\n",
    "    <td> \n",
    "      <div align=\"center\">6.4</div>\n",
    "    </td>\n",
    "  </tr>\n",
    "</table>\n",
    "\n",
    "起こりやすさ（確率）が小さくなればなるほど、カイ２乗値が大きくなっていることがわかります。"
   ]
  },
  {
   "cell_type": "markdown",
   "metadata": {},
   "source": [
    "<h4 style=\"border-bottom: solid 1px black;\">カイ２乗分布</h4>\n",
    "\n",
    "横軸にカイ２乗値を取り、縦軸に確率密度を取ると、次のようなカイ２乗分布が描けます。\n",
    "\n",
    "確率密度というのは、たとえば横軸3のところで切った右側の面積が「カイ２乗値が3以上になる確率」になるように決めたものです。\n",
    "\n",
    "<img src=\"image/chi2.jpg\">\n",
    "\n",
    "これを見ると、カイ２乗値がゼロに近づくほど、急激に確率が大きくなっていくことかわかります。逆にカイ２乗値が大きくなると、確率は非常に小さくなることがわかります。\n",
    "\n",
    "この例では、白とオレンジのピンポン玉が50個と50個で半々になっていましたが、これがたとえば60個と40個であっても、カイ２乗値を計算して分布を描くと、同じカイ２乗分布になります。\n",
    "\n",
    "また、この例では、取り出す個数は10個でしたが、これが20個でも、30個でも、カイ２乗値を計算して分布を描くと、同じカイ２乗分布になります。\n",
    "\n",
    "このことから、カイ２乗分布がさまざまな場合に適用できることがわかります。"
   ]
  },
  {
   "cell_type": "markdown",
   "metadata": {},
   "source": [
    "<h4 style=\"border-bottom: solid 1px black;\">自由度によってカイ２乗分布は変わる</h4>\n",
    "\n",
    "白とオレンジのピンポン玉を10個取ってくる場合は、白の数が決まれば、オレンジの数は自動的に決まります。つまり2種類の数のうち、自由に動かせるのは、そのうちひとつだけです。この数を「自由度」と呼びます。2種類のピンポン玉を取ってくる場合は、2－1で「自由度1」となります。\n",
    "\n",
    "それでは、白とオレンジと青の3種類のピンポン玉ではどうでしょうか。この場合は、白とオレンジの数が決まると自動的に青の数が決まります。したがって、自由度は、3－1で2となります。\n",
    "\n",
    "取り出す元の個数の割合が変わっても、また取り出す個数が変わっても、カイ２乗分布は変わりません。しかし、自由度が変わると、カイ２乗分布は変わります。図3.2のカイ２乗分布は、自由度1の場合の分布です。\n",
    "\n",
    "自由度が変わると、次の図のようにカイ２乗分布も変わっていきます。\n",
    "\n",
    "<img src=\"image/chi3.jpg\">\n",
    "\n",
    "それでは、このカイ２乗分布を使って、ポテトとチキンの売り上げの割合に違いがあるかどうかを考えていきましょう。"
   ]
  },
  {
   "cell_type": "markdown",
   "metadata": {},
   "source": [
    "<h2 STYLE=\"background: #c2edff;padding: 0.5em;\"><a href=\"http://kogolab.chillout.jp/elearn/hamburger/chap3/sec3.html\" target=\"_blank\">3.3　カイ２乗検定</a></h2>"
   ]
  },
  {
   "cell_type": "markdown",
   "metadata": {},
   "source": [
    "<h4 style=\"border-bottom: solid 1px black;\">カイ２乗値と自由度を求める</h4>\n",
    "\n",
    "さて、ポテトとチキンの売り上げに戻りましょう。"
   ]
  },
  {
   "cell_type": "markdown",
   "metadata": {},
   "source": [
    "  <center>表3.7　ポテトとチキンの売り上げ数（観測度数／期待度数）</center>\n",
    "<table border=\"1\" bgcolor=\"#FFFFFF\" cellpadding=\"0\" cellspacing=\"0\" align=\"center\">\n",
    "  <tr> \n",
    "    <th width=\"100\" height=\"30\" bgcolor=\"#CCCC99\"> お店 </th>\n",
    "    <th width=\"81\" height=\"30\" bgcolor=\"#FFFFCC\"> ポテト </th>\n",
    "    <th width=\"100\" height=\"30\" bgcolor=\"#FFCCCC\"> チキン </th>\n",
    "    <th width=\"100\" height=\"30\" bgcolor=\"#CCCCCC\"> 合計 </th>\n",
    "  </tr>\n",
    "  <tr align=\"center\"> \n",
    "    <td width=\"100\" height=\"30\" bgcolor=\"#CCCC99\"> ワクワク </td>\n",
    "    <td width=\"100\" height=\"30\" bgcolor=\"#FFFFFF\"> 435/420</td>\n",
    "    <td width=\"100\" height=\"30\" bgcolor=\"#FFFFFF\">165/180</td>\n",
    "    <td width=\"100\" height=\"30\" bgcolor=\"#CCCCCC\"> 600</td>\n",
    "  </tr>\n",
    "  <tr align=\"center\"> \n",
    "    <td width=\"119\" height=\"30\" bgcolor=\"#CCCC99\"> モグモグ </td>\n",
    "    <td width=\"81\" height=\"30\" bgcolor=\"#FFFFFF\"> 265/280</td>\n",
    "    <td width=\"100\" height=\"30\" bgcolor=\"#FFFFFF\">135/120</td>\n",
    "    <td width=\"100\" height=\"30\" bgcolor=\"#CCCCCC\"> 400</td>\n",
    "  </tr>\n",
    "  <tr align=\"center\" bgcolor=\"#CCCCCC\"> \n",
    "    <td width=\"119\" height=\"30\">合計</td>\n",
    "    <td width=\"81\" height=\"30\">700</td>\n",
    "    <td width=\"100\" height=\"30\">300</td>\n",
    "    <td width=\"100\" height=\"30\">1000</td>\n",
    "  </tr>\n",
    "</table>"
   ]
  },
  {
   "cell_type": "markdown",
   "metadata": {},
   "source": [
    "このカイ２乗値は、\n",
    "\n",
    "* （（（観測度数－期待度数）の２乗）÷期待度数）の総和\n",
    "\n",
    "* (435-420)^2/420+(165-180)^2/180+(265-280)^2/280+(135-120)^2/120\n",
    "=15^2/420+(-15)^2/180+(-15)^2/280+15^2/120\n",
    "=0.536+1.250+0.804+1.875\n",
    "=4.46　（小数点第3位を四捨五入）\n",
    "\n",
    "となりました。"
   ]
  },
  {
   "cell_type": "markdown",
   "metadata": {},
   "source": [
    "この値はカイ２乗分布にしたがっているわけですが、自由度はいくつになるのでしょうか。\n",
    "\n",
    "この場合は、\n",
    "\n",
    "* 「ポテトとチキン」の2種類から1を引いて、1\n",
    "* 「ワクワクとモグモグ」の2種類から1を引いて、1\n",
    "\n",
    "これらをかけ算して、1×1＝1。自由度は1になります。\n",
    "\n",
    "この意味は、「ワクワクのポテトが決まると、ワクワクのチキンが決まり（合計が決まっているから）、同時に、モグモグのポテトが決まり（合計が決まっているから）、さらにそれによって、モグモグのチキンも決まる。ということは、1つの値が決まれば、残りは自動的にきまる。つまり自由度は1である」ということです。\n",
    "\n",
    "一般的に、行と列がある二次元の表の場合は、\n",
    "\n",
    "* 自由度＝（行の数－1）×（列の数－1）\n",
    "\n",
    "となります。"
   ]
  },
  {
   "cell_type": "markdown",
   "metadata": {},
   "source": [
    "<h4 style=\"border-bottom: solid 1px black;\">確率を求める</h4>\n",
    "\n",
    "さて、自由度は1、カイ２乗値は4.46となりました。この値は大きいのでしょうか、小さいのでしょうか。言い換えれば、確率的に起こりにくいことなのでしょうか、起こりやすいことなのでしょうか。\n",
    "\n",
    "自由度とカイ２乗値がわかったときに、それが起こる確率を調べる必要があります。そのときに、カイ２乗分布表を使うと便利です。"
   ]
  },
  {
   "cell_type": "markdown",
   "metadata": {},
   "source": [
    "  <center>表3.8　カイ２乗分布表</center>\n",
    "<table border=\"1\" bgcolor=\"#FFFFFF\" cellpadding=\"0\" cellspacing=\"0\" align=\"center\">\n",
    "  <tr> \n",
    "    <th width=\"100\" height=\"30\" bgcolor=\"#CCCCCC\"> ↓自由度／確率→</th>\n",
    "    <th width=\"81\" height=\"30\" bgcolor=\"#FFFFCC\"> 0.05</th>\n",
    "    <th width=\"100\" height=\"30\" bgcolor=\"#FFCCCC\"> 0.01</th>\n",
    "  </tr>\n",
    "  <tr align=\"center\" bgcolor=\"#CCFFFF\"> \n",
    "    <td width=\"100\" height=\"30\"> 1</td>\n",
    "    <td width=\"100\" height=\"30\"> 3.84</td>\n",
    "    <td width=\"100\" height=\"30\">6.63</td>\n",
    "  </tr>\n",
    "  <tr align=\"center\"> \n",
    "    <td width=\"119\" height=\"30\" bgcolor=\"#CCCCCC\"> 2</td>\n",
    "    <td width=\"81\" height=\"30\" bgcolor=\"#FFFFFF\"> 5.99</td>\n",
    "    <td width=\"100\" height=\"30\" bgcolor=\"#FFFFFF\">9.21</td>\n",
    "  </tr>\n",
    "  <tr align=\"center\" bgcolor=\"#CCCCCC\"> \n",
    "    <td width=\"119\" height=\"30\" bgcolor=\"#CCCCCC\">3</td>\n",
    "    <td width=\"81\" height=\"30\" bgcolor=\"#FFFFFF\">7.81</td>\n",
    "    <td width=\"100\" height=\"30\" bgcolor=\"#FFFFFF\">11.34</td>\n",
    "  </tr>\n",
    "  <tr align=\"center\" bgcolor=\"#CCCCCC\"> \n",
    "    <td width=\"119\" height=\"30\" bgcolor=\"#CCCCCC\">4</td>\n",
    "    <td width=\"81\" height=\"30\" bgcolor=\"#FFFFFF\">9.49</td>\n",
    "    <td width=\"100\" height=\"30\" bgcolor=\"#FFFFFF\">13.28</td>\n",
    "  </tr>\n",
    "  <tr align=\"center\" bgcolor=\"#CCCCCC\"> \n",
    "    <td width=\"119\" height=\"30\" bgcolor=\"#CCCCCC\">5</td>\n",
    "    <td width=\"81\" height=\"30\" bgcolor=\"#FFFFFF\">11.07</td>\n",
    "    <td width=\"100\" height=\"30\" bgcolor=\"#FFFFFF\">15.09</td>\n",
    "  </tr>\n",
    "  <tr align=\"center\" bgcolor=\"#CCCCCC\">\n",
    "    <td width=\"119\" height=\"30\" bgcolor=\"#CCCCCC\">…以下続く…</td>\n",
    "    <td width=\"81\" height=\"30\" bgcolor=\"#FFFFFF\">…</td>\n",
    "    <td width=\"100\" height=\"30\" bgcolor=\"#FFFFFF\">…</td>\n",
    "  </tr>\n",
    "</table>"
   ]
  },
  {
   "cell_type": "markdown",
   "metadata": {},
   "source": [
    "いま、自由度1のカイ２乗分布を考えると、次のようなグラフになります。\n",
    "\n",
    "<img src=\"image/chi4.jpg\">\n",
    "\n",
    "カイ２乗値が3.84のところでグラフを区切ると、それよりも左側で0.95(95%)、それよりも右側で0.05(5%)の面積になります。つまり、カイ２乗値が3.84よりも小さい値は、95%の確率で起こります。また、カイ２乗値が3.84よりも大きい値は、5%の確率でしか起こらないということになります。\n",
    "\n",
    "つまり「ワクワクとモグモグではポテトとチキンの売り上げの割合には差がない（帰無仮説）」としたときに、そのカイ２乗値が3.84よりも大きくなる確率は5%よりも小さいということです。\n",
    "\n",
    "さらにカイ２乗値が6.63よりも大きくなる確率は、1%よりも小さくなります。\n",
    "　\n",
    "さて、計算したカイ２乗値は4.46でした。これは次のように解釈できます。「ワクワクとモグモグのお店によってポテトとチキンの売り上げの割合には差がない（帰無仮説）」としたときに、そのカイ２乗値が4.46をとる確率は、5%よりも小さく、1%よりも大きい。"
   ]
  },
  {
   "cell_type": "markdown",
   "metadata": {},
   "source": [
    "<h4 style=\"border-bottom: solid 1px black;\">有意水準</h4>\n",
    "\n",
    "カイ２乗値4.46がでてくる確率は、1%から5%の間だということがわかりました。これは、100回やって1回から5回しか起こらないということです。これは「起こりにくい」とするべきでしょうか。それとも「それほど起こりにくいことではない」とするべきなのでしょうか。確かに宝くじの一等が当たる確率よりは、大きいのですが。\n",
    "\n",
    "めったに起こらないか、そうではないか、を決めるのに、統計学では「有意水準」というものを使います。有意水準よりも小さい確率であれば、それは「めったに起こらないこと」、つまり、偶然の誤差ではないと認定します。有意水準よりも大きい確率であれば、「めったに起こらないこととはいえない」、つまり、偶然の誤差であるとします。\n",
    "\n",
    "有意水準は伝統的に、5%か、あるいは1%を使います。有意水準5％よりも、有意水準1%の方が厳しい判断の仕方といえます。5%、1%どちらを有意水準として使ってもかまいません。重要なのは、あらかじめ有意水準を決めておくということです。"
   ]
  },
  {
   "cell_type": "markdown",
   "metadata": {},
   "source": [
    "<h4 style=\"border-bottom: solid 1px black;\">仮説検定をする</h4>\n",
    "\n",
    "さて、話をチキンとポテトに戻しましょう。\n",
    "\n",
    "カイ２乗値は4.46でした。これは、5%から1%の確率で起こることです。\n",
    "\n",
    "ここで、有意水準として5%をとるとすると、それよりも小さい確率ですので、「めったに起こらないこと」と認定できます。これは次のように解釈できます。\n",
    "\n",
    "* 帰無仮説として「ワクワクとモグモグではポテトとチキンの売り上げの割合には差がない」としました。\n",
    "* カイ２乗値は4.46となり、これが起こるのは5%より小さい確率です。\n",
    "* 有意水準を5%に設定したので、これは「めったに起こらないこと」であるといえます。\n",
    "* 「めったに起こらないこと」が起こってしまったのは、帰無仮説が間違っていたからだと考えます。\n",
    "* したがって、帰無仮説「ワクワクとモグモグではポテトとチキンの売り上げの割合には差がない」は間違っていたと考えます。\n",
    "* 帰無仮説を棄却します。\n",
    "* 帰無仮説が棄却されたので、対立仮説「ワクワクとモグモグではポテトとチキン売り上げの割合に差がある」を採択します。これが結論になります。\n",
    "\n",
    "カイ２乗検定の結果「ワクワクとモグモグではポテトとチキン売り上げの割合に差がある」という結論が得られました。"
   ]
  },
  {
   "cell_type": "markdown",
   "metadata": {},
   "source": [
    "<h4 style=\"border-bottom: solid 1px black;\">店員さんに結論を知らせる</h4>\n",
    "\n",
    "あなたはこの結論を店員さんに知らせました。\n",
    "\n",
    "「ポテトとチキンの売り上げについてカイ２乗検定をしたんですよ」\n",
    "\n",
    "「な、なんだい、そのカイなんとかというのは？」\n",
    "\n",
    "「ともかく、その結果、ワクワクとモグモグではポテトとチキン売り上げの割合に差がある、ということなんです。ワクワクの方がチキンの売り上げの割合が小さいんです。それは有意水準5%でいえることなんです」\n",
    "\n",
    "「そのユウイなんとかってのは？」\n",
    "\n",
    "「ともかく、差があるんですよ！」\n",
    "\n",
    "<img src=\"image/salesman00007.jpg\">\n",
    "\n",
    "「そ、そうか、売れ行きに違いがでたか。やっぱりうちのチキンは売れてないんだ」\n",
    "\n",
    "「そういうことです」\n",
    "\n",
    "「ふう、何か対策を考えなくちゃいけないな。うん、調べてくれてどうもありがとう」"
   ]
  },
  {
   "cell_type": "markdown",
   "metadata": {},
   "source": [
    "<h4 style=\"border-bottom: solid 1px black;\">仮説検定のまとめ</h4>\n",
    "\n",
    "さてあなたは、今回仮説をたてて、それが正しいかどうかを見てきました。ここで仮説検定のステップを確認しておきましょう。\n",
    "\n",
    "1.　「○○と○○との間には差がない」という形の帰無仮説を立てる\n",
    "\n",
    "2.　期待度数と観測度数のずれを見るためカイ２乗値を計算する\n",
    "\n",
    "3.　カイ２乗値の出現確率を調べる\n",
    "\n",
    "4.　有意水準を基準にして帰無仮説を棄却するか、あるいは採択するかを決める\n",
    "\n",
    "この仮説検定の方法は、このあとも使っていきます。"
   ]
  },
  {
   "cell_type": "markdown",
   "metadata": {},
   "source": [
    "<h2 STYLE=\"background: #c2edff;padding: 0.5em;\"><a href=\"http://kogolab.chillout.jp/elearn/hamburger/chap3/sec4.html\" target=\"_blank\">3.4　実践編：ハンバーガーを入れてみる</a></h2>"
   ]
  },
  {
   "cell_type": "markdown",
   "metadata": {},
   "source": [
    "<h4 style=\"border-bottom: solid 1px black;\">ハンバーガーを入れてカイ２乗検定をする</h4>\n",
    "\n",
    "ポテトとチキンの売り上げの表を見ていて、あなたはひとつ気がつきました。\n",
    "\n",
    "「よく考えたら、ハンバーガーショップで一番メインの商品であるハンバーガーの売り上げを入れてなかったなあ。よし、ハンバーガーの売り上げ数を調べてみよう」\n",
    "\n",
    "さっそく、ハンバーガーの売り上げデータを調べてきました。ポテトとチキンの売り上げに加えて、ハンバーガーの売り上げデータを入れて、次のような表を作りました。"
   ]
  },
  {
   "cell_type": "markdown",
   "metadata": {},
   "source": [
    "<h4 style=\"padding: 0.25em 0.5em;color: #494949;background: transparent;border-left: solid 5px #7db4e6;\">課題3.4</h4>\n",
    "\n",
    "下表をもとに、ワクワクとモグモグのポテト・チキン・ハンバーガーの売れ方に違いがあるかをカイ２乗検定で調べたいと思います。以下の問いに答えてください。\n",
    "\n",
    "<center>表3.9　ポテトとチキンとハンバーガーの売り上げ数</center>\n",
    "<table border=\"1\" bgcolor=\"#FFFFFF\" cellpadding=\"0\" cellspacing=\"0\" align=\"center\">\n",
    "  <tr> \n",
    "    <th width=\"100\" height=\"30\" bgcolor=\"#CCCC99\"> お店 </th>\n",
    "    <th width=\"81\" height=\"30\" bgcolor=\"#FFFFCC\"> ポテト </th>\n",
    "    <th width=\"100\" height=\"30\" bgcolor=\"#FFCCCC\"> チキン </th>\n",
    "    <th width=\"100\" height=\"30\" bgcolor=\"#99FFCC\">ハンバーガー</th>\n",
    "    <th width=\"100\" height=\"30\" bgcolor=\"#CCCCCC\">合計</th>\n",
    "  </tr>\n",
    "  <tr align=\"center\"> \n",
    "    <td width=\"100\" height=\"30\" bgcolor=\"#CCCC99\"> ワクワク </td>\n",
    "    <td width=\"100\" height=\"30\" bgcolor=\"#FFFFFF\"> 435</td>\n",
    "    <td width=\"100\" height=\"30\" bgcolor=\"#FFFFFF\">165</td>\n",
    "    <td width=\"100\" height=\"30\" bgcolor=\"#FFFFFF\">650</td>\n",
    "    <td width=\"100\" height=\"30\" bgcolor=\"#CCCCCC\">1250</td>\n",
    "  </tr>\n",
    "  <tr align=\"center\"> \n",
    "    <td width=\"119\" height=\"30\" bgcolor=\"#CCCC99\"> モグモグ </td>\n",
    "    <td width=\"81\" height=\"30\" bgcolor=\"#FFFFFF\"> 265</td>\n",
    "    <td width=\"100\" height=\"30\" bgcolor=\"#FFFFFF\">135</td>\n",
    "    <td width=\"100\" height=\"30\" bgcolor=\"#FFFFFF\">350</td>\n",
    "    <td width=\"100\" height=\"30\" bgcolor=\"#CCCCCC\">750</td>\n",
    "  </tr>\n",
    "  <tr align=\"center\" bgcolor=\"#CCCCCC\"> \n",
    "    <td width=\"119\" height=\"30\">合計</td>\n",
    "    <td width=\"81\" height=\"30\">700</td>\n",
    "    <td width=\"100\" height=\"30\">300</td>\n",
    "    <td width=\"100\" height=\"30\">1000</td>\n",
    "    <td width=\"100\" height=\"30\">2000</td>\n",
    "  </tr>\n",
    "</table>"
   ]
  },
  {
   "cell_type": "markdown",
   "metadata": {},
   "source": [
    "(a) 帰無仮説と対立仮説は何か、説明してください。"
   ]
  },
  {
   "cell_type": "code",
   "execution_count": 2,
   "metadata": {
    "collapsed": true
   },
   "outputs": [],
   "source": [
    "# 課題3.4 (a)\n",
    "# 帰無仮説： ワクワクとモグモグのポテト・チキン・ハンバーガーの売れ方に違いはない。\n",
    "# 対立仮説：ワクワクとモグモグのポテト・チキン・ハンバーガーの売れ方に違いがある。"
   ]
  },
  {
   "cell_type": "markdown",
   "metadata": {},
   "source": [
    "(b) 帰無仮説に基づいて、モグモグとワクワクの、ポテトとチキンとハンバーガーの売上数の期待度数を求めてください（下表の６つの空欄）。\n",
    "\n",
    "  <center>表3.10　ポテトとチキンとハンバーガーの売り上げの期待度数</center>\n",
    "<table border=\"1\" bgcolor=\"#FFFFFF\" cellpadding=\"0\" cellspacing=\"0\" align=\"center\">\n",
    "  <tr> \n",
    "    <th width=\"100\" height=\"30\" bgcolor=\"#CCCC99\"> お店 </th>\n",
    "    <th width=\"81\" height=\"30\" bgcolor=\"#FFFFCC\"> ポテト </th>\n",
    "    <th width=\"100\" height=\"30\" bgcolor=\"#FFCCCC\"> チキン </th>\n",
    "    <th width=\"100\" height=\"30\" bgcolor=\"#99FFCC\">ハンバーガー</th>\n",
    "    <th width=\"100\" height=\"30\" bgcolor=\"#CCCCCC\">合計</th>\n",
    "  </tr>\n",
    "  <tr align=\"center\"> \n",
    "    <td width=\"100\" height=\"30\" bgcolor=\"#CCCC99\"> ワクワク </td>\n",
    "    <td width=\"100\" height=\"30\" bgcolor=\"#FFFFFF\">　 </td>\n",
    "    <td width=\"100\" height=\"30\" bgcolor=\"#FFFFFF\">　</td>\n",
    "    <td width=\"100\" height=\"30\" bgcolor=\"#FFFFFF\">　</td>\n",
    "    <td width=\"100\" height=\"30\" bgcolor=\"#CCCCCC\">1250</td>\n",
    "  </tr>\n",
    "  <tr align=\"center\"> \n",
    "    <td width=\"119\" height=\"30\" bgcolor=\"#CCCC99\"> モグモグ </td>\n",
    "    <td width=\"81\" height=\"30\" bgcolor=\"#FFFFFF\">　 </td>\n",
    "    <td width=\"100\" height=\"30\" bgcolor=\"#FFFFFF\">　</td>\n",
    "    <td width=\"100\" height=\"30\" bgcolor=\"#FFFFFF\">　</td>\n",
    "    <td width=\"100\" height=\"30\" bgcolor=\"#CCCCCC\">750</td>\n",
    "  </tr>\n",
    "  <tr align=\"center\" bgcolor=\"#CCCCCC\"> \n",
    "    <td width=\"119\" height=\"30\">合計</td>\n",
    "    <td width=\"81\" height=\"30\">700</td>\n",
    "    <td width=\"100\" height=\"30\">300</td>\n",
    "    <td width=\"100\" height=\"30\">1000</td>\n",
    "    <td width=\"100\" height=\"30\">2000</td>\n",
    "  </tr>\n",
    "</table>"
   ]
  },
  {
   "cell_type": "code",
   "execution_count": 3,
   "metadata": {
    "collapsed": false
   },
   "outputs": [
    {
     "name": "stdout",
     "output_type": "stream",
     "text": [
      "437.5 187.5 625.0\n",
      "262.5 112.5 375.0\n"
     ]
    }
   ],
   "source": [
    "# 課題3.4 (b)\n",
    "wp = 1250. * 700. / 2000.\n",
    "wc = 1250. * 300. / 2000.\n",
    "wb = 1250. * 1000. / 2000.\n",
    "mp = 750. * 700. / 2000.\n",
    "mc = 750. * 300. / 2000.\n",
    "mb = 750. * 1000. / 2000.\n",
    "print (wp, wc, wb) #ワクワクポテト、ワクワクチキン、ワクワクバーガー\n",
    "print (mp, mc, mb) #モグモグポテト、モグモグチキン、モグモグバーガー"
   ]
  },
  {
   "cell_type": "markdown",
   "metadata": {},
   "source": [
    "(c) 観測度数と期待度数を元にして、カイ２乗値を計算してください（全部で6個の空欄について計算します）。\n",
    "  * カイ２乗値＝（（（観測度数－期待度数）の２乗）÷期待度数）の総和"
   ]
  },
  {
   "cell_type": "code",
   "execution_count": 4,
   "metadata": {
    "collapsed": false
   },
   "outputs": [
    {
     "name": "stdout",
     "output_type": "stream",
     "text": [
      "0.014285714285714285 2.7 1.0\n",
      "0.023809523809523808 4.5 1.6666666666666667\n",
      "9.904761904761903\n"
     ]
    }
   ],
   "source": [
    "# 課題3.4 (c)\n",
    "kwp = (435. - wp) ** 2 / wp\n",
    "kwc = (165. - wc) ** 2 / wc\n",
    "kwb = (650. - wb) ** 2 / wb\n",
    "kmp = (265. - mp) ** 2 / mp\n",
    "kmc = (135. - mc) ** 2 / mc\n",
    "kmb = (350. - mb) ** 2 / mb\n",
    "print (kwp, kwc, kwb) #ワクワクポテト、ワクワクチキン、ワクワクバーガー\n",
    "print (kmp, kmc, kmb) #モグモグポテト、モグモグチキン、モグモグバーガー\n",
    "kai = kwp + kwc + kwb + kmp + kmc + kmb\n",
    "print (kai) # カイ２乗値"
   ]
  },
  {
   "cell_type": "markdown",
   "metadata": {},
   "source": [
    "(d) 自由度を求めてください。\n",
    "  * 自由度＝（行の数－1）×（列の数－1）"
   ]
  },
  {
   "cell_type": "code",
   "execution_count": 5,
   "metadata": {
    "collapsed": false
   },
   "outputs": [
    {
     "name": "stdout",
     "output_type": "stream",
     "text": [
      "2\n"
     ]
    }
   ],
   "source": [
    "# 課題3.4 (d)\n",
    "jiyudo = (2 - 1) * (3 - 1)\n",
    "print (jiyudo)"
   ]
  },
  {
   "cell_type": "markdown",
   "metadata": {},
   "source": [
    "(e) ここでは、有意水準をちょっと厳しくして、1%としましょう。カイ２乗分布表を用いて、有意水準を満たすカイ２乗値を探してください。\n",
    "\n",
    "<center>表3.8　カイ２乗分布表</center>\n",
    "<table border=\"1\" bgcolor=\"#FFFFFF\" cellpadding=\"0\" cellspacing=\"0\" align=\"center\">\n",
    "  <tr> \n",
    "    <th width=\"100\" height=\"30\" bgcolor=\"#CCCCCC\"> ↓自由度／確率→</th>\n",
    "    <th width=\"81\" height=\"30\" bgcolor=\"#FFFFCC\"> 0.05</th>\n",
    "    <th width=\"100\" height=\"30\" bgcolor=\"#FFCCCC\"> 0.01</th>\n",
    "  </tr>\n",
    "  <tr align=\"center\"> \n",
    "    <td width=\"100\" height=\"30\" bgcolor=\"#CCCCCC\"> 1</td>\n",
    "    <td width=\"100\" height=\"30\" bgcolor=\"#FFFFFF\"> 3.84</td>\n",
    "    <td width=\"100\" height=\"30\" bgcolor=\"#FFFFFF\">6.63</td>\n",
    "  </tr>\n",
    "  <tr align=\"center\"> \n",
    "    <td width=\"119\" height=\"30\" bgcolor=\"#CCCCCC\"> 2</td>\n",
    "    <td width=\"81\" height=\"30\"> 5.99</td>\n",
    "    <td width=\"100\" height=\"30\">9.21</td>\n",
    "  </tr>\n",
    "  <tr align=\"center\" bgcolor=\"#CCCCCC\"> \n",
    "    <td width=\"119\" height=\"30\" bgcolor=\"#CCCCCC\">3</td>\n",
    "    <td width=\"81\" height=\"30\" bgcolor=\"#FFFFFF\">7.81</td>\n",
    "    <td width=\"100\" height=\"30\" bgcolor=\"#FFFFFF\">11.34</td>\n",
    "  </tr>\n",
    "  <tr align=\"center\" bgcolor=\"#CCCCCC\"> \n",
    "    <td width=\"119\" height=\"30\" bgcolor=\"#CCCCCC\">4</td>\n",
    "    <td width=\"81\" height=\"30\" bgcolor=\"#FFFFFF\">9.49</td>\n",
    "    <td width=\"100\" height=\"30\" bgcolor=\"#FFFFFF\">13.28</td>\n",
    "  </tr>\n",
    "  <tr align=\"center\" bgcolor=\"#CCCCCC\"> \n",
    "    <td width=\"119\" height=\"30\" bgcolor=\"#CCCCCC\">5</td>\n",
    "    <td width=\"81\" height=\"30\" bgcolor=\"#FFFFFF\">11.07</td>\n",
    "    <td width=\"100\" height=\"30\" bgcolor=\"#FFFFFF\">15.09</td>\n",
    "  </tr>\n",
    "  <tr align=\"center\" bgcolor=\"#CCCCCC\"> \n",
    "    <td width=\"119\" height=\"30\" bgcolor=\"#CCCCCC\">…以下続く…</td>\n",
    "    <td width=\"81\" height=\"30\" bgcolor=\"#FFFFFF\">…</td>\n",
    "    <td width=\"100\" height=\"30\" bgcolor=\"#FFFFFF\">…</td>\n",
    "  </tr>\n",
    "</table>"
   ]
  },
  {
   "cell_type": "code",
   "execution_count": 6,
   "metadata": {
    "collapsed": false
   },
   "outputs": [
    {
     "data": {
      "text/plain": [
       "9.21"
      ]
     },
     "execution_count": 6,
     "metadata": {},
     "output_type": "execute_result"
    }
   ],
   "source": [
    "# 課題3.4 (e)\n",
    "9.21"
   ]
  },
  {
   "cell_type": "markdown",
   "metadata": {},
   "source": [
    "(f) 計算したカイ２乗値と、表から得られた「有意水準を満たすカイ２乗値」を比べてください。\n",
    "  * 計算したカイ２乗値がもし表の値よりも大きければ、それは、1%よりも小さい確率でしか起こらないことが起こったということです。したがって帰無仮説が間違っていたと考え、帰無仮説を棄却します。\n",
    "  * もし表の値よりも小さければ、それは、1%よりも大きい確率で起こりうることだということです。したがって帰無仮説を採択します。\n",
    "  * 結論はどうなったか説明してください。"
   ]
  },
  {
   "cell_type": "code",
   "execution_count": 7,
   "metadata": {
    "collapsed": true
   },
   "outputs": [],
   "source": [
    "# 課題3.4 (f)\n",
    "# 計算したカイ２乗値は、1%有意水準を満たすカイ２乗値よりも大きかった。\n",
    "# それは、1%よりも小さい確率でしか起こらないことが起こったということを意味する。\n",
    "# したがって帰無仮説が間違っていたと考え、帰無仮説を棄却する。\n",
    "# つまり、ワクワクとモグモグのポテト・チキン・ハンバーガーの売れ方には違いがある。"
   ]
  },
  {
   "cell_type": "markdown",
   "metadata": {},
   "source": [
    "<h2 STYLE=\"background: #c2edff;padding: 0.5em;\">ハンバーガー統計学 第３章 課題</h2>\n",
    "\n",
    "__課題3.4__ を解いて、指定のメールアドレスまでメールしてください。メール送信後は、エラーが帰ってきてないことを確認してください（メールアドレスを間違える人がときどき居ます）。\n",
    "* 締切：10月10日（今すぐでなくても結構です）\n",
    "* メールタイトル：「ハンバーガー統計学 第３章」\n",
    "* 学籍番号と氏名を明記すること。\n",
    "* 感想などがあれば書いてくれると嬉しいです。次回以降の講義の改善につながるかも知れません。"
   ]
  },
  {
   "cell_type": "code",
   "execution_count": 8,
   "metadata": {
    "collapsed": true
   },
   "outputs": [],
   "source": [
    "# ハンバーガー統計学 第３章 課題"
   ]
  },
  {
   "cell_type": "markdown",
   "metadata": {},
   "source": [
    "<h2 STYLE=\"background: #c2edff;padding: 0.5em;\">終わったら、<a href=\"HamburgerStatistics04.ipynb\">第４章：t検定（対応なし）</a> に進んでください。</h2>\n",
    "（2017年10月10日講義、10月13日課題提出締切）"
   ]
  }
 ],
 "metadata": {
  "kernelspec": {
   "display_name": "Python 3",
   "language": "python",
   "name": "python3"
  },
  "language_info": {
   "codemirror_mode": {
    "name": "ipython",
    "version": 3
   },
   "file_extension": ".py",
   "mimetype": "text/x-python",
   "name": "python",
   "nbconvert_exporter": "python",
   "pygments_lexer": "ipython3",
   "version": "3.4.5"
  }
 },
 "nbformat": 4,
 "nbformat_minor": 2
}
