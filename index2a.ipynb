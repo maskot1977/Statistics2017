{
 "cells": [
  {
   "cell_type": "markdown",
   "metadata": {},
   "source": [
    "<h2 STYLE=\"background: #c2edff;padding: 0.5em;\">生命統計学 期末試験 練習問題</h2>\n",
    "\n",
    "今日は友達と話し合っても構いませんが、本番では厳禁ですよ。\n",
    "\n",
    "__問題1__から __問題5__ までの全課題を解いて、指定のメールアドレスまでメールしてください。メール送信後は、エラーが帰ってきてないことを確認してください（メールアドレスを間違える人がときどき居ます）。\n",
    "* 締切：11月14日18時20分（メール提出が1分でも遅れると減点対象となります）\n",
    "* メールタイトル：「練習問題」\n",
    "* 学籍番号と氏名を明記すること。\n",
    "* 感想などがあれば書いてくれると嬉しいです。今後の講義の改善につながるかも知れません。"
   ]
  },
  {
   "cell_type": "markdown",
   "metadata": {
    "collapsed": true
   },
   "source": [
    "<h1 STYLE=\"background: #c2edff;padding: 0.5em;\">ハンバーガー統計学</h1>"
   ]
  },
  {
   "cell_type": "markdown",
   "metadata": {},
   "source": [
    "<h4 style=\"padding: 0.25em 0.5em;color: #494949;background: transparent;border-left: solid 5px #7db4e6;\">問題1</h4>\n",
    "\n",
    "<P>ある小学校の桜組と桃組とで、国語と算数ではどちらが好きかというアンケートをおこなった。桜組の担任は、大学で国語を専門とした先生で、一方、桃組の担任は数学を専門とした先生であった。このアンケートをおこなった理由は、担任の先生の専門が、担当クラスの子どもの科目の好みにはたして影響するかということを知りたかったのである。</P>\n",
    "<p> データは次のようになった。これをカイ２乗検定によって分析したい。</p>\n",
    "<table width=\"50%\" border=\"1\" align=\"center\" cellpadding=\"1\" cellspacing=\"0\">\n",
    "  <tr bgcolor=\"#FFFF99\"> \n",
    "    <td> <div align=\"center\"></div></td>\n",
    "    <td> <div align=\"center\">桜組</div></td>\n",
    "    <td> <div align=\"center\">桃組</div></td>\n",
    "    <td bgcolor=\"#CCCCCC\"> <div align=\"center\">合計</div></td>\n",
    "  </tr>\n",
    "  <tr> \n",
    "    <td bgcolor=\"#FFFF99\"> <div align=\"center\">国語が好き</div></td>\n",
    "    <td><div align=\"center\">24</div></td>\n",
    "    <td><div align=\"center\">18</div></td>\n",
    "    <td bgcolor=\"#CCCCCC\"> <div align=\"center\">42</div></td>\n",
    "  </tr>\n",
    "  <tr> \n",
    "    <td bgcolor=\"#FFFF99\"> <div align=\"center\">算数が好き</div></td>\n",
    "    <td><div align=\"center\">8</div></td>\n",
    "    <td><div align=\"center\">18</div></td>\n",
    "    <td bgcolor=\"#CCCCCC\"> <div align=\"center\">26</div></td>\n",
    "  </tr>\n",
    "  <tr bgcolor=\"#CCCCCC\"> \n",
    "    <td> <div align=\"center\">合計</div></td>\n",
    "    <td> <div align=\"center\">32</div></td>\n",
    "    <td> <div align=\"center\">36</div></td>\n",
    "    <td bgcolor=\"#CCCCCC\"> <div align=\"center\">68</div></td>\n",
    "  </tr>\n",
    "</table>\n",
    "<p>&nbsp;</p>\n",
    "<p>(1)　この検定での帰無仮説を言いなさい。</p>\n",
    "<p>(2)　この検定での対立仮説を言いなさい。</p>\n",
    "<p>(3)　帰無仮説が成立するときの期待度数を求めなさい。</p>\n",
    "<p>(4)　カイ２乗値を求めなさい（小数点以下第3位を四捨五入）。</p>\n",
    "<p>(5)　有意水準を1%としたとき、このカイ２乗値から言えることを書きなさい。</p>\n",
    "\n",
    "分からない人は <a href=\"HamburgerStatistics03.ipynb\">ハンバーガー統計学第３章「カイ２乗検定」</a>を復習してください。"
   ]
  },
  {
   "cell_type": "code",
   "execution_count": 1,
   "metadata": {
    "collapsed": true
   },
   "outputs": [],
   "source": [
    "# 問題1"
   ]
  },
  {
   "cell_type": "code",
   "execution_count": 2,
   "metadata": {
    "collapsed": false
   },
   "outputs": [
    {
     "name": "stdout",
     "output_type": "stream",
     "text": [
      "chi2 値は 4.48351648352\n",
      "p 値は 0.106271489049\n",
      "有意水準 0.01 で、有意な差がありません\n"
     ]
    }
   ],
   "source": [
    "from scipy import stats\n",
    "\n",
    "significance = 0.01 # 有意水準\n",
    "observed = [[24, 18], [8, 18]] # 実測値（観測度数）\n",
    "expected = stats.contingency.expected_freq(observed) # 理論値（期待度数）\n",
    "o = [item for sublist in observed for item in sublist] # 平滑化した実測値（観測度数）\n",
    "e = [item for sublist in expected for item in sublist] # 平滑化した理論値（期待度数）\n",
    "dof = (len(observed) - 1) * (len(observed[0]) - 1) # 自由度\n",
    "\n",
    "chi2, p = stats.chisquare(o, f_exp = e, ddof = dof)\n",
    "\n",
    "print( \"chi2 値は %(chi2)s\" %locals() )\n",
    "print( \"p 値は %(p)s\" %locals() )\n",
    "\n",
    "if p < significance:\n",
    "    print(\"有意水準 %(significance)s で、有意な差があります\" %locals())\n",
    "else:\n",
    "    print(\"有意水準 %(significance)s で、有意な差がありません\" %locals())"
   ]
  },
  {
   "cell_type": "code",
   "execution_count": 3,
   "metadata": {
    "collapsed": false
   },
   "outputs": [
    {
     "data": {
      "text/plain": [
       "1"
      ]
     },
     "execution_count": 3,
     "metadata": {},
     "output_type": "execute_result"
    }
   ],
   "source": [
    "dof # 自由度"
   ]
  },
  {
   "cell_type": "code",
   "execution_count": 4,
   "metadata": {
    "collapsed": true
   },
   "outputs": [],
   "source": [
    "# 上記の関数を使う場合、 p値の出力が怪しい（間違っている）可能性が指摘されています。\n",
    "# （chi2 値は間違っていないと思います）\n",
    "# ここで計算された p値はあまり信用せず、カイ2乗分布表とよく見比べて判断してみることをお勧めします。\n",
    "# http://www.biwako.shiga-u.ac.jp/sensei/mnaka/ut/chi2disttab.html\n",
    "# t検定や分散分析についても、確認してみたほうが良いかもしれません。"
   ]
  },
  {
   "cell_type": "code",
   "execution_count": 5,
   "metadata": {
    "collapsed": false
   },
   "outputs": [
    {
     "data": {
      "text/plain": [
       "array([[ 19.76470588,  22.23529412],\n",
       "       [ 12.23529412,  13.76470588]])"
      ]
     },
     "execution_count": 5,
     "metadata": {},
     "output_type": "execute_result"
    }
   ],
   "source": [
    "expected"
   ]
  },
  {
   "cell_type": "code",
   "execution_count": 6,
   "metadata": {
    "collapsed": true
   },
   "outputs": [],
   "source": [
    "# (1) 担任の先生の専門と、子供たちの科目の好き嫌いには関係がない。\n",
    "# (2) 担任の先生の専門と、子供たちの科目の好き嫌いには関係がある。\n",
    "# (3) [[19.8, 22.2], [12.2, 13.8]]\n",
    "# (4) 4.48\n",
    "# (5) 自由度１のカイ2乗分布において、有意水準１％のカイ2乗値は 6.63 である。\n",
    "# 得られたカイ2乗値は 4.48 であり、6.63より小さいため、帰無仮説を棄却できない。\n",
    "# つまり、担任の先生の専門と、子供たちの科目の好き嫌いには関係がない。"
   ]
  },
  {
   "cell_type": "markdown",
   "metadata": {},
   "source": [
    "<h4 style=\"padding: 0.25em 0.5em;color: #494949;background: transparent;border-left: solid 5px #7db4e6;\">問題2</h4>\n",
    "\n",
    "<P>ある小学校で、算数の分数の計算を教えるためのマンガを使った新しい方法を開発した。はたしてこの方法に効果があるのかどうかを確かめたい。そこで、桜組では従来通りの教え方をし、一方、桃組では新しい教え方をした。その後に、共通のテストをおこなった。</P>\n",
    "<p> テストの点数データ（10点満点）は次のようになった。これをt検定によって分析したい。</p>\n",
    "<p>桜組18人の点数：</p>\n",
    "<table width=\"80%\" border=\"1\" align=\"center\" cellpadding=\"1\" cellspacing=\"0\">\n",
    "  <tr bgcolor=\"#CCCCCC\"> \n",
    "    <td width=\"5%\"> <div align=\"center\">7</div></td>\n",
    "    <td width=\"5%\"> <div align=\"center\">8</div></td>\n",
    "    <td width=\"5%\"> <div align=\"center\">10</div></td>\n",
    "    <td width=\"5%\"> <div align=\"center\">5</div></td>\n",
    "    <td width=\"5%\"><div align=\"center\">8</div></td>\n",
    "    <td width=\"5%\"><div align=\"center\">7</div></td>\n",
    "    <td width=\"5%\"><div align=\"center\">9</div></td>\n",
    "    <td width=\"5%\"><div align=\"center\">5</div></td>\n",
    "    <td width=\"5%\"><div align=\"center\">6</div></td>\n",
    "    <td width=\"5%\"><div align=\"center\">9</div></td>\n",
    "    <td width=\"5%\"><div align=\"center\">10</div></td>\n",
    "    <td width=\"5%\"><div align=\"center\">6</div></td>\n",
    "    <td width=\"5%\"><div align=\"center\">7</div></td>\n",
    "    <td width=\"5%\"><div align=\"center\">8</div></td>\n",
    "    <td width=\"5%\"><div align=\"center\">7</div></td>\n",
    "    <td width=\"5%\"><div align=\"center\">9</div></td>\n",
    "    <td width=\"5%\"><div align=\"center\">10</div></td>\n",
    "    <td width=\"5%\"><div align=\"center\">6</div></td>\n",
    "    <td width=\"5%\"><div align=\"center\"></div></td>\n",
    "    <td width=\"5%\"><div align=\"center\"></div></td>\n",
    "  </tr>\n",
    "</table>\n",
    "<p>桃組20人の点数：</p>\n",
    "<table width=\"80%\" border=\"1\" align=\"center\" cellpadding=\"1\" cellspacing=\"0\">\n",
    "  <tr bgcolor=\"#CCCCCC\"> \n",
    "    <td width=\"5%\"> <div align=\"center\">9</div></td>\n",
    "    <td width=\"5%\"> <div align=\"center\">9</div></td>\n",
    "    <td width=\"5%\"> <div align=\"center\">6</div></td>\n",
    "    <td width=\"5%\"> <div align=\"center\">10</div></td>\n",
    "    <td width=\"5%\"><div align=\"center\">9</div></td>\n",
    "    <td width=\"5%\"><div align=\"center\">8</div></td>\n",
    "    <td width=\"5%\"><div align=\"center\">10</div></td>\n",
    "    <td width=\"5%\"><div align=\"center\">7</div></td>\n",
    "    <td width=\"5%\"><div align=\"center\">9</div></td>\n",
    "    <td width=\"5%\"><div align=\"center\">10</div></td>\n",
    "    <td width=\"5%\"><div align=\"center\">6</div></td>\n",
    "    <td width=\"5%\"><div align=\"center\">8</div></td>\n",
    "    <td width=\"5%\"><div align=\"center\">9</div></td>\n",
    "    <td width=\"5%\"><div align=\"center\">9</div></td>\n",
    "    <td width=\"5%\"><div align=\"center\">10</div></td>\n",
    "    <td width=\"5%\"><div align=\"center\">7</div></td>\n",
    "    <td width=\"5%\"><div align=\"center\">8</div></td>\n",
    "    <td width=\"5%\"><div align=\"center\">8</div></td>\n",
    "    <td width=\"5%\"><div align=\"center\">10</div></td>\n",
    "    <td width=\"5%\"><div align=\"center\">9</div></td>\n",
    "  </tr>\n",
    "</table>\n",
    "<p>&nbsp;</p>\n",
    "<p>(1)　この検定での帰無仮説を言いなさい。</p>\n",
    "<p>(2)　この検定での対立仮説を言いなさい。</p>\n",
    "<p>(3)　t値を求めなさい（小数点以下第3位を四捨五入）。</p>\n",
    "<p>(4)　有意水準を1%としたとき、このt値から言えることを書きなさい。</p>\n",
    "\n",
    "分からない人は <a href=\"HamburgerStatistics04.ipynb\">ハンバーガー統計学第４章「t検定（対応なし）」</a>を復習してください。"
   ]
  },
  {
   "cell_type": "code",
   "execution_count": 7,
   "metadata": {
    "collapsed": true
   },
   "outputs": [],
   "source": [
    "# 問題2"
   ]
  },
  {
   "cell_type": "code",
   "execution_count": 8,
   "metadata": {
    "collapsed": false
   },
   "outputs": [
    {
     "name": "stdout",
     "output_type": "stream",
     "text": [
      "t 値は -1.97305018989\n",
      "確率は 0.056205929944\n",
      "有意水準 0.01 で、有意な差がありません\n"
     ]
    }
   ],
   "source": [
    "# 対応のないt検定\n",
    "import numpy as np\n",
    "import scipy as sp\n",
    "from scipy import stats\n",
    "\n",
    "significance = 0.01\n",
    "X = [7, 8, 10, 5, 8, 7, 9, 5, 6, 9, 10, 6, 7, 8, 7, 9, 10, 6]\n",
    "Y = [9, 9, 6, 10, 9, 8, 10, 7, 9, 10, 6, 8, 9, 9, 10, 7, 8, 8, 10, 9]\n",
    "\n",
    "t, p = stats.ttest_ind(X, Y)\n",
    "\n",
    "print( \"t 値は %(t)s\" %locals() )\n",
    "print( \"確率は %(p)s\" %locals() )\n",
    "\n",
    "if p < significance:\n",
    "    print(\"有意水準 %(significance)s で、有意な差があります\" %locals())\n",
    "else:\n",
    "    print(\"有意水準 %(significance)s で、有意な差がありません\" %locals())"
   ]
  },
  {
   "cell_type": "code",
   "execution_count": 9,
   "metadata": {
    "collapsed": false
   },
   "outputs": [
    {
     "data": {
      "text/plain": [
       "36"
      ]
     },
     "execution_count": 9,
     "metadata": {},
     "output_type": "execute_result"
    }
   ],
   "source": [
    "len(X) + len(Y) - 2 # 自由度"
   ]
  },
  {
   "cell_type": "code",
   "execution_count": 10,
   "metadata": {
    "collapsed": true
   },
   "outputs": [],
   "source": [
    "# 上記の関数を使う場合、 p値の出力が怪しい（間違っている）可能性が指摘されています。\n",
    "# （t値は間違っていないと思います）\n",
    "# ここで計算された p値はあまり信用せず、t分布表とよく見比べて判断してみることをお勧めします。\n",
    "# http://www2.itc.kansai-u.ac.jp/~tyasuda/files/2013/qnt2/t_dist.pdf"
   ]
  },
  {
   "cell_type": "code",
   "execution_count": 11,
   "metadata": {
    "collapsed": true
   },
   "outputs": [],
   "source": [
    "# (1) 2つのクラスのテストの評価に差はない\n",
    "# (2) 2つのクラスのテストの評価に差がある\n",
    "# (3) -1.97\n",
    "# (4) 自由度30のt分布において、有意水準１％のt値は 2.46 である。\n",
    "# 得られたt値は -1.97 であり、2.46より絶対値が小さいため、帰無仮説を棄却できない。\n",
    "# つまり、2つのクラスのテストの評価に差はない。"
   ]
  },
  {
   "cell_type": "markdown",
   "metadata": {},
   "source": [
    "<h4 style=\"padding: 0.25em 0.5em;color: #494949;background: transparent;border-left: solid 5px #7db4e6;\">問題3</h4>\n",
    "\n",
    "<P>ある小学校で、算数の分数の計算を教えるためのマンガを使った新しい方法を開発した。はたしてこの方法に効果があるのかどうかを確かめたい。</P>\n",
    "<P>以前、2クラスにそれぞれ新しい方法と従来の方法で教えた後、テストをおこなったところ、両クラスの平均得点の間には有意水準5%で有意な差はなかった。</P>\n",
    "<p> そこで今回は、柳組1クラスの生徒18人に次のような実験をした。分数の授業が終わったところでテストをした（事前テスト）。その後、マンガを使った分数の授業をおこない、その後もう一度テストをした（事後テスト）。</p>\n",
    "<p> テストの点数データ（10点満点）は次のようになった。これを対応のあるt検定によって分析したい。</p>\n",
    "<p>柳組18人の点数：</p>\n",
    "<table width=\"80%\" border=\"1\" align=\"center\" cellpadding=\"1\" cellspacing=\"0\">\n",
    "  <tr bgcolor=\"#CCCCCC\"> \n",
    "    <td width=\"10%\" bgcolor=\"#FFFF99\"> <div align=\"center\">事前テスト</div></td>\n",
    "    <td width=\"5%\"> <div align=\"center\">9</div></td>\n",
    "    <td width=\"5%\"> <div align=\"center\">8</div></td>\n",
    "    <td width=\"5%\"> <div align=\"center\">10</div></td>\n",
    "    <td width=\"5%\"><div align=\"center\">7</div></td>\n",
    "    <td width=\"5%\"><div align=\"center\">5</div></td>\n",
    "    <td width=\"5%\"><div align=\"center\">9</div></td>\n",
    "    <td width=\"5%\"><div align=\"center\">10</div></td>\n",
    "    <td width=\"5%\"><div align=\"center\">10</div></td>\n",
    "    <td width=\"5%\"><div align=\"center\">8</div></td>\n",
    "    <td width=\"5%\"><div align=\"center\">10</div></td>\n",
    "    <td width=\"5%\"><div align=\"center\">10</div></td>\n",
    "    <td width=\"5%\"><div align=\"center\">6</div></td>\n",
    "    <td width=\"5%\"><div align=\"center\">8</div></td>\n",
    "    <td width=\"5%\"><div align=\"center\">9</div></td>\n",
    "    <td width=\"5%\"><div align=\"center\">10</div></td>\n",
    "    <td width=\"5%\"><div align=\"center\">9</div></td>\n",
    "    <td width=\"5%\"> <div align=\"center\">10</div></td>\n",
    "    <td width=\"5%\"><div align=\"center\">9</div></td>\n",
    "  </tr>\n",
    "  <tr bgcolor=\"#CCCCCC\"> \n",
    "    <td bgcolor=\"#FFFF99\"><div align=\"center\">事後テスト</div></td>\n",
    "    <td width=\"5%\"><div align=\"center\">9</div></td>\n",
    "    <td width=\"5%\"><div align=\"center\">9</div></td>\n",
    "    <td width=\"5%\"><div align=\"center\">10</div></td>\n",
    "    <td width=\"5%\"><div align=\"center\">7</div></td>\n",
    "    <td width=\"5%\"><div align=\"center\">6</div></td>\n",
    "    <td width=\"5%\"><div align=\"center\">10</div></td>\n",
    "    <td width=\"5%\"><div align=\"center\">10</div></td>\n",
    "    <td width=\"5%\"><div align=\"center\">9</div></td>\n",
    "    <td width=\"5%\"><div align=\"center\">8</div></td>\n",
    "    <td width=\"5%\"><div align=\"center\">10</div></td>\n",
    "    <td width=\"5%\"><div align=\"center\">7</div></td>\n",
    "    <td width=\"5%\"><div align=\"center\">8</div></td>\n",
    "    <td width=\"5%\"><div align=\"center\">10</div></td>\n",
    "    <td width=\"5%\"><div align=\"center\">10</div></td>\n",
    "    <td width=\"5%\"><div align=\"center\">10</div></td>\n",
    "    <td width=\"5%\"><div align=\"center\">10</div></td>\n",
    "    <td width=\"5%\"><div align=\"center\">10</div></td>\n",
    "    <td width=\"5%\"><div align=\"center\">10</div></td>\n",
    "  </tr>\n",
    "</table>\n",
    "<p>&nbsp;</p>\n",
    "<p>(1)　この検定での帰無仮説を言いなさい。</p>\n",
    "<p>(2)　この検定での対立仮説を言いなさい。</p>\n",
    "<p>(3)　t値を求めなさい（小数点以下第3位を四捨五入）。</p>\n",
    "<p>(4)　有意水準を1%としたとき、このt値から言えることは何か。</p>\n",
    "\n",
    "分からない人は <a href=\"HamburgerStatistics05.ipynb\">ハンバーガー統計学第５章「t検定（対応あり）」</a>を復習してください。"
   ]
  },
  {
   "cell_type": "code",
   "execution_count": 12,
   "metadata": {
    "collapsed": true
   },
   "outputs": [],
   "source": [
    "# 問題3"
   ]
  },
  {
   "cell_type": "code",
   "execution_count": 13,
   "metadata": {
    "collapsed": false
   },
   "outputs": [
    {
     "name": "stdout",
     "output_type": "stream",
     "text": [
      "t 値は -1.24316312102\n",
      "確率は 0.230680528131\n",
      "有意水準 0.01 で、有意な差がありません\n"
     ]
    }
   ],
   "source": [
    "# 対応のあるt検定\n",
    "import numpy as np\n",
    "import scipy as sp\n",
    "from scipy import stats\n",
    "\n",
    "significance = 0.01\n",
    "X = [9, 8, 10, 7, 5, 9, 10, 10, 8, 10, 10, 6, 8, 9, 10, 9, 10, 9]\n",
    "Y = [9, 9, 10, 7, 6, 10, 10, 9, 8, 10, 7, 8, 10, 10, 10, 10, 10, 10]\n",
    "\n",
    "t, p = stats.ttest_rel(X, Y)\n",
    "\n",
    "print( \"t 値は %(t)s\" %locals() )\n",
    "print( \"確率は %(p)s\" %locals() )\n",
    "\n",
    "if p < significance:\n",
    "    print(\"有意水準 %(significance)s で、有意な差があります\" %locals())\n",
    "else:\n",
    "    print(\"有意水準 %(significance)s で、有意な差がありません\" %locals())"
   ]
  },
  {
   "cell_type": "code",
   "execution_count": 14,
   "metadata": {
    "collapsed": false
   },
   "outputs": [
    {
     "data": {
      "text/plain": [
       "17"
      ]
     },
     "execution_count": 14,
     "metadata": {},
     "output_type": "execute_result"
    }
   ],
   "source": [
    "len(X) - 1 # 自由度"
   ]
  },
  {
   "cell_type": "code",
   "execution_count": 15,
   "metadata": {
    "collapsed": true
   },
   "outputs": [],
   "source": [
    "# (1) 2つのテストの結果に差はない\n",
    "# (2) 2つのテストの結果に差がある\n",
    "# (3) -1.24\n",
    "# (4) 自由度17のt分布において、有意水準１％のt値は 2.57 である。\n",
    "# 得られたt値は -1.24 であり、2.57より絶対値が小さいため、帰無仮説を棄却できない。\n",
    "# つまり、2つのテストの結果に差はない。"
   ]
  },
  {
   "cell_type": "markdown",
   "metadata": {},
   "source": [
    "<h4 style=\"padding: 0.25em 0.5em;color: #494949;background: transparent;border-left: solid 5px #7db4e6;\">問題4</h4>\n",
    "\n",
    "<P>ある小学校で、算数の分数の計算を教えるためのマンガを使った新しい教材を開発した。しかし、この教材の効果は従来のものと比べ、はっきりした差は見られなかった。そこで今回はさらにマンガとテキストをデザインし直して新しいマンガ教材を開発した。</P>\n",
    "<P> この効果を調べるために、あるクラスでは従来の教材で教え（統制群）、別のクラスでは以前のマンガ教材で教え（旧マンガ群）、もうひとつ別のクラスでは新しいマンガ教材で教えた（新マンガ群）。一日おいて、分数の計算テストをした。</P>\n",
    "<P> テストの点数データ（10点満点）は次のようになった。これを分散分析したい。</P>\n",
    "<p>統制群：</p>\n",
    "<table width=\"80%\" border=\"1\" align=\"center\" cellpadding=\"1\" cellspacing=\"0\">\n",
    "  <tr bgcolor=\"#CCCCCC\"> \n",
    "    <td width=\"5%\"> <div align=\"center\">6</div></td>\n",
    "    <td width=\"5%\"> <div align=\"center\">5</div></td>\n",
    "    <td width=\"5%\"> <div align=\"center\">7</div></td>\n",
    "    <td width=\"5%\"> <div align=\"center\">6</div></td>\n",
    "    <td width=\"5%\"><div align=\"center\">8</div></td>\n",
    "    <td width=\"5%\"><div align=\"center\">4</div></td>\n",
    "    <td width=\"5%\"><div align=\"center\">6</div></td>\n",
    "    <td width=\"5%\"><div align=\"center\">5</div></td>\n",
    "    <td width=\"5%\"><div align=\"center\">8</div></td>\n",
    "    <td width=\"5%\"><div align=\"center\">4</div></td>\n",
    "    <td width=\"5%\"><div align=\"center\">5</div></td>\n",
    "    <td width=\"5%\"><div align=\"center\">6</div></td>\n",
    "    <td width=\"5%\"><div align=\"center\">5</div></td>\n",
    "    <td width=\"5%\"><div align=\"center\">4</div></td>\n",
    "    <td width=\"5%\"><div align=\"center\">5</div></td>\n",
    "    <td width=\"5%\"><div align=\"center\"></div></td>\n",
    "    <td width=\"5%\"><div align=\"center\"></div></td>\n",
    "    <td width=\"5%\"><div align=\"center\"></div></td>\n",
    "    <td width=\"5%\"><div align=\"center\"></div></td>\n",
    "    <td width=\"5%\"><div align=\"center\"></div></td>\n",
    "  </tr>\n",
    "</table>\n",
    "<p>旧マンガ群：</p>\n",
    "<table width=\"80%\" border=\"1\" align=\"center\" cellpadding=\"1\" cellspacing=\"0\">\n",
    "  <tr bgcolor=\"#CCCCCC\"> \n",
    "    <td width=\"5%\"> <div align=\"center\">5</div></td>\n",
    "    <td width=\"5%\"> <div align=\"center\">6</div></td>\n",
    "    <td width=\"5%\"> <div align=\"center\">9</div></td>\n",
    "    <td width=\"5%\"> <div align=\"center\">7</div></td>\n",
    "    <td width=\"5%\"><div align=\"center\">7</div></td>\n",
    "    <td width=\"5%\"><div align=\"center\">6</div></td>\n",
    "    <td width=\"5%\"><div align=\"center\">8</div></td>\n",
    "    <td width=\"5%\"><div align=\"center\">5</div></td>\n",
    "    <td width=\"5%\"><div align=\"center\">6</div></td>\n",
    "    <td width=\"5%\"><div align=\"center\">9</div></td>\n",
    "    <td width=\"5%\"><div align=\"center\">5</div></td>\n",
    "    <td width=\"5%\"><div align=\"center\">4</div></td>\n",
    "    <td width=\"5%\"><div align=\"center\">7</div></td>\n",
    "    <td width=\"5%\"><div align=\"center\">6</div></td>\n",
    "    <td width=\"5%\"><div align=\"center\"></div></td>\n",
    "    <td width=\"5%\"><div align=\"center\"></div></td>\n",
    "    <td width=\"5%\"><div align=\"center\"></div></td>\n",
    "    <td width=\"5%\"><div align=\"center\"></div></td>\n",
    "    <td width=\"5%\"><div align=\"center\"></div></td>\n",
    "    <td width=\"5%\"><div align=\"center\"></div></td>\n",
    "  </tr>\n",
    "</table>\n",
    "<p>新マンガ群：</p>\n",
    "<table width=\"80%\" border=\"1\" align=\"center\" cellpadding=\"1\" cellspacing=\"0\">\n",
    "  <tr bgcolor=\"#CCCCCC\"> \n",
    "    <td width=\"5%\"> <div align=\"center\">6</div></td>\n",
    "    <td width=\"5%\"> <div align=\"center\">8</div></td>\n",
    "    <td width=\"5%\"> <div align=\"center\">9</div></td>\n",
    "    <td width=\"5%\"> <div align=\"center\">6</div></td>\n",
    "    <td width=\"5%\"><div align=\"center\">8</div></td>\n",
    "    <td width=\"5%\"><div align=\"center\">6</div></td>\n",
    "    <td width=\"5%\"><div align=\"center\">9</div></td>\n",
    "    <td width=\"5%\"><div align=\"center\">7</div></td>\n",
    "    <td width=\"5%\"><div align=\"center\">6</div></td>\n",
    "    <td width=\"5%\"><div align=\"center\">5</div></td>\n",
    "    <td width=\"5%\"><div align=\"center\">9</div></td>\n",
    "    <td width=\"5%\"><div align=\"center\">6</div></td>\n",
    "    <td width=\"5%\"><div align=\"center\">10</div></td>\n",
    "    <td width=\"5%\"><div align=\"center\">8</div></td>\n",
    "    <td width=\"5%\"><div align=\"center\">9</div></td>\n",
    "    <td width=\"5%\"><div align=\"center\">6</div></td>\n",
    "    <td width=\"5%\"><div align=\"center\"></div></td>\n",
    "    <td width=\"5%\"><div align=\"center\"></div></td>\n",
    "    <td width=\"5%\"><div align=\"center\"></div></td>\n",
    "    <td width=\"5%\"><div align=\"center\"></div></td>\n",
    "  </tr>\n",
    "</table>\n",
    "<p>&nbsp;</p>\n",
    "<p>(1)　3つの群における、平均と標準偏差を求めなさい（小数点以下第3位を四捨五入）。</p>\n",
    "<p>(2)　この検定での帰無仮説を言いなさい。</p>\n",
    "<p>(3)　この検定での対立仮説を言いなさい。</p>\n",
    "<p>(4)　有意水準を1%として分散分析を行ない、言えることを書きなさい。</p>\n",
    "\n",
    "分からない人は <a href=\"HamburgerStatistics06.ipynb\">ハンバーガー統計学第６章「分散分析（１要因）」</a>を復習してください。"
   ]
  },
  {
   "cell_type": "code",
   "execution_count": 16,
   "metadata": {
    "collapsed": true
   },
   "outputs": [],
   "source": [
    "# 問題4"
   ]
  },
  {
   "cell_type": "code",
   "execution_count": 17,
   "metadata": {
    "collapsed": false
   },
   "outputs": [
    {
     "name": "stdout",
     "output_type": "stream",
     "text": [
      "f 値は 5.78724488428\n",
      "確率は 0.00602720804494\n",
      "有意水準 0.01 で、有意な差があります\n"
     ]
    }
   ],
   "source": [
    "# 1要因の分散分析\n",
    "import numpy as np\n",
    "import scipy as sp\n",
    "from scipy import stats\n",
    "\n",
    "significance = 0.01\n",
    "a = [6, 5, 7, 6, 8, 4, 6, 5, 8, 4, 5, 6, 5, 4, 5]\n",
    "b = [5, 6, 9, 7, 7, 6, 8, 5, 6, 9, 5, 4, 7, 6]\n",
    "c = [6, 8, 9, 6, 8, 6, 9, 7, 6, 5, 9, 6, 10, 8, 9, 6]\n",
    "f, p = stats.f_oneway(a, b, c)\n",
    "\n",
    "print( \"f 値は %(f)s\" %locals() )\n",
    "print( \"確率は %(p)s\" %locals() )\n",
    "\n",
    "if p < significance:\n",
    "    print(\"有意水準 %(significance)s で、有意な差があります\" %locals())\n",
    "else:\n",
    "    print(\"有意水準 %(significance)s で、有意な差がありません\" %locals())"
   ]
  },
  {
   "cell_type": "code",
   "execution_count": 18,
   "metadata": {
    "collapsed": false
   },
   "outputs": [
    {
     "name": "stdout",
     "output_type": "stream",
     "text": [
      "[5.5999999999999996, 6.4285714285714288, 7.375]\n",
      "[1.2543258481484518, 1.4498416521560316, 1.4947825928876748]\n"
     ]
    }
   ],
   "source": [
    "print([sp.average(a), sp.average(b), sp.average(c)])\n",
    "print([sp.std(a), sp.std(b), sp.std(c)])"
   ]
  },
  {
   "cell_type": "code",
   "execution_count": 19,
   "metadata": {
    "collapsed": true
   },
   "outputs": [],
   "source": [
    "# (1) \n",
    "# 平均:統制5.60　旧6.43　新7.38\n",
    "# 標準偏差:統制1.25　旧1.45　新1.49\n",
    "# (2) 3つのテストの結果に差はない\n",
    "# (3) 3つのテストの結果の少なくともどれか１組に差がある\n",
    "# (4) 帰無仮説を棄却する。すなわち、3つのテストの結果の少なくともどれか１組に差がある。"
   ]
  },
  {
   "cell_type": "markdown",
   "metadata": {},
   "source": [
    "<h1 STYLE=\"background: #c2edff;padding: 0.5em;\">アイスクリーム統計学</h1>"
   ]
  },
  {
   "cell_type": "markdown",
   "metadata": {},
   "source": [
    "<h4 style=\"padding: 0.25em 0.5em;color: #494949;background: transparent;border-left: solid 5px #7db4e6;\">問題5</h4>\n",
    "\n",
    "<P>次のデータは、19人の大学生について、高校の平均評点（10点満点）、入学試験の点数、入学後の学業成績（GPA：4点満点）を調べたものである。</P>\n",
    "\n",
    "https://raw.githubusercontent.com/maskot1977/ipython_notebook/master/toydata/entrance_exam2.txt\n",
    "\n",
    "<P>(1)　３種類のデータのすべての組み合わせの相関係数を求めなさい。</P>\n",
    "<P>(2)　高校の平均評定の影響を取り除いたときの、入学試験の点数と入学後の学業成績の偏相関係数を求めなさい。</P>\n",
    "<P>(3)　(2)の偏相関係数について、考えられる解釈を文章で書きなさい。</P>\n",
    "\n",
    "(4)　入学後の学業成績を、高校の平均評点と入学試験の点数の２つの変数を使って、重回帰モデルによって予測したい。このときのモデルの式を書きなさい。\n",
    "\n",
    "(5)　(4)のモデルの式における定数を求めなさい。\n",
    "\n",
    "(6)　(4)のモデルにおける重相関係数を求めなさい。\n",
    "\n",
    "(7)　入学試験と学業成績の相関係数と重相関係数を比較して、どのようなことが言えるかについて、文章で書きなさい。\n",
    "\n",
    "__ヒント__：文字列を整数に変換する関数は int ですが、少数点数に変換する関数は float です。\n",
    "\n",
    "分からない人は \n",
    "<a href=\"IceCreamStatistics05.ipynb\">アイスクリーム統計学第５章「偏相関」</a>、\n",
    "<a href=\"IceCreamStatistics06.ipynb\">アイスクリーム統計学第６章「重回帰」</a>\n",
    "を復習してください。"
   ]
  },
  {
   "cell_type": "code",
   "execution_count": 20,
   "metadata": {
    "collapsed": true
   },
   "outputs": [],
   "source": [
    "# 問題5"
   ]
  },
  {
   "cell_type": "code",
   "execution_count": 21,
   "metadata": {
    "collapsed": false
   },
   "outputs": [
    {
     "data": {
      "text/plain": [
       "('entrance_exam2.txt', <http.client.HTTPMessage at 0x10665cda0>)"
      ]
     },
     "execution_count": 21,
     "metadata": {},
     "output_type": "execute_result"
    }
   ],
   "source": [
    "import urllib.request # Python 3 の場合\n",
    "url = \"https://raw.githubusercontent.com/maskot1977/ipython_notebook/master/toydata/entrance_exam2.txt\"\n",
    "urllib.request.urlretrieve(url, 'entrance_exam2.txt') # Python 3 の場合"
   ]
  },
  {
   "cell_type": "code",
   "execution_count": 22,
   "metadata": {
    "collapsed": true
   },
   "outputs": [],
   "source": [
    "import pandas as pd\n",
    "df1 = pd.read_csv('entrance_exam2.txt', sep='\\s+', index_col=0) "
   ]
  },
  {
   "cell_type": "code",
   "execution_count": 23,
   "metadata": {
    "collapsed": false
   },
   "outputs": [
    {
     "data": {
      "text/html": [
       "<div>\n",
       "<style>\n",
       "    .dataframe thead tr:only-child th {\n",
       "        text-align: right;\n",
       "    }\n",
       "\n",
       "    .dataframe thead th {\n",
       "        text-align: left;\n",
       "    }\n",
       "\n",
       "    .dataframe tbody tr th {\n",
       "        vertical-align: top;\n",
       "    }\n",
       "</style>\n",
       "<table border=\"1\" class=\"dataframe\">\n",
       "  <thead>\n",
       "    <tr style=\"text-align: right;\">\n",
       "      <th></th>\n",
       "      <th>入学試験の点数</th>\n",
       "      <th>学業成績</th>\n",
       "      <th>高校の平均評定</th>\n",
       "    </tr>\n",
       "    <tr>\n",
       "      <th>学生</th>\n",
       "      <th></th>\n",
       "      <th></th>\n",
       "      <th></th>\n",
       "    </tr>\n",
       "  </thead>\n",
       "  <tbody>\n",
       "    <tr>\n",
       "      <th>1</th>\n",
       "      <td>440</td>\n",
       "      <td>1.57</td>\n",
       "      <td>5.7</td>\n",
       "    </tr>\n",
       "    <tr>\n",
       "      <th>2</th>\n",
       "      <td>448</td>\n",
       "      <td>1.83</td>\n",
       "      <td>6.8</td>\n",
       "    </tr>\n",
       "    <tr>\n",
       "      <th>3</th>\n",
       "      <td>455</td>\n",
       "      <td>2.05</td>\n",
       "      <td>6.2</td>\n",
       "    </tr>\n",
       "    <tr>\n",
       "      <th>4</th>\n",
       "      <td>460</td>\n",
       "      <td>1.14</td>\n",
       "      <td>5.5</td>\n",
       "    </tr>\n",
       "    <tr>\n",
       "      <th>5</th>\n",
       "      <td>473</td>\n",
       "      <td>2.73</td>\n",
       "      <td>6.0</td>\n",
       "    </tr>\n",
       "    <tr>\n",
       "      <th>6</th>\n",
       "      <td>485</td>\n",
       "      <td>1.65</td>\n",
       "      <td>7.3</td>\n",
       "    </tr>\n",
       "    <tr>\n",
       "      <th>7</th>\n",
       "      <td>489</td>\n",
       "      <td>2.02</td>\n",
       "      <td>7.6</td>\n",
       "    </tr>\n",
       "    <tr>\n",
       "      <th>8</th>\n",
       "      <td>500</td>\n",
       "      <td>2.98</td>\n",
       "      <td>7.3</td>\n",
       "    </tr>\n",
       "    <tr>\n",
       "      <th>9</th>\n",
       "      <td>512</td>\n",
       "      <td>1.79</td>\n",
       "      <td>5.6</td>\n",
       "    </tr>\n",
       "    <tr>\n",
       "      <th>10</th>\n",
       "      <td>518</td>\n",
       "      <td>2.63</td>\n",
       "      <td>7.6</td>\n",
       "    </tr>\n",
       "    <tr>\n",
       "      <th>11</th>\n",
       "      <td>528</td>\n",
       "      <td>2.08</td>\n",
       "      <td>6.5</td>\n",
       "    </tr>\n",
       "    <tr>\n",
       "      <th>12</th>\n",
       "      <td>550</td>\n",
       "      <td>2.15</td>\n",
       "      <td>7.8</td>\n",
       "    </tr>\n",
       "    <tr>\n",
       "      <th>13</th>\n",
       "      <td>582</td>\n",
       "      <td>3.44</td>\n",
       "      <td>6.8</td>\n",
       "    </tr>\n",
       "    <tr>\n",
       "      <th>14</th>\n",
       "      <td>569</td>\n",
       "      <td>3.05</td>\n",
       "      <td>7.5</td>\n",
       "    </tr>\n",
       "    <tr>\n",
       "      <th>15</th>\n",
       "      <td>585</td>\n",
       "      <td>3.19</td>\n",
       "      <td>8.2</td>\n",
       "    </tr>\n",
       "    <tr>\n",
       "      <th>16</th>\n",
       "      <td>593</td>\n",
       "      <td>3.42</td>\n",
       "      <td>7.8</td>\n",
       "    </tr>\n",
       "    <tr>\n",
       "      <th>17</th>\n",
       "      <td>620</td>\n",
       "      <td>3.87</td>\n",
       "      <td>7.5</td>\n",
       "    </tr>\n",
       "    <tr>\n",
       "      <th>18</th>\n",
       "      <td>650</td>\n",
       "      <td>3.00</td>\n",
       "      <td>7.2</td>\n",
       "    </tr>\n",
       "    <tr>\n",
       "      <th>19</th>\n",
       "      <td>690</td>\n",
       "      <td>3.12</td>\n",
       "      <td>8.8</td>\n",
       "    </tr>\n",
       "  </tbody>\n",
       "</table>\n",
       "</div>"
      ],
      "text/plain": [
       "    入学試験の点数  学業成績  高校の平均評定\n",
       "学生                        \n",
       "1       440  1.57      5.7\n",
       "2       448  1.83      6.8\n",
       "3       455  2.05      6.2\n",
       "4       460  1.14      5.5\n",
       "5       473  2.73      6.0\n",
       "6       485  1.65      7.3\n",
       "7       489  2.02      7.6\n",
       "8       500  2.98      7.3\n",
       "9       512  1.79      5.6\n",
       "10      518  2.63      7.6\n",
       "11      528  2.08      6.5\n",
       "12      550  2.15      7.8\n",
       "13      582  3.44      6.8\n",
       "14      569  3.05      7.5\n",
       "15      585  3.19      8.2\n",
       "16      593  3.42      7.8\n",
       "17      620  3.87      7.5\n",
       "18      650  3.00      7.2\n",
       "19      690  3.12      8.8"
      ]
     },
     "execution_count": 23,
     "metadata": {},
     "output_type": "execute_result"
    }
   ],
   "source": [
    "df1"
   ]
  },
  {
   "cell_type": "code",
   "execution_count": 24,
   "metadata": {
    "collapsed": false
   },
   "outputs": [],
   "source": [
    "x = df1['入学試験の点数'].tolist()\n",
    "y = df1['学業成績'].tolist()\n",
    "z = df1['高校の平均評定'].tolist()"
   ]
  },
  {
   "cell_type": "code",
   "execution_count": 25,
   "metadata": {
    "collapsed": false
   },
   "outputs": [
    {
     "name": "stdout",
     "output_type": "stream",
     "text": [
      "[440, 448, 455, 460, 473, 485, 489, 500, 512, 518, 528, 550, 582, 569, 585, 593, 620, 650, 690]\n",
      "[1.57, 1.83, 2.05, 1.14, 2.73, 1.65, 2.02, 2.98, 1.79, 2.63, 2.08, 2.15, 3.44, 3.05, 3.19, 3.42, 3.87, 3.0, 3.12]\n",
      "[5.7, 6.8, 6.2, 5.5, 6.0, 7.3, 7.6, 7.3, 5.6, 7.6, 6.5, 7.8, 6.8, 7.5, 8.2, 7.8, 7.5, 7.2, 8.8]\n"
     ]
    }
   ],
   "source": [
    "print(x)\n",
    "print(y)\n",
    "print(z)"
   ]
  },
  {
   "cell_type": "code",
   "execution_count": 26,
   "metadata": {
    "collapsed": true
   },
   "outputs": [],
   "source": [
    "# 平均値を求める関数\n",
    "def average(list):\n",
    "    sum = 0\n",
    "    for x in list:\n",
    "        sum += x\n",
    "    return sum / len(list)"
   ]
  },
  {
   "cell_type": "code",
   "execution_count": 27,
   "metadata": {
    "collapsed": true
   },
   "outputs": [],
   "source": [
    "# 分散を求める関数\n",
    "def variance(list):\n",
    "    ave = average(list)\n",
    "    sum = 0\n",
    "    for x in list:\n",
    "        sum += (x - ave) ** 2\n",
    "    return sum / len(list)"
   ]
  },
  {
   "cell_type": "code",
   "execution_count": 28,
   "metadata": {
    "collapsed": true
   },
   "outputs": [],
   "source": [
    "# 標準偏差を求める関数\n",
    "import math\n",
    "def standard_deviation(list):\n",
    "    return math.sqrt(variance(list))"
   ]
  },
  {
   "cell_type": "code",
   "execution_count": 29,
   "metadata": {
    "collapsed": true
   },
   "outputs": [],
   "source": [
    "# 共分散 = 偏差積の平均 （偏差値、ではありません。偏差積、です）\n",
    "def covariance(list1, list2): \n",
    "    ave1 = average(list1)\n",
    "    ave2 = average(list2)\n",
    "    sum = 0\n",
    "    for d1, d2 in zip(list1, list2):\n",
    "        sum += (d1 - ave1) * (d2 - ave2)\n",
    "    return sum / len(list1)"
   ]
  },
  {
   "cell_type": "code",
   "execution_count": 30,
   "metadata": {
    "collapsed": true
   },
   "outputs": [],
   "source": [
    "# 相関係数 = 共分散を list1, list2 の標準偏差で割ったもの\n",
    "def correlation(list1, list2):\n",
    "    return covariance(list1, list2) / (standard_deviation(list1) * standard_deviation(list2))"
   ]
  },
  {
   "cell_type": "code",
   "execution_count": 31,
   "metadata": {
    "collapsed": false
   },
   "outputs": [
    {
     "name": "stdout",
     "output_type": "stream",
     "text": [
      "0.7617976726140626\n",
      "0.607225119617223\n",
      "0.6908644748080228\n"
     ]
    }
   ],
   "source": [
    "# (1)　３種類のデータのすべての組み合わせの相関係数を求めなさい。\n",
    "print(correlation(x, y)) # 入学試験の点数 と 学業成績\n",
    "print(correlation(y, z)) # 学業成績 と 高校の平均評定\n",
    "print(correlation(z, x)) # 高校の平均評定 と 入学試験の点数"
   ]
  },
  {
   "cell_type": "code",
   "execution_count": 32,
   "metadata": {
    "collapsed": true
   },
   "outputs": [],
   "source": [
    "# a の影響を除いた、b と y の偏相関係数 partial correlation coefficient を求める関数\n",
    "def partial_correlation(a, b, y):\n",
    "    rby = correlation(b, y)\n",
    "    ray = correlation(a, y)\n",
    "    rab = correlation(a, b)\n",
    "    return (rby - ray * rab)  / math.sqrt((1 - ray ** 2) * (1 - rab ** 2))"
   ]
  },
  {
   "cell_type": "code",
   "execution_count": 33,
   "metadata": {
    "collapsed": false
   },
   "outputs": [
    {
     "data": {
      "text/plain": [
       "0.5958704629308409"
      ]
     },
     "execution_count": 33,
     "metadata": {},
     "output_type": "execute_result"
    }
   ],
   "source": [
    "# (2)　高校の平均評定の影響を取り除いたときの、入学試験の点数と入学後の学業成績の偏相関係数を求めなさい。\n",
    "partial_correlation(z, x, y)"
   ]
  },
  {
   "cell_type": "code",
   "execution_count": 34,
   "metadata": {
    "collapsed": true
   },
   "outputs": [],
   "source": [
    "# (3) 大学入学試験の点数と大学の学業成績の相関係数は0.76であるが、高校の平均評定の影響を取り除いた偏相関係数は0.60に下がる。\n",
    "# 考えられる理由としては、入学試験が短期間の得点であるのに対し、大学の学業成績も高校の平均評定も普段の（長期間の）勉学姿勢の影響が強く\n",
    "# 異なった性質の指標であると考えられる。"
   ]
  },
  {
   "cell_type": "code",
   "execution_count": 35,
   "metadata": {
    "collapsed": true
   },
   "outputs": [],
   "source": [
    "# a の影響を除いた、b と y の偏回帰係数 partial regression coefficient を求める関数\n",
    "def partial_regression(a, b, y):\n",
    "    rby = correlation(b, y)\n",
    "    ray = correlation(a, y)\n",
    "    rab = correlation(a, b)\n",
    "    return (rby - ray * rab) * standard_deviation(y) / ((1 - rab ** 2) * standard_deviation(b))"
   ]
  },
  {
   "cell_type": "code",
   "execution_count": 36,
   "metadata": {
    "collapsed": false
   },
   "outputs": [
    {
     "name": "stdout",
     "output_type": "stream",
     "text": [
      "-2.0941113349445843\n",
      "0.006934890958833941\n",
      "0.12812099330335897\n"
     ]
    }
   ],
   "source": [
    "# (4) (5)\n",
    "p = partial_regression(z, x, y)\n",
    "q = partial_regression(x, z, y)\n",
    "m = average(y) - p * average(x) - q * average(z)\n",
    "print(m) # Y切片\n",
    "print(p) # xの偏回帰係数\n",
    "print(q) # zの偏回帰係数"
   ]
  },
  {
   "cell_type": "code",
   "execution_count": 37,
   "metadata": {
    "collapsed": false
   },
   "outputs": [],
   "source": [
    "# (4) Y = -2.09 + 0.00693 * x + 0.128 * z"
   ]
  },
  {
   "cell_type": "code",
   "execution_count": 38,
   "metadata": {
    "collapsed": true
   },
   "outputs": [],
   "source": [
    "# a と b から y を予測する場合の重相関係数を求める関数\n",
    "def multiple_correlation(a, b, y):\n",
    "    ray = correlation(a, y)\n",
    "    rby = correlation(b, y)\n",
    "    rab = correlation(a, b)\n",
    "    return math.sqrt((ray ** 2 + rby ** 2 - 2 * ray * rby * rab) / (1 - rab ** 2))"
   ]
  },
  {
   "cell_type": "code",
   "execution_count": 39,
   "metadata": {
    "collapsed": false
   },
   "outputs": [
    {
     "data": {
      "text/plain": [
       "0.7699771459141179"
      ]
     },
     "execution_count": 39,
     "metadata": {},
     "output_type": "execute_result"
    }
   ],
   "source": [
    "# (6)\n",
    "multiple_correlation(x, z, y)"
   ]
  },
  {
   "cell_type": "code",
   "execution_count": 40,
   "metadata": {
    "collapsed": true
   },
   "outputs": [],
   "source": [
    "# (7)　入学試験と学業成績の相関係数と重相関係数を比較して、どのようなことが言えるかについて、文章で書きなさい。\n",
    "\n",
    "# 入学試験と学業成績の相関係数 = 0.76 であり、\n",
    "# この値には高校の平均評点の影響を考慮していないが影響は除去できていない。\n",
    "# 高校の平均評点の影響を取り除くと偏相関係数 = 0.60 となり相関は低くなる。\n",
    "# 別の言い方をすると、入学試験の点数から学業成績を予測した場合に、\n",
    "# 予測された学業成績と実際の学業成績との相関が 0.76 であり、\n",
    "# 予測に用いたのは入学試験の値だけであるが高校の平均評点の影響も入っている。\n",
    "\n",
    "# 入学後の学業成績を、高校の平均評点と入学試験から予測するときの重相関係数 = 0.77\n",
    "# 別の言い方をすると、高校の平均評点と入学試験から学業成績を予測した場合に、\n",
    "# 予測された学業成績と実際の学業成績との相関が 0.77 である。\n",
    "# この結果にはもちろん入学試験の値も、高校の平均評点の影響も両方入っている。\n",
    "\n",
    "# その両者の数字はほとんど同じであった。\n",
    "# すなわち、入学試験の点数には高校の平均評点が影響しているために、\n",
    "# 明示的に高校の平均評点を入れても入れなくても、実際の学業成績の予測にはほとんど影響しないと言える。"
   ]
  },
  {
   "cell_type": "code",
   "execution_count": null,
   "metadata": {
    "collapsed": true
   },
   "outputs": [],
   "source": []
  }
 ],
 "metadata": {
  "kernelspec": {
   "display_name": "Python 3",
   "language": "python",
   "name": "python3"
  },
  "language_info": {
   "codemirror_mode": {
    "name": "ipython",
    "version": 3
   },
   "file_extension": ".py",
   "mimetype": "text/x-python",
   "name": "python",
   "nbconvert_exporter": "python",
   "pygments_lexer": "ipython3",
   "version": "3.4.5"
  }
 },
 "nbformat": 4,
 "nbformat_minor": 2
}
