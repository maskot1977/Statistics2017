{
 "cells": [
  {
   "cell_type": "markdown",
   "metadata": {},
   "source": [
    "# ハンバーガー統計学 with Python 第7章\n",
    "\n",
    "第５回講義（2017年10月13日講義、10月17日課題提出締切）\n",
    "\n",
    "このページは、<a href=\"http://kogolab.chillout.jp/elearn/hamburger/index.html\" target=\"_blank\">ハンバーガー統計学にようこそ！</a>の内容をプログラミング言語 Python に合わせて書き直したものです（著作権者の許諾を得て利用しております）。"
   ]
  },
  {
   "cell_type": "markdown",
   "metadata": {},
   "source": [
    "<h1 STYLE=\"background: #c2edff;padding: 0.5em;\"><a href=\"http://kogolab.chillout.jp/elearn/hamburger/chap7/sec0.html\" target=\"_blank\">第７章 分散分析（２要因）</a></h1>\n",
    "\n",
    "ワクワク、モグモグ、そしてパクパクと、あなたの住んでいる町は、ハンバーガーショップの激戦地になりました。\n",
    "\n",
    "その結果、ワクワクバーガーは 「打倒パクパク！」に燃えています。\n",
    "\n",
    "そうこうしていたある日、ワクワクバーガーに行くと、新しいチキンを売り出したい、という話が持ち上がっていました。\n",
    "\n",
    "「新メニューを売り出して、パクパクにがつーんと差をつけたいんだ！」\n",
    "\n",
    "ということでワクワクが開発したのは、「クリスピーチキン」と「辛口チキン」でした。\n",
    "\n",
    "<table><tr><td><img src=\"image/chicken00001.jpg\"></td>\n",
    "<td><img src=\"image/chicken00002.jpg\"></td></tr></table>\n",
    "\n",
    "<center>クリスピーチキン　　と　　辛口チキン</center>\n",
    "\n",
    "しかし、ここまで話して店員さんが悩みを打ち明けました。\n",
    "\n",
    "「実は、悩んでいるだけどね……」\n",
    "\n",
    "<img src=\"image/salesman00022.jpg\">\n",
    "\n",
    "「というのは、クリスピーチキンと、辛口チキンを組み合わせるっていう案もでているんだよ。クリスピー辛口チキンのように組み合わせたほうがいいのかなぁ？　それともクリスピーと辛口は、それぞれ別々の商品にしたほうがいいのかなぁ？」\n",
    "\n",
    "<table><tr><td><img src=\"image/chicken00001.jpg\"></td>\n",
    "<td>+</td>\n",
    "<td><img src=\"image/chicken00002.jpg\"></td>\n",
    "<td>=</td>\n",
    "<td><img src=\"image/chicken00003.jpg\"></td>\n",
    "</tr></table>\n",
    "\n",
    "それとも、クリスピー辛口チキンがいいのか?\n",
    "\n",
    "そこで、あなたは調べることにしました。\n",
    "\n"
   ]
  },
  {
   "cell_type": "markdown",
   "metadata": {},
   "source": [
    "<h2 STYLE=\"background: #c2edff;padding: 0.5em;\"><a href=\"http://kogolab.chillout.jp/elearn/hamburger/chap7/sec1.html\" target=\"_blank\">7.1　2つの要因では?</a></h2>\n",
    "\n",
    "<h4 style=\"border-bottom: solid 1px black;\">要因と水準</h4>\n",
    "\n",
    "観測データに影響を与えそうな原因を「要因」と呼びます。この場合、クリスピーか普通の衣かという「食感」は、お客さんの好みに影響を与えそうなので、要因としてとらえられます。\n",
    "\n",
    "また、要因の中の条件の違いのことを「水準」と呼びます。この場合は、食感がクリスピーであるか、普通の衣であるかということです。\n",
    "\n",
    "表にしてみると次のようになります。\n",
    "\n",
    "<table width=\"50%\" border=\"1\" align=\"center\" cellpadding=\"0\" cellspacing=\"0\">\n",
    "  <tr bgcolor=\"#CCCCCC\"> \n",
    "    <td width=\"40%\" bgcolor=\"#99CCFF\"> \n",
    "      <div align=\"center\">要因A</div></td>\n",
    "    <td width=\"30%\"> \n",
    "      <div align=\"center\">水準a1</div></td>\n",
    "    <td> \n",
    "      <div align=\"center\">水準a2</div></td>\n",
    "  </tr>\n",
    "  <tr> \n",
    "    <td><div align=\"center\">食感</div></td>\n",
    "    <td><div align=\"center\">クリスピー</div></td>\n",
    "    <td><div align=\"center\">普通の衣</div></td>\n",
    "  </tr>\n",
    "</table>\n",
    "\n",
    "また、同じように考えると、辛口か普通味かという「味付け」も要因としてとらえられます。\n",
    "\n",
    "この要因の水準は、辛口か普通味かということになります。次の表のようになります。\n",
    "\n",
    "<table width=\"50%\" border=\"1\" align=\"center\" cellpadding=\"0\" cellspacing=\"0\">\n",
    "  <tr bgcolor=\"#CCCCCC\"> \n",
    "    <td width=\"40%\" bgcolor=\"#FFCC99\"> \n",
    "      <div align=\"center\">要因B</div></td>\n",
    "    <td width=\"30%\"> <div align=\"center\">水準b1</div></td>\n",
    "    <td> <div align=\"center\">水準b2</div></td>\n",
    "  </tr>\n",
    "  <tr> \n",
    "    <td><div align=\"center\">味付け</div></td>\n",
    "    <td><div align=\"center\">辛口</div></td>\n",
    "    <td><div align=\"center\">普通味</div></td>\n",
    "  </tr>\n",
    "</table>\n",
    "\n",
    "つまり、要因が2つあるということです。それぞれの要因について、2つの水準がありますので、次の表のように、全部で4種類のチキンが考えられます。\n",
    "\n",
    "<table border=\"1\" align=\"center\" cellpadding=\"0\" cellspacing=\"0\">\n",
    "  <tr> \n",
    "    <td bgcolor=\"#99CCFF\"> \n",
    "      <div align=\"center\">要因A（食感）</div></td>\n",
    "    <td colspan=\"2\" bgcolor=\"#CCCCCC\">\n",
    "<div align=\"center\">クリスピー（水準a1）</div></td>\n",
    "    <td colspan=\"2\" bgcolor=\"#CCCCCC\">\n",
    "<div align=\"center\">普通の衣（水準a2）</div></td>\n",
    "  </tr>\n",
    "  <tr> \n",
    "    <td bgcolor=\"#FFCC99\">\n",
    "<div align=\"center\">要因B（味付け）</div></td>\n",
    "    <td bgcolor=\"#CCCCCC\">\n",
    "<div align=\"center\">辛口<br>（水準b1）</div></td>\n",
    "    <td bgcolor=\"#CCCCCC\">\n",
    "<div align=\"center\">普通味<br>（水準b2）</div></td>\n",
    "    <td width=\"20%\" bgcolor=\"#CCCCCC\">\n",
    "<div align=\"center\">辛口<br>（水準b1）</div></td>\n",
    "    <td width=\"20%\" bgcolor=\"#CCCCCC\">\n",
    "<div align=\"center\">普通味<br>（水準b2）</div></td>\n",
    "  </tr>\n",
    "  <tr> \n",
    "    <td width=\"20%\"><div align=\"center\">群（種類）</div></td>\n",
    "    <td width=\"20%\"><div align=\"center\">クリスピーで辛口 (a1b1群)</div></td>\n",
    "    <td width=\"20%\"><div align=\"center\">クリスピーで普通味 (a1b2群)</div></td>\n",
    "    <td><div align=\"center\">普通の衣で辛口 (a2b1群)</div></td>\n",
    "    <td><div align=\"center\">普通の衣で普通味 (a2b2群)</div></td>\n",
    "  </tr>\n",
    "</table>\n",
    "\n",
    "ところで、前の6章では、要因はお店の違いでした。そして、水準は、ワクワク、モグモグ、パクパクの3つがありました。こんな感じです。\n",
    "\n",
    "<table border=\"1\" align=\"center\" cellpadding=\"0\" cellspacing=\"0\">\n",
    "  <tr bgcolor=\"#CCCCCC\"> \n",
    "    <td width=\"25%\" bgcolor=\"#99CCFF\"> \n",
    "      <div align=\"center\">要因</div></td>\n",
    "    <td width=\"25%\"> \n",
    "      <div align=\"center\">水準1</div></td>\n",
    "    <td width=\"25%\"> \n",
    "      <div align=\"center\">水準2</div></td>\n",
    "    <td><div align=\"center\">水準3</div></td>\n",
    "  </tr>\n",
    "  <tr> \n",
    "    <td><div align=\"center\">お店の違い</div></td>\n",
    "    <td><div align=\"center\">ワクワク</div></td>\n",
    "    <td><div align=\"center\">モグモグ</div></td>\n",
    "    <td><div align=\"center\">パクパク</div></td>\n",
    "  </tr>\n",
    "</table>\n",
    "\n",
    "これを「１要因の分散分析」と呼びます。要因が１つだからです。\n",
    "\n",
    "今回の分散分析は、「２要因の分散分析」です。要因が２つだからです。"
   ]
  },
  {
   "cell_type": "markdown",
   "metadata": {},
   "source": [
    "<h4 style=\"border-bottom: solid 1px black;\">データを集める</h4>\n",
    "\n",
    "さて、店員さんに4種類のチキンをそれぞれ15個ずつ作ってもらい、街の人60人に食べてもらい、そのおいしさについて100点満点で点数をつけてもらいました。\n",
    "\n",
    "そのデータは次のようになりました。\n",
    "\n",
    "<TABLE WIDTH=\"451\" HEIGHT=\"345\" BORDER=\"1\" CELLSPACING=\"0\" \n",
    "  CELLPADDING=\"0\">\n",
    "    <TR> \n",
    "      <TD height=\"23\" COLSPAN=\"2\" BGCOLOR=\"#eeee77\"> \n",
    "        <CENTER>\n",
    "          クリスピー </CENTER></TD>\n",
    "      <TD COLSPAN=\"2\" BGCOLOR=\"#CCCCCC\"> \n",
    "        <CENTER>\n",
    "          普通の衣 \n",
    "        </CENTER></TD>\n",
    "    </TR>\n",
    "    <TR> \n",
    "      <TD WIDTH=\"20%\" BGCOLOR=\"#ff8888\" HEIGHT=\"20\"> <CENTER>\n",
    "          辛口 </CENTER></TD>\n",
    "      <TD WIDTH=\"20%\" BGCOLOR=\"#dddddd\"> <CENTER>\n",
    "          普通味 \n",
    "        </CENTER></TD>\n",
    "      <TD WIDTH=\"20%\" BGCOLOR=\"#ff8888\"> <CENTER>\n",
    "          辛口 </CENTER></TD>\n",
    "      <TD WIDTH=\"20%\" BGCOLOR=\"#dddddd\"> <CENTER>\n",
    "          普通味 \n",
    "        </CENTER></TD>\n",
    "    </TR>\n",
    "    <TR> \n",
    "      <TD ALIGN=\"CENTER\" HEIGHT=\"20\"> 65</TD>\n",
    "      <TD ALIGN=\"CENTER\"> 65</TD>\n",
    "      <TD ALIGN=\"CENTER\"> 70</TD>\n",
    "      <TD ALIGN=\"CENTER\"> 70</TD>\n",
    "    </TR>\n",
    "    <TR> \n",
    "      <TD ALIGN=\"CENTER\" HEIGHT=\"20\"> 85</TD>\n",
    "      <TD ALIGN=\"CENTER\"> 70</TD>\n",
    "      <TD ALIGN=\"CENTER\"> 65</TD>\n",
    "      <TD ALIGN=\"CENTER\"??> 70</TD>\n",
    "    </TR>\n",
    "    <TR> \n",
    "      <TD ALIGN=\"CENTER\" HEIGHT=\"20\"> 75</TD>\n",
    "      <TD ALIGN=\"CENTER\"> 80</TD>\n",
    "      <TD ALIGN=\"CENTER\"> 85</TD>\n",
    "      <TD ALIGN=\"CENTER\"> 85</TD>\n",
    "    </TR>\n",
    "    <TR> \n",
    "      <TD ALIGN=\"CENTER\" HEIGHT=\"20\"> 85</TD>\n",
    "      <TD ALIGN=\"CENTER\"> 75</TD>\n",
    "      <TD ALIGN=\"CENTER\"> 80</TD>\n",
    "      <TD ALIGN=\"CENTER\"> 80</TD>\n",
    "    </TR>\n",
    "    <TR> \n",
    "      <TD ALIGN=\"CENTER\" HEIGHT=\"20\"> 75</TD>\n",
    "      <TD ALIGN=\"CENTER\"> 70</TD>\n",
    "      <TD ALIGN=\"CENTER\"> 75</TD>\n",
    "      <TD ALIGN=\"CENTER\"> 65</TD>\n",
    "    </TR>\n",
    "    <TR> \n",
    "      <TD ALIGN=\"CENTER\" HEIGHT=\"20\"> 80</TD>\n",
    "      <TD ALIGN=\"CENTER\"> 60</TD>\n",
    "      <TD ALIGN=\"CENTER\"> 65</TD>\n",
    "      <TD ALIGN=\"CENTER\"> 75</TD>\n",
    "    </TR>\n",
    "    <TR> \n",
    "      <TD ALIGN=\"CENTER\" HEIGHT=\"20\"> 90</TD>\n",
    "      <TD ALIGN=\"CENTER\"> 65</TD>\n",
    "      <TD ALIGN=\"CENTER\"> 75</TD>\n",
    "      <TD ALIGN=\"CENTER\"> 65</TD>\n",
    "    </TR>\n",
    "    <TR> \n",
    "      <TD ALIGN=\"CENTER\" HEIGHT=\"20\"> 75</TD>\n",
    "      <TD ALIGN=\"CENTER\"> 70</TD>\n",
    "      <TD ALIGN=\"CENTER\"> 60</TD>\n",
    "      <TD ALIGN=\"CENTER\"> 85</TD>\n",
    "    </TR>\n",
    "    <TR> \n",
    "      <TD ALIGN=\"CENTER\" HEIGHT=\"20\"> 85</TD>\n",
    "      <TD ALIGN=\"CENTER\"> 85</TD>\n",
    "      <TD ALIGN=\"CENTER\"> 85</TD>\n",
    "      <TD ALIGN=\"CENTER\"> 80</TD>\n",
    "    </TR>\n",
    "    <TR> \n",
    "      <TD ALIGN=\"CENTER\" HEIGHT=\"20\"> 65</TD>\n",
    "      <TD ALIGN=\"CENTER\"> 60</TD>\n",
    "      <TD ALIGN=\"CENTER\"> 65</TD>\n",
    "      <TD ALIGN=\"CENTER\"> 60</TD>\n",
    "    </TR>\n",
    "    <TR> \n",
    "      <TD ALIGN=\"CENTER\" HEIGHT=\"20\"> 75</TD>\n",
    "      <TD ALIGN=\"CENTER\"> 65</TD>\n",
    "      <TD ALIGN=\"CENTER\"> 75</TD>\n",
    "      <TD ALIGN=\"CENTER\"> 70</TD>\n",
    "    </TR>\n",
    "    <TR> \n",
    "      <TD ALIGN=\"CENTER\" HEIGHT=\"20\"> 85</TD>\n",
    "      <TD ALIGN=\"CENTER\"> 75</TD>\n",
    "      <TD ALIGN=\"CENTER\"> 70</TD>\n",
    "      <TD ALIGN=\"CENTER\"> 75</TD>\n",
    "    </TR>\n",
    "    <TR> \n",
    "      <TD ALIGN=\"CENTER\" HEIGHT=\"20\"> 80</TD>\n",
    "      <TD ALIGN=\"CENTER\"> 70</TD>\n",
    "      <TD ALIGN=\"CENTER\"> 65</TD>\n",
    "      <TD ALIGN=\"CENTER\"> 70</TD>\n",
    "    </TR>\n",
    "    <TR> \n",
    "      <TD ALIGN=\"CENTER\" HEIGHT=\"20\"> 85</TD>\n",
    "      <TD ALIGN=\"CENTER\"> 80</TD>\n",
    "      <TD ALIGN=\"CENTER\"> 80</TD>\n",
    "      <TD ALIGN=\"CENTER\"> 80</TD>\n",
    "    </TR>\n",
    "    <TR> \n",
    "      <TD ALIGN=\"CENTER\" HEIGHT=\"20\"> 90</TD>\n",
    "      <TD ALIGN=\"CENTER\"> 75</TD>\n",
    "      <TD ALIGN=\"CENTER\"> 75</TD>\n",
    "      <TD ALIGN=\"CENTER\"> 85</TD>\n",
    "    </TR>\n",
    "  </TABLE>"
   ]
  },
  {
   "cell_type": "code",
   "execution_count": 1,
   "metadata": {
    "collapsed": true
   },
   "outputs": [],
   "source": [
    "# 以下の４つをそれぞれ「群」と呼びます。\n",
    "a1b1 = [65, 85, 75, 85, 75, 80, 90, 75, 85, 65, 75, 85, 80, 85, 90] # クリスピーで辛口\n",
    "a1b2 = [65, 70, 80, 75, 70, 60, 65, 70, 85, 60, 65, 75, 70, 80, 75] # クリスピーで普通味\n",
    "a2b1 = [70, 65, 85, 80, 75, 65, 75, 60, 85, 65, 75, 70, 65, 80, 75] # 普通の衣で辛口\n",
    "a2b2 = [70, 70, 85, 80, 65, 75, 65, 85, 80, 60, 70, 75, 70, 80, 85] # 普通の衣で普通味"
   ]
  },
  {
   "cell_type": "markdown",
   "metadata": {},
   "source": [
    "それぞれの平均と標準偏差を計算してみましょう。"
   ]
  },
  {
   "cell_type": "code",
   "execution_count": 2,
   "metadata": {
    "collapsed": true
   },
   "outputs": [],
   "source": [
    "# 平均値を求める関数\n",
    "def average(list):\n",
    "    sum = 0\n",
    "    for x in list:\n",
    "        sum += x\n",
    "    return sum / len(list)"
   ]
  },
  {
   "cell_type": "code",
   "execution_count": 3,
   "metadata": {
    "collapsed": true
   },
   "outputs": [],
   "source": [
    "# 分散を計算する\n",
    "def variance(list):\n",
    "    ave = average(list)\n",
    "    sum = 0\n",
    "    for x in list:\n",
    "        sum += (x - ave) ** 2\n",
    "    return sum / len(list)"
   ]
  },
  {
   "cell_type": "code",
   "execution_count": 4,
   "metadata": {
    "collapsed": true
   },
   "outputs": [],
   "source": [
    "# 標準偏差を計算する\n",
    "import math\n",
    "def standard_deviation(list):\n",
    "    return math.sqrt(variance(list))"
   ]
  },
  {
   "cell_type": "code",
   "execution_count": 5,
   "metadata": {
    "collapsed": false
   },
   "outputs": [
    {
     "name": "stdout",
     "output_type": "stream",
     "text": [
      "79.66666666666667 7.630348761506397\n",
      "71.0 7.118052168020874\n",
      "72.66666666666667 7.4981479194679945\n",
      "74.33333333333333 7.71722460186015\n"
     ]
    }
   ],
   "source": [
    "print(average(a1b1), standard_deviation(a1b1))\n",
    "print(average(a1b2), standard_deviation(a1b2))\n",
    "print(average(a2b1), standard_deviation(a2b1))\n",
    "print(average(a2b2), standard_deviation(a2b2))"
   ]
  },
  {
   "cell_type": "markdown",
   "metadata": {},
   "source": [
    "<h4 style=\"border-bottom: solid 1px black;\">ズレの分解</h4>\n",
    "\n",
    "前回の１要因の分散分析の場合は、ズレを次のように分解しました。\n",
    "\n",
    "<img src=\"image/anova4.jpg\">\n",
    "\n",
    "このように考えて、全体の平均からのズレを、群間のズレと群内のズレに分解しました。\n",
    "\n",
    "全体の平均からのズレ　＝　群間のズレ　＋　群内のズレ\n",
    "\n",
    "ということです。\n",
    "\n",
    "さて、今回は、要因が２つあるので、ちょっと複雑になります。\n",
    "\n",
    "要因が２つありますので、食感の要因（クリスピーか普通の衣か）によるズレと、味付けの要因（辛口か普通味か）によるズレが考えられます。\n",
    "\n",
    "全体の平均からのズレ　＝　食感の要因によるズレ　＋　味付けの要因によるズレ　＋　残りのズレ（残差）\n",
    "\n",
    "となります。残りのズレのことを「残差」と呼びましょう。これは１要因の分散分析では「群内の残差」に当たります。\n",
    "\n",
    "また、１つの要因の単独の効果を「主効果」といいます。ここでは、食感の要因による主効果と、味付けの要因による主効果の２つの主効果があります。"
   ]
  },
  {
   "cell_type": "markdown",
   "metadata": {},
   "source": [
    "<h4 style=\"border-bottom: solid 1px black;\">交互作用</h4>\n",
    "\n",
    "残差はこの３つだけで良いでしょうか？\n",
    "\n",
    "いえ、不足しています。たまたま、食感（クリスピーか普通の衣）にかかわらず、味付けの要因による残差が一定ならば、この式であっています。しかし、そうでないことも多いのです。\n",
    "\n",
    "つまり、「食感の要因と味付けの要因の２つが組み合わさって生じる残差」を考える必要があります。ちょっとわかりにくいですが、こう考えてください。\n",
    "\n",
    "* 「衣がクリスピーだろうが、普通だろうが、味付けを辛口にすると一定の効果がある」というのであれば、主効果による残差だけでよい。\n",
    "* しかし、そうでないことも多い。\n",
    "* たとえば、衣がクリスピーのときに味付けを辛口にすると、効果が大きいけれども、普通の衣の時に味付けを辛口にしても、それほど効果は大きくない、というような場合だ。\n",
    "* つまり、食感の要因と味付けの要因の組み合わせによって効果が変わることも多い。\n",
    "* したがって、要因の組み合わせによる残差を考えに入れる必要がある。\n",
    "\n",
    "組み合わせによる残差を式にいれてみると、次のようになります。\n",
    "\n",
    "全体の平均からの残差　＝　食感の要因による残差　＋　味付けの要因による残差　＋　食感の要因と味付けの要因の組み合わせによる残差　＋　残りの残差\n",
    "\n",
    "２つの要因の組み合わせによって起こる効果を「交互作用」といいます。\n",
    "\n",
    "もっと簡単に書き直すと次のようになります。\n",
    "\n",
    "全体の残差　＝　要因Aによる残差　＋　要因Bによる残差　＋　交互作用による残差　＋　残りの残差\n",
    "\n",
    "交互作用については、重要ですので、あとでもう一度説明します。"
   ]
  },
  {
   "cell_type": "markdown",
   "metadata": {},
   "source": [
    "<h4 style=\"border-bottom: solid 1px black;\">２要因の分散分析</h4>\n",
    "\n",
    "２要因の分散分析の考え方を説明します。\n",
    "\n",
    "全体の残差　＝　要因Aによる残差　＋　要因Bによる残差　＋　交互作用による残差　＋　残りの残差\n",
    "\n",
    "ということなので、残りの残差を規準にして、要因Aによる残差、要因Bによる残差、交互作用による残差の３つの大きさを検討します。\n",
    "\n",
    "* 残りの残差に対して、要因Aによる残差が大きければ、主効果Aが大きいことが分かります。\n",
    "* 残りの残差に対して、要因Bによる残差が大きければ、主効果Bが大きいことが分かります。\n",
    "* 残りの残差に対して、交互作用による残差が大きければ、交互作用が大きいことが分かります。\n",
    "\n",
    "２要因の分散分析の帰無仮説は、\n",
    "\n",
    "「要因Aによる差がなく、要因Bによる差がなく、また交互作用による差もない」\n",
    "\n",
    "となります。\n",
    "\n",
    "そうすると対立仮説はその否定で、\n",
    "\n",
    "「要因Aによる差があるか、要因Bによる差があるか、または、交互作用による差があるか、どれか１つが成り立つ」\n",
    "\n",
    "となります。\n",
    "\n",
    "これは、具体的には、次のような7つの場合があります。\n",
    "\n",
    "* Aの主効果だけが有意\n",
    "* Bの主効果だけが有意\n",
    "* 交互作用だけが有意\n",
    "* Aの主効果とBの主効果が有意\n",
    "* Aの主効果と交互作用が有意\n",
    "* Bの主効果と交互作用が有意\n",
    "* Aの主効果とBの主効果と交互作用のすべてが有意\n",
    "\n",
    "これを検定するのが、２要因の分散分析ということになります。"
   ]
  },
  {
   "cell_type": "markdown",
   "metadata": {},
   "source": [
    "<h2 STYLE=\"background: #c2edff;padding: 0.5em;\"><a href=\"http://kogolab.chillout.jp/elearn/hamburger/chap7/sec2.html\" target=\"_blank\">7.2　２要因の分散分析表</a></h2>\n",
    "\n",
    "それでは具体的に計算していきましょう。\n",
    "\n",
    "まず、１要因の分散分析でやったように、各群のデータ数、平均、標準偏差、分散、平方和を計算します。"
   ]
  },
  {
   "cell_type": "markdown",
   "metadata": {},
   "source": [
    " <TABLE HEIGHT=\"345\" BORDER=\"1\" CELLSPACING=\"0\" \n",
    "  CELLPADDING=\"0\">\n",
    "    <TR> \n",
    "      <td bgcolor=\"#cccccc\"></td>\n",
    "      <TD BGCOLOR=\"#dddddd\" HEIGHT=\"20\"> <CENTER>\n",
    "          クリスピーで辛口 </CENTER></TD>\n",
    "      <TD BGCOLOR=\"#dddddd\"> <CENTER>\n",
    "          クリスピーで普通味 \n",
    "        </CENTER></TD>\n",
    "      <TD BGCOLOR=\"#dddddd\"> <CENTER>\n",
    "          普通の衣で辛口 </CENTER></TD>\n",
    "      <TD WIDTH=\"20%\" BGCOLOR=\"#dddddd\"> <CENTER>\n",
    "          普通の衣で普通味 \n",
    "        </CENTER></TD>\n",
    "      <TD BGCOLOR=\"#dddddd\" HEIGHT=\"20\"> <CENTER>\n",
    "          クリスピー </CENTER></TD>\n",
    "      <TD BGCOLOR=\"#dddddd\"> <CENTER>\n",
    "          普通の衣 \n",
    "        </CENTER></TD>\n",
    "      <TD BGCOLOR=\"#dddddd\"> <CENTER>\n",
    "          辛口 </CENTER></TD>\n",
    "      <TD BGCOLOR=\"#dddddd\"> <CENTER>\n",
    "          普通味 \n",
    "        </CENTER></TD>\n",
    "      <TD BGCOLOR=\"#dddddd\"> <CENTER>\n",
    "          全体 \n",
    "        </CENTER></TD>\n",
    "    </TR>\n",
    "    <TR> \n",
    "      <td bgcolor=\"#cccccc\">1</td>\n",
    "      <TD ALIGN=\"CENTER\" HEIGHT=\"20\"> 65</TD>\n",
    "      <TD ALIGN=\"CENTER\"> 65</TD>\n",
    "      <TD ALIGN=\"CENTER\"> 70</TD>\n",
    "      <TD ALIGN=\"CENTER\"> 70</TD>\n",
    "      <td bgcolor=\"#cccccc\"></td>\n",
    "      <td bgcolor=\"#cccccc\"></td>\n",
    "      <td bgcolor=\"#cccccc\"></td>\n",
    "      <td bgcolor=\"#cccccc\"></td>\n",
    "      <td bgcolor=\"#cccccc\"></td>\n",
    "    </TR>\n",
    "    <TR> \n",
    "      <td bgcolor=\"#cccccc\">2</td>\n",
    "      <TD ALIGN=\"CENTER\" HEIGHT=\"20\"> 85</TD>\n",
    "      <TD ALIGN=\"CENTER\"> 70</TD>\n",
    "      <TD ALIGN=\"CENTER\"> 65</TD>\n",
    "      <TD ALIGN=\"CENTER\"??> 70</TD>\n",
    "      <td bgcolor=\"#cccccc\"></td>\n",
    "      <td bgcolor=\"#cccccc\"></td>\n",
    "      <td bgcolor=\"#cccccc\"></td>\n",
    "      <td bgcolor=\"#cccccc\"></td>\n",
    "      <td bgcolor=\"#cccccc\"></td>\n",
    "    </TR>\n",
    "    <TR> \n",
    "      <td bgcolor=\"#cccccc\">3</td>\n",
    "      <TD ALIGN=\"CENTER\" HEIGHT=\"20\"> 75</TD>\n",
    "      <TD ALIGN=\"CENTER\"> 80</TD>\n",
    "      <TD ALIGN=\"CENTER\"> 85</TD>\n",
    "      <TD ALIGN=\"CENTER\"> 85</TD>\n",
    "      <td bgcolor=\"#cccccc\"></td>\n",
    "      <td bgcolor=\"#cccccc\"></td>\n",
    "      <td bgcolor=\"#cccccc\"></td>\n",
    "      <td bgcolor=\"#cccccc\"></td>\n",
    "      <td bgcolor=\"#cccccc\"></td>\n",
    "    </TR>\n",
    "    <TR> \n",
    "      <td bgcolor=\"#cccccc\">4</td>\n",
    "      <TD ALIGN=\"CENTER\" HEIGHT=\"20\"> 85</TD>\n",
    "      <TD ALIGN=\"CENTER\"> 75</TD>\n",
    "      <TD ALIGN=\"CENTER\"> 80</TD>\n",
    "      <TD ALIGN=\"CENTER\"> 80</TD>\n",
    "      <td bgcolor=\"#cccccc\"></td>\n",
    "      <td bgcolor=\"#cccccc\"></td>\n",
    "      <td bgcolor=\"#cccccc\"></td>\n",
    "      <td bgcolor=\"#cccccc\"></td>\n",
    "      <td bgcolor=\"#cccccc\"></td>\n",
    "    </TR>\n",
    "    <TR> \n",
    "      <td bgcolor=\"#cccccc\">5</td>\n",
    "      <TD ALIGN=\"CENTER\" HEIGHT=\"20\"> 75</TD>\n",
    "      <TD ALIGN=\"CENTER\"> 70</TD>\n",
    "      <TD ALIGN=\"CENTER\"> 75</TD>\n",
    "      <TD ALIGN=\"CENTER\"> 65</TD>\n",
    "      <td bgcolor=\"#cccccc\"></td>\n",
    "      <td bgcolor=\"#cccccc\"></td>\n",
    "      <td bgcolor=\"#cccccc\"></td>\n",
    "      <td bgcolor=\"#cccccc\"></td>\n",
    "      <td bgcolor=\"#cccccc\"></td>\n",
    "    </TR>\n",
    "    <TR> \n",
    "      <td bgcolor=\"#cccccc\">6</td>\n",
    "      <TD ALIGN=\"CENTER\" HEIGHT=\"20\"> 80</TD>\n",
    "      <TD ALIGN=\"CENTER\"> 60</TD>\n",
    "      <TD ALIGN=\"CENTER\"> 65</TD>\n",
    "      <TD ALIGN=\"CENTER\"> 75</TD>\n",
    "      <td bgcolor=\"#cccccc\"></td>\n",
    "      <td bgcolor=\"#cccccc\"></td>\n",
    "      <td bgcolor=\"#cccccc\"></td>\n",
    "      <td bgcolor=\"#cccccc\"></td>\n",
    "      <td bgcolor=\"#cccccc\"></td>\n",
    "    </TR>\n",
    "    <TR> \n",
    "      <td bgcolor=\"#cccccc\">7</td>\n",
    "      <TD ALIGN=\"CENTER\" HEIGHT=\"20\"> 90</TD>\n",
    "      <TD ALIGN=\"CENTER\"> 65</TD>\n",
    "      <TD ALIGN=\"CENTER\"> 75</TD>\n",
    "      <TD ALIGN=\"CENTER\"> 65</TD>\n",
    "      <td bgcolor=\"#cccccc\"></td>\n",
    "      <td bgcolor=\"#cccccc\"></td>\n",
    "      <td bgcolor=\"#cccccc\"></td>\n",
    "      <td bgcolor=\"#cccccc\"></td>\n",
    "      <td bgcolor=\"#cccccc\"></td>\n",
    "    </TR>\n",
    "    <TR> \n",
    "      <td bgcolor=\"#cccccc\">8</td>\n",
    "      <TD ALIGN=\"CENTER\" HEIGHT=\"20\"> 75</TD>\n",
    "      <TD ALIGN=\"CENTER\"> 70</TD>\n",
    "      <TD ALIGN=\"CENTER\"> 60</TD>\n",
    "      <TD ALIGN=\"CENTER\"> 85</TD>\n",
    "      <td bgcolor=\"#cccccc\"></td>\n",
    "      <td bgcolor=\"#cccccc\"></td>\n",
    "      <td bgcolor=\"#cccccc\"></td>\n",
    "      <td bgcolor=\"#cccccc\"></td>\n",
    "      <td bgcolor=\"#cccccc\"></td>\n",
    "    </TR>\n",
    "    <TR> \n",
    "      <td bgcolor=\"#cccccc\">9</td>\n",
    "      <TD ALIGN=\"CENTER\" HEIGHT=\"20\"> 85</TD>\n",
    "      <TD ALIGN=\"CENTER\"> 85</TD>\n",
    "      <TD ALIGN=\"CENTER\"> 85</TD>\n",
    "      <TD ALIGN=\"CENTER\"> 80</TD>\n",
    "      <td bgcolor=\"#cccccc\"></td>\n",
    "      <td bgcolor=\"#cccccc\"></td>\n",
    "      <td bgcolor=\"#cccccc\"></td>\n",
    "      <td bgcolor=\"#cccccc\"></td>\n",
    "      <td bgcolor=\"#cccccc\"></td>\n",
    "    </TR>\n",
    "    <TR> \n",
    "      <td bgcolor=\"#cccccc\">10</td>\n",
    "      <TD ALIGN=\"CENTER\" HEIGHT=\"20\"> 65</TD>\n",
    "      <TD ALIGN=\"CENTER\"> 60</TD>\n",
    "      <TD ALIGN=\"CENTER\"> 65</TD>\n",
    "      <TD ALIGN=\"CENTER\"> 60</TD>\n",
    "      <td bgcolor=\"#cccccc\"></td>\n",
    "      <td bgcolor=\"#cccccc\"></td>\n",
    "      <td bgcolor=\"#cccccc\"></td>\n",
    "      <td bgcolor=\"#cccccc\"></td>\n",
    "      <td bgcolor=\"#cccccc\"></td>\n",
    "    </TR>\n",
    "    <TR> \n",
    "      <td bgcolor=\"#cccccc\">11</td>\n",
    "      <TD ALIGN=\"CENTER\" HEIGHT=\"20\"> 75</TD>\n",
    "      <TD ALIGN=\"CENTER\"> 65</TD>\n",
    "      <TD ALIGN=\"CENTER\"> 75</TD>\n",
    "      <TD ALIGN=\"CENTER\"> 70</TD>\n",
    "      <td bgcolor=\"#cccccc\"></td>\n",
    "      <td bgcolor=\"#cccccc\"></td>\n",
    "      <td bgcolor=\"#cccccc\"></td>\n",
    "      <td bgcolor=\"#cccccc\"></td>\n",
    "      <td bgcolor=\"#cccccc\"></td>\n",
    "    </TR>\n",
    "    <TR> \n",
    "      <td bgcolor=\"#cccccc\">12</td>\n",
    "      <TD ALIGN=\"CENTER\" HEIGHT=\"20\"> 85</TD>\n",
    "      <TD ALIGN=\"CENTER\"> 75</TD>\n",
    "      <TD ALIGN=\"CENTER\"> 70</TD>\n",
    "      <TD ALIGN=\"CENTER\"> 75</TD>\n",
    "      <td bgcolor=\"#cccccc\"></td>\n",
    "      <td bgcolor=\"#cccccc\"></td>\n",
    "      <td bgcolor=\"#cccccc\"></td>\n",
    "      <td bgcolor=\"#cccccc\"></td>\n",
    "      <td bgcolor=\"#cccccc\"></td>\n",
    "    </TR>\n",
    "    <TR> \n",
    "      <td bgcolor=\"#cccccc\">13</td>\n",
    "      <TD ALIGN=\"CENTER\" HEIGHT=\"20\"> 80</TD>\n",
    "      <TD ALIGN=\"CENTER\"> 70</TD>\n",
    "      <TD ALIGN=\"CENTER\"> 65</TD>\n",
    "      <TD ALIGN=\"CENTER\"> 70</TD>\n",
    "      <td bgcolor=\"#cccccc\"></td>\n",
    "      <td bgcolor=\"#cccccc\"></td>\n",
    "      <td bgcolor=\"#cccccc\"></td>\n",
    "      <td bgcolor=\"#cccccc\"></td>\n",
    "      <td bgcolor=\"#cccccc\"></td>\n",
    "    </TR>\n",
    "    <TR> \n",
    "      <td bgcolor=\"#cccccc\">14</td>\n",
    "      <TD ALIGN=\"CENTER\" HEIGHT=\"20\"> 85</TD>\n",
    "      <TD ALIGN=\"CENTER\"> 80</TD>\n",
    "      <TD ALIGN=\"CENTER\"> 80</TD>\n",
    "      <TD ALIGN=\"CENTER\"> 80</TD>\n",
    "      <td bgcolor=\"#cccccc\"></td>\n",
    "      <td bgcolor=\"#cccccc\"></td>\n",
    "      <td bgcolor=\"#cccccc\"></td>\n",
    "      <td bgcolor=\"#cccccc\"></td>\n",
    "      <td bgcolor=\"#cccccc\"></td>\n",
    "    </TR>\n",
    "    <TR> \n",
    "      <td bgcolor=\"#cccccc\">15</td>\n",
    "      <TD ALIGN=\"CENTER\" HEIGHT=\"20\"> 90</TD>\n",
    "      <TD ALIGN=\"CENTER\"> 75</TD>\n",
    "      <TD ALIGN=\"CENTER\"> 75</TD>\n",
    "      <TD ALIGN=\"CENTER\"> 85</TD>\n",
    "      <td bgcolor=\"#cccccc\"></td>\n",
    "      <td bgcolor=\"#cccccc\"></td>\n",
    "      <td bgcolor=\"#cccccc\"></td>\n",
    "      <td bgcolor=\"#cccccc\"></td>\n",
    "      <td bgcolor=\"#cccccc\"></td>\n",
    "    </TR>\n",
    "    <tr><td bgcolor=\"#cccccc\">平均</td><td>( a )</td><td>( b )</td><td>( c )</td><td>( d )</td>\n",
    "        <td>( e )</td><td>( f )</td><td>( g )</td><td> ( h )</td><td>( i )</td>\n",
    "    </tr>\n",
    "    <tr><td bgcolor=\"#cccccc\">偏差平方和</td><td>( j )</td><td>( k )</td><td>( l )</td><td>( m )</td>\n",
    "        <td bgcolor=\"#cccccc\"></td><td bgcolor=\"#cccccc\"></td><td bgcolor=\"#cccccc\"></td><td bgcolor=\"#cccccc\"></td><td>( n )</td>\n",
    "    </tr>\n",
    "    </TABLE>"
   ]
  },
  {
   "cell_type": "code",
   "execution_count": 6,
   "metadata": {
    "collapsed": true
   },
   "outputs": [],
   "source": [
    "# 以下の４つをそれぞれ「群」と呼びます。\n",
    "a1b1 = [65, 85, 75, 85, 75, 80, 90, 75, 85, 65, 75, 85, 80, 85, 90] # クリスピーで辛口\n",
    "a1b2 = [65, 70, 80, 75, 70, 60, 65, 70, 85, 60, 65, 75, 70, 80, 75] # クリスピーで普通味\n",
    "a2b1 = [70, 65, 85, 80, 75, 65, 75, 60, 85, 65, 75, 70, 65, 80, 75] # 普通の衣で辛口\n",
    "a2b2 = [70, 70, 85, 80, 65, 75, 65, 85, 80, 60, 70, 75, 70, 80, 85] # 普通の衣で普通味"
   ]
  },
  {
   "cell_type": "code",
   "execution_count": 7,
   "metadata": {
    "collapsed": false
   },
   "outputs": [],
   "source": [
    "# 以下の４つのうち、上２つを「要因A（食感）」、下２つを「要因B（味）」と呼びます。\n",
    "a1 = a1b1 + a1b2 # クリスピーのデータを作ってください。\n",
    "a2 = a2b1 + a2b2 # 普通の衣のデータを作ってください。\n",
    "b1 = a1b1 + a2b1 # 辛口のデータを作ってください。\n",
    "b2 = a1b2 + a2b2 # 普通味のデータを作ってください。"
   ]
  },
  {
   "cell_type": "markdown",
   "metadata": {},
   "source": [
    "* 各項目の平均値を計算してください（上表 a, b, c, d, e, f, g, h, i ）"
   ]
  },
  {
   "cell_type": "code",
   "execution_count": 8,
   "metadata": {
    "collapsed": false
   },
   "outputs": [
    {
     "name": "stdout",
     "output_type": "stream",
     "text": [
      "79.66666666666667 71.0 72.66666666666667 74.33333333333333\n",
      "75.33333333333333 73.5 76.16666666666667 72.66666666666667\n",
      "74.41666666666667\n"
     ]
    }
   ],
   "source": [
    "# 各項目の平均値を計算してください（上表 a, b, c, d, e, f, g, h, i ）\n",
    "zentai = a1b1 + a1b2 + a2b1 + a2b2\n",
    "a = average(a1b1)\n",
    "b = average(a1b2)\n",
    "c = average(a2b1)\n",
    "d = average(a2b2)\n",
    "e = average(a1)\n",
    "f = average(a2)\n",
    "g = average(b1)\n",
    "h = average(b2)\n",
    "i = average(zentai)\n",
    "print (a, b, c, d)\n",
    "print (e, f, g, h)\n",
    "print (i)"
   ]
  },
  {
   "cell_type": "markdown",
   "metadata": {},
   "source": [
    "* 各群の偏差平方和を計算してください（上表 j, k, l, m ）。"
   ]
  },
  {
   "cell_type": "code",
   "execution_count": 9,
   "metadata": {
    "collapsed": true
   },
   "outputs": [],
   "source": [
    "def sum_square_deviation(list):\n",
    "    ave = average(list)\n",
    "    sum = 0\n",
    "    for x in list:\n",
    "        sum += (x - ave)**2\n",
    "    return sum"
   ]
  },
  {
   "cell_type": "code",
   "execution_count": 10,
   "metadata": {
    "collapsed": false
   },
   "outputs": [
    {
     "name": "stdout",
     "output_type": "stream",
     "text": [
      "873.3333333333333 760.0 843.3333333333333 893.3333333333333\n"
     ]
    }
   ],
   "source": [
    "# 各群の偏差平方和を計算してください（上表 j, k, l, m ）\n",
    "j = sum_square_deviation(a1b1)\n",
    "k = sum_square_deviation(a1b2)\n",
    "l = sum_square_deviation(a2b1)\n",
    "m = sum_square_deviation(a2b2)\n",
    "print (j, k, l, m)"
   ]
  },
  {
   "cell_type": "markdown",
   "metadata": {},
   "source": [
    "* 全体の偏差平方和を計算してください（上表 n ）。"
   ]
  },
  {
   "cell_type": "code",
   "execution_count": 11,
   "metadata": {
    "collapsed": false
   },
   "outputs": [
    {
     "name": "stdout",
     "output_type": "stream",
     "text": [
      "4004.5833333333326\n"
     ]
    }
   ],
   "source": [
    "# 全体の偏差平方和を計算してください（上表 n ）\n",
    "n = sum_square_deviation(zentai)\n",
    "print (n)"
   ]
  },
  {
   "cell_type": "markdown",
   "metadata": {},
   "source": [
    "__要因Aによる残差（偏差平方和）を計算してください__ （下表 o )"
   ]
  },
  {
   "cell_type": "markdown",
   "metadata": {},
   "source": [
    "* 要因A（食感）による残差 ＝ (クリスピーの平均 ー 全体の平均)の２乗 ✕ クリスピーのデータ個数　＋　(普通の衣の平均 ー 全体の平均)の２乗　✕ 普通衣のデータ個数"
   ]
  },
  {
   "cell_type": "code",
   "execution_count": 12,
   "metadata": {
    "collapsed": false
   },
   "outputs": [
    {
     "name": "stdout",
     "output_type": "stream",
     "text": [
      "50.4166666666664\n"
     ]
    }
   ],
   "source": [
    "# 要因Aによる残差（偏差平方和）を計算してください （下表 o )\n",
    "o = (average(a1) - average(zentai))**2 * len(a1) + (average(a2) - average(zentai))**2 * len(a2)\n",
    "print(o)"
   ]
  },
  {
   "cell_type": "markdown",
   "metadata": {},
   "source": [
    "__要因Bによる残差（偏差平方和）を計算してください__ (下表 p )"
   ]
  },
  {
   "cell_type": "markdown",
   "metadata": {},
   "source": [
    "* 要因B（味）による残差 ＝ (辛口の平均 ー 全体の平均)の２乗 ✕ 辛口のデータ個数　＋　(普通味の平均 ー 全体の平均)の２乗　✕ 普通味のデータ個数"
   ]
  },
  {
   "cell_type": "code",
   "execution_count": 13,
   "metadata": {
    "collapsed": false
   },
   "outputs": [
    {
     "name": "stdout",
     "output_type": "stream",
     "text": [
      "183.75\n"
     ]
    }
   ],
   "source": [
    "# 要因Bによる残差（偏差平方和）を計算してください (下表 p )\n",
    "p = (average(b1) - average(zentai))**2 * len(b1) + (average(b2) - average(zentai))**2 * len(b2)\n",
    "print(p)"
   ]
  },
  {
   "cell_type": "markdown",
   "metadata": {},
   "source": [
    "__交互作用による残差（偏差平方和）を計算してください__ (下表 q )"
   ]
  },
  {
   "cell_type": "markdown",
   "metadata": {},
   "source": [
    "* 各群の平均の残差＝ Σ(（各群の平均　ー　全体の平均）の2乗✕ 各群のデータ個数)\n",
    "* 交互作用による残差　=　各群の平均の残差　－　要因Aによる残差　－　要因Bによる残差"
   ]
  },
  {
   "cell_type": "code",
   "execution_count": 14,
   "metadata": {
    "collapsed": false
   },
   "outputs": [
    {
     "name": "stdout",
     "output_type": "stream",
     "text": [
      "400.41666666666754\n"
     ]
    }
   ],
   "source": [
    "# 交互作用による残差（偏差平方和）を計算してください (下表 q )\n",
    "q = (average(a1b1) - average(zentai))**2 * len(a1b1) \\\n",
    "    + (average(a1b2) - average(zentai))**2 * len(a1b2) \\\n",
    "    + (average(a2b1) - average(zentai))**2 * len(a2b1) \\\n",
    "    + (average(a2b2) - average(zentai))**2 * len(a2b2) \\\n",
    "    - o - p\n",
    "print(q)"
   ]
  },
  {
   "cell_type": "markdown",
   "metadata": {},
   "source": [
    "__残りの残差（偏差平方和）を計算してください__ (下表 r )"
   ]
  },
  {
   "cell_type": "markdown",
   "metadata": {},
   "source": [
    "* 残りの残差とは、群内の偏差平方和を足したものです（ j + k + l + m ）。"
   ]
  },
  {
   "cell_type": "code",
   "execution_count": 15,
   "metadata": {
    "collapsed": false
   },
   "outputs": [
    {
     "name": "stdout",
     "output_type": "stream",
     "text": [
      "3370.0\n"
     ]
    }
   ],
   "source": [
    "# 残りの残差（偏差平方和）を計算してください (下表 r )\n",
    "r = j + k + l + m\n",
    "print(r)"
   ]
  },
  {
   "cell_type": "markdown",
   "metadata": {},
   "source": [
    "__分散分析表を作る__\n",
    "\n",
    "o, p, q, r, n は既に計算済みです。"
   ]
  },
  {
   "cell_type": "markdown",
   "metadata": {},
   "source": [
    "<TABLE BORDER=\"1\" align=\"center\" CELLPADDING=\"2\" CELLSPACING=\"0\">\n",
    "  <TR> \n",
    "    <TD WIDTH=100 BGCOLOR=\"#CCCCCC\"> <div align=\"center\">要因 </div></TD>\n",
    "    <TD WIDTH=100 BGCOLOR=\"#DDDDDD\"> <CENTER>\n",
    "       偏差平方和 </CENTER></TD>\n",
    "    <TD WIDTH=100 BGCOLOR=\"#DDDDDD\"> <CENTER>\n",
    "        自由度 </CENTER></TD>\n",
    "    <TD WIDTH=100 BGCOLOR=\"#DDDDDD\"> <CENTER>\n",
    "        平均平方 </CENTER></TD>\n",
    "    <TD WIDTH=100 BGCOLOR=\"#DDDDDD\"> <CENTER>\n",
    "        F </CENTER></TD>\n",
    "  </TR>\n",
    "  <TR> \n",
    "    <TD WIDTH=100 BGCOLOR=\"#DDDDDD\"> <div align=\"center\">要因A </div></TD>\n",
    "    <TD WIDTH=100> <div align=\"right\">( o )</div></TD>\n",
    "    <TD WIDTH=100> <div align=\"right\">( s )</div></TD>\n",
    "    <TD WIDTH=100> <div align=\"right\">( x )</div></TD>\n",
    "    <TD WIDTH=100> <div align=\"right\">( bb )</div></TD>\n",
    "  </TR>\n",
    "  <TR> \n",
    "    <TD WIDTH=100 BGCOLOR=\"#DDDDDD\"> <div align=\"center\">要因B </div></TD>\n",
    "    <TD WIDTH=100> <div align=\"right\">( p )</div></TD>\n",
    "    <TD WIDTH=100> <div align=\"right\">( t )</div></TD>\n",
    "    <TD WIDTH=100> <div align=\"right\">( y )</div></TD>\n",
    "    <TD WIDTH=100> <div align=\"right\">( cc )</div></TD>\n",
    "  </TR>\n",
    "  <TR> \n",
    "    <TD WIDTH=100 BGCOLOR=\"#dddddd\"> <div align=\"center\">交互作用 </div></TD>\n",
    "    <TD WIDTH=100> <div align=\"right\">( q )</div></TD>\n",
    "    <TD WIDTH=100> <div align=\"right\">( u )</div></TD>\n",
    "    <TD WIDTH=100> <div align=\"right\">( z )</div></TD>\n",
    "    <TD WIDTH=100> <div align=\"right\">( dd )</div></TD>\n",
    "  </TR>\n",
    "  <TR> \n",
    "    <TD BGCOLOR=\"#dddddd\"> <div align=\"center\">残差</div></TD>\n",
    "    <TD><div align=\"right\">( r )</div></TD>\n",
    "    <TD><div align=\"right\">( w )</div></TD>\n",
    "    <TD><div align=\"right\">( aa )</div></TD>\n",
    "  </TR>\n",
    "  <TR> \n",
    "    <TD BGCOLOR=\"#CCCCCC\"><div align=\"center\">全体 </div></TD>\n",
    "    <TD><div align=\"right\">( n )</div></TD>\n",
    "    <TD><div align=\"right\">( v )</div></TD>\n",
    "  </TR>\n",
    "</TABLE>"
   ]
  },
  {
   "cell_type": "markdown",
   "metadata": {},
   "source": [
    "* 自由度を求めてください。\n",
    "  * (上表 s ) 要因Aの自由度 ＝ 要因Aの中の条件数（群の数）から１を引いたもの\n",
    "  * (上表 t ) 要因Bの自由度 ＝ 要因Bの中の条件数（群の数）から１を引いたもの\n",
    "  * (上表 u ) 交互作用の自由度　＝ 要因Aの自由度 ✕ 要因Bの自由度\n",
    "  * (上表 v ) 全体の自由度　＝ 全データ数から１を引いたもの\n",
    "  * (上表 w ) 残差の自由度 ＝ 全体の自由度 ー 要因Aの自由度 ー 要因Bの自由度 ー 交互作用の自由度"
   ]
  },
  {
   "cell_type": "code",
   "execution_count": 16,
   "metadata": {
    "collapsed": false
   },
   "outputs": [
    {
     "name": "stdout",
     "output_type": "stream",
     "text": [
      "1 1 1 56 59\n"
     ]
    }
   ],
   "source": [
    "# 自由度を求めてください。\n",
    "s = 2 - 1\n",
    "t = 2 - 1\n",
    "u = s * t\n",
    "v = len(zentai) - 1\n",
    "w = v - s - t - u\n",
    "print (s, t, u, w, v)"
   ]
  },
  {
   "cell_type": "markdown",
   "metadata": {},
   "source": [
    "* 要因A、要因B、交互作用、残差の平均平方をそれぞれ求めてください。(上表 x, y, z, aa )\n",
    "  * 平均平方 ＝ 偏差平方和 ／ 自由度"
   ]
  },
  {
   "cell_type": "code",
   "execution_count": 17,
   "metadata": {
    "collapsed": false
   },
   "outputs": [
    {
     "name": "stdout",
     "output_type": "stream",
     "text": [
      "50.4166666666664 183.75 400.41666666666754 60.17857142857143\n"
     ]
    }
   ],
   "source": [
    "# 要因A、要因B、交互作用、残差の平均平方をそれぞれ求めてください。(上表 x, y, z, aa )\n",
    "x = o / s\n",
    "y = p / t\n",
    "z = q / u\n",
    "aa = r / w\n",
    "print (x, y, z, aa)"
   ]
  },
  {
   "cell_type": "markdown",
   "metadata": {},
   "source": [
    "* F値を求めてください。\n",
    "  * (上表 bb ) 要因AのF値 ＝ 要因Aの平均平方 ／ 残差の平均平方\n",
    "  * (上表 cc ) 要因BのF値 ＝ 要因Bの平均平方 ／ 残差の平均平方\n",
    "  * (上表 dd ) 交互作用のF値 ＝ 交互作用の平均平方 ／ 残差の平均平方"
   ]
  },
  {
   "cell_type": "code",
   "execution_count": 18,
   "metadata": {
    "collapsed": false
   },
   "outputs": [
    {
     "name": "stdout",
     "output_type": "stream",
     "text": [
      "0.8377843719089966 3.0534124629080117 6.653808110781418\n"
     ]
    }
   ],
   "source": [
    "# F値を求めてください。\n",
    "bb = x / aa\n",
    "cc = y / aa\n",
    "dd = z / aa\n",
    "print (bb, cc, dd)"
   ]
  },
  {
   "cell_type": "markdown",
   "metadata": {},
   "source": [
    "* 計算したF値と、F分布表を比較して、以下の問いに答えてください。\n",
    "  * 要因A（食感）による点数の差があるかどうか答えてください。\n",
    "  * 要因B（味）　による点数の差があるかどうか答えてください。\n",
    "  * 交互作用による点数の差があるかどうか答えてください。"
   ]
  },
  {
   "cell_type": "code",
   "execution_count": 19,
   "metadata": {
    "collapsed": true
   },
   "outputs": [],
   "source": [
    "# 計算したF値と、F分布表を比較\n",
    "\n",
    "# 要因1（食感）による点数の差があるかどうか答えてください。\n",
    "\n",
    "# 要因1では、群内の自由度が56（近いところで60）、群間の自由度が1になります。\n",
    "# F分布表を見ると、5%有意水準で、F=4.00、1%有意水準で、F=7.08、となりますので、\n",
    "# 要因1のF=0.84　というのは、いずれの棄却域にも入りません。\n",
    "# したがって、「食感の要因による点数の差はない」と結論できます。\n",
    "\n",
    "# 要因2（味）　による点数の差があるかどうか答えてください。\n",
    "\n",
    "# 要因２でも、群内の自由度が56（近いところで60）、群間の自由度が1になります。\n",
    "# F分布表を見ると、5%有意水準で、F=4.00、1%有意水準で、F=7.08、となりますので、\n",
    "# 要因2のF=3.05　というのは、いずれの棄却域にも入りません。\n",
    "# したがって、「味の要因による点数の差はない」と結論できます。\n",
    "\n",
    "# 交互作用による点数の差があるかどうか答えてください。\n",
    "\n",
    "# 交互作用でも、群内の自由度が56（近いところで60）、群間の自由度が1になります。\n",
    "# F分布表を見ると、5%有意水準で、F=4.00、1%有意水準で、F=7.08、となりますので、\n",
    "# 交互作用のF=6.65　というのは、5%有意水準において棄却域に入ります。\n",
    "# 以上から、要因１要因２の単独の効果はないが、組み合わせによる効果はある（点数の差がある）と言えます。"
   ]
  },
  {
   "cell_type": "markdown",
   "metadata": {},
   "source": [
    "<h2 STYLE=\"background: #c2edff;padding: 0.5em;\"><a href=\"http://kogolab.chillout.jp/elearn/hamburger/chap7/sec3.html\" target=\"_blank\">7.3　交互作用とは?</a></h2>\n",
    "\n",
    "<h4 style=\"border-bottom: solid 1px black;\">交互作用が有意</h4>\n",
    "\n",
    "分散分析の結果、２つの要因による主効果には有意差が見られず、交互作用に有意差が見られました。\n",
    "\n",
    "主効果に有意差がないということは、「その要因単独の効果はない」ということです。\n",
    "\n",
    "各群の平均を見ると、\n",
    "\n",
    "<TABLE WIDTH=\"342\" HEIGHT=\"71\" BORDER=\"1\" align=\"center\" CELLPADDING=\n",
    "  \"0\" CELLSPACING=\"0\">\n",
    "  <TR> \n",
    "    <TD WIDTH=\"30%\" HEIGHT=\"20\" ALIGN=\"CENTER\">　 </TD>\n",
    "    <TD WIDTH=\"35%\" ALIGN=\"CENTER\" BGCOLOR=\"#eeee77\">クリスピー</TD>\n",
    "    <TD WIDTH=\"35%\" ALIGN=\"CENTER\" BGCOLOR=\"#bbbbbb\">普通の衣</TD>\n",
    "  </TR>\n",
    "  <TR> \n",
    "    <TD HEIGHT=\"20\" ALIGN=\"CENTER\" BGCOLOR=\"#ff8888\">辛口</TD>\n",
    "    <TD ALIGN=\"CENTER\"> 　79.67</TD>\n",
    "    <TD ALIGN=\"CENTER\"> 　72.67</TD>\n",
    "  </TR>\n",
    "  <TR> \n",
    "    <TD HEIGHT=\"20\" ALIGN=\"CENTER\" BGCOLOR=\"#dddddd\">普通味</TD>\n",
    "    <TD ALIGN=\"CENTER\"> 　71.00</TD>\n",
    "    <TD ALIGN=\"CENTER\"> 　74.33</TD>\n",
    "  </TR>\n",
    "</TABLE>\n",
    "\n",
    "辛口に関していえば……クリスピーと普通の衣を比べると、クリスピーの方が高い。\n",
    "\n",
    "<table><tr><td><img src=\"image/chicken00002.jpg\"></td>\n",
    "<td><</td>\n",
    "<td><img src=\"image/chicken00003.jpg\"></td>\n",
    "</tr></table>\n",
    "\n",
    "普通味に関していえば……クリスピーと普通の衣を比べると、普通の方が高い。\n",
    "\n",
    "<table><tr><td><img src=\"image/chicken00004.jpg\"></td>\n",
    "<td>></td>\n",
    "<td><img src=\"image/chicken00001.jpg\"></td>\n",
    "</tr></table>\n",
    "\n",
    "ということは、「クリスピー、辛口は、単独で使うより、両方を使った方がよく、逆に、どちらかを使うくらいなら、普通のチキンの方がよい」ということが分かります。\n",
    "\n",
    "上の結果を、あなたは店員さんに伝えました。\n",
    "\n",
    "「そうか。それぞれを単独で売るくらいならやめて、両方を組み合わせて売ったほうがいいんだ。よし、辛口クリスピーチキンを売り出すことにするよ！」\n",
    "\n",
    "<img src=\"image/salesman00020.jpg\">"
   ]
  },
  {
   "cell_type": "markdown",
   "metadata": {},
   "source": [
    "<h4 style=\"border-bottom: solid 1px black;\">交互作用の意味</h4>\n",
    "\n",
    "  <P>交互作用の意味について、図式的に説明します。</P>\n",
    "  \n",
    "<P>交互作用のグラフは、縦軸に点数を、横軸に条件をとり、群別に平均点をとります。</P>\n",
    "<P>下のグラフで、点数は表示されていませんが、a1、a2が要因Aによる群、b1、b2が要因Bによる群、<FONT COLOR=\"#FF0000\">●</FONT>や<FONT COLOR=\"#99CCFF\">■</FONT>で表示されているのが平均点として読みとってください。</P>"
   ]
  },
  {
   "cell_type": "markdown",
   "metadata": {},
   "source": [
    "<h4 style=\"border-bottom: solid 1px black;\">交互作用のない場合</h4>\n",
    "\n",
    "まず、交互作用のない場合を見てみましょう。\n",
    "\n",
    "交互作用のない場合のグラフは、グラフは平行になります。\n",
    "\n",
    "<img src=\"image/fig_kougo_nashi.gif\">"
   ]
  },
  {
   "cell_type": "markdown",
   "metadata": {},
   "source": [
    "<h4 style=\"border-bottom: solid 1px black;\">交互作用のある場合</h4>\n",
    "\n",
    "交互作用のある場合のグラフは平行にはなりません。\n",
    "\n",
    "以下に交互作用のある場合のグラフを示します。\n",
    "\n",
    "<img src=\"image/fig_kougo_ari.gif\">\n",
    "\n",
    "<P>ここでは、各群の平均が</P>\n",
    "<TABLE WIDTH=\"342\" HEIGHT=\"71\" BORDER=\"1\" align=\"center\" CELLPADDING=\n",
    "  \"0\" CELLSPACING=\"0\">\n",
    "  <TR> \n",
    "    <TD WIDTH=\"30%\" HEIGHT=\"20\" ALIGN=\"CENTER\">　 </TD>\n",
    "    <TD WIDTH=\"35%\" ALIGN=\"CENTER\" BGCOLOR=\"#eeee77\">クリスピー</TD>\n",
    "    <TD WIDTH=\"35%\" ALIGN=\"CENTER\" BGCOLOR=\"#bbbbbb\">普通の衣</TD>\n",
    "  </TR>\n",
    "  <TR> \n",
    "    <TD HEIGHT=\"20\" ALIGN=\"CENTER\" BGCOLOR=\"#ff8888\">辛口</TD>\n",
    "    <TD ALIGN=\"CENTER\"> 　79.67</TD>\n",
    "    <TD ALIGN=\"CENTER\"> 　72.67</TD>\n",
    "  </TR>\n",
    "  <TR> \n",
    "    <TD HEIGHT=\"20\" ALIGN=\"CENTER\" BGCOLOR=\"#dddddd\">普通味</TD>\n",
    "    <TD ALIGN=\"CENTER\"> 　71.00</TD>\n",
    "    <TD ALIGN=\"CENTER\"> 　74.33</TD>\n",
    "  </TR>\n",
    "</TABLE>\n",
    "<P>\n",
    "<P>このようになっていました。これをグラフで表してみると、</P>\n",
    " \n",
    "<img src=\"image/fig_kougo_x.gif\">\n",
    "\n",
    "これは(6)のケースにあたり、要因A（クリスピーか普通の衣か）の主効果も、要因B（辛口か普通味か）の主効果もないけれども、クリスピーのときは辛口がよく、普通の衣のときは普通味のほうがよいという交互作用がでているのです。\n",
    "\n",
    "つまり、組み合わされる要因によって効果の現れ方が違うということです。これが交互作用です。"
   ]
  },
  {
   "cell_type": "markdown",
   "metadata": {},
   "source": [
    "<h2 STYLE=\"background: #c2edff;padding: 0.5em;\"><a href=\"http://kogolab.chillout.jp/elearn/hamburger/chap7/sec4.html\" target=\"_blank\">7.4　実践編：セットでいこう</a></h2>\n",
    "\n",
    "<h4 style=\"border-bottom: solid 1px black;\">ピリ辛セット</h4>\n",
    "\n",
    "辛口クリスピーチキンは大好評で、あなたの分析が功を奏したようです。\n",
    "\n",
    "「辛口、ってのがうけてるみたいなんだよ、それに、モグモグもパクパクもチキンには力を入れてないみたいだからね」\n",
    "\n",
    "<img src=\"image/salesman00027.jpg\">\n",
    "\n",
    "あなたが、ちらっと厨房のなかを覗くと、店員さんたちがハンバーガーとポテトを試食していました。\n",
    "\n",
    "「今、食事なんですか？」\n",
    "\n",
    "「いや、あれはね、新しいセット商品の試食してるんだ。辛いのがうけたから、ピリ辛バーガーとピリ辛ポテトのセットを売り出そうっていう案が出てね。」\n",
    "\n",
    "どうやら、ワクワクでは「ピリ辛セット」を売り出したいみたいです。\n",
    "\n",
    "「ピリ辛セットかぁ・・・でも『辛い×辛い』でいいんですか？辛いのがうけたからといって、単純にそうするのは安易のような気がするけど・・・」\n",
    "\n",
    "あなたは、セットの組み合わせを検討するために、チキンのときと同じように、街の人60人に、それぞれの組み合わせセットに100点満点で点数をつけてもらいました。"
   ]
  },
  {
   "cell_type": "markdown",
   "metadata": {},
   "source": [
    "<h4 style=\"padding: 0.25em 0.5em;color: #494949;background: transparent;border-left: solid 5px #7db4e6;\">課題7.4</h4>\n",
    "\n",
    "次のデータで同様に分散分析をしてください。\n",
    "<TABLE WIDTH=\"403\" HEIGHT=\"351\" BORDER=\"1\" CELLSPACING=\"0\" \n",
    "  CELLPADDING=\"0\">\n",
    "    <TR> \n",
    "      <TD height=\"29\" COLSPAN=\"2\" BGCOLOR=\"#ff9c05\"> \n",
    "        <CENTER>\n",
    "          ピリ辛バーガー </CENTER></TD>\n",
    "      <TD COLSPAN=\"2\" BGCOLOR=\"#f97c6a\"> <CENTER>\n",
    "          普通のハンバーガー </CENTER></TD>\n",
    "    </TR>\n",
    "    <TR> \n",
    "      <TD WIDTH=\"20%\" BGCOLOR=\"#fb3a04\" HEIGHT=\"20\"> <CENTER>\n",
    "          ピリ辛ポテト </CENTER></TD>\n",
    "      <TD WIDTH=\"20%\" BGCOLOR=\"#ffd303\"> <CENTER>\n",
    "          普通のポテト </CENTER></TD>\n",
    "      <TD WIDTH=\"20%\" BGCOLOR=\"#fa3a04\"> <CENTER>\n",
    "          ピリ辛ポテト </CENTER></TD>\n",
    "      <TD WIDTH=\"20%\" BGCOLOR=\"#ffd303\"> <CENTER>\n",
    "          普通のポテト </CENTER></TD>\n",
    "    </TR>\n",
    "    <TR> \n",
    "      <TD ALIGN=\"CENTER\"> 80</TD>\n",
    "      <TD ALIGN=\"CENTER\"> 85</TD>\n",
    "      <TD ALIGN=\"CENTER\" HEIGHT=\"20\"> 60</TD>\n",
    "      <TD ALIGN=\"CENTER\"> 55</TD>\n",
    "    </TR>\n",
    "    <TR> \n",
    "      <TD ALIGN=\"CENTER\"> 85</TD>\n",
    "      <TD ALIGN=\"CENTER\"> 65</TD>\n",
    "      <TD ALIGN=\"CENTER\" HEIGHT=\"20\"> 70</TD>\n",
    "      <TD ALIGN=\"CENTER\"> 65</TD>\n",
    "    </TR>\n",
    "    <TR> \n",
    "      <TD ALIGN=\"CENTER\"> 75</TD>\n",
    "      <TD ALIGN=\"CENTER\"> 80</TD>\n",
    "      <TD ALIGN=\"CENTER\" HEIGHT=\"20\"> 80</TD>\n",
    "      <TD ALIGN=\"CENTER\"> 50</TD>\n",
    "    </TR>\n",
    "    <TR> \n",
    "      <TD ALIGN=\"CENTER\"> 70</TD>\n",
    "      <TD ALIGN=\"CENTER\"> 75</TD>\n",
    "      <TD ALIGN=\"CENTER\" HEIGHT=\"20\"> 75</TD>\n",
    "      <TD ALIGN=\"CENTER\"> 70</TD>\n",
    "    </TR>\n",
    "    <TR> \n",
    "      <TD ALIGN=\"CENTER\"> 75</TD>\n",
    "      <TD ALIGN=\"CENTER\"> 85</TD>\n",
    "      <TD ALIGN=\"CENTER\" HEIGHT=\"20\"> 65</TD>\n",
    "      <TD ALIGN=\"CENTER\"> 50</TD>\n",
    "    </TR>\n",
    "    <TR> \n",
    "      <TD ALIGN=\"CENTER\"> 60</TD>\n",
    "      <TD ALIGN=\"CENTER\"> 65</TD>\n",
    "      <TD ALIGN=\"CENTER\" HEIGHT=\"20\"> 60</TD>\n",
    "      <TD ALIGN=\"CENTER\"> 65</TD>\n",
    "    </TR>\n",
    "    <TR> \n",
    "      <TD ALIGN=\"CENTER\"> 70</TD>\n",
    "      <TD ALIGN=\"CENTER\"> 75</TD>\n",
    "      <TD ALIGN=\"CENTER\" HEIGHT=\"20\"> 70</TD>\n",
    "      <TD ALIGN=\"CENTER\"> 75</TD>\n",
    "    </TR>\n",
    "    <TR> \n",
    "      <TD ALIGN=\"CENTER\"> 75</TD>\n",
    "      <TD ALIGN=\"CENTER\"> 60</TD>\n",
    "      <TD ALIGN=\"CENTER\" HEIGHT=\"20\"> 75</TD>\n",
    "      <TD ALIGN=\"CENTER\"> 65</TD>\n",
    "    </TR>\n",
    "    <TR> \n",
    "      <TD ALIGN=\"CENTER\"> 85</TD>\n",
    "      <TD ALIGN=\"CENTER\"> 80</TD>\n",
    "      <TD ALIGN=\"CENTER\" HEIGHT=\"20\"> 80</TD>\n",
    "      <TD ALIGN=\"CENTER\"> 75</TD>\n",
    "    </TR>\n",
    "    <TR> \n",
    "      <TD ALIGN=\"CENTER\"> 70</TD>\n",
    "      <TD ALIGN=\"CENTER\"> 70</TD>\n",
    "      <TD ALIGN=\"CENTER\" HEIGHT=\"20\"> 65</TD>\n",
    "      <TD ALIGN=\"CENTER\"> 65</TD>\n",
    "    </TR>\n",
    "    <TR> \n",
    "      <TD ALIGN=\"CENTER\"> 75</TD>\n",
    "      <TD ALIGN=\"CENTER\"> 75</TD>\n",
    "      <TD ALIGN=\"CENTER\" HEIGHT=\"20\"> 65</TD>\n",
    "      <TD ALIGN=\"CENTER\"> 70</TD>\n",
    "    </TR>\n",
    "    <TR> \n",
    "      <TD ALIGN=\"CENTER\"> 85</TD>\n",
    "      <TD ALIGN=\"CENTER\"> 80</TD>\n",
    "      <TD ALIGN=\"CENTER\" HEIGHT=\"20\"> 75</TD>\n",
    "      <TD ALIGN=\"CENTER\"> 55</TD>\n",
    "    </TR>\n",
    "    <TR> \n",
    "      <TD ALIGN=\"CENTER\"> 75</TD>\n",
    "      <TD ALIGN=\"CENTER\"> 65</TD>\n",
    "      <TD ALIGN=\"CENTER\" HEIGHT=\"20\"> 70</TD>\n",
    "      <TD ALIGN=\"CENTER\"> 65</TD>\n",
    "    </TR>\n",
    "    <TR> \n",
    "      <TD ALIGN=\"CENTER\"> 85</TD>\n",
    "      <TD ALIGN=\"CENTER\"> 85</TD>\n",
    "      <TD ALIGN=\"CENTER\" HEIGHT=\"20\"> 85</TD>\n",
    "      <TD ALIGN=\"CENTER\"> 70</TD>\n",
    "    </TR>\n",
    "    <TR> \n",
    "      <TD ALIGN=\"CENTER\"> 90</TD>\n",
    "      <TD ALIGN=\"CENTER\"> 75</TD>\n",
    "      <TD ALIGN=\"CENTER\" HEIGHT=\"20\"> 60</TD>\n",
    "      <TD ALIGN=\"CENTER\"> 65</TD>\n",
    "    </TR>\n",
    "  </TABLE>"
   ]
  },
  {
   "cell_type": "code",
   "execution_count": 20,
   "metadata": {
    "collapsed": true
   },
   "outputs": [],
   "source": [
    "# 以下の４つをそれぞれ「群」と呼びます。\n",
    "a1b1 = [80, 85, 75, 70, 75, 60, 70, 75, 85, 70, 75, 85, 75, 85, 90] # ピリ辛バーガー + ピリ辛ポテト\n",
    "a1b2 = [85, 65, 80, 75, 85, 65, 75, 60, 80, 70, 75, 80, 65, 85, 75] # ピリ辛バーガー + 普通のポテト\n",
    "a2b1 = [60, 70, 80, 75, 65, 60, 70, 75, 80, 65, 65, 75, 70, 85, 60] # 普通のハンバーガー + ピリ辛ポテト\n",
    "a2b2 = [55, 65, 50, 70, 50, 65, 75, 65, 75, 65, 70, 55, 65, 70, 65] # 普通のハンバーガー + 普通のポテト"
   ]
  },
  {
   "cell_type": "code",
   "execution_count": 21,
   "metadata": {
    "collapsed": true
   },
   "outputs": [],
   "source": [
    "# 以下の４つのうち、上２つを「要因１（バーガーの味）」、下２つを「要因２（ポテトの味）」と呼びます。\n",
    "a1 = a1b1 + a1b2 # ピリ辛バーガーのデータを作ってください。\n",
    "a2 = a2b1 + a2b2 # 普通のバーガーのデータを作ってください。\n",
    "b1 = a1b1 + a2b1 # ピリ辛ポテトのデータを作ってください。\n",
    "b2 = a1b2 + a2b2 # 普通のポテトのデータを作ってください。"
   ]
  },
  {
   "cell_type": "code",
   "execution_count": 22,
   "metadata": {
    "collapsed": false
   },
   "outputs": [
    {
     "name": "stdout",
     "output_type": "stream",
     "text": [
      "77.0 74.66666666666667 70.33333333333333 64.0\n",
      "75.83333333333333 67.16666666666667 73.66666666666667 69.33333333333333\n",
      "71.5\n"
     ]
    }
   ],
   "source": [
    "# 各項目の平均値を計算してください（上表 a, b, c, d, e, f, g, h, i ）\n",
    "zentai = a1b1 + a1b2 + a2b1 + a2b2\n",
    "a = average(a1b1)\n",
    "b = average(a1b2)\n",
    "c = average(a2b1)\n",
    "d = average(a2b2)\n",
    "e = average(a1)\n",
    "f = average(a2)\n",
    "g = average(b1)\n",
    "h = average(b2)\n",
    "i = average(zentai)\n",
    "print (a, b, c, d)\n",
    "print (e, f, g, h)\n",
    "print (i)"
   ]
  },
  {
   "cell_type": "code",
   "execution_count": 23,
   "metadata": {
    "collapsed": false
   },
   "outputs": [
    {
     "name": "stdout",
     "output_type": "stream",
     "text": [
      "890.0 923.3333333333334 873.3333333333334 910.0\n"
     ]
    }
   ],
   "source": [
    "# 各群の偏差平方和を計算してください（上表 j, k, l, m ）\n",
    "j = sum_square_deviation(a1b1)\n",
    "k = sum_square_deviation(a1b2)\n",
    "l = sum_square_deviation(a2b1)\n",
    "m = sum_square_deviation(a2b2)\n",
    "print (j, k, l, m)"
   ]
  },
  {
   "cell_type": "code",
   "execution_count": 24,
   "metadata": {
    "collapsed": false
   },
   "outputs": [
    {
     "name": "stdout",
     "output_type": "stream",
     "text": [
      "5065.0\n"
     ]
    }
   ],
   "source": [
    "# 全体の偏差平方和を計算してください（上表 n ）\n",
    "n = sum_square_deviation(zentai)\n",
    "print (n)"
   ]
  },
  {
   "cell_type": "code",
   "execution_count": 25,
   "metadata": {
    "collapsed": false
   },
   "outputs": [
    {
     "name": "stdout",
     "output_type": "stream",
     "text": [
      "1126.6666666666642\n"
     ]
    }
   ],
   "source": [
    "# 要因Aによる残差（偏差平方和）を計算してください （下表 o )\n",
    "o = (average(a1) - average(zentai))**2 * len(a1) + (average(a2) - average(zentai))**2 * len(a2)\n",
    "print(o)"
   ]
  },
  {
   "cell_type": "code",
   "execution_count": 26,
   "metadata": {
    "collapsed": false
   },
   "outputs": [
    {
     "name": "stdout",
     "output_type": "stream",
     "text": [
      "281.6666666666679\n"
     ]
    }
   ],
   "source": [
    "# 要因Bによる残差（偏差平方和）を計算してください (下表 p )\n",
    "p = (average(b1) - average(zentai))**2 * len(b1) + (average(b2) - average(zentai))**2 * len(b2)\n",
    "print(p)"
   ]
  },
  {
   "cell_type": "code",
   "execution_count": 27,
   "metadata": {
    "collapsed": false
   },
   "outputs": [
    {
     "name": "stdout",
     "output_type": "stream",
     "text": [
      "60.00000000000182\n"
     ]
    }
   ],
   "source": [
    "# 交互作用による残差（偏差平方和）を計算してください (下表 q )\n",
    "q = (average(a1b1) - average(zentai))**2 * len(a1b1) \\\n",
    "    + (average(a1b2) - average(zentai))**2 * len(a1b2) \\\n",
    "    + (average(a2b1) - average(zentai))**2 * len(a2b1) \\\n",
    "    + (average(a2b2) - average(zentai))**2 * len(a2b2) \\\n",
    "    - o - p\n",
    "print(q)"
   ]
  },
  {
   "cell_type": "code",
   "execution_count": 28,
   "metadata": {
    "collapsed": false
   },
   "outputs": [
    {
     "name": "stdout",
     "output_type": "stream",
     "text": [
      "3596.666666666667\n"
     ]
    }
   ],
   "source": [
    "# 残りの残差（偏差平方和）を計算してください (下表 r )\n",
    "r = j + k + l + m\n",
    "print(r)"
   ]
  },
  {
   "cell_type": "code",
   "execution_count": 29,
   "metadata": {
    "collapsed": false
   },
   "outputs": [
    {
     "name": "stdout",
     "output_type": "stream",
     "text": [
      "1 1 1 56 59\n"
     ]
    }
   ],
   "source": [
    "# 自由度を求めてください。\n",
    "s = 2 - 1\n",
    "t = 2 - 1\n",
    "u = s * t\n",
    "v = len(zentai) - 1\n",
    "w = v - s - t - u\n",
    "print (s, t, u, w, v)"
   ]
  },
  {
   "cell_type": "code",
   "execution_count": 30,
   "metadata": {
    "collapsed": false
   },
   "outputs": [
    {
     "name": "stdout",
     "output_type": "stream",
     "text": [
      "1126.6666666666642 281.6666666666679 60.00000000000182 64.22619047619048\n"
     ]
    }
   ],
   "source": [
    "# 要因A、要因B、交互作用、残差の平均平方をそれぞれ求めてください。(上表 x, y, z, aa )\n",
    "x = o / s\n",
    "y = p / t\n",
    "z = q / u\n",
    "aa = r / w\n",
    "print (x, y, z, aa)"
   ]
  },
  {
   "cell_type": "code",
   "execution_count": 31,
   "metadata": {
    "collapsed": false
   },
   "outputs": [
    {
     "name": "stdout",
     "output_type": "stream",
     "text": [
      "17.542168674698758 4.385542168674717 0.9341983317887215\n"
     ]
    }
   ],
   "source": [
    "# F値を求めてください\n",
    "bb = x / aa\n",
    "cc = y / aa\n",
    "dd = z / aa\n",
    "print (bb, cc, dd)"
   ]
  },
  {
   "cell_type": "code",
   "execution_count": 32,
   "metadata": {
    "collapsed": true
   },
   "outputs": [],
   "source": [
    "# 計算したF値と、F分布表を比較\n",
    "\n",
    "# 要因1：自由度は1と56、F=17.54。これは1%水準で有意\n",
    "# 要因2：自由度は1と56、F=4.39。これは5%水準で有意\n",
    "# 交互作用：自由度は1と56、F=0.93。これは有意ではない　\n",
    "# この分散分析の結果と、平均値のグラフを読みとると、\n",
    "# ポテトもハンバーガーもセットの組み合わせによる影響がなく、\n",
    "# それぞれの「ピリ辛」が高い評価を得たということがわかります。\n",
    "#したがって、ピリ辛ポテトにピリ辛バーガーの組み合わせが最も高い評価を得ました。"
   ]
  },
  {
   "cell_type": "markdown",
   "metadata": {},
   "source": [
    "分散分析の結果、要因A、要因Bの主効果に有意差が見られ、交互作用には有意差が見られませんでした。\n",
    "\n",
    "この分散分析の結果と、平均値のグラフを読みとると、ポテトもハンバーガーもセットの組み合わせによる影響がなく、それぞれの「ピリ辛」が高い評価を得たということがわかります。したがって、ピリ辛ポテトにピリ辛バーガーの組み合わせが最も高い評価を得ました。\n",
    "\n",
    "<img src=\"image/salesman00026.jpg\">\n",
    "\n",
    "「よし、ピリ辛セットでいくぞ！」"
   ]
  },
  {
   "cell_type": "markdown",
   "metadata": {},
   "source": [
    "<h2 STYLE=\"background: #c2edff;padding: 0.5em;\">ハンバーガー統計学 第７章 課題</h2>\n",
    "\n",
    "__課題7.4__ を解いて、指定のメールアドレスまでメールしてください。メール送信後は、エラーが帰ってきてないことを確認してください（メールアドレスを間違える人がときどき居ます）。\n",
    "* 締切：10月17日（今すぐでなくても結構です）\n",
    "* メールタイトル：「ハンバーガー統計学 第７章」\n",
    "* 学籍番号と氏名を明記すること。\n",
    "* 感想などがあれば書いてくれると嬉しいです。次回以降の講義の改善につながるかも知れません。"
   ]
  },
  {
   "cell_type": "code",
   "execution_count": 33,
   "metadata": {
    "collapsed": true
   },
   "outputs": [],
   "source": [
    "# ハンバーガー統計学 第７章 課題"
   ]
  },
  {
   "cell_type": "markdown",
   "metadata": {},
   "source": [
    "<h2 STYLE=\"background: #c2edff;padding: 0.5em;\">終わったら、<a href=\"HamburgerStatistics08.ipynb\">第８章：分布</a> に進んでください。</h2>\n",
    "（2017年10月17日講義、10月20日課題提出締切）"
   ]
  }
 ],
 "metadata": {
  "kernelspec": {
   "display_name": "Python 3",
   "language": "python",
   "name": "python3"
  },
  "language_info": {
   "codemirror_mode": {
    "name": "ipython",
    "version": 3
   },
   "file_extension": ".py",
   "mimetype": "text/x-python",
   "name": "python",
   "nbconvert_exporter": "python",
   "pygments_lexer": "ipython3",
   "version": "3.4.5"
  }
 },
 "nbformat": 4,
 "nbformat_minor": 0
}
