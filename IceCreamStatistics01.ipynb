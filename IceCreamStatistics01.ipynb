{
 "cells": [
  {
   "cell_type": "markdown",
   "metadata": {},
   "source": [
    "## アイスクリーム統計学 with Python 第1章\n",
    "\n",
    "第７回講義（2017年10月20日講義、10月24日課題提出締切）\n",
    "\n",
    "このページは、<a href=\"http://kogolab.chillout.jp/elearn/icecream/index.html\" target=\"_blank\">アイスクリーム統計学にようこそ！</a>の内容をプログラミング言語 Python に合わせて書き直したものです（著作権者の許諾を得て利用しております）。"
   ]
  },
  {
   "cell_type": "markdown",
   "metadata": {},
   "source": [
    "<h1 STYLE=\"background: #c2edff;padding: 0.5em;\"><a href=\"http://kogolab.chillout.jp/elearn/icecream/chap1/sec0.html\" target=\"_blank\">第１章 散布図と相関</a></h1>\n",
    "\n",
    "<P class=\"photo\"><img src=\"image/icecream.jpg\" width=\"172\" height=\"179\"></P>\n",
    "<P>ここは、ショッピングモールにまもなく新規開店する「21アイスクリーム」チェーン店です。</P>\n",
    "<P>大学生のアイ子ちゃんは、ここでアルバイトをすることにしました。</P>\n",
    "<P class=\"photo\"><img src=\"image/aiko-futsu.jpg\" width=\"168\" height=\"140\"></P>\n",
    "<P class=speech>───うん、まあ雰囲気のよさそうな店だな。しばらくバイトさせてもらおうっと</P>\n",
    "\n",
    "<P>このバイトが、思いもかけない方向に展開するとは、まったく思っていなかったアイ子ちゃんでした。</P>"
   ]
  },
  {
   "cell_type": "markdown",
   "metadata": {},
   "source": [
    "<h2 STYLE=\"background: #c2edff;padding: 0.5em;\"><a href=\"http://kogolab.chillout.jp/elearn/icecream/chap1/sec1.html\" target=\"_blank\">1.1　最高気温と客数の関係</a></h2>\n",
    "\n",
    "<P class=\"photo\"><img src=\"image/tencho-futsu.jpg\" width=\"130\" height=\"145\"></P>\n",
    "<P class=\"speech\">「やあやあ、きみが新しいバイトの人だね」</P>\n",
    "<P class=\"speech\">───はい、アイ子といいます。よろしくお願いします</P>\n",
    "<P class=\"speech\">「こちらこそ、よろしくね」</P>\n",
    "<P>実は、この店長、数字が苦手なのです。</P>\n",
    "<P class=\"speech\">「アイ子ちゃん、さっそくで悪いんだけど。パソコンできるよね？」</P>\n",
    "<P class=\"speech\">───え？　まあ、操作するくらいならできますよ。でも、販売のバイトだと聞いたんですけど。</P>\n",
    "<P class=\"speech\">「もちろん販売もやってもらうんだけど、ちょっとだけ私の仕事も手伝ってくれないかな」</P>\n",
    "<P class=\"speech\">───は、はい。</P>\n",
    "<P>すると、店長はこんなことをお願いしてきました。</P>\n",
    "<P class=\"speech\">「この店は３日後にオープンを控えているんだ。いったい、どれくらいの数のお客さんが来るのか。心配で、心配で。たくさん来すぎて、店があふれたらどうしようとか、バイトはあと何人くらい必要なのか、とか」</P>\n",
    "<P class=\"speech\">───だいたい、これくらいのお客が来るだろうというデータはないんですか？</P>\n",
    "<P class=\"speech\">「そう、それだよ。あるんだよ、うちはチェーン店だから、同じような規模のお店のデータをもらってきたのさ。これだ」</P>\n",
    "\n",
    "\n",
    "[別のチェーン店の８月の客数データ（14日分）](https://raw.githubusercontent.com/maskot1977/ipython_notebook/master/toydata/ice_cream.txt)\n",
    "\n",
    "\n",
    "<P class=\"speech\">「これを元にして、お客の数を予想してくれないかな」</P>\n",
    "<P class=\"speech\">───うーん、なるほど。ちょうど大学で統計学を習っているところだし、ちょっとやってみようかな」</P>\n",
    "<P class=\"speech\">「ありがと～、アイ子ちゃん。助かるよ～」</P>\n",
    "\n",
    "<P class=\"photo\"><img src=\"image/tencho-ureshinaki.jpg\" width=\"129\" height=\"144\"></P>"
   ]
  },
  {
   "cell_type": "markdown",
   "metadata": {},
   "source": [
    "<h4 style=\"border-bottom: solid 1px black;\">データを入力しよう</h4>\n",
    "\n",
    "表　[別のチェーン店の８月の客数データ（14日分）](https://raw.githubusercontent.com/maskot1977/ipython_notebook/master/toydata/ice_cream.txt)\n",
    "を用いて、以下のコードを実行してください。"
   ]
  },
  {
   "cell_type": "code",
   "execution_count": null,
   "metadata": {
    "collapsed": true
   },
   "outputs": [],
   "source": [
    "# URL によるリソースへのアクセスを提供するライブラリをインポートする。\n",
    "# import urllib # Python 2 の場合\n",
    "import urllib.request # Python 3 の場合"
   ]
  },
  {
   "cell_type": "code",
   "execution_count": null,
   "metadata": {
    "collapsed": true
   },
   "outputs": [],
   "source": [
    "# ウェブ上のリソースを指定する\n",
    "url = 'https://raw.githubusercontent.com/maskot1977/ipython_notebook/master/toydata/ice_cream.txt'"
   ]
  },
  {
   "cell_type": "code",
   "execution_count": null,
   "metadata": {
    "collapsed": false
   },
   "outputs": [],
   "source": [
    "# 指定したURLからリソースをダウンロードし、名前をつける。\n",
    "# urllib.urlretrieve(url, 'ice_cream.txt') # Python 2 の場合\n",
    "urllib.request.urlretrieve(url, 'ice_cream.txt') # Python 3 の場合"
   ]
  },
  {
   "cell_type": "code",
   "execution_count": null,
   "metadata": {
    "collapsed": true
   },
   "outputs": [],
   "source": [
    "# ダウンロードしたデータから、列ごとに数字を読み込んでリストに格納する。\n",
    "col1 = [] # ０列目の数字を格納する予定のリスト\n",
    "col2 = [] # １列目の数字を格納する予定のリスト\n",
    "col3 = [] # ２列目の数字を格納する予定のリスト\n",
    "for i, line in enumerate(open('ice_cream.txt')): # ファイルを開いて一行一行読み込む\n",
    "    if i == 0: # ０番目の行の場合\n",
    "        continue # 次の行に行く\n",
    "    c = line.split() # 行を空白文字で分割したものをcというリストに入れる\n",
    "    col1.append(int(c[0])) # ０列目の単語を整数に変換してcol1に入れる\n",
    "    col2.append(int(c[1])) # １列目の単語を整数に変換してcol2に入れる\n",
    "    col3.append(int(c[2])) # ２列目の単語を整数に変換してcol3に入れる"
   ]
  },
  {
   "cell_type": "markdown",
   "metadata": {},
   "source": [
    "<h4 style=\"border-bottom: solid 1px black;\">折れ線グラフを描こう</h4>\n",
    "\n",
    "入力したデータを使って、以下のコードを実行して折れ線グラフを描いてください。"
   ]
  },
  {
   "cell_type": "code",
   "execution_count": null,
   "metadata": {
    "collapsed": true
   },
   "outputs": [],
   "source": [
    "# 図やグラフを図示するためのライブラリをインポートする。\n",
    "import matplotlib.pyplot as plt\n",
    "%matplotlib inline"
   ]
  },
  {
   "cell_type": "code",
   "execution_count": null,
   "metadata": {
    "collapsed": false
   },
   "outputs": [],
   "source": [
    "# 折れ線グラフを描く。\n",
    "plt.plot(col1, col2, label=\"Temperature\")\n",
    "plt.plot(col1, col3, label=\"Customers\")\n",
    "plt.legend(loc='best',fancybox=True, shadow=True)\n",
    "plt.title(\"Numbers of customers in August\")\n",
    "plt.xlabel(\"Day\")\n",
    "plt.grid()\n",
    "plt.show()"
   ]
  },
  {
   "cell_type": "code",
   "execution_count": null,
   "metadata": {
    "collapsed": false,
    "scrolled": true
   },
   "outputs": [],
   "source": [
    "# 折れ線グラフを２つのサブプロットで描く。\n",
    "plt.figure(figsize=(8, 4))\n",
    "\n",
    "plt.subplot(2, 1, 1)\n",
    "plt.plot(col1, col2)\n",
    "plt.title('Numbers of customers in August')\n",
    "#plt.xticks([])\n",
    "#plt.xlabel('Day')\n",
    "plt.ylabel('Temperature')\n",
    "plt.grid()\n",
    "\n",
    "plt.subplot(2, 1, 2)\n",
    "plt.plot(col1, col3)\n",
    "#plt.xticks(rotation=90)\n",
    "plt.xlabel('Day')\n",
    "plt.ylabel('Customers')\n",
    "plt.grid()\n",
    "\n",
    "plt.show()"
   ]
  },
  {
   "cell_type": "markdown",
   "metadata": {},
   "source": [
    "<h2 STYLE=\"background: #c2edff;padding: 0.5em;\"><a href=\"http://kogolab.chillout.jp/elearn/icecream/chap1/sec2.html\" target=\"_blank\">1.2　散布図を描く</a></h2>\n",
    "\n",
    "<P class=\"photo\"><img src=\"image/aiko-ureshii.jpg\" width=\"152\" height=\"133\"></P>\n",
    "<P class=\"speech\">───店長、できました。このグラフを見てください。だいたい200人から700人くらいの客数ですね。</P>\n",
    "<P class=\"speech\">「なに～、200から700だって？　そんなにおおざっぱな数じゃ、意味がないよ～」</P>\n",
    "<P class=\"speech\">───そんなこといったって……。</P>\n",
    "<P class=\"speech\">「お客の数とその日の最高気温は、なんか関係あるんじゃないかな。だって、暑ければ、アイスクリームを食べようっていう人が多くなるだろう。そう思って、最高気温のデータも付けてもらったんだけど」</P>\n",
    "<P class=\"speech\">───う～む。なるほど。客数と最高気温の関係か。それを見るためには、この折れ線グラフじゃダメだ。えーと、使えるのは……。あ、これかな？　散布図？</P>"
   ]
  },
  {
   "cell_type": "markdown",
   "metadata": {},
   "source": [
    "<h4 style=\"border-bottom: solid 1px black;\">散布図を描こう</h4>\n",
    "\n",
    "以下のコードを実行してください。"
   ]
  },
  {
   "cell_type": "code",
   "execution_count": null,
   "metadata": {
    "collapsed": false
   },
   "outputs": [],
   "source": [
    "#散布図を描く。\n",
    "plt.scatter(col2, col3, alpha=0.5)\n",
    "plt.title(\"Numbers of customers in August\")\n",
    "plt.xlabel(\"Temperature\")\n",
    "plt.ylabel(\"Customers\")\n",
    "for day, x, y in zip(col1, col2, col3):\n",
    "    plt.text(x, y, day, alpha=0.8, size=12)\n",
    "plt.grid()\n",
    "plt.show()"
   ]
  },
  {
   "cell_type": "markdown",
   "metadata": {},
   "source": [
    "<h2 STYLE=\"background: #c2edff;padding: 0.5em;\"><a href=\"http://kogolab.chillout.jp/elearn/icecream/chap1/sec3.html\" target=\"_blank\">1.3　散布図のパターン</a></h2>\n",
    "\n",
    "<P class=\"photo\"><img src=\"image/aiko-ureshii.jpg\" width=\"152\" height=\"133\"></P>\n",
    "<P class=\"speech\">───店長、このグラフを見てください。最高気温と客数の間には、関係がありますね。最高気温が高くなればなるほど、客数は多くなるんですよ。</P>\n",
    "<P class=\"speech\">「おお、なるほど。確かに右上がりのグラフになっているね。ということは……」</P>\n",
    "<P class=\"speech\">───ということは？</P>\n",
    "<P class=\"speech\">「ということは、その日の最高気温がどれくらいになるかがわかれば、客数がだいたい予想できるということじゃないか？」</P>\n",
    "<P class=\"speech\">───あー、確かにそうですね。すてき。</P>"
   ]
  },
  {
   "cell_type": "markdown",
   "metadata": {},
   "source": [
    "<h4 style=\"border-bottom: solid 1px black;\">散布図のパターン</h4>\n",
    "\n",
    "<p>散布図のパターンには、何種類かあります。</p>\n",
    "<p>まず、ここで出てきた「X軸（横軸）の値が大きくなればなるほど、Y軸（縦軸）の値も大きくなるようなデータ」です。これを「<em>正の相関</em>」があるといいます。相関とは「お互いに関係がある」という意味です。グラフではこのようになります。</p>\n",
    "<p class=\"photo\"><img src=\"image/sokanzu1.jpg\" width=\"237\" height=\"268\"></p>\n",
    "<p>次に、それとは逆に「X軸の値が大きくなればなるほど、Y軸の値は小さくなるようなデータ」です。これを「<em>負の相関</em>」があるといいます。グラフではこのようになります。</p>\n",
    "<p class=\"photo\"><img src=\"image/sokanzu2.jpg\" width=\"236\" height=\"264\"></p>\n",
    "<p>最後に、正の相関も負の相関もないもの、つまり「<em>無相関</em>」です。「X軸の値と、Y軸の値に明確な関係がない」ということです。グラフではこのようになります。</p>\n",
    "<p class=\"photo\"><img src=\"image/sokanzu3.jpg\" width=\"232\" height=\"261\"></p>"
   ]
  },
  {
   "cell_type": "markdown",
   "metadata": {},
   "source": [
    "<h4 style=\"border-bottom: solid 1px black;\">散布図をよく見よう</h4>\n",
    "<p class=\"photo\"><img src=\"image/tencho-muzukashii.jpg\" width=\"127\" height=\"138\"></p>\n",
    "<P class=\"speech\">「この散布図を使って、だいたいの客数が予想できるな。よし。もしその日の最高気温が30度だったら……　あれ？」</P>\n",
    "<P class=\"speech\">───店長、どうしました？</P>\n",
    "<P class=\"speech\">「アイ子ちゃん、この散布図の30度のところを見るとね。このデータグループと、このデータグループが分かれているみたいなんだよ。これはなぜかなあ？」</P>\n",
    "<P class=\"photo\"><img src=\"image/graph5.jpg\" width=\"379\" height=\"297\"></P>\n",
    "<P class=\"speech\">───ちょっと調べてみます。ふむふむ。これは、曜日による影響ですね。上のグループは、土曜と日曜のデータなんですよ。それで、下のグループは、平日のデータ。だから、土日か、平日かによって、予想が変わってきますね。</P>\n",
    "<P class=\"speech\">「なるほどー。散布図を描いてからも、データをよく見なくちゃいけないね」</P>\n",
    "<P class=\"speech\">───そうですね。常にデータに立ち戻って調べることが大切ですね。</P>"
   ]
  },
  {
   "cell_type": "markdown",
   "metadata": {},
   "source": [
    "<h2 STYLE=\"background: #c2edff;padding: 0.5em;\"><a href=\"http://kogolab.chillout.jp/elearn/icecream/chap1/sec4.html\" target=\"_blank\">1.4　（応用編）駅からの距離と客数の関係</a></h2>\n",
    "\n",
    "<P>翌日のこと……</P>\n",
    "<P class=\"photo\"><img src=\"image/tencho-komaru.jpg\" width=\"126\" height=\"139\"></P>\n",
    "<P class=\"speech\">「困った、困った」</P>\n",
    "<P class=\"speech\">───店長、どうしたんですか？</P>\n",
    "<P class=\"speech\">「アイ子ちゃん、昨日の散布図で、客数の予想ができると思ったんだけどね。あれは、そのお店でのデータだから、この店にそのまま当てはまるとは限らないんじゃないかと思うんだよ」</P>\n",
    "<P class=\"speech\">───なるほど、お店の規模が違えば、客数も違いますからね。お店の規模についてのデータはないんですか？</P>\n",
    "<P class=\"speech\">「ああ、そうか。お店の規模は、人通りの多さで決まるんだよ。で、人通りの多さは、最寄りの駅からどれくらい近いかによって決まるんだ。そういわれてみれば、こんなデータをもらっていたよ」</P>\n",
    "\n",
    "[店舗別８月の平均客数データ（12店舗）](https://raw.githubusercontent.com/maskot1977/ipython_notebook/master/toydata/shop_distance.txt)\n",
    "\n",
    "<P class=\"speech\">───よし、このデータを分析すれば、何かわかるかもしれない。コーンも手伝って。</P>\n",
    "<P class=\"photo\"><img src=\"image/corn.jpg\" width=\"120\" height=\"91\"></P>"
   ]
  },
  {
   "cell_type": "markdown",
   "metadata": {},
   "source": [
    "<h4 style=\"padding: 0.25em 0.5em;color: #494949;background: transparent;border-left: solid 5px #7db4e6;\">課題1.4</h4>\n",
    "\n",
    "[店舗別８月の平均客数データ（12店舗）](https://raw.githubusercontent.com/maskot1977/ipython_notebook/master/toydata/shop_distance.txt) をダウンロードし、散布図を描いてください。その上で、駅から250メートルの店の客数を予測してください。"
   ]
  },
  {
   "cell_type": "code",
   "execution_count": null,
   "metadata": {
    "collapsed": true
   },
   "outputs": [],
   "source": [
    "# ダウンロードしたデータから、列ごとに数字を読み込んでリストに格納する。"
   ]
  },
  {
   "cell_type": "code",
   "execution_count": null,
   "metadata": {
    "collapsed": false
   },
   "outputs": [],
   "source": [
    "#散布図を描く。"
   ]
  },
  {
   "cell_type": "markdown",
   "metadata": {},
   "source": [
    "<h4 style=\"border-bottom: solid 1px black;\">散布図からわかること</h4>\n",
    "<p class=\"photo\"><img src=\"image/aiko-hirameku.jpg\" width=\"185\" height=\"135\"></p>\n",
    "<P class=\"speech\">───あれ、前の散布図とは違って、右下がりになっている。</P>\n",
    "<P class=\"speech\">「どれどれ、本当だ。ということは、距離が離れれば離れるほど、平均客数は減るということだね」</P>\n",
    "<P class=\"speech\">───そうだ。「負の相関」なんだ。店長、このお店は駅からどれくらいの距離にありますか？</P>\n",
    "<P class=\"speech\">「このお店は駅から250メートルだよ、アイ子ちゃん」</P>\n",
    "<P class=\"speech\">───そうすると、この散布図から予測すると、平均客数は、これぐらいになると思いますよ。</P>"
   ]
  },
  {
   "cell_type": "markdown",
   "metadata": {},
   "source": [
    "<h2 STYLE=\"background: #c2edff;padding: 0.5em;\">アイスクリーム統計学 第１章 課題</h2>\n",
    "\n",
    "__課題1.4__ を解いて、指定のメールアドレスまでメールしてください。メール送信後は、エラーが帰ってきてないことを確認してください（メールアドレスを間違える人がときどき居ます）。\n",
    "* 締切：10月24日（今すぐでなくても結構です）\n",
    "* メールタイトル：「アイスクリーム統計学 第１章」\n",
    "* 学籍番号と氏名を明記すること。\n",
    "* 感想などがあれば書いてくれると嬉しいです。次回以降の講義の改善につながるかも知れません。"
   ]
  },
  {
   "cell_type": "code",
   "execution_count": null,
   "metadata": {
    "collapsed": true
   },
   "outputs": [],
   "source": [
    "# アイスクリーム統計学 第１章 課題"
   ]
  },
  {
   "cell_type": "markdown",
   "metadata": {},
   "source": [
    "<h2 STYLE=\"background: #c2edff;padding: 0.5em;\">終わったら、<a href=\"IceCreamStatistics02.ipynb\">第２章：相関係数</a> に進んでください。</h2>\n",
    "（2017年10月20日講義、10月24日課題提出締切）"
   ]
  }
 ],
 "metadata": {
  "kernelspec": {
   "display_name": "Python 3",
   "language": "python",
   "name": "python3"
  },
  "language_info": {
   "codemirror_mode": {
    "name": "ipython",
    "version": 3
   },
   "file_extension": ".py",
   "mimetype": "text/x-python",
   "name": "python",
   "nbconvert_exporter": "python",
   "pygments_lexer": "ipython3",
   "version": "3.4.5"
  }
 },
 "nbformat": 4,
 "nbformat_minor": 0
}
