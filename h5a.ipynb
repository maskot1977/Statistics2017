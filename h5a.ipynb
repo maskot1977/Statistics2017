{
 "cells": [
  {
   "cell_type": "markdown",
   "metadata": {},
   "source": [
    "# ハンバーガー統計学 with Python 第5章\n",
    "\n",
    "第４回講義（2017年10月10日講義、10月13日課題提出締切）\n",
    "\n",
    "このページは、<a href=\"http://kogolab.chillout.jp/elearn/hamburger/index.html\" target=\"_blank\">ハンバーガー統計学にようこそ！</a>の内容をプログラミング言語 Python に合わせて書き直したものです（著作権者の許諾を得て利用しております）。"
   ]
  },
  {
   "cell_type": "markdown",
   "metadata": {},
   "source": [
    "<h1 STYLE=\"background: #c2edff;padding: 0.5em;\"><a href=\"http://kogolab.chillout.jp/elearn/hamburger/chap5/sec0.html\" target=\"_blank\">第５章　t検定（対応あり）</a></h1>\n",
    "\n",
    "<img src=\"image/w-burger00001.jpg\">\n",
    "\n",
    "t検定を終えて、帰無仮説「ワクワクバーガーとモグモグバーガーに点数の差はない」が認められました。\n",
    "\n",
    "あなたはt検定の方法も交えて、「女子高生の点数に差はないようですよ」と、ワクワクバーガーの店員さんに伝えました。\n",
    "\n",
    "すると、店員さんはあまり納得していないようです。\n",
    "\n",
    "「うーん……、決定的な差はないけど、モグモグの方が評価は高いんだよね」\n",
    "\n",
    "確かに、t検定を行った結果、差はないという結論になりましたが、平均評価はモグモグの方が高いのです。店員さんは、どうもそこが気になるようです。\n",
    "\n",
    "「差があるかどうか、もっと詳しく調べる方法はないの？」"
   ]
  },
  {
   "cell_type": "markdown",
   "metadata": {},
   "source": [
    "<h2 STYLE=\"background: #c2edff;padding: 0.5em;\"><a href=\"http://kogolab.chillout.jp/elearn/hamburger/chap5/sec1.html\" target=\"_blank\">5.1 １人に２種類を評価してもらう</a></h2>\n",
    "\n",
    "「もっと詳しく、差があるのかどうかをみたい」とあなたも考え、前回やったt検定をもう一度見直すことにしました。\n",
    "\n",
    "「うーん、検定はこれ以上どうしようもないな。じゃあ、データの取り方から考え直してみよう」\n",
    "\n",
    "前回取ってきたデータは、高校生一人が、一個のハンバーガーを食べてその味にたいして点数をつけたものでした。\n",
    "\n",
    "「食べたのは、一個だけだった」\n",
    "\n",
    "ということは、モグモグとワクワクを比べて点数をつけたわけではないのです。\n",
    "\n",
    "<img src=\"image/other00002.jpg\">\n",
    "\n",
    "そこで、あなたはさっそく駅に行き、女子高生8人を集めて、2種類のハンバーガーを食べて比較してもらい、それぞれのハンバーガーに点数をつけてもらいました。\n",
    "\n",
    "ただし、どちらのハンバーガーを先に食べるかによって評価に偏りがでるといけないので、半分の女子高生にはワクワクを先に、残りの半分にはモグモグを先に食べてもらいました。\n",
    "\n",
    "その結果が次の表です。並んでいる点数は、同じ女子高生が出した点数です。"
   ]
  },
  {
   "cell_type": "markdown",
   "metadata": {},
   "source": [
    "<table border=\"1\" bgcolor=\"#FFFFFF\" cellpadding=\"0\" cellspacing=\"0\" align=\"center\">\n",
    "  <tr align=\"center\"> \n",
    "    <th width=\"120\" height=\"30\" bgcolor=\"#ffffcc\"> 女子高生</th>\n",
    "    <th width=\"120\" height=\"30\" bgcolor=\"#ffffcc\"> ワクワクバーガーの点数</th>\n",
    "    <th width=\"120\" height=\"30\" bgcolor=\"#ffcccc\"> モグモグバーガーの点数</th>\n",
    "  </tr>\n",
    "  <tr align=\"center\"> \n",
    "    <td width=\"120\" height=\"30\" bgcolor=\"#cccccc\"> 1</td>\n",
    "    <td width=\"120\" height=\"30\"> 90</td>\n",
    "    <td width=\"120\" height=\"30\"> 95</td>\n",
    "  </tr>\n",
    "  <tr align=\"center\"> \n",
    "    <td width=\"120\" height=\"30\" bgcolor=\"#cccccc\">2</td>\n",
    "    <td width=\"120\" height=\"30\">75</td>\n",
    "    <td width=\"120\" height=\"30\">80</td>\n",
    "  </tr>\n",
    "  <tr align=\"center\"> \n",
    "    <td width=\"120\" height=\"30\" bgcolor=\"#cccccc\">3</td>\n",
    "    <td width=\"120\" height=\"30\">75</td>\n",
    "    <td width=\"120\" height=\"30\">80</td>\n",
    "  </tr>\n",
    "  <tr align=\"center\"> \n",
    "    <td width=\"120\" height=\"30\" bgcolor=\"#cccccc\">4</td>\n",
    "    <td width=\"120\" height=\"30\">75</td>\n",
    "    <td width=\"120\" height=\"30\">80</td>\n",
    "  </tr>\n",
    "  <tr align=\"center\"> \n",
    "    <td width=\"120\" height=\"30\" bgcolor=\"#cccccc\">5</td>\n",
    "    <td width=\"120\" height=\"30\">80</td>\n",
    "    <td width=\"120\" height=\"30\">75</td>\n",
    "  </tr>\n",
    "  <tr align=\"center\"> \n",
    "    <td width=\"120\" height=\"30\" bgcolor=\"#cccccc\">6</td>\n",
    "    <td width=\"120\" height=\"30\">65</td>\n",
    "    <td width=\"120\" height=\"30\">75</td>\n",
    "  </tr>\n",
    "  <tr align=\"center\"> \n",
    "    <td width=\"120\" height=\"30\" bgcolor=\"#cccccc\">7</td>\n",
    "    <td width=\"120\" height=\"30\">75</td>\n",
    "    <td width=\"120\" height=\"30\">80</td>\n",
    "  </tr>\n",
    "  <tr align=\"center\"> \n",
    "    <td width=\"120\" height=\"30\" bgcolor=\"#cccccc\">8</td>\n",
    "    <td width=\"120\" height=\"30\">80</td>\n",
    "    <td width=\"120\" height=\"30\">85</td>\n",
    "  </tr>\n",
    "  <tr align=\"center\"> \n",
    "    <td width=\"120\" height=\"30\" bgcolor=\"#ffffcc\">平均</td>\n",
    "    <td width=\"120\" height=\"30\" bgcolor=\"#ffffcc\">76.88</td>\n",
    "    <td width=\"120\" height=\"30\" bgcolor=\"#ffcccc\">81.25</td>\n",
    "  </tr>\n",
    "  <tr align=\"center\"> \n",
    "    <td width=\"120\" height=\"30\" bgcolor=\"#ffffcc\"> 標本分散</td>\n",
    "    <td width=\"120\" height=\"30\" bgcolor=\"#ffffcc\">43.36</td>\n",
    "    <td width=\"120\" height=\"30\" bgcolor=\"#ffcccc\">35.94</td>\n",
    "  </tr>\n",
    "</table>"
   ]
  },
  {
   "cell_type": "markdown",
   "metadata": {},
   "source": [
    "平均評価点数を計算すると、ワクワクバーガーは、76.88点で、モグモグバーガーは、81.25点でした。ワクワクの方が、4.38点だけ低い評価になりました。\n",
    "\n",
    "ところで、前の章で「一人につき一個のハンバーガーを食べてもらった」評価では、ワクワクバーガーは、76.88点で、モグモグバーガーは、81.88点でした。ワクワクの方が、5.00点だけ低い評価になりました。\n",
    "\n",
    "これと比較すると、今回の調査では、ワクワクとモグモグでは、差がなさそうに見えます。\n",
    "\n",
    "実際にそうなのでしょうか。検定をすることにしましょう。\n",
    "\n"
   ]
  },
  {
   "cell_type": "markdown",
   "metadata": {},
   "source": [
    "<h2 STYLE=\"background: #c2edff;padding: 0.5em;\"><a href=\"http://kogolab.chillout.jp/elearn/hamburger/chap5/sec2.html\" target=\"_blank\">5.2　対応があるとは？</a></h2>\n",
    "\n"
   ]
  },
  {
   "cell_type": "markdown",
   "metadata": {},
   "source": [
    "それぞれの人が、ワクワクバーガーとモグモグバーガーの両方を食べて味を評価したときに、その間に意味のある差（有意差）があるかどうかを決める方法を考えていきましょう。\n",
    "\n",
    "<table border=\"0\"><tr><td><img src=\"image/w-burger00001.jpg\"></td>\n",
    "<td><img src=\"image/m-burger00001.jpg\"></td></tr></table>\n",
    "\n",
    "仮説検定の考え方を思い出しましょう。次のようなステップでした。\n",
    "\n",
    "* まず、帰無仮説「差はない」を立てる\n",
    "* 適当な指標を計算する\n",
    "* その指標が起こる確率を計算する\n",
    "* 確率に基づいて、帰無仮説を採択するか、棄却するかを決める\n",
    "* 帰無仮説を採択した場合は、「意味のある差（有意差）はない」と結論する\n",
    "* 帰無仮説を棄却した場合は、対立仮説を採択し、「差はないとはいえない、つまり意味のある差（有意差）がある」と結論する\n"
   ]
  },
  {
   "cell_type": "markdown",
   "metadata": {},
   "source": [
    "<h4 style=\"border-bottom: solid 1px black;\">前の章のt検定とどこが違うのか？</h4>\n",
    "\n",
    "今回もt検定を使います。\n",
    "\n",
    "しかし、前の章でやったt検定と少しだけ違います（より簡単になっています！）。\n",
    "\n",
    "前のt検定では、「2つの独立した母集団から標本を選んでくる」という条件でした。つまり、これが、「それぞれの女子高生に1種類のハンバーガーを食べてもらう」ということに当たります。詳しく言うと、「ワクワクバーガーを食べた女子高生の点数の母集団と、モグモグバーガーを食べた女子高生の点数の母集団が独立している」と考えているわけです。\n",
    "\n",
    "それに対して、今回のt検定では、「1つの母集団から標本を選んでくる」という条件になっています。1つの母集団とは、何でしょうか？　それは、「ワクワクバーガーとモグモグバーガーを食べた女子高生がつけた点数の差の母集団」ということです。つまり、ワクワクとモグモグを食べた女子高生がそれぞれに点数を付けて、その差を計算したもの、それを母集団とするということです。\n",
    "\n",
    "これらの２つのt検定を区別します。\n",
    "\n",
    "* 前のt検定を、「対応のないt検定」と呼びます。あるいは、単に「t検定」とも呼びます。\n",
    "\n",
    "* 今回のt検定を、「対応のあるt検定」と呼びます。"
   ]
  },
  {
   "cell_type": "markdown",
   "metadata": {},
   "source": [
    "<h4 style=\"border-bottom: solid 1px black;\">「対応」の意味</h4>\n",
    "\n",
    "「対応」というのは、次のような意味だと考えてください。\n",
    "\n",
    "前のt検定では、ワクワクを食べた女子高生Aさんの点数から、モグモグを食べた別の女子高生Bさんの点数を引くことに意味があるでしょうか。ありませんね。だって、別の人ですから、直接比較できないですね。これを「対応がない」と表現しています。\n",
    "\n",
    "しかし、今回のように、同じ女子高生Aさんが、ワクワクとモグモグを食べていれば、その点数の差を出すことには意味があります。なぜなら、同じ人が食べたのですから、直接比較できるはずです。これを「対応がある」と表現しています。\n",
    "\n",
    "それが「対応」ということの意味です。"
   ]
  },
  {
   "cell_type": "markdown",
   "metadata": {},
   "source": [
    "<h2 STYLE=\"background: #c2edff;padding: 0.5em;\"><a href=\"http://kogolab.chillout.jp/elearn/hamburger/chap5/sec3.html\" target=\"_blank\">5.3　対応のあるt検定</a></h2>\n",
    "\n",
    "それでは「対応のあるt検定」をやっていきましょう。"
   ]
  },
  {
   "cell_type": "markdown",
   "metadata": {},
   "source": [
    "<h4 style=\"padding: 0.25em 0.5em;color: #494949;background: transparent;border-left: solid 5px #7db4e6;\">課題5.3</h4>\n",
    "\n",
    "ワクワクバーガーとモグモグバーガーの評価に差があるかどうか、下表の空欄を埋めながら検定を進めてください。\n",
    "<table border=\"1\" bgcolor=\"#FFFFFF\" cellpadding=\"0\" cellspacing=\"0\" align=\"center\">\n",
    "  <tr align=\"center\"> \n",
    "    <th width=\"120\" height=\"30\" bgcolor=\"#ffffcc\"> 女子高生</th>\n",
    "    <th width=\"120\" height=\"30\" bgcolor=\"#ffffcc\"> ワクワクバーガーの点数</th>\n",
    "    <th width=\"120\" height=\"30\" bgcolor=\"#ffcccc\"> モグモグバーガーの点数</th>\n",
    "    <th width=\"120\" bgcolor=\"#CCFFFF\">点数の差</th>\n",
    "  </tr>\n",
    "  <tr align=\"center\"> \n",
    "    <td width=\"120\" height=\"30\" bgcolor=\"#cccccc\"> 1</td>\n",
    "    <td width=\"120\" height=\"30\"> 90</td>\n",
    "    <td width=\"120\" height=\"30\"> 95</td>\n",
    "    <td width=\"120\"></td>\n",
    "  </tr>\n",
    "  <tr align=\"center\"> \n",
    "    <td width=\"120\" height=\"30\" bgcolor=\"#cccccc\">2</td>\n",
    "    <td width=\"120\" height=\"30\">75</td>\n",
    "    <td width=\"120\" height=\"30\">80</td>\n",
    "    <td width=\"120\"></td>\n",
    "  </tr>\n",
    "  <tr align=\"center\"> \n",
    "    <td width=\"120\" height=\"30\" bgcolor=\"#cccccc\">3</td>\n",
    "    <td width=\"120\" height=\"30\">75</td>\n",
    "    <td width=\"120\" height=\"30\">80</td>\n",
    "    <td width=\"120\"></td>\n",
    "  </tr>\n",
    "  <tr align=\"center\"> \n",
    "    <td width=\"120\" height=\"30\" bgcolor=\"#cccccc\">4</td>\n",
    "    <td width=\"120\" height=\"30\">75</td>\n",
    "    <td width=\"120\" height=\"30\">80</td>\n",
    "    <td width=\"120\"></td>\n",
    "  </tr>\n",
    "  <tr align=\"center\"> \n",
    "    <td width=\"120\" height=\"30\" bgcolor=\"#cccccc\">5</td>\n",
    "    <td width=\"120\" height=\"30\">80</td>\n",
    "    <td width=\"120\" height=\"30\">75</td>\n",
    "    <td width=\"120\"></td>\n",
    "  </tr>\n",
    "  <tr align=\"center\"> \n",
    "    <td width=\"120\" height=\"30\" bgcolor=\"#cccccc\">6</td>\n",
    "    <td width=\"120\" height=\"30\">65</td>\n",
    "    <td width=\"120\" height=\"30\">75</td>\n",
    "    <td width=\"120\"></td>\n",
    "  </tr>\n",
    "  <tr align=\"center\"> \n",
    "    <td width=\"120\" height=\"30\" bgcolor=\"#cccccc\">7</td>\n",
    "    <td width=\"120\" height=\"30\">75</td>\n",
    "    <td width=\"120\" height=\"30\">80</td>\n",
    "    <td width=\"120\"></td>\n",
    "  </tr>\n",
    "  <tr align=\"center\"> \n",
    "    <td width=\"120\" height=\"30\" bgcolor=\"#cccccc\">8</td>\n",
    "    <td width=\"120\" height=\"30\">80</td>\n",
    "    <td width=\"120\" height=\"30\">85</td>\n",
    "    <td width=\"120\"></td>\n",
    "  </tr>\n",
    "  <tr align=\"center\"> \n",
    "    <td width=\"120\" height=\"30\" bgcolor=\"#ffffcc\">平均</td>\n",
    "    <td width=\"120\" height=\"30\"></td>\n",
    "    <td width=\"120\" height=\"30\"></td>\n",
    "    <td width=\"120\"></td>\n",
    "  </tr>\n",
    "  <tr align=\"center\"> \n",
    "    <td width=\"120\" height=\"30\" bgcolor=\"#ffffcc\"> 標本分散</td>\n",
    "    <td width=\"120\" height=\"30\"></td>\n",
    "    <td width=\"120\" height=\"30\"></td>\n",
    "    <td width=\"120\"></td>\n",
    "  </tr>\n",
    "  <tr align=\"center\"> \n",
    "    <td width=\"120\" height=\"30\" bgcolor=\"#ffffcc\"> 不偏分散</td>\n",
    "    <td width=\"120\" height=\"30\"></td>\n",
    "    <td width=\"120\" height=\"30\"></td>\n",
    "    <td width=\"120\"></td>\n",
    "  </tr>\n",
    "  <tr align=\"center\"> \n",
    "    <td width=\"120\" height=\"30\" bgcolor=\"#ffffcc\" colspan=\"3\"> 差の標準誤差</td>\n",
    "    <td width=\"120\"></td>\n",
    "  </tr>\n",
    "  <tr align=\"center\"> \n",
    "    <td width=\"120\" height=\"30\" bgcolor=\"#ffffcc\" colspan=\"3\"> t値</td>\n",
    "    <td width=\"120\"></td>\n",
    "  </tr>\n",
    "</table>"
   ]
  },
  {
   "cell_type": "markdown",
   "metadata": {},
   "source": [
    "それぞれの女子高生について、ワクワクバーガーの点数からモグモグバーガーの点数を引いて「点数の差」を計算します。\n",
    "\n",
    "* ８人の女子高生の「点数の差」をそれぞれ求めてください。"
   ]
  },
  {
   "cell_type": "code",
   "execution_count": 1,
   "metadata": {
    "collapsed": true
   },
   "outputs": [],
   "source": [
    "wakuwaku = [90, 75, 75, 75, 80, 65, 75, 80]\n",
    "mogumogu = [95, 80, 80, 80, 75, 75, 80, 85]"
   ]
  },
  {
   "cell_type": "code",
   "execution_count": 2,
   "metadata": {
    "collapsed": false
   },
   "outputs": [
    {
     "data": {
      "text/plain": [
       "[-5, -5, -5, -5, 5, -10, -5, -5]"
      ]
     },
     "execution_count": 2,
     "metadata": {},
     "output_type": "execute_result"
    }
   ],
   "source": [
    "# 点数の差\n",
    "diff = []\n",
    "for w, m in zip(wakuwaku, mogumogu):\n",
    "    diff.append(w - m)\n",
    "diff"
   ]
  },
  {
   "cell_type": "markdown",
   "metadata": {},
   "source": [
    "* ワクワクバーガーの点数の平均、モグモグバーガーの点数の平均、点数の差の平均をそれぞれ求めてください。"
   ]
  },
  {
   "cell_type": "code",
   "execution_count": 3,
   "metadata": {
    "collapsed": true
   },
   "outputs": [],
   "source": [
    "# 平均値を求める関数\n",
    "def average(list):\n",
    "    sum = 0\n",
    "    for x in list:\n",
    "        sum += x\n",
    "    return sum / len(list)"
   ]
  },
  {
   "cell_type": "code",
   "execution_count": 4,
   "metadata": {
    "collapsed": false
   },
   "outputs": [
    {
     "name": "stdout",
     "output_type": "stream",
     "text": [
      "76.875\n",
      "81.25\n",
      "-4.375\n"
     ]
    }
   ],
   "source": [
    "# ワクワクバーガーの点数の平均、モグモグバーガーの点数の平均、点数の差の平均\n",
    "print (average(wakuwaku)) # ワクワクバーガーの点数の平均\n",
    "print (average(mogumogu)) # モグモグバーガーの点数の平均\n",
    "print (average(diff)) # 点数の差の平均"
   ]
  },
  {
   "cell_type": "markdown",
   "metadata": {},
   "source": [
    "* ワクワクバーガーの点数の標本分散、モグモグバーガーの点数の標本分散、点数の差の標本分散をそれぞれ求めてください。"
   ]
  },
  {
   "cell_type": "code",
   "execution_count": 5,
   "metadata": {
    "collapsed": true
   },
   "outputs": [],
   "source": [
    "def variance(list): # 分散\n",
    "    ave = average(list)\n",
    "    sum = 0\n",
    "    for x in list:\n",
    "        sum += (x - ave) ** 2\n",
    "    return sum / len(list)"
   ]
  },
  {
   "cell_type": "code",
   "execution_count": 6,
   "metadata": {
    "collapsed": false
   },
   "outputs": [
    {
     "name": "stdout",
     "output_type": "stream",
     "text": [
      "43.359375\n",
      "35.9375\n",
      "15.234375\n"
     ]
    }
   ],
   "source": [
    "# ワクワクバーガーの点数の標本分散、モグモグバーガーの点数の標本分散、点数の差の標本分散\n",
    "print (variance(wakuwaku)) # ワクワクバーガーの点数の標本分散\n",
    "print (variance(mogumogu)) # モグモグバーガーの点数の標本分散\n",
    "print (variance(diff)) # 点数の差の標本分散"
   ]
  },
  {
   "cell_type": "markdown",
   "metadata": {},
   "source": [
    "* ワクワクバーガーの点数の不偏分散、モグモグバーガーの点数の不偏分散、点数の差の不偏分散をそれぞれ求めてください。"
   ]
  },
  {
   "cell_type": "code",
   "execution_count": 7,
   "metadata": {
    "collapsed": true
   },
   "outputs": [],
   "source": [
    "# 不偏分散を求める関数\n",
    "def unbiased_variance(list):\n",
    "    ave = average(list)\n",
    "    sum = 0.0\n",
    "    for x in list:\n",
    "        sum += (x - ave) ** 2.0\n",
    "    return sum / (len(list) - 1)"
   ]
  },
  {
   "cell_type": "code",
   "execution_count": 8,
   "metadata": {
    "collapsed": false
   },
   "outputs": [
    {
     "name": "stdout",
     "output_type": "stream",
     "text": [
      "49.55357142857143\n",
      "41.07142857142857\n",
      "17.410714285714285\n"
     ]
    }
   ],
   "source": [
    "# ワクワクバーガーの点数の不偏分散、モグモグバーガーの点数の不偏分散、点数の差の不偏分散\n",
    "print (unbiased_variance(wakuwaku)) # ワクワクバーガーの点数の不偏分散\n",
    "print (unbiased_variance(mogumogu)) # モグモグバーガーの点数の不偏分散\n",
    "print (unbiased_variance(diff)) # 点数の差の不偏分散"
   ]
  },
  {
   "cell_type": "markdown",
   "metadata": {},
   "source": [
    "* 差の標準誤差を求めてください。\n",
    "  * 差の標準誤差＝sqrt（差の不偏分散／標本数）＝sqrt（（差の標本分散／（標本数－1））"
   ]
  },
  {
   "cell_type": "code",
   "execution_count": 9,
   "metadata": {
    "collapsed": true
   },
   "outputs": [],
   "source": [
    "import math\n",
    "def unbiased_standard_error(list):\n",
    "    return math.sqrt(unbiased_variance(list) / len(list))"
   ]
  },
  {
   "cell_type": "code",
   "execution_count": 10,
   "metadata": {
    "collapsed": false
   },
   "outputs": [
    {
     "data": {
      "text/plain": [
       "1.4752421108802058"
      ]
     },
     "execution_count": 10,
     "metadata": {},
     "output_type": "execute_result"
    }
   ],
   "source": [
    "unbiased_standard_error(diff)"
   ]
  },
  {
   "cell_type": "markdown",
   "metadata": {},
   "source": [
    "点数の差は、平均が-4.38、標本分散が15.23となりました。つまりモグモグバーガーの方が4.38点だけ高い点数をもらったということになります。はたして、この点数の差は「意味のある差」なのかどうか。検定をします。\n",
    "\n",
    "* t値を求めてください。\n",
    "  * t＝平均の差／sqrt（不偏分散／標本数）＝平均の差／sqrt（標本分散／（標本数－1））"
   ]
  },
  {
   "cell_type": "code",
   "execution_count": 11,
   "metadata": {
    "collapsed": true
   },
   "outputs": [],
   "source": [
    "# t値\n",
    "def t_value2(list1, list2):\n",
    "    diff = []\n",
    "    for x1, x2 in zip(list1, list2):\n",
    "        diff.append(x1 - x2)\n",
    "    return (average(list1) - average(list2)) / unbiased_standard_error(diff)"
   ]
  },
  {
   "cell_type": "code",
   "execution_count": 12,
   "metadata": {
    "collapsed": false
   },
   "outputs": [
    {
     "data": {
      "text/plain": [
       "-2.965614910077132"
      ]
     },
     "execution_count": 12,
     "metadata": {},
     "output_type": "execute_result"
    }
   ],
   "source": [
    "t_value2(wakuwaku, mogumogu)"
   ]
  },
  {
   "cell_type": "markdown",
   "metadata": {},
   "source": [
    "さて、t=-2.97となりました。この値はどのくらいの確率で起こるのでしょうか。それを調べるために、おなじみのt分布表を使いましょう。ここで、自由度は、差の標本数8から1をひいたもの、つまり7になります。\n",
    "\n",
    "* t分布表を用いて、t検定の結果を説明してください。\n",
    "\n",
    "<center>t分布表</center>\n",
    "<table width=\"50%\" border=\"1\" align=\"center\" cellpadding=\"2\" cellspacing=\"0\">\n",
    "  <tr bgcolor=\"#FFFFCC\"> \n",
    "    <td width=\"32%\"> <div align=\"right\">自由度</div></td>\n",
    "    <td width=\"34%\"> <div align=\"right\">有意水準5%</div></td>\n",
    "    <td width=\"34%\"> <div align=\"right\">有意水準1%</div></td>\n",
    "  </tr>\n",
    "  <tr> \n",
    "    <td bgcolor=\"#CCCCCC\"><div align=\"right\">1</div></td>\n",
    "    <td><div align=\"right\">12.706</div></td>\n",
    "    <td><div align=\"right\">63.657</div></td>\n",
    "  </tr>\n",
    "  <tr> \n",
    "    <td bgcolor=\"#CCCCCC\"><div align=\"right\">2</div></td>\n",
    "    <td><div align=\"right\">4.303</div></td>\n",
    "    <td><div align=\"right\">9.925</div></td>\n",
    "  </tr>\n",
    "  <tr> \n",
    "    <td bgcolor=\"#CCCCCC\"><div align=\"right\">3</div></td>\n",
    "    <td><div align=\"right\">3.182</div></td>\n",
    "    <td><div align=\"right\">5.841</div></td>\n",
    "  </tr>\n",
    "  <tr> \n",
    "    <td bgcolor=\"#CCCCCC\"><div align=\"right\">4</div></td>\n",
    "    <td><div align=\"right\">2.776</div></td>\n",
    "    <td><div align=\"right\">4.604</div></td>\n",
    "  </tr>\n",
    "  <tr> \n",
    "    <td bgcolor=\"#CCCCCC\"><div align=\"right\">5</div></td>\n",
    "    <td><div align=\"right\">2.571</div></td>\n",
    "    <td><div align=\"right\">4.032</div></td>\n",
    "  </tr>\n",
    "  <tr> \n",
    "    <td bgcolor=\"#CCCCCC\"><div align=\"right\">6</div></td>\n",
    "    <td><div align=\"right\">2.447</div></td>\n",
    "    <td><div align=\"right\">3.707</div></td>\n",
    "  </tr>\n",
    "  <tr> \n",
    "    <td bgcolor=\"#CCCCCC\"><div align=\"right\">7</div></td>\n",
    "    <td bgcolor=\"#CCFFFF\">\n",
    "<div align=\"right\">2.365</div></td>\n",
    "    <td bgcolor=\"#CCFFFF\">\n",
    "<div align=\"right\">3.499</div></td>\n",
    "  </tr>\n",
    "  <tr> \n",
    "    <td bgcolor=\"#CCCCCC\"><div align=\"right\">8</div></td>\n",
    "    <td><div align=\"right\">2.306</div></td>\n",
    "    <td><div align=\"right\">3.355</div></td>\n",
    "  </tr>\n",
    "  <tr> \n",
    "    <td bgcolor=\"#CCCCCC\"><div align=\"right\">9</div></td>\n",
    "    <td><div align=\"right\">2.262</div></td>\n",
    "    <td><div align=\"right\">3.250</div></td>\n",
    "  </tr>\n",
    "  <tr> \n",
    "    <td bgcolor=\"#CCCCCC\"><div align=\"right\">10</div></td>\n",
    "    <td><div align=\"right\">2.226</div></td>\n",
    "    <td><div align=\"right\">3.169</div></td>\n",
    "  </tr>\n",
    "  <tr> \n",
    "    <td bgcolor=\"#eeeeee\"> <div align=\"right\">11</div></td>\n",
    "    <td><div align=\"right\">2.201</div></td>\n",
    "    <td><div align=\"right\">3.106</div></td>\n",
    "  </tr>\n",
    "  <tr> \n",
    "    <td bgcolor=\"#eeeeee\"> <div align=\"right\">12</div></td>\n",
    "    <td><div align=\"right\">2.179</div></td>\n",
    "    <td><div align=\"right\">3.055</div></td>\n",
    "  </tr>\n",
    "  <tr> \n",
    "    <td bgcolor=\"#eeeeee\"> <div align=\"right\">13</div></td>\n",
    "    <td><div align=\"right\">2.160</div></td>\n",
    "    <td><div align=\"right\">3.021</div></td>\n",
    "  </tr>\n",
    "  <tr> \n",
    "    <td bgcolor=\"#eeeeee\"> <div align=\"right\">14</div></td>\n",
    "    <td bgcolor=\"#FFFFFF\"> \n",
    "      <div align=\"right\">2.145</div></td>\n",
    "    <td bgcolor=\"#FFFFFF\"> \n",
    "      <div align=\"right\">2.977</div></td>\n",
    "  </tr>\n",
    "  <tr> \n",
    "    <td bgcolor=\"#eeeeee\"> <div align=\"right\">15</div></td>\n",
    "    <td><div align=\"right\">2.131</div></td>\n",
    "    <td><div align=\"right\">2.947</div></td>\n",
    "  </tr>\n",
    "  <tr> \n",
    "    <td bgcolor=\"#eeeeee\"> <div align=\"right\">16</div></td>\n",
    "    <td><div align=\"right\">2.120</div></td>\n",
    "    <td><div align=\"right\">2.921</div></td>\n",
    "  </tr>\n",
    "  <tr> \n",
    "    <td bgcolor=\"#eeeeee\"> <div align=\"right\">17</div></td>\n",
    "    <td><div align=\"right\">2.110</div></td>\n",
    "    <td><div align=\"right\">2.898</div></td>\n",
    "  </tr>\n",
    "  <tr> \n",
    "    <td bgcolor=\"#eeeeee\"> <div align=\"right\">18</div></td>\n",
    "    <td><div align=\"right\">2.101</div></td>\n",
    "    <td><div align=\"right\">2.878</div></td>\n",
    "  </tr>\n",
    "  <tr> \n",
    "    <td bgcolor=\"#eeeeee\"> <div align=\"right\">19</div></td>\n",
    "    <td><div align=\"right\">2.093</div></td>\n",
    "    <td><div align=\"right\">2.861</div></td>\n",
    "  </tr>\n",
    "  <tr> \n",
    "    <td bgcolor=\"#eeeeee\"> <div align=\"right\">20</div></td>\n",
    "    <td><div align=\"right\">2.086</div></td>\n",
    "    <td><div align=\"right\">2.845</div></td>\n",
    "  </tr>\n",
    "  <tr> \n",
    "    <td bgcolor=\"#CCCCCC\"><div align=\"right\">21</div></td>\n",
    "    <td><div align=\"right\">2.080</div></td>\n",
    "    <td><div align=\"right\">2.831</div></td>\n",
    "  </tr>\n",
    "  <tr> \n",
    "    <td bgcolor=\"#CCCCCC\"><div align=\"right\">22</div></td>\n",
    "    <td><div align=\"right\">2.074</div></td>\n",
    "    <td><div align=\"right\">2.819</div></td>\n",
    "  </tr>\n",
    "  <tr> \n",
    "    <td bgcolor=\"#CCCCCC\"><div align=\"right\">23</div></td>\n",
    "    <td><div align=\"right\">2.069</div></td>\n",
    "    <td><div align=\"right\">2.807</div></td>\n",
    "  </tr>\n",
    "  <tr> \n",
    "    <td bgcolor=\"#CCCCCC\"><div align=\"right\">24</div></td>\n",
    "    <td><div align=\"right\">2.064</div></td>\n",
    "    <td><div align=\"right\">2.797</div></td>\n",
    "  </tr>\n",
    "  <tr> \n",
    "    <td bgcolor=\"#CCCCCC\"><div align=\"right\">25</div></td>\n",
    "    <td><div align=\"right\">2.060</div></td>\n",
    "    <td><div align=\"right\">2.787</div></td>\n",
    "  </tr>\n",
    "  <tr> \n",
    "    <td bgcolor=\"#CCCCCC\"><div align=\"right\">26</div></td>\n",
    "    <td><div align=\"right\">2.056</div></td>\n",
    "    <td><div align=\"right\">2.779</div></td>\n",
    "  </tr>\n",
    "  <tr> \n",
    "    <td bgcolor=\"#CCCCCC\"><div align=\"right\">27</div></td>\n",
    "    <td><div align=\"right\">2.052</div></td>\n",
    "    <td><div align=\"right\">2.771</div></td>\n",
    "  </tr>\n",
    "  <tr> \n",
    "    <td bgcolor=\"#CCCCCC\"><div align=\"right\">28</div></td>\n",
    "    <td><div align=\"right\">2.048</div></td>\n",
    "    <td><div align=\"right\">2.763</div></td>\n",
    "  </tr>\n",
    "  <tr> \n",
    "    <td bgcolor=\"#CCCCCC\"><div align=\"right\">29</div></td>\n",
    "    <td><div align=\"right\">2.045</div></td>\n",
    "    <td><div align=\"right\">2.756</div></td>\n",
    "  </tr>\n",
    "  <tr> \n",
    "    <td bordercolor=\"#CCCCCC\" bgcolor=\"#eeeeee\"> <div align=\"right\">30</div></td>\n",
    "    <td><div align=\"right\">2.042</div></td>\n",
    "    <td><div align=\"right\">2.750</div></td>\n",
    "  </tr>\n",
    "  <tr> \n",
    "    <td bordercolor=\"#CCCCCC\" bgcolor=\"#eeeeee\"> <div align=\"right\">40</div></td>\n",
    "    <td><div align=\"right\">2.021</div></td>\n",
    "    <td><div align=\"right\">2.704</div></td>\n",
    "  </tr>\n",
    "  <tr> \n",
    "    <td bordercolor=\"#CCCCCC\" bgcolor=\"#eeeeee\"> <div align=\"right\">60</div></td>\n",
    "    <td><div align=\"right\">2.000</div></td>\n",
    "    <td><div align=\"right\">2.660</div></td>\n",
    "  </tr>\n",
    "  <tr> \n",
    "    <td bordercolor=\"#CCCCCC\" bgcolor=\"#eeeeee\"> <div align=\"right\">120</div></td>\n",
    "    <td><div align=\"right\">1.980</div></td>\n",
    "    <td><div align=\"right\">2.617</div></td>\n",
    "  </tr>\n",
    "  <tr> \n",
    "    <td bordercolor=\"#CCCCCC\" bgcolor=\"#eeeeee\"> <div align=\"right\">∞</div></td>\n",
    "    <td><div align=\"right\">1.960</div></td>\n",
    "    <td><div align=\"right\">2.576</div></td>\n",
    "  </tr>\n",
    "</table>\n",
    "\n",
    "自由度7において、有意水準5%のtは2.365、有意水準1%のtは3.499と書いてあります。\n",
    "\n",
    "いま、有意水準を5%に設定します。\n",
    "\n",
    "さて、計算したtは、-2.97でしたので、5%有意水準での棄却域に入りました。したがって帰無仮説は棄却されます。結論としては、ワクワクとモグモグの評価点の平均には差があるということになります。"
   ]
  },
  {
   "cell_type": "markdown",
   "metadata": {},
   "source": [
    "<h4 style=\"border-bottom: solid 1px black;\">対応なしt検定と対応ありt検定を比較してみると…</h4>\n",
    "\n",
    "さて、上でやった対応のあるt検定の結論は、4.38点の差について「ワクワクとモグモグの評価点の平均には差がある」ということになりました。\n",
    "\n",
    "しかし、前の章でやった対応のないt検定の結論は、それより大きい5.00点の差があったのに「差がない」というものでした。\n",
    "\n",
    "これはどういうことなのでしょうか。\n",
    "\n",
    "対応のあるt検定では、同一個人内でデータを取るため、差の標準誤差が小さくなります。一方、対応のないt検定では、個人間でデータを取るため、個人差が大きくなり、差の標準誤差が大きくなります。\n",
    "\n",
    "標準誤差が小さくなるということは、信頼区間の幅が狭くなり、それだけ確実に真の値を推測できるということです。\n",
    "\n",
    "したがって、対応のあるt検定では、有意差を見いだす検出力が大きくなります。\n",
    "\n",
    "これが、対応のあるt検定では、対応のないt検定よりも、差が小さかったのに「有意な差（意味のある差）」を見いだすことができた理由です。"
   ]
  },
  {
   "cell_type": "markdown",
   "metadata": {},
   "source": [
    "<h2 STYLE=\"background: #c2edff;padding: 0.5em;\"><a href=\"http://kogolab.chillout.jp/elearn/hamburger/chap5/sec4.html\" target=\"_blank\">5.4　実践編：新作バーガー！</a></h2>\n",
    "\n",
    "女子高生の評価がモグモグよりも低いことを知った店員さんは、\n",
    "\n",
    "「味の改善をして、もっと女子高生をひきつけなければダメだ！」\n",
    "\n",
    "と、ハンバーガーの味をいろいろ試みることにしたようです。　\n",
    "\n",
    "ある日、久しぶりにお店に行くと店員さんがあなたのところに駆け寄ってきました。\n",
    "\n",
    "<img src=\"image/salesman00012.jpg\">\n",
    "\n",
    "「自信作ができたんだ！」\n",
    "\n",
    "「お客さんは、今売り出しているハンバーガーとどっちがおいしいと思うか調べて欲しいんだけど」\n",
    "\n",
    "というわけで、あなたは調査を行うことにしました。"
   ]
  },
  {
   "cell_type": "markdown",
   "metadata": {
    "collapsed": true
   },
   "source": [
    "<h4 style=\"border-bottom: solid 1px black;\">改善前、改善後ではどちらがおいしいのか？</h4>\n",
    "\n",
    "あなたは、改善前10個、改善後10個、合計20個のハンバーガーを抱えて駅に向かい、10人の女子高生に改善前・改善後のハンバーガーをひとつずつ食べてもらい、点数を付けてもらいました。"
   ]
  },
  {
   "cell_type": "markdown",
   "metadata": {},
   "source": [
    "<h4 style=\"padding: 0.25em 0.5em;color: #494949;background: transparent;border-left: solid 5px #7db4e6;\">課題5.4</h4>\n",
    "\n",
    "下表を用いて、改善前と改善後で差があるかどうかを検定してください。\n",
    "<table border=\"1\" bgcolor=\"#FFFFFF\" cellpadding=\"0\" cellspacing=\"0\" align=\"center\">\n",
    "  <tr align=\"center\"> \n",
    "    <th width=\"120\" height=\"30\" bgcolor=\"#ffffcc\"> 女子高生</th>\n",
    "    <th width=\"120\" height=\"30\" bgcolor=\"#ffffcc\"> 改善前</th>\n",
    "    <th width=\"120\" height=\"30\" bgcolor=\"#ffcccc\"> 改善後</th>\n",
    "  </tr>\n",
    "  <tr align=\"center\"> \n",
    "    <td width=\"120\" height=\"30\" bgcolor=\"#cccccc\"> 1</td>\n",
    "    <td width=\"120\" height=\"30\"> 65</td>\n",
    "    <td width=\"120\" height=\"30\"> 80</td>\n",
    "  </tr>\n",
    "  <tr align=\"center\"> \n",
    "    <td width=\"120\" height=\"30\" bgcolor=\"#cccccc\">2</td>\n",
    "    <td width=\"120\" height=\"30\">70</td>\n",
    "    <td width=\"120\" height=\"30\">90</td>\n",
    "  </tr>\n",
    "  <tr align=\"center\"> \n",
    "    <td width=\"120\" height=\"30\" bgcolor=\"#cccccc\">3</td>\n",
    "    <td width=\"120\" height=\"30\">85</td>\n",
    "    <td width=\"120\" height=\"30\">80</td>\n",
    "  </tr>\n",
    "  <tr align=\"center\"> \n",
    "    <td width=\"120\" height=\"30\" bgcolor=\"#cccccc\">4</td>\n",
    "    <td width=\"120\" height=\"30\">70</td>\n",
    "    <td width=\"120\" height=\"30\">90</td>\n",
    "  </tr>\n",
    "  <tr align=\"center\"> \n",
    "    <td width=\"120\" height=\"30\" bgcolor=\"#cccccc\">5</td>\n",
    "    <td width=\"120\" height=\"30\">80</td>\n",
    "    <td width=\"120\" height=\"30\">90</td>\n",
    "  </tr>\n",
    "  <tr align=\"center\"> \n",
    "    <td width=\"120\" height=\"30\" bgcolor=\"#cccccc\">6</td>\n",
    "    <td width=\"120\" height=\"30\">80</td>\n",
    "    <td width=\"120\" height=\"30\">85</td>\n",
    "  </tr>\n",
    "  <tr align=center> \n",
    "    <td width=\"120\" height=\"30\" bgcolor=\"#cccccc\">7</td>\n",
    "    <td width=\"120\" height=\"30\">80</td>\n",
    "    <td width=\"120\" height=\"30\">80</td>\n",
    "  </tr>\n",
    "  <tr align=\"center\"> \n",
    "    <td width=\"120\" height=\"30\" bgcolor=\"#cccccc\">8</td>\n",
    "    <td width=\"120\" height=\"30\">70</td>\n",
    "    <td width=\"120\" height=\"30\">90</td>\n",
    "  </tr>\n",
    "  <tr align=\"center\" bgcolor=\"#FFFFFF\"> \n",
    "    <td width=\"120\" height=\"30\" bgcolor=\"#CCCCCC\">9</td>\n",
    "    <td width=\"120\" height=\"30\">80</td>\n",
    "    <td width=\"120\" height=\"30\">85</td>\n",
    "  </tr>\n",
    "  <tr align=\"center\" bgcolor=\"#FFFFFF\"> \n",
    "    <td width=\"120\" height=\"30\" bgcolor=\"#CCCCCC\"> 10</td>\n",
    "    <td width=\"120\" height=\"30\">70</td>\n",
    "    <td width=\"120\" height=\"30\">80</td>\n",
    "  </tr>\n",
    "</table>\n",
    "<img src=\"image/w-burger00005.jpg\">"
   ]
  },
  {
   "cell_type": "code",
   "execution_count": 13,
   "metadata": {
    "collapsed": true
   },
   "outputs": [],
   "source": [
    "before = [65, 70, 85, 70, 80, 80, 80, 70, 80, 70]\n",
    "after  = [80, 90, 80, 90, 90, 85, 80, 90, 85, 80]"
   ]
  },
  {
   "cell_type": "code",
   "execution_count": 14,
   "metadata": {
    "collapsed": false
   },
   "outputs": [
    {
     "data": {
      "text/plain": [
       "-3.585685828003181"
      ]
     },
     "execution_count": 14,
     "metadata": {},
     "output_type": "execute_result"
    }
   ],
   "source": [
    "# 課題5.4\n",
    "t_value2(before, after)"
   ]
  },
  {
   "cell_type": "code",
   "execution_count": 15,
   "metadata": {
    "collapsed": true
   },
   "outputs": [],
   "source": [
    "# 計算したt値は -3.59 だった。\n",
    "# 一方、自由度（標本数から１を引いた値）は9なので、有意水準5%を満たすt値は　-2.262 である。\n",
    "# 計算したt値は -2.262 を下回るので棄却域に入る。\n",
    "# それは、5%よりも小さい確率でしか起こりえないことを意味する。\n",
    "# したがって帰無仮説は棄却できる。\n",
    "# つまり、ワクワクバーガー（全体）とモグモグバーガー（全体）のおいしさの評価点に差があると言える。\n",
    "# 同様に、有意水準1%とした場合、それを満たすt値は　-3.250であり、この場合も帰無仮説を棄却できる。\n",
    "# 最終的な結論として、改善前と改善後は十分な差があると言える。"
   ]
  },
  {
   "cell_type": "markdown",
   "metadata": {},
   "source": [
    "<h2 STYLE=\"background: #c2edff;padding: 0.5em;\">ハンバーガー統計学 第５章 課題</h2>\n",
    "\n",
    "__課題5.3__、および __課題5.4__ を解いて、指定のメールアドレスまでメールしてください。メール送信後は、エラーが帰ってきてないことを確認してください（メールアドレスを間違える人がときどき居ます）。\n",
    "* 締切：10月13日（今すぐでなくても結構です）\n",
    "* メールタイトル：「ハンバーガー統計学 第５章」\n",
    "* 学籍番号と氏名を明記すること。\n",
    "* 感想などがあれば書いてくれると嬉しいです。次回以降の講義の改善につながるかも知れません。"
   ]
  },
  {
   "cell_type": "code",
   "execution_count": 16,
   "metadata": {
    "collapsed": true
   },
   "outputs": [],
   "source": [
    "# ハンバーガー統計学 第５章 課題"
   ]
  },
  {
   "cell_type": "markdown",
   "metadata": {},
   "source": [
    "<h2 STYLE=\"background: #c2edff;padding: 0.5em;\">終わったら、<a href=\"HamburgerStatistics06.ipynb\">第６章：分散分析（１要因）</a> に進んでください。</h2>\n",
    "（2017年10月13日講義、10月17日課題提出締切）"
   ]
  }
 ],
 "metadata": {
  "kernelspec": {
   "display_name": "Python 3",
   "language": "python",
   "name": "python3"
  },
  "language_info": {
   "codemirror_mode": {
    "name": "ipython",
    "version": 3
   },
   "file_extension": ".py",
   "mimetype": "text/x-python",
   "name": "python",
   "nbconvert_exporter": "python",
   "pygments_lexer": "ipython3",
   "version": "3.4.5"
  }
 },
 "nbformat": 4,
 "nbformat_minor": 2
}
