{
 "cells": [
  {
   "cell_type": "markdown",
   "metadata": {},
   "source": [
    "<h1 STYLE=\"background: #c2edff;padding: 0.5em;\">2017年 生命統計学</h1>\n",
    "\n",
    "http://nbviewer.jupyter.org/github/maskot1977/Statistics2017/blob/master/index.ipynb\n",
    "\n",
    "<h4 style=\"border-bottom: solid 1px black;\">Jupyter Notebook (IPython Notebook) とは</h4>\n",
    "\n",
    "Python という名のプログラミング言語が使えるプログラミング環境。計算コードと計算結果を同じ場所に時系列で保存できるので、実験系における実験ノートのように、いつどんな処理を行って何を得たのか記録して再現するのに便利。\n",
    "* <a href=\"http://www.task-notes.com/entry/20151129/1448794509\" target=\"_blank\">個人PCでのインストールと始め方</a>\n",
    "* <a href=\"https://raw.githubusercontent.com/maskot1977/-/master/%E5%B0%8F%E5%AF%BA%E7%A0%942017.pptx.png\" target=\"_blank\">小寺研究室</a> では、MacOSX上で右記のようにセットアップしています。 <a href=\"https://sites.google.com/site/masaakikotera/8-python/8-1-huan-jing-gou-zhu\" target=\"_blank\">環境設定</a>\n",
    "* 小寺らが企画・運営している <a href=\"https://chemo-wakate.connpass.com/\" target=\"_blank\">ケモインフォマティクス若手の会</a> でも Jupyter を使って化学計算等の講習を行っています。"
   ]
  },
  {
   "cell_type": "markdown",
   "metadata": {},
   "source": [
    "<h4 style=\"border-bottom: solid 1px black;\">当学の演習室での使い方</h4>\n",
    "\n",
    "演習室の端末にはMacとWindowsが入っていますが、Mac側にJupyterをインストールしています。\n",
    "\n",
    "<ol>\n",
    "<li>各自のユーザー名で Mac にログイン（Windowsではなく）\n",
    "<li>左下の「Finder」（四角い顔）をクリックして、新しいファインダのウインドウを開く。\n",
    "<li>ファインダのウインドウ内の左上の方に「よく使う項目：アプリケーション」があるので、そこをクリック。\n",
    "<li>「ユーティリティ」というフォルダがあるのでそこをダブルクリック。\n",
    "<li>「ターミナル」というアプリケーションがあるので、そこをダブルクリック。\n",
    "<li>ターミナルが開くので、以下のように入力して「return」キーを押す。\n",
    "\n",
    "<blockquote>/opt/local/Library/Frameworks/Python.framework/Versions/3.4/bin/jupyter notebook</blockquote>\n",
    "\n",
    "<li>これで Jupyter Notebook を使ったプログラミング環境が出来上がります。\n",
    "</ol>"
   ]
  },
  {
   "cell_type": "markdown",
   "metadata": {},
   "source": [
    "<h2 STYLE=\"background: #c2edff;padding: 0.5em;\">ハンバーガー統計学 with Python</h2>\n",
    "\n",
    "<h4 style=\"border-bottom: solid 1px black;\">第１回講義（2017年9月26日講義、9月29日課題提出締切）</h4>\n",
    "* プログラミング言語 Python と Jupyter Notebook の導入\n",
    "* <a href=\"HamburgerStatistics01.ipynb\">第１章</a>　平均と分散"
   ]
  },
  {
   "cell_type": "markdown",
   "metadata": {
    "collapsed": true
   },
   "source": [
    "<h4 style=\"border-bottom: solid 1px black;\">第２回講義（2017年9月29日講義、10月3日課題提出締切）</h4>\n",
    "* <a href=\"HamburgerStatistics02.ipynb\">第２章</a>　信頼区間"
   ]
  },
  {
   "cell_type": "markdown",
   "metadata": {
    "collapsed": true
   },
   "source": [
    "<h4 style=\"border-bottom: solid 1px black;\">第３回講義（2017年10月3日講義、10月10日課題提出締切）</h4>\n",
    "* <a href=\"HamburgerStatistics03.ipynb\">第３章</a>　カイ２乗検定"
   ]
  },
  {
   "cell_type": "markdown",
   "metadata": {},
   "source": [
    "<h4 style=\"border-bottom: solid 1px black;\">第４回講義（2017年10月10日講義、10月13日課題提出締切）</h4>\n",
    "* <a href=\"HamburgerStatistics04.ipynb\">第４章</a>　t検定（対応なし）\n",
    "* <a href=\"HamburgerStatistics05.ipynb\">第５章</a>　t検定（対応あり）"
   ]
  },
  {
   "cell_type": "markdown",
   "metadata": {},
   "source": [
    "<h4 style=\"border-bottom: solid 1px black;\">第５回講義（2017年10月13日講義、10月17日課題提出締切）</h4>\n",
    "* <a href=\"HamburgerStatistics06.ipynb\">第６章</a>　分散分析（１要因） \n",
    "* <a href=\"HamburgerStatistics07.ipynb\">第７章</a>　分散分析（２要因） "
   ]
  },
  {
   "cell_type": "markdown",
   "metadata": {},
   "source": [
    "<h4 style=\"border-bottom: solid 1px black;\">第６回講義（2017年10月17日講義、10月20日課題提出締切）</h4>\n",
    "* <a href=\"HamburgerStatistics08.ipynb\">第８章</a>　分布\n",
    "* <a href=\"HamburgerStatistics09.ipynb\">第９章</a>　ここまでの復習"
   ]
  },
  {
   "cell_type": "markdown",
   "metadata": {},
   "source": [
    "<h2 STYLE=\"background: #c2edff;padding: 0.5em;\">アイスクリーム統計学 with Python</h2>\n",
    "\n",
    "* <a href=\"random_grouping.ipynb\">グループワークのチーム分け</a>\n",
    "\n",
    "<h4 style=\"border-bottom: solid 1px black;\">第７回講義（2017年10月20日講義、10月24日課題提出締切）</h4>\n",
    "* <a href=\"IceCreamStatistics01.ipynb\">第１章</a>　散布図と相関\n",
    "* <a href=\"IceCreamStatistics02.ipynb\">第２章</a>　相関係数"
   ]
  },
  {
   "cell_type": "markdown",
   "metadata": {},
   "source": [
    "<h4 style=\"border-bottom: solid 1px black;\">第８回講義（2017年10月24日講義、10月27日課題提出締切）</h4>\n",
    "* <a href=\"IceCreamStatistics03.ipynb\">第３章</a>　無相関検定\n",
    "* <a href=\"IceCreamStatistics04.ipynb\">第４章</a>　単回帰"
   ]
  },
  {
   "cell_type": "markdown",
   "metadata": {},
   "source": [
    "<h4 style=\"border-bottom: solid 1px black;\">第９回講義（2017年10月27日講義、10月31日課題提出締切）</h4>\n",
    "* <a href=\"IceCreamStatistics05.ipynb\">第５章</a>　偏相関\n",
    "* <a href=\"IceCreamStatistics06.ipynb\">第６章</a>　重回帰"
   ]
  },
  {
   "cell_type": "markdown",
   "metadata": {},
   "source": [
    "<h4 style=\"border-bottom: solid 1px black;\">第１０回講義（2017年10月31日講義、11月3日課題提出締切）</h4>\n",
    "* <a href=\"IceCreamStatistics07.ipynb\">第７章</a>　相関行列\n",
    "* <a href=\"IceCreamStatistics08.ipynb\">第８章</a>　因子分析 (1)\n",
    "* <a href=\"IceCreamStatistics09.ipynb\">第９章</a>　因子分析 (2)"
   ]
  },
  {
   "cell_type": "markdown",
   "metadata": {},
   "source": [
    "<h4 style=\"border-bottom: solid 1px black;\">第１１回講義（2017年11月3日講義、11月7日課題提出締切）</h4>\n",
    "* <a href=\"IceCreamStatistics10.ipynb\">第１０章</a>　主成分分析\n",
    "* <a href=\"IceCreamStatistics11.ipynb\">第１１章</a>　線形回帰の復習"
   ]
  },
  {
   "cell_type": "markdown",
   "metadata": {},
   "source": [
    "<h2 STYLE=\"background: #c2edff;padding: 0.5em;\">生命統計学 with Python</h2>\n",
    "\n",
    "「ハンバーガー統計学」と「アイスクリーム統計学」で、統計学の基礎を学び、Pythonを用いた演習をこなしていただきました。ここからは、実データを用いたグループワークを行います。\n",
    "\n",
    "<h4 style=\"border-bottom: solid 1px black;\">第１２回講義（2017年11月7日グループワーク、11月09日課題提出締切）</h4>\n",
    "\n",
    "<ol>\n",
    "<li>２〜６名程度の１０チームに分かれる（チーム分けは第１０回講義までに決定し発表します）。\n",
    "<li>チームリーダーを１名決める。\n",
    "<li>それぞれのチーム毎に、<a href=\"RealDataTraining.ipynb\">実習用データ</a> から１つまたは２つを選ぶ（異なるチームが同じデータを選んでも構いません。ただし、解析や発表はチームごとに独自に行なうこと）。\n",
    "<li>チーム内で相談しながら、本講義で学んだ手法を駆使してデータ解析を行う。本講義で学んだ手法以外のことを用いても構いませんが、本講義で学んだ手法を必ず盛り込むこと。\n",
    "<li>第１３回講義で用いる発表資料を作成する。発表時間の目安は各チームあたり６分間。\n",
    "<li>チームリーダーは、第１３回講義が始まる前日までに発表資料をメールにて提出する。その際に、各メンバーの役割分担についても報告すること。役割分担については、チームメイト同士が「平等」と思えるようであれば、どのような分担でも構いません。\n",
    "</ol>"
   ]
  },
  {
   "cell_type": "markdown",
   "metadata": {},
   "source": [
    "<h4 style=\"border-bottom: solid 1px black;\">第１３回講義（2017年11月10日グループワーク、11月14日課題提出締切）</h4>\n",
    "<ul>\n",
    "<li>解析結果について、チーム毎に皆の前で発表を行う。発表時間の目安は各チームあたり７分間。\n",
    "<li>課題：チームリーダーだけでなく各人が、以下の内容をメールにて報告する（11月14日締切）。<ol>\n",
    "<li>自分のチーム以外の発表の中で、どのチームの発表が一番良かったか。\n",
    "<li>自分のチーム以外の発表を聞いて思ったこと、気づいたこと。\n",
    "<li>自分のチーム内でのグループワークや発表を通じて思ったこと、気づいたこと。\n",
    "</ol>\n",
    "</ul>"
   ]
  },
  {
   "cell_type": "markdown",
   "metadata": {},
   "source": [
    "<h4 style=\"border-bottom: solid 1px black;\">第１４回講義（2017年11月14日講義）</h4>\n",
    "<ol>\n",
    "<li>グループワークのまとめ\n",
    "<li>これまでのまとめ\n",
    "</ol>"
   ]
  },
  {
   "cell_type": "markdown",
   "metadata": {},
   "source": [
    "<h4 style=\"border-bottom: solid 1px black;\">定期試験</h4>\n",
    "* １１月２４日（金）16:50-18:20"
   ]
  }
 ],
 "metadata": {
  "kernelspec": {
   "display_name": "Python 3",
   "language": "python",
   "name": "python3"
  },
  "language_info": {
   "codemirror_mode": {
    "name": "ipython",
    "version": 3
   },
   "file_extension": ".py",
   "mimetype": "text/x-python",
   "name": "python",
   "nbconvert_exporter": "python",
   "pygments_lexer": "ipython3",
   "version": "3.4.5"
  }
 },
 "nbformat": 4,
 "nbformat_minor": 2
}
