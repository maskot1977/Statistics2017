{
 "cells": [
  {
   "cell_type": "markdown",
   "metadata": {},
   "source": [
    "# アイスクリーム統計学 with Python 第3章\n",
    "\n",
    "第８回講義（2017年10月24日講義、10月27日課題提出締切）\n",
    "\n",
    "このページは、<a href=\"http://kogolab.chillout.jp/elearn/icecream/index.html\" target=\"_blank\">アイスクリーム統計学にようこそ！</a>の内容をプログラミング言語 Python に合わせて書き直したものです（著作権者の許諾を得て利用しております）。"
   ]
  },
  {
   "cell_type": "markdown",
   "metadata": {},
   "source": [
    "<h1 STYLE=\"background: #c2edff;padding: 0.5em;\"><a href=\"http://kogolab.chillout.jp/elearn/icecream/chap3/sec0.html\" target=\"_blank\">第３章　無相関検定</a></h1>\n",
    "\n",
    "<P class=\"photo\"><img src=\"image/icecream.jpg\" width=\"172\" height=\"179\"></P>\n",
    "<P>アイ子ちゃんがバイトをしている「21アイスクリーム」では、順調にお客がつき始めました。周辺の若い人たちには、おいしいと評判になっているようです。</P>\n",
    "<P>そんなある日、店長が段ボール箱を抱えてやってきました。</P>\n",
    "<P class=\"photo\"><img src=\"image/tencho-komaru.jpg\" width=\"126\" height=\"139\"></P>\n",
    "<P class=speech>「アイ子ちゃ～ん」</P>\n",
    "<P class=speech>───はい、何でしょうか、店長。わあ、すごい量ですね。</P>\n",
    "<P class=speech>「そうなんだよ。これは、お客様アンケートなんだ。500枚以上あるんだ」</P>\n",
    "<P class=speech>───も、もしかして……</P>\n",
    "<P class=speech>「そう。もしかしてが当たっているかもよ」</P>\n",
    "<P class=speech>───私、用事を思い出したんで、今日はこれで失礼させていただきます。</P>\n",
    "<P class=speech>「まあまあ、アイ子ちゃん。そんなこといわずに。残業代、はずむからさ」</P>"
   ]
  },
  {
   "cell_type": "markdown",
   "metadata": {},
   "source": [
    "<h2 STYLE=\"background: #c2edff;padding: 0.5em;\"><a href=\"http://kogolab.chillout.jp/elearn/icecream/chap3/sec1.html\" target=\"_blank\">3.1　母集団と標本集団</a></h2>\n",
    "\n",
    "<P class=\"photo\"><img src=\"image/tencho-komaru.jpg\" width=\"126\" height=\"139\"></P>\n",
    "<P class=\"speech\">「お願いしたいのは、このお客様アンケートを分析してほしいんだ。特に、年齢と１ヶ月当たりの来店回数の関係を知りたいんだよ」</P>\n",
    "<P class=\"speech\">───いつまでに、ですか？</P>\n",
    "<P class=\"speech\">「明日、本部で報告しなくちゃならないんだ」</P>\n",
    "<P class=\"speech\">───え～、そんなの無理ですよ。500枚以上あるんでしょ？</P>\n",
    "<P class=\"speech\">「無理を承知で、そこをなんとか」</P>\n",
    "<P class=\"photo\"><img src=\"image/senpai-futsu.jpg\" width=\"152\" height=\"127\"></P>\n",
    "<P class=\"speech\">「店長、どうしました？」</P>\n",
    "<P class=\"speech\">───あ、三ヶ島先輩。店長ったら、無理なことを言うんですよ。このアンケートの山を１日で分析してくれだなんて。</P>\n",
    "<P class=\"speech\">「時間がないなら仕方ないですね。このアンケートから、データを抜き出して分析してはどうでしょうか」</P>\n",
    "<P class=\"speech\">───えぇっ！　データを抜き出して分析してもいいんですか？！</P>\n",
    "<P class=\"photo\"><img src=\"image/aiko-fushigi.jpg\" width=\"148\" height=\"128\"></P>"
   ]
  },
  {
   "cell_type": "markdown",
   "metadata": {},
   "source": [
    "<h4 style=\"border-bottom: solid 1px black;\">母集団と標本集団</h4>\n",
    "\n",
    "<p>もちろん手元にあるデータ全部を使って分析をするに越したことはありません。しかし、それができないことも多いのです。</p>\n",
    "<p>分析の対象として想定する集団を「<em>母集団</em>」と呼びます。たとえば、国勢調査で知ろうとしている対象は「日本に住んでいる人全体」であり、これが母集団です。</p>\n",
    "<p>政党支持率を知りたいときの母集団は、「日本に住んでいる有権者全体」ですが、これを短い時間で調査することは不可能です。したがって、母集団の中から一定の数のデータを抜き出します。これを「<em>標本集団</em>」と呼びます。標本集団を選ぶことを「<em>標本抽出</em>」と呼びます。標本集団は「<em>サンプル</em>」ともいいます。また、標本抽出を「<em>サンプリング</em>」ということもあります。</p>\n",
    "<p>標本抽出で大切なことは、偏りのないように、人為的な意図が入らないように抽出することです。これを「<em>無作為抽出</em>」（あるいは、<em>ランダムサンプリング</em>）と呼びます。具体的には、くじ引きをしたり、乱数表を使ったり、さいころを振ったりして標本を決めます。</p>\n",
    "\n",
    "<p>店長が想定している母集団は、「このお店に来店したお客全体」であると考えられます。</p>\n",
    "<p>一方、集められたアンケートは、そこからのサンプルであると考えられます。アンケートに答えなかったお客もいるからです。ですが、簡単のためここでは、このアンケート全体を母集団として考えていきます。</p>\n"
   ]
  },
  {
   "cell_type": "markdown",
   "metadata": {},
   "source": [
    "<h2 STYLE=\"background: #c2edff;padding: 0.5em;\"><a href=\"http://kogolab.chillout.jp/elearn/icecream/chap3/sec2.html\" target=\"_blank\">3.2　標本集団の相関係数</a></h2>\n",
    "\n",
    "<P class=\"photo\"><img src=\"image/aiko-ganbaru.jpg\" width=\"181\" height=\"133\"></P>\n",
    "<P class=\"speech\">───よし、それじゃこのアンケートの山から標本を抜き出しますよ。</P>\n",
    "<P class=\"speech\">「アイ子ちゃん、よくかき混ぜてね。まんべんなく抜き出すんだよ」</P>\n",
    "<P class=\"speech\">───三ヶ島先輩、こんなもんでどうですか？</P>"
   ]
  },
  {
   "cell_type": "markdown",
   "metadata": {},
   "source": [
    "<h4 style=\"padding: 0.25em 0.5em;color: #494949;background: transparent;border-left: solid 5px #7db4e6;\">課題3.2</h4>\n",
    "\n",
    "[標本のデータ](https://raw.githubusercontent.com/maskot1977/ipython_notebook/master/toydata/specimen.txt)を用いて、以下の問いに答えてください。\n",
    "\n",
    "(1)　散布図を描いてください。\n",
    "\n",
    "(2)　相関係数を計算してください。"
   ]
  },
  {
   "cell_type": "code",
   "execution_count": 1,
   "metadata": {
    "collapsed": true
   },
   "outputs": [],
   "source": [
    "# 課題3.2"
   ]
  },
  {
   "cell_type": "code",
   "execution_count": 2,
   "metadata": {
    "collapsed": true
   },
   "outputs": [],
   "source": [
    "# URL によるリソースへのアクセスを提供するライブラリをインポートする。\n",
    "# import urllib # Python 2 の場合\n",
    "import urllib.request # Python 3 の場合"
   ]
  },
  {
   "cell_type": "code",
   "execution_count": 3,
   "metadata": {
    "collapsed": false
   },
   "outputs": [
    {
     "data": {
      "text/plain": [
       "('specimen.txt', <http.client.HTTPMessage at 0x104914a58>)"
      ]
     },
     "execution_count": 3,
     "metadata": {},
     "output_type": "execute_result"
    }
   ],
   "source": [
    "# ウェブ上のリソースを指定する\n",
    "url = 'https://raw.githubusercontent.com/maskot1977/ipython_notebook/master/toydata/specimen.txt'\n",
    "# ダウンロードしたデータから、列ごとに数字を読み込んでリストに格納する。\n",
    "# 指定したURLからリソースをダウンロードし、名前をつける。\n",
    "#urllib.urlretrieve(url, 'specimen.txt') # Python 2 の場合\n",
    "urllib.request.urlretrieve(url, 'specimen.txt') # Python 3 の場合"
   ]
  },
  {
   "cell_type": "code",
   "execution_count": 4,
   "metadata": {
    "collapsed": true
   },
   "outputs": [],
   "source": [
    "# ダウンロードしたデータから、列ごとに数字を読み込んでリストに格納する。\n",
    "col1 = []\n",
    "col2 = []\n",
    "col3 = []\n",
    "for i, line in enumerate(open('specimen.txt')):\n",
    "    if i == 0:\n",
    "        continue\n",
    "    a = line.split()\n",
    "    col1.append(int(a[0]))\n",
    "    col2.append(int(a[1]))\n",
    "    col3.append(int(a[2]))"
   ]
  },
  {
   "cell_type": "code",
   "execution_count": 5,
   "metadata": {
    "collapsed": true
   },
   "outputs": [],
   "source": [
    "# 図やグラフを図示するためのライブラリをインポートする。\n",
    "import matplotlib.pyplot as plt\n",
    "%matplotlib inline"
   ]
  },
  {
   "cell_type": "code",
   "execution_count": 6,
   "metadata": {
    "collapsed": false,
    "scrolled": true
   },
   "outputs": [
    {
     "data": {
      "image/png": "[encoded data removed]",
      "text/plain": [
       "<matplotlib.figure.Figure at 0x108122470>"
      ]
     },
     "metadata": {},
     "output_type": "display_data"
    }
   ],
   "source": [
    "#散布図を描く。\n",
    "plt.scatter(col2, col3, alpha=0.5)\n",
    "plt.title(\"Age and frequency\")\n",
    "plt.xlabel(\"Age\")\n",
    "plt.ylabel(\"Frequency\")\n",
    "for day, x, y in zip(col1, col2, col3):\n",
    "    plt.text(x, y, day, alpha=0.8, size=12)\n",
    "plt.grid()\n",
    "plt.show()"
   ]
  },
  {
   "cell_type": "code",
   "execution_count": 7,
   "metadata": {
    "collapsed": true
   },
   "outputs": [],
   "source": [
    "# 平均値を求める関数\n",
    "def average(list):\n",
    "    sum = 0\n",
    "    for x in list:\n",
    "        sum += x\n",
    "    return sum / len(list)"
   ]
  },
  {
   "cell_type": "code",
   "execution_count": 8,
   "metadata": {
    "collapsed": true
   },
   "outputs": [],
   "source": [
    "# 分散を求める関数\n",
    "def variance(list):\n",
    "    ave = average(list)\n",
    "    sum = 0\n",
    "    for x in list:\n",
    "        sum += (x - ave) ** 2\n",
    "    return sum / len(list)"
   ]
  },
  {
   "cell_type": "code",
   "execution_count": 9,
   "metadata": {
    "collapsed": true
   },
   "outputs": [],
   "source": [
    "# 標準偏差を求める関数\n",
    "import math\n",
    "def standard_deviation(list):\n",
    "    return math.sqrt(variance(list))"
   ]
  },
  {
   "cell_type": "code",
   "execution_count": 10,
   "metadata": {
    "collapsed": true
   },
   "outputs": [],
   "source": [
    "# 共分散 = 偏差積の平均 （偏差値、ではありません。偏差積、です）\n",
    "def covariance(list1, list2): \n",
    "    ave1 = average(list1)\n",
    "    ave2 = average(list2)\n",
    "    sum = 0\n",
    "    for d1, d2 in zip(list1, list2):\n",
    "        sum += (d1 - ave1) * (d2 - ave2)\n",
    "    return sum / len(list1)"
   ]
  },
  {
   "cell_type": "code",
   "execution_count": 11,
   "metadata": {
    "collapsed": true
   },
   "outputs": [],
   "source": [
    "# 相関係数 = 共分散を list1, list2 の標準偏差で割ったもの\n",
    "def correlation(list1, list2):\n",
    "    return covariance(list1, list2) / (standard_deviation(list1) * standard_deviation(list2))"
   ]
  },
  {
   "cell_type": "code",
   "execution_count": 12,
   "metadata": {
    "collapsed": false
   },
   "outputs": [
    {
     "data": {
      "text/plain": [
       "0.26652273871533966"
      ]
     },
     "execution_count": 12,
     "metadata": {},
     "output_type": "execute_result"
    }
   ],
   "source": [
    "correlation(col2, col3)"
   ]
  },
  {
   "cell_type": "markdown",
   "metadata": {},
   "source": [
    "<h2 STYLE=\"background: #c2edff;padding: 0.5em;\"><a href=\"http://kogolab.chillout.jp/elearn/icecream/chap3/sec3.html\" target=\"_blank\">3.3　無相関検定</a></h2>\n",
    "\n",
    "<P class=\"photo\"><img src=\"image/aiko-futsu.jpg\" width=\"168\" height=\"140\"></P>\n",
    "<P class=\"speech\">───散布図の形は、全体としては右上がりなのですが、年齢20歳あたりを境にして、折れ曲がった感じですね。</P>\n",
    "<P class=\"speech\">「こういう散布図の形は、分析の時に注意しなくちゃいけないな。相関係数はいくらになった？」</P>\n",
    "<P class=\"speech\">───0.267です。小数点以下4桁目を四捨五入しました。0.2よりも大きいので、「弱い相関がある」といっていいですね？</P>\n",
    "<P class=\"speech\">「うん、一般的にはね。でも……」</P>\n",
    "<P class=\"photo\"><img src=\"image/senpai-nozoku.jpg\" width=\"135\" height=\"126\"></P>\n",
    "<P class=\"speech\">───でも……？</P>\n",
    "<P class=\"speech\">「一般的には、「弱い相関」でいいんだけれど、ここではちょっと突っ込んで考えてみようよ。つまり、0.267という相関係数は、相関があるのか、それともないのか？」</P>\n",
    "<P class=\"speech\">───えっ？　「弱い相関」なんですから、相関があるといっていいんじゃないですか？</P>\n",
    "<P class=\"speech\">「じゃ、もし、0.198だったら？」</P>\n",
    "<P class=\"speech\">───う～ん、ビミョーですね。</P>\n",
    "<P class=\"speech\">「そうなんだ。相関係数0.2～0.4を「弱い相関」と呼ぶのは、あくまでも便宜的な言い方で、根拠があるわけじゃない。0.267の数字にはたして「意味があるのか（ちゃんと相関があるのか）」それとも「たまたまその数字になってしまったのか（本当は相関はなさそうなのか）」どうかを決める必要があるんだ」</P>\n",
    "<P class=\"speech\">───そんな方法があるんですか？</P>\n",
    "<P class=\"speech\">「ある。それが有意性検定という考え方だ。単に検定と呼ぶこともある。有意というのは「意味がある」ということだ」</P>"
   ]
  },
  {
   "cell_type": "markdown",
   "metadata": {},
   "source": [
    "<h4 style=\"border-bottom: solid 1px black;\">無相関検定</h4>\n",
    "\n",
    "<p>ある標本をとって、その相関係数を求めたときに、その相関係数に意味があるのかどうかを決めることを「<em>無相関検定</em>」と呼びます。</p>\n",
    "<p>無相関検定は、次のようなステップで考えていきます。</p>\n",
    "<p>(1)　まず、母集団の相関係数がゼロであると仮定します。この仮定を「<em>帰無仮説</em>」と呼びます。もし、この帰無仮説が否定されれば、その反対である「母集団の相関係数がゼロではない」ということが受け入れられます。仮説を否定することを「<em>棄却</em>」、受け入れることを「<em>採択</em>」と呼びます。</p>\n",
    "<p>(2)　相関係数ゼロの母集団から、20個の標本を取り出したときの、その相関係数はどうなるかを調べます。何回も何回も繰り返して調べます。もともとの母集団の相関係数がゼロですから、標本集団の相関係数もゼロになることが多いはずです。しかし、0.1や-0.2といった相関係数も起こりえます。しかし、0.9や-0.95という相関係数はほとんど起こらないでしょう。</p>\n",
    "<p class=\"photo\"><img src=\"image/kentei1.jpg\" width=\"712\" height=\"605\"></p>\n",
    "<p>(3)　(2)を何回も繰り返してみて、標本集団の相関係数がどうなるかという確率を調べます。それを図にしたものがこれです。横軸には相関係数、縦軸には確率密度といって、その面積を求めると確率になるものを示しています。見てわかるとおり、相関係数ゼロの周辺が一番高い一山の分布になります。-1と1に近づくほど、確率は減少していきます。</p>\n",
    "<p class=\"photo\"><img src=\"image/kentei2.jpg\" width=\"695\" height=\"375\"></p>\n",
    "<p>(4)　この確率分布を得てから、こう考えます。いま、20個の標本で、0.267という相関係数になった。はたしてこれはどれくらいの確率で起こることなのか。それは、この図でここを見ればわかります。このグレーの部分が、相関係数が0.267以上になる確率です。</p>\n",
    "<p class=\"photo\"><img src=\"image/kentei3.jpg\" width=\"681\" height=\"336\"></p>\n",
    "<p>(5)　さて、ここで、「めったに起こらないこと」と「起こってもおかしくないこと」の境界を決めます。これは、伝統的に、0.05（5%）か、0.01（1%）を使うことが多いです。つまり、100回に1回（1%）あるいは、100回に5回（5%）より小さければ「めったに起こらないこと」とし、そうでなければ「起こってもおかしくないこと」と認定します。この境界を「<em>有意水準</em>」と呼びます。</p>\n",
    "<p>(6)　今、有意水準を5%に決めると、境界は、-0.444と0.444のところに来ます。つまり、20個の標本を取り出してその相関係数を求めたとき、その値が、-0.444よりも小さいか、あるいは、0.444よりも大きくなる確率は5%です。この図では、グラフの両方のすそ野から0.025の面積になるところを取っています。左右２つありますから、両方あわせて面積は0.05(5%)です。なぜプラスとマイナスの両方を取るかというと、通常、相関係数の検定をするときは、それがプラスでもマイナスでも意味があると考えているからです。このときの0.444を「<em>限界値</em>」と呼びます。</p>\n",
    "<p class=\"photo\"><img src=\"image/kentei4.jpg\" width=\"691\" height=\"350\"></p>\n",
    "<p>(7)　そうしたところで、0.444と0.267を比べてみます。そうすると、0.267という相関係数が起こる確率は、5%よりも大きいことがわかります。0.444の境界よりも中心に寄っているからです。5%よりも大きい確率なので、これは「起こってもおかしくない」ことと認定します。つまり、最初の帰無仮説「母集団の相関係数はゼロである」を受け入れます（採択します）。したがって、結論は「標本集団の0.267という相関係数は、5%の有意水準で、有意ではなかった」となります。つまり、普通のことばで言えば、「標本集団について0.267という相関係数がでたけれども、これは意味のある相関係数であるとはいえない。なぜなら、母集団の相関係数はゼロということを否定できないから」ということです。</p>"
   ]
  },
  {
   "cell_type": "markdown",
   "metadata": {},
   "source": [
    "<h4 style=\"border-bottom: solid 1px black;\">なぜ帰無仮説を立てるのか？</h4>\n",
    "<p class=\"photo\"><img src=\"image/aiko-fushigi.jpg\" width=\"148\" height=\"128\"></p>\n",
    "<p class=\"speech\">───ふーん、検定って、ずいぶんややこしい考え方をするんですねぇ。私だったら、帰無仮説なんかじゃなくて、最初から「母集団には相関がある」という仮説を考えてしまいますけど。それを棄却したり、採択したりすれば、いいじゃないですか。</p>\n",
    "<p class=\"speech\">「そこは検定の考え方のポイントだ。なんで帰無仮説なんかを立てるんだと思う？」</p>\n",
    "<p class=\"speech\">───なんでですか？</p>\n",
    "<p class=\"speech\">「「母集団に相関がある」という仮説は無数にあるからなんだよ。考えてごらん。母集団の相関係数＝0.8、母集団の相関係数＝0.5、母集団の相関係数＝-0.3、母集団の相関係数＝-0.95………無限にある」</p>\n",
    "<p class=\"speech\">───なるほど、それに対して「母集団の相関係数＝0」という仮説はひとつだけです。</p>\n",
    "<p class=\"speech\">「そう。だから１つだけの帰無仮説を、棄却か採択すれば、勝負がつくってわけだ」</p>\n",
    "<p class=\"speech\">───う～ん、検定って回り道のようで、実は合理的なんですね。</p>"
   ]
  },
  {
   "cell_type": "markdown",
   "metadata": {},
   "source": [
    "<h2 STYLE=\"background: #c2edff;padding: 0.5em;\"><a href=\"http://kogolab.chillout.jp/elearn/icecream/chap3/sec4.html\" target=\"_blank\">3.4　標本数による限界値</a></h2>\n",
    "\n",
    "<P class=\"photo\"><img src=\"image/aiko-fushigi.jpg\" width=\"148\" height=\"128\"></P>\n",
    "<P class=\"speech\">───三ヶ島先輩、標本数が20個のとき、5%有意水準での限界値が0.444ということはわかりました。でも、標本数はいつでも20個というわけではないですよね。</P>\n",
    "<P class=\"speech\">「そうだね。たった5個の標本のときもあるだろうし、300個の標本の時だってあるだろう」</P>\n",
    "<P class=\"speech\">───そうすると、そのときの限界値を知るためにはどうしたらいいんですか？</P>\n",
    "<P class=\"speech\">「そのために、標本数別の限界値を示した便利な表がある。統計学の本を見れば、たいてい載っているよ。こんな感じだ（南風原朝和『心理統計学の基礎』有斐閣より抜粋）」</P>\n",
    "<P class=\"photo\"><img src=\"image/senpai-futsu.jpg\" width=\"152\" height=\"127\"></P>\n",
    "<table width=\"50%\" border=\"1\" align=\"center\" cellpadding=\"0\" cellspacing=\"0\">\n",
    "  <tr bgcolor=\"#CCCCCC\"> \n",
    "    <td> \n",
    "      <div align=\"right\">標本数</div></td>\n",
    "    <td> \n",
    "      <div align=\"right\">5%有意水準</div></td>\n",
    "    <td> \n",
    "      <div align=\"right\">1%有意水準</div></td>\n",
    "  </tr>\n",
    "  <tr> \n",
    "    <td><div align=\"right\">3</div></td>\n",
    "    <td><div align=\"right\">0.997</div></td>\n",
    "    <td><div align=\"right\">1.000</div></td>\n",
    "  </tr>\n",
    "  <tr> \n",
    "    <td><div align=\"right\">4</div></td>\n",
    "    <td><div align=\"right\">0.950</div></td>\n",
    "    <td><div align=\"right\">0.990</div></td>\n",
    "  </tr>\n",
    "  <tr> \n",
    "    <td><div align=\"right\">5</div></td>\n",
    "    <td><div align=\"right\">0.878</div></td>\n",
    "    <td><div align=\"right\">0.959</div></td>\n",
    "  </tr>\n",
    "  <tr> \n",
    "    <td><div align=\"right\">6</div></td>\n",
    "    <td><div align=\"right\">0.811</div></td>\n",
    "    <td><div align=\"right\">0.917</div></td>\n",
    "  </tr>\n",
    "  <tr> \n",
    "    <td><div align=\"right\">7</div></td>\n",
    "    <td><div align=\"right\">0.754</div></td>\n",
    "    <td><div align=\"right\">0.875</div></td>\n",
    "  </tr>\n",
    "  <tr> \n",
    "    <td><div align=\"right\">8</div></td>\n",
    "    <td><div align=\"right\">0.707</div></td>\n",
    "    <td><div align=\"right\">0.834</div></td>\n",
    "  </tr>\n",
    "  <tr> \n",
    "    <td><div align=\"right\">9</div></td>\n",
    "    <td><div align=\"right\">0.666</div></td>\n",
    "    <td><div align=\"right\">0.798</div></td>\n",
    "  </tr>\n",
    "  <tr bgcolor=\"#FFFFCC\"> \n",
    "    <td> \n",
    "      <div align=\"right\">10</div></td>\n",
    "    <td> \n",
    "      <div align=\"right\">0.632</div></td>\n",
    "    <td> \n",
    "      <div align=\"right\">0.765</div></td>\n",
    "  </tr>\n",
    "  <tr bgcolor=\"#FFFFCC\"> \n",
    "    <td> \n",
    "      <div align=\"right\">11</div></td>\n",
    "    <td> \n",
    "      <div align=\"right\">0.602</div></td>\n",
    "    <td> \n",
    "      <div align=\"right\">0.735</div></td>\n",
    "  </tr>\n",
    "  <tr bgcolor=\"#FFFFCC\"> \n",
    "    <td> \n",
    "      <div align=\"right\">12</div></td>\n",
    "    <td> \n",
    "      <div align=\"right\">0.576</div></td>\n",
    "    <td> \n",
    "      <div align=\"right\">0.708</div></td>\n",
    "  </tr>\n",
    "  <tr bgcolor=\"#FFFFCC\"> \n",
    "    <td> \n",
    "      <div align=\"right\">13</div></td>\n",
    "    <td> \n",
    "      <div align=\"right\">0.553</div></td>\n",
    "    <td> \n",
    "      <div align=\"right\">0.684</div></td>\n",
    "  </tr>\n",
    "  <tr bgcolor=\"#FFFFCC\"> \n",
    "    <td> \n",
    "      <div align=\"right\">14</div></td>\n",
    "    <td> \n",
    "      <div align=\"right\">0.532</div></td>\n",
    "    <td> \n",
    "      <div align=\"right\">0.661</div></td>\n",
    "  </tr>\n",
    "  <tr bgcolor=\"#FFFFCC\"> \n",
    "    <td> \n",
    "      <div align=\"right\">15</div></td>\n",
    "    <td> \n",
    "      <div align=\"right\">0.514</div></td>\n",
    "    <td> \n",
    "      <div align=\"right\">0.641</div></td>\n",
    "  </tr>\n",
    "  <tr bgcolor=\"#FFFFCC\"> \n",
    "    <td> \n",
    "      <div align=\"right\">16</div></td>\n",
    "    <td> \n",
    "      <div align=\"right\">0.497</div></td>\n",
    "    <td> \n",
    "      <div align=\"right\">0.623</div></td>\n",
    "  </tr>\n",
    "  <tr bgcolor=\"#FFFFCC\"> \n",
    "    <td> \n",
    "      <div align=\"right\">17</div></td>\n",
    "    <td> \n",
    "      <div align=\"right\">0.482</div></td>\n",
    "    <td> \n",
    "      <div align=\"right\">0.606</div></td>\n",
    "  </tr>\n",
    "  <tr bgcolor=\"#FFFFCC\"> \n",
    "    <td> \n",
    "      <div align=\"right\">18</div></td>\n",
    "    <td> \n",
    "      <div align=\"right\">0.468</div></td>\n",
    "    <td> \n",
    "      <div align=\"right\">0.590</div></td>\n",
    "  </tr>\n",
    "  <tr bgcolor=\"#FFFFCC\"> \n",
    "    <td> \n",
    "      <div align=\"right\">19</div></td>\n",
    "    <td> \n",
    "      <div align=\"right\">0.456</div></td>\n",
    "    <td> \n",
    "      <div align=\"right\">0.575</div></td>\n",
    "  </tr>\n",
    "  <tr bgcolor=\"#FFFF99\"> \n",
    "    <td> \n",
    "      <div align=\"right\">20</div></td>\n",
    "    <td> \n",
    "      <div align=\"right\">0.444</div></td>\n",
    "    <td> \n",
    "      <div align=\"right\">0.561</div></td>\n",
    "  </tr>\n",
    "  <tr bgcolor=\"#FFFF99\"> \n",
    "    <td> \n",
    "      <div align=\"right\">30</div></td>\n",
    "    <td> \n",
    "      <div align=\"right\">0.361</div></td>\n",
    "    <td> \n",
    "      <div align=\"right\">0.463</div></td>\n",
    "  </tr>\n",
    "  <tr bgcolor=\"#FFFF99\"> \n",
    "    <td> \n",
    "      <div align=\"right\">40</div></td>\n",
    "    <td> \n",
    "      <div align=\"right\">0.312</div></td>\n",
    "    <td> \n",
    "      <div align=\"right\">0.403</div></td>\n",
    "  </tr>\n",
    "  <tr bgcolor=\"#FFFF99\"> \n",
    "    <td> \n",
    "      <div align=\"right\">50</div></td>\n",
    "    <td> \n",
    "      <div align=\"right\">0.279</div></td>\n",
    "    <td> \n",
    "      <div align=\"right\">0.361</div></td>\n",
    "  </tr>\n",
    "  <tr bgcolor=\"#FFFF99\"> \n",
    "    <td> \n",
    "      <div align=\"right\">60</div></td>\n",
    "    <td> \n",
    "      <div align=\"right\">0.254</div></td>\n",
    "    <td> \n",
    "      <div align=\"right\">0.330</div></td>\n",
    "  </tr>\n",
    "  <tr bgcolor=\"#FFFF99\"> \n",
    "    <td> \n",
    "      <div align=\"right\">70</div></td>\n",
    "    <td> \n",
    "      <div align=\"right\">0.235</div></td>\n",
    "    <td> \n",
    "      <div align=\"right\">0.306</div></td>\n",
    "  </tr>\n",
    "  <tr bgcolor=\"#FFFF99\"> \n",
    "    <td> \n",
    "      <div align=\"right\">80</div></td>\n",
    "    <td> \n",
    "      <div align=\"right\">0.220</div></td>\n",
    "    <td> \n",
    "      <div align=\"right\">0.286</div></td>\n",
    "  </tr>\n",
    "  <tr bgcolor=\"#FFFF99\"> \n",
    "    <td> \n",
    "      <div align=\"right\">90</div></td>\n",
    "    <td> \n",
    "      <div align=\"right\">0.207</div></td>\n",
    "    <td> \n",
    "      <div align=\"right\">0.270</div></td>\n",
    "  </tr>\n",
    "  <tr bgcolor=\"#FFFF66\"> \n",
    "    <td> \n",
    "      <div align=\"right\">100</div></td>\n",
    "    <td> \n",
    "      <div align=\"right\">0.197</div></td>\n",
    "    <td> \n",
    "      <div align=\"right\">0.256</div></td>\n",
    "  </tr>\n",
    "  <tr bgcolor=\"#FFFF66\"> \n",
    "    <td> \n",
    "      <div align=\"right\">200</div></td>\n",
    "    <td> \n",
    "      <div align=\"right\">0.139</div></td>\n",
    "    <td> \n",
    "      <div align=\"right\">0.182</div></td>\n",
    "  </tr>\n",
    "  <tr bgcolor=\"#FFFF66\"> \n",
    "    <td> \n",
    "      <div align=\"right\">300</div></td>\n",
    "    <td> \n",
    "      <div align=\"right\">0.113</div></td>\n",
    "    <td> \n",
    "      <div align=\"right\">0.149</div></td>\n",
    "  </tr>\n",
    "  <tr bgcolor=\"#FFFF66\"> \n",
    "    <td> \n",
    "      <div align=\"right\">400</div></td>\n",
    "    <td> \n",
    "      <div align=\"right\">0.098</div></td>\n",
    "    <td> \n",
    "      <div align=\"right\">0.129</div></td>\n",
    "  </tr>\n",
    "</table>"
   ]
  },
  {
   "cell_type": "markdown",
   "metadata": {},
   "source": [
    "<h4 style=\"border-bottom: solid 1px black;\">限界値の表から気がつくこと</h4>\n",
    "\n",
    "<p class=\"photo\"><img src=\"image/aiko-kangaeru.jpg\" width=\"156\" height=\"130\"></p>\n",
    "<p class=\"speech\">───先輩、途中で標本数がとんでますよ。20個から先は10個単位になってるし、100個から先は100個単位になっています。</p>\n",
    "<p class=\"speech\">「全部書くと、大きな表になってしまうので、途中を省略しているんだ。半端な個数でも、その間を見ればいいわけだから、実用上は問題ないと思うよ」</p>\n",
    "<p class=\"speech\">───うーん。この表を見ると、標本数5個のときの5%有意水準での限界値は、0.878ですね。つまり、これより大きい相関係数じゃないと、有意にならないんですね。</p>\n",
    "<p class=\"speech\">「そうだね」</p>\n",
    "<p class=\"speech\">───でも、前に習ったことによれば、0.878という相関係数そのものは「強い相関」ということですよ。強い相関なのに有意じゃないということはおかしいんじゃないですか。</p>\n",
    "<p class=\"speech\">「いや、おかしくないんだ。「強い相関」という言い回しはあくまでも便宜的なものだ。標本数がある程度あるときのね。でも、標本数5というような少ない場合は、相関係数が大きくても有意にならないということなんだよ」</p>\n",
    "<p class=\"speech\">───あれ？　逆に、標本数400なら、限界値は0.098ですよ。0.098なんていったら、ほとんどゼロに近いじゃないですか。言い回しも「ほとんど相関がない」と習ったし。</p>\n",
    "<p class=\"speech\">「そうなんだ。標本数を大きく取ると、相関係数が小さくても有意に出てしまうんだよ。これは無相関検定ではよく頭に入れておく必要がある」</p>\n",
    "<p class=\"speech\">───ふーむ。標本数によって、無相関検定の限界値は大きく変化するんですね。同じ0.4という相関係数が出たとしても、標本数が10の時と、100の時では意味が大きく違うと。なんとなくわかってきました。</p>\n",
    "<p class=\"photo\"><img src=\"image/aiko-suteki.jpg\" width=\"154\" height=\"130\"></p>"
   ]
  },
  {
   "cell_type": "markdown",
   "metadata": {},
   "source": [
    "<h2 STYLE=\"background: #c2edff;padding: 0.5em;\"><a href=\"http://kogolab.chillout.jp/elearn/icecream/chap3/sec5.html\" target=\"_blank\">3.5　（応用編）無相関検定</a></h2>\n",
    "\n",
    "<P class=\"photo\"><img src=\"image/tencho-muzukashii.jpg\" width=\"127\" height=\"138\"></P>\n",
    "<P class=\"speech\">「アイ子ちゃん、どう？　結果は出た？」</P>\n",
    "<P class=\"speech\">───あ、店長。はい、出ました。アンケートの数が膨大なので、20個の標本を抜き出したんです。</P>\n",
    "<P class=\"speech\">「ええ？　20個だけでわかるの？」</P>\n",
    "<P class=\"speech\">───推定はできるんですよ。</P>\n",
    "<P class=\"speech\">「まあ、いいや。それで、年齢と１ヶ月あたりの来店回数は関係があるのか、ないのか、どっちなんだい？」</P>\n",
    "<P class=\"speech\">───はい、相関係数は0.267でした。</P>\n",
    "<P class=\"speech\">「おっ！　ということは関係があるということだな」</P>\n",
    "<P class=\"speech\">───いえ、そうとは言えないんです。</P>\n",
    "<P class=\"speech\">「なに？　どうしてだ？」</P>\n",
    "<P class=\"speech\">───うーん、店長にわかってもらえるかどうかわかりませんが、説明します。</P>\n",
    "<P class=\"speech\">「なぬ。店長をばかにするでないぞ。どんと来い」</P>\n",
    "<P class=\"speech\">───はい。それでは説明させていただきます……</P>\n",
    "<P class=\"photo\"><img src=\"image/aiko-asekaki.jpg\" width=\"194\" height=\"150\"></P>"
   ]
  },
  {
   "cell_type": "markdown",
   "metadata": {},
   "source": [
    "<h4 style=\"border-bottom: solid 1px black;\">統計学のことばで説明しよう</h4>\n",
    "\n",
    "<p>まず最初に、この結果を統計学のコトバで正確に説明してみよう。</p>\n",
    "\n",
    "<blockquote>標本数20の相関係数は0.267である。\n",
    "\n",
    "有意水準1%における限界値は0.561なので、帰無仮説「母集団の相関係数はゼロ」は棄却できない。\n",
    "\n",
    "つまり、標本数20での相関係数0.267は、母集団の相関係数がゼロと仮定したときに、十分起こりうるのである。\n",
    "\n",
    "したがって、0.267という相関係数は有意な値とはいえない。\n",
    "\n",
    "また、有意水準を5%にゆるめたとしても、その限界値は0.444であり、この場合もこの相関係数は有意とはいえない。\n",
    "</blockquote>\n",
    "\n",
    "<p class=\"photo\"><img src=\"image/tencho-ureshinaki.jpg\" width=\"129\" height=\"144\"></p>\n",
    "<p class=\"speech\">「ア゛イ゛子ちゃーん、なにそれ？　日本語？　ごめんちゃい、ぼくにもわかるようなコトバで説明しておくれよ～」</p>"
   ]
  },
  {
   "cell_type": "markdown",
   "metadata": {},
   "source": [
    "<h4 style=\"border-bottom: solid 1px black;\">普通のことばで説明しよう</h4>\n",
    "<P>それでは次に、店長もわかるように普通のコトバで説明してみよう。</P>\n",
    "<P class=\"speech\">───店長、つまりですね。この相関係数の値は、もともとのアンケート全体で相関係数ゼロであったとしても、十分起こりうるんです。だから、0.267という数字だけにとらわれても意味がないということなんです。もちろん、標本をもっと取ればわかりませんが、この20の標本からいえることは、そういうことです。</P>\n",
    "<p class=\"speech\">「ア゛イ゛子ちゃーん、ありがとー、店長にもよくわかったよ～」</p>\n",
    "<p class=\"photo\"><img src=\"image/tencho-ureshinaki.jpg\" width=\"129\" height=\"144\"></p>"
   ]
  },
  {
   "cell_type": "markdown",
   "metadata": {},
   "source": [
    "<h2 STYLE=\"background: #c2edff;padding: 0.5em;\">アイスクリーム統計学 第３章 課題</h2>\n",
    "\n",
    "__課題3.2__ を解いて、指定のメールアドレスまでメールしてください。メール送信後は、エラーが帰ってきてないことを確認してください（メールアドレスを間違える人がときどき居ます）。\n",
    "* 締切：10月24日（今すぐでなくても結構です）\n",
    "* メールタイトル：「アイスクリーム統計学 第３章」\n",
    "* 学籍番号と氏名を明記すること。\n",
    "* 感想などがあれば書いてくれると嬉しいです。次回以降の講義の改善につながるかも知れません。"
   ]
  },
  {
   "cell_type": "code",
   "execution_count": 13,
   "metadata": {
    "collapsed": true
   },
   "outputs": [],
   "source": [
    "# アイスクリーム統計学 第３章 課題"
   ]
  },
  {
   "cell_type": "markdown",
   "metadata": {},
   "source": [
    "<h2 STYLE=\"background: #c2edff;padding: 0.5em;\">終わったら、<a href=\"IceCreamStatistics04.ipynb\">第４章：単回帰</a> に進んでください。</h2>\n",
    "（2017年10月24日講義、10月27日課題提出締切）"
   ]
  }
 ],
 "metadata": {
  "kernelspec": {
   "display_name": "Python 3",
   "language": "python",
   "name": "python3"
  },
  "language_info": {
   "codemirror_mode": {
    "name": "ipython",
    "version": 3
   },
   "file_extension": ".py",
   "mimetype": "text/x-python",
   "name": "python",
   "nbconvert_exporter": "python",
   "pygments_lexer": "ipython3",
   "version": "3.4.5"
  }
 },
 "nbformat": 4,
 "nbformat_minor": 0
}
