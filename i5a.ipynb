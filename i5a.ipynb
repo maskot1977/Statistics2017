{
 "cells": [
  {
   "cell_type": "markdown",
   "metadata": {},
   "source": [
    "# アイスクリーム統計学 with Python 第5章\n",
    "\n",
    "第９回講義（2017年10月27日講義、10月31日課題提出締切）\n",
    "\n",
    "このページは、<a href=\"http://kogolab.chillout.jp/elearn/icecream/index.html\" target=\"_blank\">アイスクリーム統計学にようこそ！</a>の内容をプログラミング言語 Python に合わせて書き直したものです（著作権者の許諾を得て利用しております）。"
   ]
  },
  {
   "cell_type": "markdown",
   "metadata": {},
   "source": [
    "<h1 STYLE=\"background: #c2edff;padding: 0.5em;\"><a href=\"http://kogolab.chillout.jp/elearn/icecream/chap5/sec0.html\" target=\"_blank\">第５章 偏相関</a></h1>\n",
    "\n",
    "<P class=\"photo\"><img src=\"image/icecream.jpg\" width=\"172\" height=\"179\"></P>\n",
    "<P>回帰直線をマスターして、ちょっと自信がついたアイ子ちゃん。</P>\n",
    "<P class=\"photo\"><img src=\"image/aiko-futsu.jpg\" width=\"168\" height=\"140\"></P>\n",
    "<P class=speech>───最高気温がわかれば、お客の数が予測できるなんて、すごいなー、回帰直線。</P>\n",
    "<P class=speech>───あれ？　店長、このデータには、最高気温だけじゃなくて、その日の最低気温も載っているじゃないですか。</P>\n",
    "<P class=speech>「ああ、そうだよ。気象庁の観測データでは、最高気温と最低気温の両方が出ているからね」</P>\n",
    "<P class=speech>───そうすると、最高気温だけじゃなくて、最低気温のデータも使えば、もっと正確に予測できるんじゃないですか。</P>\n",
    "<P class=speech>「そうだね。１種類のデータで予測するよりも、２種類のデータで予測したほうが正確かもしれないね」</P>\n"
   ]
  },
  {
   "cell_type": "markdown",
   "metadata": {},
   "source": [
    "<h2 STYLE=\"background: #c2edff;padding: 0.5em;\"><a href=\"http://kogolab.chillout.jp/elearn/icecream/chap5/sec1.html\" target=\"_blank\">5.1　もうひとつの相関</a></h2>\n",
    "\n",
    "<P class=\"photo\"><img src=\"image/tencho-futsu.jpg\" width=\"130\" height=\"145\"></P>\n",
    "<P class=\"speech\">「これが最低気温のデータも含めた、全部のデータだよ」</P>\n",
    "<P class=\"speech\">───よーし、じゃあさっそく、最低気温と客数の相関を求めてみますね。その前にまず散布図を描きます。</P>"
   ]
  },
  {
   "cell_type": "markdown",
   "metadata": {},
   "source": [
    "__課題5.1__：[去年の夏（最低気温込み）](https://raw.githubusercontent.com/maskot1977/ipython_notebook/master/toydata/ice_cream3.txt)のデータを用い、次の問いに答えてください。\n",
    "\n",
    "(1)　最低気温と客数の関係について、相関係数、回帰直線の傾き、回帰直線のy切片を求め、散布図に回帰直線を描き入れてください。\n",
    "\n",
    "(2)　有意な相関といえるかどうか考察してください。"
   ]
  },
  {
   "cell_type": "code",
   "execution_count": 2,
   "metadata": {
    "collapsed": true
   },
   "outputs": [],
   "source": [
    "# URL によるリソースへのアクセスを提供するライブラリをインポートする。\n",
    "# import urllib # Python 2 の場合\n",
    "import urllib.request # Python 3 の場合"
   ]
  },
  {
   "cell_type": "code",
   "execution_count": 3,
   "metadata": {
    "collapsed": false
   },
   "outputs": [
    {
     "data": {
      "text/plain": [
       "('ice_cream3.txt', <http.client.HTTPMessage at 0x104974588>)"
      ]
     },
     "execution_count": 3,
     "metadata": {},
     "output_type": "execute_result"
    }
   ],
   "source": [
    "# ウェブ上のリソースを指定する\n",
    "url = 'https://raw.githubusercontent.com/maskot1977/ipython_notebook/master/toydata/ice_cream3.txt'\n",
    "# 指定したURLからリソースをダウンロードし、名前をつける。\n",
    "# urllib.urlretrieve(url, 'ice_cream3.txt') # Python 2 の場合\n",
    "urllib.request.urlretrieve(url, 'ice_cream3.txt') # Python 3 の場合"
   ]
  },
  {
   "cell_type": "code",
   "execution_count": 4,
   "metadata": {
    "collapsed": true
   },
   "outputs": [],
   "source": [
    "# ダウンロードしたデータから、列ごとに数字を読み込んでリストに格納する。\n",
    "col1 = []\n",
    "col2 = []\n",
    "col3 = []\n",
    "col4 = []\n",
    "for i, line in enumerate(open('ice_cream3.txt')):\n",
    "    if i == 0:\n",
    "        continue\n",
    "    a = line.split()\n",
    "    col1.append(int(a[0]))\n",
    "    col2.append(int(a[1]))\n",
    "    col3.append(int(a[2]))\n",
    "    col4.append(int(a[3]))"
   ]
  },
  {
   "cell_type": "code",
   "execution_count": 5,
   "metadata": {
    "collapsed": true
   },
   "outputs": [],
   "source": [
    "# 平均値を求める関数\n",
    "def average(list):\n",
    "    sum = 0\n",
    "    for x in list:\n",
    "        sum += x\n",
    "    return sum / len(list)"
   ]
  },
  {
   "cell_type": "code",
   "execution_count": 6,
   "metadata": {
    "collapsed": true
   },
   "outputs": [],
   "source": [
    "# 分散を求める関数\n",
    "def variance(list):\n",
    "    ave = average(list)\n",
    "    sum = 0\n",
    "    for x in list:\n",
    "        sum += (x - ave) ** 2\n",
    "    return sum / len(list)"
   ]
  },
  {
   "cell_type": "code",
   "execution_count": 7,
   "metadata": {
    "collapsed": true
   },
   "outputs": [],
   "source": [
    "# 標準偏差を求める関数\n",
    "import math\n",
    "def standard_deviation(list):\n",
    "    return math.sqrt(variance(list))"
   ]
  },
  {
   "cell_type": "code",
   "execution_count": 8,
   "metadata": {
    "collapsed": true
   },
   "outputs": [],
   "source": [
    "# 共分散 = 偏差積の平均 （偏差値、ではありません。偏差積、です）\n",
    "def covariance(list1, list2): \n",
    "    ave1 = average(list1)\n",
    "    ave2 = average(list2)\n",
    "    sum = 0\n",
    "    for d1, d2 in zip(list1, list2):\n",
    "        sum += (d1 - ave1) * (d2 - ave2)\n",
    "    return sum / len(list1)"
   ]
  },
  {
   "cell_type": "code",
   "execution_count": 9,
   "metadata": {
    "collapsed": true
   },
   "outputs": [],
   "source": [
    "# 相関係数 = 共分散を list1, list2 の標準偏差で割ったもの\n",
    "def correlation(list1, list2):\n",
    "    return covariance(list1, list2) / (standard_deviation(list1) * standard_deviation(list2))"
   ]
  },
  {
   "cell_type": "code",
   "execution_count": 12,
   "metadata": {
    "collapsed": false
   },
   "outputs": [
    {
     "data": {
      "text/plain": [
       "0.3019115780164577"
      ]
     },
     "execution_count": 12,
     "metadata": {},
     "output_type": "execute_result"
    }
   ],
   "source": [
    "# 相関係数を求める\n",
    "correlation(col3, col4)"
   ]
  },
  {
   "cell_type": "code",
   "execution_count": 13,
   "metadata": {
    "collapsed": true
   },
   "outputs": [],
   "source": [
    "# 回帰直線の傾き＝相関係数＊（（yの標準偏差）／（xの標準偏差））\n",
    "def a_fit(xlist, ylist):\n",
    "    return correlation(xlist, ylist) * standard_deviation(ylist) / standard_deviation(xlist)"
   ]
  },
  {
   "cell_type": "code",
   "execution_count": 14,
   "metadata": {
    "collapsed": true
   },
   "outputs": [],
   "source": [
    "# y切片＝yの平均－（傾き＊xの平均）\n",
    "def b_fit(xlist, ylist):\n",
    "    return average(ylist) - a_fit(xlist, ylist) * average(xlist)"
   ]
  },
  {
   "cell_type": "code",
   "execution_count": 16,
   "metadata": {
    "collapsed": false
   },
   "outputs": [
    {
     "name": "stdout",
     "output_type": "stream",
     "text": [
      "y = ax + b; (a, b) = (8.100000000000003, 118.59999999999994)\n"
     ]
    }
   ],
   "source": [
    "# 回帰直線の式を表示\n",
    "a = a_fit(col3, col4)\n",
    "b = b_fit(col3, col4)\n",
    "print(\"y = ax + b; (a, b) = ({0}, {1})\".format(a, b))"
   ]
  },
  {
   "cell_type": "code",
   "execution_count": 17,
   "metadata": {
    "collapsed": true
   },
   "outputs": [],
   "source": [
    "# 回帰直線の式を関数として表現\n",
    "def f(x):\n",
    "    return a * x + b"
   ]
  },
  {
   "cell_type": "code",
   "execution_count": 18,
   "metadata": {
    "collapsed": true
   },
   "outputs": [],
   "source": [
    "# 回帰直線を描くための準備\n",
    "test_x = [min(col2) - 1, max(col2) + 1]\n",
    "fitted_y = [f(test_x[0]), f(test_x[1])]"
   ]
  },
  {
   "cell_type": "code",
   "execution_count": 36,
   "metadata": {
    "collapsed": false
   },
   "outputs": [
    {
     "data": {
      "image/png": "[encoded data removed]",
      "text/plain": [
       "<matplotlib.figure.Figure at 0x10f745cd0>"
      ]
     },
     "metadata": {},
     "output_type": "display_data"
    }
   ],
   "source": [
    "# 散布図と回帰直線を描く。\n",
    "plt.figure(figsize=(8,5))\n",
    "plt.plot(col2,col3,'bo', label='Exp.')\n",
    "plt.plot(test_x,fitted_y,'k-', label='fitted line', linewidth=5, alpha=0.3)\n",
    "plt.title(\"Numbers of customers in last summer\")\n",
    "plt.xlabel(\"Temperature\")\n",
    "plt.ylabel(\"Customers\")\n",
    "plt.legend(loc='best',fancybox=True, shadow=True)\n",
    "plt.grid(True)\n",
    "for day, x, y in zip(col1, col2, col3):\n",
    "    plt.text(x, y, day, alpha=0.8, size=12)\n",
    "plt.show()"
   ]
  },
  {
   "cell_type": "markdown",
   "metadata": {},
   "source": [
    "<P class=\"speech\">───ふう、やっと計算が終わった。相関係数は、0.302 だった。これは有意な相関なのかな？　サンプル数が20のときの、5%有意水準の限界値は、0.444だから、0.302だと有意な相関とはいえないわね。</P>\n",
    "<P class=\"photo\">→<a href=\"IceCreamStatistics03.ipynb\" target=\"_blank\">無相関検定を思い出そう</a>（3章）</P>\n",
    "<P class=\"speech\">───店長。最低気温と客数の相関係数は、0.302でした。5%水準で有意な相関とはいえませんね。</P>\n",
    "<P class=\"photo\"><img src=\"image/tencho-muzukashii.jpg\" width=\"127\" height=\"138\"></P>\n",
    "<P class=\"speech\">「なにー？　じゃあ、最低気温と客数には関係がないということか？　最高気温と客数の相関はあるのに、最低気温にはないというのか？　なんか不公平じゃないか？　最低気温がかわいそうじゃないか。同じデータなのに」</P>\n",
    "<P class=\"speech\">───店長、かわいそうとか、そういう問題じゃないと思いますけど。</P>\n",
    "<P class=\"speech\">「いや、私には納得できんぞ」</P>\n"
   ]
  },
  {
   "cell_type": "markdown",
   "metadata": {},
   "source": [
    "<h2 STYLE=\"background: #c2edff;padding: 0.5em;\"><a href=\"http://kogolab.chillout.jp/elearn/icecream/chap5/sec2.html\" target=\"_blank\">5.2　偏相関とは</a></h2>\n",
    "\n",
    "<P class=\"photo\"><img src=\"image/senpai-futsu.jpg\" width=\"152\" height=\"127\"></P>\n",
    "<P class=\"speech\">「どうしました？　店長、アイ子ちゃん。かわいそうとか、そうじゃないとか」</P>\n",
    "<P class=\"speech\">───あ、三ヶ島先輩。この前の、最高気温と客数の相関なんですが、最低気温のデータもあるので、このデータも合わせれば予測がもっと正確になると思ったんですよ。</P>\n",
    "<P class=\"speech\">「なるほど、それは期待できるね」</P>\n",
    "<P class=\"speech\">───でも、最低気温と客数の相関は弱くて、0.302なんです。有意な相関ではありませんでした。だから、最低気温は役に立たないデータだと言ったら、店長が、それはかわいそうだ、と言い出して……。</P>\n",
    "<P class=\"speech\">「ふむふむ。アイ子ちゃん、相関が弱いからといって、予測の役に立たないとは言えないよ。逆に、相関が強いからといって、予測の役に立つとも言い切れないんだ」</P>\n",
    "<P class=\"speech\">───ええっ？　どうしてですか？</P>\n",
    "<P class=\"speech\">「特に、今回のように、最高気温、最低気温、客数というように、３つ以上の変数（データの種類）があるときにはね」</P>\n",
    "<P class=\"speech\">───どういうことなんですか？</P>\n",
    "<P class=\"speech\">「これを理解するためには＜偏相関＞ということを知らなくてはならない」</P>\n",
    "<P class=\"speech\">───変相関？　変な相関ですか？</P>\n",
    "<P class=\"photo\"><img src=\"image/aiko-ganbaru.jpg\" width=\"181\" height=\"133\"></P>\n",
    "<P class=\"speech\">「また、そういうギャグをとばさないように。じゃ、＜偏相関＞について説明するね」</P>\n",
    "<P class=\"speech\">───はい。お願いします。</P>"
   ]
  },
  {
   "cell_type": "markdown",
   "metadata": {},
   "source": [
    "<h4 style=\"border-bottom: solid 1px black;\">偏相関とは？</h4>\n",
    "\n",
    "<p class=\"photo\"><img src=\"image/senpai-setsumei.jpg\" width=\"135\" height=\"136\"></p>\n",
    "<p>今回のデータを整理して、図に表してみよう。こんなふうになるね。数字は相関係数だよ。</p>\n",
    "<p class=\"photo\"><img src=\"image/hensokan1.jpg\" width=\"359\" height=\"165\"></p>\n",
    "<p>さて、この図の中でもう一つ相関係数が求められるね。アイ子ちゃん、それは何だろう。</p>\n",
    "<p class=\"speech\">───はい、最高気温と最低気温の相関係数です。求めてみますね。</p>\n",
    "<p class=\"speech\">───でました。最高気温と最低気温の相関係数は、0.706です。</p>\n",
    "<p>よし。それを図の中に書き加えてみよう。こうなるね。</p>\n",
    "<p class=\"photo\"><img src=\"image/hensokan2.jpg\" width=\"373\" height=\"169\"></p>\n",
    "<p>１日の最高気温が高ければ、最低気温も高いだろうし、逆に、最高気温が低ければ、最低気温も低くなるだろうね。だから、最高気温と最低気温の相関が、0.706で強いのは自然なことだね。</p>\n",
    "<p>つまり、客数は最高気温の影響を受けているわけだけれども、最低気温もまた最高気温の影響を受けているわけだ。</p>\n",
    "<p>そこで、こんなことを考える。客数も最低気温も、最高気温の影響を受けているので、その影響をなくしてみたらどうだろう。こんなイメージだ。</p>\n",
    "<p class=\"photo\"><img src=\"image/hensokan3.jpg\" width=\"387\" height=\"205\"></p>\n",
    "<p>ここで、最低気温と客数の相関から最高気温の影響を取り除いたものを「<em>偏相関</em>」と呼ぶんだ。そして、その値を「<em>偏相関係数</em>」という。</p>"
   ]
  },
  {
   "cell_type": "markdown",
   "metadata": {},
   "source": [
    "<h2 STYLE=\"background: #c2edff;padding: 0.5em;\"><a href=\"http://kogolab.chillout.jp/elearn/icecream/chap5/sec3.html\" target=\"_blank\">5.3　偏相関係数を求める</a></h2>\n",
    "\n",
    "<P class=\"photo\"><img src=\"image/senpai-setsumei.jpg\" width=\"135\" height=\"136\"></P>\n",
    "<P>偏相関のイメージは、わかったかな？</P>\n",
    "<P>それでは、偏相関係数の計算に移ろう。</P>\n",
    "<P>偏相関係数は次のような式で計算できる。ここでは、簡単のために、最高気温、最低気温、客数をそれぞれ、a, b, yという記号で表しているよ。そして、それぞれの間の相関係数は、<font size=\"+2\">r</font>ab, <font size=\"+2\">r</font>ay,<font size=\"+2\">r</font>byとしているよ。</P>\n",
    "<P class=\"photo\"><img src=\"image/hensokan6.jpg\" width=\"501\" height=\"351\"></P>\n",
    "<P>それじゃ、実際に計算してみよう。</P>\n",
    "<P>「*」はかけ算、「/」はわり算、「<em>^2</em>」は２乗、「<em>sqrt</em>」はルート（平方根）だ。</P>\n",
    "<P>さて、</P>\n",
    "<P class=\"eq\"><font size=\"+2\">r</font>ab=0.706</P>\n",
    "<P class=\"eq\"><font size=\"+2\">r</font>ay=0.870</P>\n",
    "<P class=\"eq\"><font size=\"+2\">r</font>by=0.302</P>\n",
    "<P>だったから、上の式に当てはめると、</P>\n",
    "<P>偏相関係数は</P>\n",
    "<P class=\"eq\">=(0.302-(0.870*0.706))/(sqrt(1-0.870^2)*sqrt(1-0.706^2))</P>\n",
    "<P class=\"eq\">=-0.894</P>\n",
    "<P>となる。</P>\n",
    "<P class=\"photo\"><img src=\"image/aiko-asekaki.jpg\" width=\"194\" height=\"150\"></P>\n",
    "<P class=\"speech\">───あわわわ。待ってください。すごく長い式なので面食らってます。</P>\n",
    "<P class=\"speech\">「確かに長いね。カッコも多い。じっくりゆっくり見てね」</P>"
   ]
  },
  {
   "cell_type": "markdown",
   "metadata": {},
   "source": [
    "<h4 style=\"padding: 0.25em 0.5em;color: #494949;background: transparent;border-left: solid 5px #7db4e6;\">課題5.3</h4>\n",
    "\n",
    "[去年の夏のデータ（最低気温込み）](https://raw.githubusercontent.com/maskot1977/ipython_notebook/master/toydata/ice_cream3.txt)のデータを用い、最高気温の影響を取り除いた、最低気温と客数の偏相関係数を求めてください。\n",
    "\n",
    "* a の影響を除いた、b と y の偏相関係数 = （__r__<sub>by</sub> - (__r__<sub>ay</sub> ＊ __r__<sub>ab</sub>)) / sqrt ((1 - __r__<sub>ay</sub><sup>2</sup>) ＊ (1 - __r__<sub>ab</sub><sup>2</sup>))"
   ]
  },
  {
   "cell_type": "code",
   "execution_count": 19,
   "metadata": {
    "collapsed": false
   },
   "outputs": [],
   "source": [
    "# a の影響を除いた、b と y の偏相関係数 partial correlation coefficient を求める関数\n",
    "def partial_correlation(a, b, y):\n",
    "    rby = correlation(b, y)\n",
    "    ray = correlation(a, y)\n",
    "    rab = correlation(a, b)\n",
    "    return (rby - ray * rab)  / math.sqrt((1 - ray ** 2) * (1 - rab ** 2))"
   ]
  },
  {
   "cell_type": "code",
   "execution_count": 21,
   "metadata": {
    "collapsed": false
   },
   "outputs": [
    {
     "data": {
      "text/plain": [
       "-0.895600384086399"
      ]
     },
     "execution_count": 21,
     "metadata": {},
     "output_type": "execute_result"
    }
   ],
   "source": [
    "# 偏相関係数を求める\n",
    "partial_correlation(col2, col3, col4)"
   ]
  },
  {
   "cell_type": "markdown",
   "metadata": {},
   "source": [
    "<P class=\"speech\">───はい、大丈夫です。偏相関係数は、-0.894です。え？　マイナス？　偏相関係数がマイナス？</P>\n",
    "<P class=\"speech\">「そうだ。マイナスになったね。こういうことだ」</P>\n",
    "<P class=\"photo\"><img src=\"image/hensokan4.jpg\" width=\"381\" height=\"183\"></P>\n",
    "<P class=\"speech\">───三ヶ島先輩、どういうことですか？　最初の相関係数は、0.302でプラスだったのに、偏相関係数がマイナス0.894になってしまったのは？」</P>\n",
    "<P class=\"speech\">「よし、説明しよう」</P>"
   ]
  },
  {
   "cell_type": "markdown",
   "metadata": {},
   "source": [
    "<h4 style=\"border-bottom: solid 1px black;\">偏相関係数の解釈</h4>\n",
    "<p class=\"photo\"><img src=\"image/senpai-setsumei.jpg\" width=\"135\" height=\"136\"></p>\n",
    "<p class=\"speech\">「すでにいったように偏相関係数は、最高気温の影響を取り除いたときの、最低気温と客数の関係だ。そこで、偏相関係数が-0.894になったということは、もし、最高気温が同じなら、最低気温が低い方が客が多くなるし、最低気温が高いほど客が少なくなる、ということだ」</p>\n",
    "<p class=\"speech\">───うーん、最高気温が同じなら、最低気温が低い方が客が多い？</p>\n",
    "<p class=\"speech\">「そうだ」</p>\n",
    "<p class=\"speech\">───それはどういうことなんでしょうか？</p>\n",
    "<p class=\"speech\">「ここからは推論になるけどね。たとえば、よく晴れた日は、雲がないために夜に気温が下がって最低気温も低くなるだろう。逆に、雨の日や、雲の多い日は、最高気温も上がらないが、最低気温もそれほど下がらない」</p>\n",
    "<p class=\"speech\">───ということは？</p>\n",
    "<p class=\"speech\">「ということは、もし最高気温の影響を取り除くとすると、最低気温が下がった方が晴れていて、その結果、客が増えたのだろう。逆に、最低気温がそれほど下がらなかったときは、雨や曇りの日で、客が少なかったのかも知れないね」</p>\n",
    "<p class=\"speech\">───なるほど、そう考えると、偏相関係数がマイナスになったことの説明がつきそうです。</p>\n",
    "<p class=\"speech\">「あくまでも、これは推測した解釈だよ。ただ、偏相関係数がマイナスであるのは事実だ」</p>\n",
    "<p class=\"speech\">───なんだか、偏相関係数って不思議だわ。</p>\n",
    "<p class=\"photo\"><img src=\"image/aiko-fushigi.jpg\" width=\"148\" height=\"128\"></p>"
   ]
  },
  {
   "cell_type": "markdown",
   "metadata": {},
   "source": [
    "<h2 STYLE=\"background: #c2edff;padding: 0.5em;\"><a href=\"http://kogolab.chillout.jp/elearn/icecream/chap5/sec4.html\" target=\"_blank\">5.4　もうひとつの偏相関係数</a></h2>\n",
    "\n",
    "<p class=\"photo\"><img src=\"image/aiko-suteki.jpg\" width=\"154\" height=\"130\"></p>\n",
    "<p class=\"speech\">───三ヶ島先輩。</p>\n",
    "<p class=\"speech\">「え？」</p>\n",
    "<p class=\"speech\">───今求めた偏相関係数は、最高気温の影響を取り除いたものでしたよね。</p>\n",
    "<p class=\"speech\">「うん、そうだね」</p>\n",
    "<p class=\"speech\">───ということは、それとは別に、最低気温の影響を取り除いた偏相関係数というのも考えられますね。</p>\n",
    "<p class=\"speech\">「そうだ。こんな感じだね」</p>\n",
    "<p class=\"photo\"><img src=\"image/hensokan5x.jpg\" width=\"396\" height=\"190\"></p>\n",
    "<p class=\"speech\">「じゃあ、この偏相関係数を求めてみて」</p>\n",
    "<p class=\"speech\">───はい。じゃあ、コーンも手伝って。</p>\n",
    "<p class=\"photo\"><img src=\"image/corn.jpg\" width=\"120\" height=\"91\"></p>"
   ]
  },
  {
   "cell_type": "markdown",
   "metadata": {},
   "source": [
    "<h4 style=\"padding: 0.25em 0.5em;color: #494949;background: transparent;border-left: solid 5px #7db4e6;\">課題5.4</h4>\n",
    "\n",
    "[去年の夏のデータ（最低気温込み）](https://raw.githubusercontent.com/maskot1977/ipython_notebook/master/toydata/ice_cream3.txt)のデータを用い、最低気温の影響を取り除いた、最高気温と客数の偏相関係数を求めてください。"
   ]
  },
  {
   "cell_type": "code",
   "execution_count": 22,
   "metadata": {
    "collapsed": false
   },
   "outputs": [
    {
     "data": {
      "text/plain": [
       "0.9732414179952071"
      ]
     },
     "execution_count": 22,
     "metadata": {},
     "output_type": "execute_result"
    }
   ],
   "source": [
    "# 偏相関係数を求める\n",
    "partial_correlation(col3, col2, col4)"
   ]
  },
  {
   "cell_type": "markdown",
   "metadata": {},
   "source": [
    "<h2 STYLE=\"background: #c2edff;padding: 0.5em;\"><a href=\"http://kogolab.chillout.jp/elearn/icecream/chap5/sec5.html\" target=\"_blank\">5.5　偏相関再び</a></h2>\n",
    "\n",
    "<P class=\"photo\"><img src=\"image/tencho-muzukashii.jpg\" width=\"127\" height=\"138\"></P>\n",
    "<P class=\"speech\">「いやぁ、すっきりしたぁ～」</P>\n",
    "<P class=\"speech\">───あ、店長。ずいぶん長いトイレでしたねー。</P>\n",
    "<P class=\"speech\">「で、どうなの。最低気温の立場は回復したの？」</P>\n",
    "<P class=\"speech\">───はい。ばっちりです。最高気温の影響を取り除くと、最低気温と客数の関係はマイナスの偏相関になるんです。</P>\n",
    "<P class=\"speech\">「なに～？　変相関？　なんかヘン～」</P>\n",
    "<P class=\"speech\">───（再び、がくっ）いえ、店長。「偏相関」でございます。これを見てください。</P>\n",
    "<P class=\"photo\"><img src=\"image/hensokan4.jpg\" width=\"381\" height=\"183\"></P>\n",
    "<P class=\"speech\">───最高気温の影響を取り除いた偏相関係数は、-0.894となります。つまり、最高気温が同じなら、最低気温が低い方が、お客の数が増えるということなんです。</P>\n",
    "<P class=\"speech\">「おおっ！　なんか不思議だけど、そんな気もするぞ。すごいな偏相関ってのは！」</P>\n",
    "<P class=\"photo\"><img src=\"image/tencho-ureshinaki.jpg\" width=\"129\" height=\"144\"></P>"
   ]
  },
  {
   "cell_type": "markdown",
   "metadata": {},
   "source": [
    "<h4 style=\"border-bottom: solid 1px black;\">偏相関をもう一度別の角度から説明しよう</h4>\n",
    "<p>偏相関は、重要でもあり、なかなかわかりにくい考え方でもあるから、もう一度、ここで別の角度から説明しよう。</p>\n",
    "<p class=\"photo\"><img src=\"image/senpai-setsumei.jpg\" width=\"135\" height=\"136\"></p>\n",
    "<p>まず、最高気温と客数の回帰直線を求めることから出発したね。これだ。</p>\n",
    "<p class=\"photo\"><img src=\"image/bunkai1.jpg\" width=\"326\" height=\"221\"></p>\n",
    "<p>これを分解すると、回帰直線で完全に予測できる部分と、それから残った部分（残差）に分解できる。つまり、</p>\n",
    "<p class=\"photo\"><img src=\"image/bunkai2.jpg\" width=\"327\" height=\"222\"></p>\n",
    "<p class=\"photo\"><em><font size=\"+2\">回帰直線で完全に予測できる部分：回帰成分（相関=1）</font></em></p>\n",
    "<p class=\"photo\"><center><em><font size=\"+5\">＋</font></em></center></p>\n",
    "<p class=\"photo\"><img src=\"image/bunkai3.jpg\" width=\"326\" height=\"220\"></p>\n",
    "<p class=\"photo\"><em><font size=\"+2\">残りの部分：残差（相関=0）</font></em></p>\n",
    "<p>もう一度書き直してみると、こんな感じだ。</p>\n",
    "<p><img src=\"image/bunkai1.jpg\" width=200 height=150 align=\"middle\"><font size=\"+5\"><center><em>＝</em></center></font><img src=\"image/bunkai2.jpg\" width=\"200\" height=\"150\" align=\"middle\"><font size=\"+5\"><center><em>＋</em></center></font><img src=\"image/bunkai3.jpg\" width=\"200\" height=\"150\" align=\"middle\"></p>\n",
    "<p>もっと簡単に書くと</p>\n",
    "<p class=\"eq\">最高気温と客数の散布図　＝　回帰成分（相関1）＋残差（相関0）</p>\n",
    "<p>ということだ。</p>\n",
    "<p>まったく同じようにして、最高気温と最低気温の関係も次のように分解できる。</p>\n",
    "<p><img src=\"image/bunkai4.jpg\" width=200 height=150 align=\"middle\"><font size=\"+5\"><center><em>＝</em></center></font><img src=\"image/bunkai5.jpg\" width=\"200\" height=\"150\" align=\"middle\"><font size=\"+5\"><center><em>＋</em></center></font><img src=\"image/bunkai6.jpg\" width=\"200\" height=\"150\" align=\"middle\"></p>\n",
    "<p>つまり、</p>\n",
    "<p class=\"eq\">最高気温と最低気温の散布図＝回帰成分（相関1）＋残差（相関0）</p>\n",
    "<p>となる。</p>\n",
    "<p>さて、ここからが重要だ。</p>\n",
    "<p>では、「最高気温の影響を取り除いたときの、最低気温と客数の偏相関係数」とは何か？</p>\n",
    "<p>これは、上の２つの式の「<em>残差同士の相関</em>」なんだ。</p>\n",
    "<p>つまり、</p>\n",
    "<p class=\"eq\"><font color=\"#666666\">最高気温と</font>客数の散布図　＝　<font color=\"#666666\">回帰成分（相関1）</font>＋<font color=\"#990000\">残差（相関0）</font></p>\n",
    "<p class=\"eq\"><font color=\"#666666\">最高気温と</font>最低気温の散布図＝<font color=\"#666666\">回帰成分（相関1）</font>＋<font color=\"#990000\">残差（相関0）</font></p>\n",
    "<p>この２つの残差同士の相関、これが偏相関係数というわけだ。</p>\n",
    "<p>図でいうと、</p>\n",
    "<p><center><img src=\"image/bunkai3.jpg\" width=\"200\" height=\"150\" align=\"middle\"><font size=\"+5\">と</font><img src=\"image/bunkai6.jpg\" width=\"200\" height=\"150\" align=\"middle\"><font size=\"+5\">の相関</font></center></p>\n",
    "<p>ということだ。</p>\n",
    "<p>実際に、残差同士の散布図を描いてみると、次のようになる。</p>\n",
    "<p class=\"photo\"><img src=\"image/bunkai7.jpg\" width=\"363\" height=\"274\"></p>\n",
    "<p>確かに右下がりの負の相関になっている。</p>\n",
    "<p>今まで「最高気温の影響を取り除く」と言ってきたのは、この２つの回帰成分（相関1）を取り除くということに当たる。そうすると、残りは残差だけなので、この残差同士の相関係数を求めて、偏相関係数としたわけだ。</p>\n",
    "<p>これが、次の図で説明してきた、偏相関係数のもう一つの説明だよ。</p>\n",
    "<p class=\"photo\"><img src=\"image/hensokan3.jpg\" width=\"387\" height=\"205\"></p>\n",
    "\n"
   ]
  },
  {
   "cell_type": "markdown",
   "metadata": {},
   "source": [
    "<h2 STYLE=\"background: #c2edff;padding: 0.5em;\">アイスクリーム統計学 第５章 課題</h2>\n",
    "\n",
    "__課題5.1__、__課題5.3__、および __課題5.4__ を解いて、指定のメールアドレスまでメールしてください。メール送信後は、エラーが帰ってきてないことを確認してください（メールアドレスを間違える人がときどき居ます）。\n",
    "* 締切：10月31日（今すぐでなくても結構です）\n",
    "* メールタイトル：「アイスクリーム統計学 第５章」\n",
    "* 学籍番号と氏名を明記すること。\n",
    "* 感想などがあれば書いてくれると嬉しいです。次回以降の講義の改善につながるかも知れません。"
   ]
  },
  {
   "cell_type": "code",
   "execution_count": 1,
   "metadata": {
    "collapsed": true
   },
   "outputs": [],
   "source": [
    "# アイスクリーム統計学 第５章 課題"
   ]
  },
  {
   "cell_type": "markdown",
   "metadata": {},
   "source": [
    "<h2 STYLE=\"background: #c2edff;padding: 0.5em;\">終わったら、<a href=\"IceCreamStatistics06.ipynb\">第６章：重回帰</a> に進んでください。</h2>\n",
    "（2017年10月27日講義、10月31日課題提出締切）"
   ]
  }
 ],
 "metadata": {
  "kernelspec": {
   "display_name": "Python 3",
   "language": "python",
   "name": "python3"
  },
  "language_info": {
   "codemirror_mode": {
    "name": "ipython",
    "version": 3
   },
   "file_extension": ".py",
   "mimetype": "text/x-python",
   "name": "python",
   "nbconvert_exporter": "python",
   "pygments_lexer": "ipython3",
   "version": "3.4.5"
  }
 },
 "nbformat": 4,
 "nbformat_minor": 0
}
