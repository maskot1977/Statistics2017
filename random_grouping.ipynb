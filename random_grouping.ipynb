{
 "cells": [
  {
   "cell_type": "code",
   "execution_count": null,
   "metadata": {
    "collapsed": true
   },
   "outputs": [],
   "source": [
    "import random\n",
    "def random_grouping(list, n_group, names=None):\n",
    "    random.shuffle(list)\n",
    "    grp = []\n",
    "    for i, word in enumerate(list):\n",
    "        grpid = i%n_group\n",
    "        if len(grp) == grpid:\n",
    "            grp.append([])\n",
    "        grp[grpid].append(word)\n",
    "    for i, g in enumerate(grp):\n",
    "        team_num = i + 1\n",
    "        if names:\n",
    "            team_num = names[i]\n",
    "        print('Team', team_num, \":\\t\", \",  \".join(g))"
   ]
  },
  {
   "cell_type": "code",
   "execution_count": null,
   "metadata": {
    "collapsed": false
   },
   "outputs": [],
   "source": [
    "input_names = '''\n",
    "孫悟空\n",
    "ヤムチャ\n",
    "ピラフ\n",
    "亀仙人\n",
    "天津飯\n",
    "ピッコロ\n",
    "ベジータ\n",
    "フリーザ\n",
    "セル\n",
    "魔人ブウ\n",
    "'''"
   ]
  },
  {
   "cell_type": "code",
   "execution_count": null,
   "metadata": {
    "collapsed": false
   },
   "outputs": [],
   "source": [
    "names = input_names.strip().split(\"\\n\")"
   ]
  },
  {
   "cell_type": "code",
   "execution_count": null,
   "metadata": {
    "collapsed": false
   },
   "outputs": [],
   "source": [
    "random_grouping(names, 3)"
   ]
  },
  {
   "cell_type": "code",
   "execution_count": null,
   "metadata": {
    "collapsed": false
   },
   "outputs": [],
   "source": [
    "random_grouping(names, 4)"
   ]
  },
  {
   "cell_type": "code",
   "execution_count": null,
   "metadata": {
    "collapsed": true
   },
   "outputs": [],
   "source": [
    "student_names = '''\n",
    "A\n",
    "B\n",
    "C\n",
    "D\n",
    "E\n",
    "F\n",
    "G\n",
    "H\n",
    "I\n",
    "J\n",
    "K\n",
    "L\n",
    "M\n",
    "N\n",
    "O\n",
    "P\n",
    "Q\n",
    "R\n",
    "S\n",
    "T\n",
    "U\n",
    "V\n",
    "W\n",
    "X\n",
    "Y\n",
    "Z\n",
    "'''"
   ]
  },
  {
   "cell_type": "code",
   "execution_count": null,
   "metadata": {
    "collapsed": true
   },
   "outputs": [],
   "source": [
    "students = student_names.strip().split(\"\\n\")"
   ]
  },
  {
   "cell_type": "code",
   "execution_count": null,
   "metadata": {
    "collapsed": false
   },
   "outputs": [],
   "source": [
    "random_grouping(students, 10, names)"
   ]
  },
  {
   "cell_type": "code",
   "execution_count": null,
   "metadata": {
    "collapsed": true
   },
   "outputs": [],
   "source": []
  }
 ],
 "metadata": {
  "kernelspec": {
   "display_name": "Python 3",
   "language": "python",
   "name": "python3"
  },
  "language_info": {
   "codemirror_mode": {
    "name": "ipython",
    "version": 3
   },
   "file_extension": ".py",
   "mimetype": "text/x-python",
   "name": "python",
   "nbconvert_exporter": "python",
   "pygments_lexer": "ipython3",
   "version": "3.4.5"
  }
 },
 "nbformat": 4,
 "nbformat_minor": 2
}
