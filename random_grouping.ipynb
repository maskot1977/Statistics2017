{
 "cells": [
  {
   "cell_type": "code",
   "execution_count": 1,
   "metadata": {
    "collapsed": true
   },
   "outputs": [],
   "source": [
    "import random\n",
    "def random_grouping(list, n_group, names=None):\n",
    "    random.shuffle(list)\n",
    "    grp = []\n",
    "    for i, word in enumerate(list):\n",
    "        grpid = i%n_group\n",
    "        if len(grp) == grpid:\n",
    "            grp.append([])\n",
    "        grp[grpid].append(word)\n",
    "    for i, g in enumerate(grp):\n",
    "        team_num = i + 1\n",
    "        if names:\n",
    "            team_num = names[i]\n",
    "        print('Team', team_num, \":\\t\", \",  \".join(g))"
   ]
  },
  {
   "cell_type": "code",
   "execution_count": 2,
   "metadata": {
    "collapsed": false
   },
   "outputs": [],
   "source": [
    "input_names = '''\n",
    "孫悟空\n",
    "ヤムチャ\n",
    "ピラフ\n",
    "亀仙人\n",
    "天津飯\n",
    "ピッコロ\n",
    "ベジータ\n",
    "フリーザ\n",
    "セル\n",
    "魔人ブウ\n",
    "'''"
   ]
  },
  {
   "cell_type": "code",
   "execution_count": 3,
   "metadata": {
    "collapsed": false
   },
   "outputs": [],
   "source": [
    "names = input_names.strip().split(\"\\n\")"
   ]
  },
  {
   "cell_type": "code",
   "execution_count": 4,
   "metadata": {
    "collapsed": false
   },
   "outputs": [
    {
     "name": "stdout",
     "output_type": "stream",
     "text": [
      "Team 1 :\t フリーザ,  魔人ブウ,  ヤムチャ,  ピラフ\n",
      "Team 2 :\t 天津飯,  孫悟空,  亀仙人\n",
      "Team 3 :\t ベジータ,  ピッコロ,  セル\n"
     ]
    }
   ],
   "source": [
    "random_grouping(names, 3)"
   ]
  },
  {
   "cell_type": "code",
   "execution_count": 5,
   "metadata": {
    "collapsed": false
   },
   "outputs": [
    {
     "name": "stdout",
     "output_type": "stream",
     "text": [
      "Team 1 :\t 亀仙人,  ヤムチャ,  孫悟空\n",
      "Team 2 :\t フリーザ,  セル,  ベジータ\n",
      "Team 3 :\t 魔人ブウ,  ピッコロ\n",
      "Team 4 :\t ピラフ,  天津飯\n"
     ]
    }
   ],
   "source": [
    "random_grouping(names, 4)"
   ]
  },
  {
   "cell_type": "code",
   "execution_count": 9,
   "metadata": {
    "collapsed": true
   },
   "outputs": [],
   "source": [
    "student_names = '''\n",
    "A\n",
    "B\n",
    "C\n",
    "D\n",
    "E\n",
    "F\n",
    "G\n",
    "H\n",
    "I\n",
    "J\n",
    "K\n",
    "L\n",
    "M\n",
    "N\n",
    "O\n",
    "P\n",
    "Q\n",
    "R\n",
    "S\n",
    "T\n",
    "U\n",
    "V\n",
    "W\n",
    "X\n",
    "Y\n",
    "Z\n",
    "'''"
   ]
  },
  {
   "cell_type": "code",
   "execution_count": 10,
   "metadata": {
    "collapsed": true
   },
   "outputs": [],
   "source": [
    "students = student_names.strip().split(\"\\n\")"
   ]
  },
  {
   "cell_type": "code",
   "execution_count": 11,
   "metadata": {
    "collapsed": false
   },
   "outputs": [
    {
     "name": "stdout",
     "output_type": "stream",
     "text": [
      "Team 亀仙人 :\t G,  H,  X\n",
      "Team フリーザ :\t O,  I,  L\n",
      "Team 魔人ブウ :\t R,  Q,  B\n",
      "Team ピラフ :\t D,  Y,  N\n",
      "Team ヤムチャ :\t T,  F,  C\n",
      "Team セル :\t K,  V,  E\n",
      "Team ピッコロ :\t Z,  S\n",
      "Team 天津飯 :\t J,  A\n",
      "Team 孫悟空 :\t W,  U\n",
      "Team ベジータ :\t P,  M\n"
     ]
    }
   ],
   "source": [
    "random_grouping(students, 10, names)"
   ]
  },
  {
   "cell_type": "code",
   "execution_count": null,
   "metadata": {
    "collapsed": true
   },
   "outputs": [],
   "source": []
  }
 ],
 "metadata": {
  "kernelspec": {
   "display_name": "Python 3",
   "language": "python",
   "name": "python3"
  },
  "language_info": {
   "codemirror_mode": {
    "name": "ipython",
    "version": 3
   },
   "file_extension": ".py",
   "mimetype": "text/x-python",
   "name": "python",
   "nbconvert_exporter": "python",
   "pygments_lexer": "ipython3",
   "version": "3.4.5"
  }
 },
 "nbformat": 4,
 "nbformat_minor": 2
}
