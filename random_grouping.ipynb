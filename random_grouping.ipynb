{
 "cells": [
  {
   "cell_type": "code",
   "execution_count": 1,
   "metadata": {
    "collapsed": true
   },
   "outputs": [],
   "source": [
    "import random\n",
    "def random_grouping(list, n_group, names=None):\n",
    "    random.shuffle(list)\n",
    "    grp = []\n",
    "    for i, word in enumerate(list):\n",
    "        grpid = i%n_group\n",
    "        if len(grp) == grpid:\n",
    "            grp.append([])\n",
    "        grp[grpid].append(word)\n",
    "    for i, g in enumerate(grp):\n",
    "        team_num = i + 1\n",
    "        if names:\n",
    "            team_num = names[i]\n",
    "        print('Team', team_num, \": \", \",  \".join(g))"
   ]
  },
  {
   "cell_type": "code",
   "execution_count": 2,
   "metadata": {
    "collapsed": false
   },
   "outputs": [],
   "source": [
    "input_names = '''\n",
    "孫悟空\n",
    "ヤムチャ\n",
    "ピラフ\n",
    "亀仙人\n",
    "餃子\n",
    "天津飯\n",
    "ピッコロ\n",
    "ベジータ\n",
    "フリーザ\n",
    "人造人間２０号\n",
    "セル\n",
    "魔人ブウ\n",
    "'''"
   ]
  },
  {
   "cell_type": "code",
   "execution_count": 3,
   "metadata": {
    "collapsed": false
   },
   "outputs": [],
   "source": [
    "names = input_names.strip().split(\"\\n\")"
   ]
  },
  {
   "cell_type": "code",
   "execution_count": 4,
   "metadata": {
    "collapsed": false
   },
   "outputs": [
    {
     "name": "stdout",
     "output_type": "stream",
     "text": [
      "Team 1 :  ピッコロ,  餃子,  人造人間２０号,  ベジータ\n",
      "Team 2 :  孫悟空,  フリーザ,  ピラフ,  魔人ブウ\n",
      "Team 3 :  セル,  天津飯,  ヤムチャ,  亀仙人\n"
     ]
    }
   ],
   "source": [
    "random_grouping(names, 3)"
   ]
  },
  {
   "cell_type": "code",
   "execution_count": 5,
   "metadata": {
    "collapsed": false
   },
   "outputs": [
    {
     "name": "stdout",
     "output_type": "stream",
     "text": [
      "Team 1 :  ベジータ,  餃子,  人造人間２０号\n",
      "Team 2 :  ピッコロ,  フリーザ,  孫悟空\n",
      "Team 3 :  天津飯,  セル,  ピラフ\n",
      "Team 4 :  ヤムチャ,  魔人ブウ,  亀仙人\n"
     ]
    }
   ],
   "source": [
    "random_grouping(names, 4)"
   ]
  },
  {
   "cell_type": "code",
   "execution_count": 6,
   "metadata": {
    "collapsed": false
   },
   "outputs": [
    {
     "name": "stdout",
     "output_type": "stream",
     "text": [
      "Team 1 :  セル\n",
      "Team 2 :  ヤムチャ\n",
      "Team 3 :  ピラフ\n",
      "Team 4 :  ピッコロ\n",
      "Team 5 :  餃子\n",
      "Team 6 :  天津飯\n",
      "Team 7 :  孫悟空\n",
      "Team 8 :  ベジータ\n",
      "Team 9 :  フリーザ\n",
      "Team 10 :  魔人ブウ\n",
      "Team 11 :  人造人間２０号\n",
      "Team 12 :  亀仙人\n"
     ]
    }
   ],
   "source": [
    "random_grouping(names, 12)"
   ]
  },
  {
   "cell_type": "code",
   "execution_count": 7,
   "metadata": {
    "collapsed": false
   },
   "outputs": [
    {
     "name": "stdout",
     "output_type": "stream",
     "text": [
      "Team 餃子 :  餃子\n",
      "Team 孫悟空 :  孫悟空\n",
      "Team 亀仙人 :  亀仙人\n",
      "Team フリーザ :  フリーザ\n",
      "Team ピラフ :  ピラフ\n",
      "Team ヤムチャ :  ヤムチャ\n",
      "Team 天津飯 :  天津飯\n",
      "Team ピッコロ :  ピッコロ\n",
      "Team ベジータ :  ベジータ\n",
      "Team 魔人ブウ :  魔人ブウ\n",
      "Team 人造人間２０号 :  人造人間２０号\n",
      "Team セル :  セル\n"
     ]
    }
   ],
   "source": [
    "random_grouping(names, 12, names)"
   ]
  },
  {
   "cell_type": "code",
   "execution_count": null,
   "metadata": {
    "collapsed": true
   },
   "outputs": [],
   "source": []
  }
 ],
 "metadata": {
  "kernelspec": {
   "display_name": "Python 3",
   "language": "python",
   "name": "python3"
  },
  "language_info": {
   "codemirror_mode": {
    "name": "ipython",
    "version": 3
   },
   "file_extension": ".py",
   "mimetype": "text/x-python",
   "name": "python",
   "nbconvert_exporter": "python",
   "pygments_lexer": "ipython3",
   "version": "3.4.5"
  }
 },
 "nbformat": 4,
 "nbformat_minor": 2
}
