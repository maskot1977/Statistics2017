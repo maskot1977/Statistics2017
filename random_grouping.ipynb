{
 "cells": [
  {
   "cell_type": "code",
   "execution_count": 1,
   "metadata": {
    "collapsed": true
   },
   "outputs": [],
   "source": [
    "import random\n",
    "def random_grouping(list, n_group, names=None):\n",
    "    random.shuffle(list)\n",
    "    grp = []\n",
    "    for i, word in enumerate(list):\n",
    "        grpid = i%n_group\n",
    "        if len(grp) == grpid:\n",
    "            grp.append([])\n",
    "        grp[grpid].append(word)\n",
    "    for i, g in enumerate(grp):\n",
    "        team_num = i + 1\n",
    "        if names:\n",
    "            team_num = names[i]\n",
    "        print('Team', team_num, \":\\t\", \",  \".join(g))"
   ]
  },
  {
   "cell_type": "code",
   "execution_count": 2,
   "metadata": {
    "collapsed": false
   },
   "outputs": [],
   "source": [
    "input_names = '''\n",
    "孫悟空\n",
    "ヤムチャ\n",
    "ピラフ\n",
    "亀仙人\n",
    "餃子\n",
    "天津飯\n",
    "ピッコロ\n",
    "ベジータ\n",
    "フリーザ\n",
    "人造人間20号\n",
    "セル\n",
    "魔人ブウ\n",
    "'''"
   ]
  },
  {
   "cell_type": "code",
   "execution_count": 3,
   "metadata": {
    "collapsed": false
   },
   "outputs": [],
   "source": [
    "names = input_names.strip().split(\"\\n\")"
   ]
  },
  {
   "cell_type": "code",
   "execution_count": 4,
   "metadata": {
    "collapsed": false
   },
   "outputs": [
    {
     "name": "stdout",
     "output_type": "stream",
     "text": [
      "Team 1 :\t 人造人間20号,  餃子,  天津飯,  フリーザ\n",
      "Team 2 :\t ピラフ,  魔人ブウ,  ベジータ,  孫悟空\n",
      "Team 3 :\t ピッコロ,  セル,  亀仙人,  ヤムチャ\n"
     ]
    }
   ],
   "source": [
    "random_grouping(names, 3)"
   ]
  },
  {
   "cell_type": "code",
   "execution_count": 5,
   "metadata": {
    "collapsed": false
   },
   "outputs": [
    {
     "name": "stdout",
     "output_type": "stream",
     "text": [
      "Team 1 :\t 孫悟空,  ベジータ,  天津飯\n",
      "Team 2 :\t 魔人ブウ,  人造人間20号,  亀仙人\n",
      "Team 3 :\t フリーザ,  ピッコロ,  ヤムチャ\n",
      "Team 4 :\t ピラフ,  セル,  餃子\n"
     ]
    }
   ],
   "source": [
    "random_grouping(names, 4)"
   ]
  },
  {
   "cell_type": "code",
   "execution_count": 6,
   "metadata": {
    "collapsed": false
   },
   "outputs": [
    {
     "name": "stdout",
     "output_type": "stream",
     "text": [
      "Team 1 :\t フリーザ\n",
      "Team 2 :\t ベジータ\n",
      "Team 3 :\t 人造人間20号\n",
      "Team 4 :\t 孫悟空\n",
      "Team 5 :\t ピラフ\n",
      "Team 6 :\t 天津飯\n",
      "Team 7 :\t 餃子\n",
      "Team 8 :\t 魔人ブウ\n",
      "Team 9 :\t 亀仙人\n",
      "Team 10 :\t ピッコロ\n",
      "Team 11 :\t ヤムチャ\n",
      "Team 12 :\t セル\n"
     ]
    }
   ],
   "source": [
    "random_grouping(names, 12)"
   ]
  },
  {
   "cell_type": "code",
   "execution_count": 7,
   "metadata": {
    "collapsed": true
   },
   "outputs": [],
   "source": [
    "student_names = '''\n",
    "A\n",
    "B\n",
    "C\n",
    "D\n",
    "E\n",
    "F\n",
    "G\n",
    "H\n",
    "I\n",
    "J\n",
    "K\n",
    "L\n",
    "M\n",
    "N\n",
    "O\n",
    "P\n",
    "Q\n",
    "R\n",
    "S\n",
    "T\n",
    "U\n",
    "V\n",
    "W\n",
    "X\n",
    "Y\n",
    "Z \n",
    "'''"
   ]
  },
  {
   "cell_type": "code",
   "execution_count": 8,
   "metadata": {
    "collapsed": true
   },
   "outputs": [],
   "source": [
    "students = student_names.strip().split(\"\\n\")"
   ]
  },
  {
   "cell_type": "code",
   "execution_count": 9,
   "metadata": {
    "collapsed": false
   },
   "outputs": [
    {
     "name": "stdout",
     "output_type": "stream",
     "text": [
      "Team フリーザ :\t J,  Z,  T\n",
      "Team ベジータ :\t L,  N,  S\n",
      "Team 人造人間20号 :\t V,  A\n",
      "Team 孫悟空 :\t X,  C\n",
      "Team ピラフ :\t Y,  M\n",
      "Team 天津飯 :\t F,  D\n",
      "Team 餃子 :\t B,  E\n",
      "Team 魔人ブウ :\t K,  P\n",
      "Team 亀仙人 :\t O,  I\n",
      "Team ピッコロ :\t U,  W\n",
      "Team ヤムチャ :\t G,  R\n",
      "Team セル :\t H,  Q\n"
     ]
    }
   ],
   "source": [
    "random_grouping(students, 12, names)"
   ]
  },
  {
   "cell_type": "code",
   "execution_count": null,
   "metadata": {
    "collapsed": true
   },
   "outputs": [],
   "source": []
  }
 ],
 "metadata": {
  "kernelspec": {
   "display_name": "Python 3",
   "language": "python",
   "name": "python3"
  },
  "language_info": {
   "codemirror_mode": {
    "name": "ipython",
    "version": 3
   },
   "file_extension": ".py",
   "mimetype": "text/x-python",
   "name": "python",
   "nbconvert_exporter": "python",
   "pygments_lexer": "ipython3",
   "version": "3.4.5"
  }
 },
 "nbformat": 4,
 "nbformat_minor": 2
}
