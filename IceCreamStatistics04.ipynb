{
 "cells": [
  {
   "cell_type": "markdown",
   "metadata": {},
   "source": [
    "# アイスクリーム統計学 with Python 第4章\n",
    "\n",
    "第８回講義（2017年10月24日講義、10月27日課題提出締切）\n",
    "\n",
    "このページは、<a href=\"http://kogolab.chillout.jp/elearn/icecream/index.html\" target=\"_blank\">アイスクリーム統計学にようこそ！</a>の内容をプログラミング言語 Python に合わせて書き直したものです（著作権者の許諾を得て利用しております）。"
   ]
  },
  {
   "cell_type": "markdown",
   "metadata": {},
   "source": [
    "<h1 STYLE=\"background: #c2edff;padding: 0.5em;\"><a href=\"http://kogolab.chillout.jp/elearn/icecream/chap4/sec0.html\" target=\"_blank\">第４章 単回帰</a></h1>\n",
    "\n",
    "<P class=\"photo\"><img src=\"image/icecream.jpg\" width=\"172\" height=\"179\"></P>\n",
    "<P>さて、アイ子ちゃんがバイトをしている店も、開店してから間もなく一年を迎えようとしていました。</P>\n",
    "<P>店長もだんだんと店長らしくなってきました。</P>\n",
    "<P class=\"photo\"><img src=\"image/tencho-futsu.jpg\" width=\"130\" height=\"145\"></P>\n",
    "<P class=speech>「さあ、間もなく暑い夏がやってくるぞ」</P>\n",
    "<P class=speech>───店長、何を張り切っているんですか？</P>\n",
    "<P class=speech>「暑い夏はアイスクリームの季節じゃないか。燃えてくるぜ～」</P>\n",
    "<P class=speech>───そうですね。私たちにとっては忙しいシーズンですね。</P>\n",
    "<P class=speech>「お客の数も増えるだろうから、今からバイトの手配をしておかなくては」</P>\n",
    "<P class=speech>───はい。</P>\n",
    "<P class=speech>「さて、でもどれくらいのお客が来るのかな……」</P>"
   ]
  },
  {
   "cell_type": "markdown",
   "metadata": {},
   "source": [
    "<h2 STYLE=\"background: #c2edff;padding: 0.5em;\"><a href=\"http://kogolab.chillout.jp/elearn/icecream/chap4/sec1.html\" target=\"_blank\">4.1　散布図に線を引く</a></h2>\n",
    "\n",
    "<P class=\"photo\"><img src=\"image/tencho-komaru.jpg\" width=\"126\" height=\"139\"></P>\n",
    "<P class=\"speech\">「お客の数をうまく予測することが、バイトを手配するためには必要だな」</P>\n",
    "<P class=\"speech\">───以前、お客の数は、その日の最高気温と相関が強いといってませんでしたか？</P>\n",
    "<P class=\"speech\">「おお、そうだ。天気予報でその日の最高気温が予測できれば、それにしたがってお客の数も予測できるぞ」</P>\n",
    "<P class=\"speech\">───そういうことですね。</P>\n",
    "<P class=\"speech\">「アイ子ちゃん、ここに去年の夏のデータがある。土日は除いた平日のデータだ」</P>\n",
    "\n",
    "<P class=\"photo\"><img src=\"image/aiko-futsu.jpg\" width=\"168\" height=\"140\"></P>\n",
    "<P class=\"speech\">───はい、散布図ですね。</P>\n",
    "<P class=\"speech\">さすが。</P>\n",
    "<P class=\"speech\">───ちょちょいのちょいです。</P>"
   ]
  },
  {
   "cell_type": "markdown",
   "metadata": {},
   "source": [
    "<h4 style=\"padding: 0.25em 0.5em;color: #494949;background: transparent;border-left: solid 5px #7db4e6;\">課題4.1</h4>\n",
    "\n",
    "[去年の夏のデータ](https://raw.githubusercontent.com/maskot1977/ipython_notebook/master/toydata/ice_cream2.txt)をダウンロードし、散布図を描いてください。"
   ]
  },
  {
   "cell_type": "code",
   "execution_count": 1,
   "metadata": {
    "collapsed": true
   },
   "outputs": [],
   "source": [
    "# URL によるリソースへのアクセスを提供するライブラリをインポートする。"
   ]
  },
  {
   "cell_type": "code",
   "execution_count": 2,
   "metadata": {
    "collapsed": true
   },
   "outputs": [],
   "source": [
    "# ウェブ上のリソースを指定する"
   ]
  },
  {
   "cell_type": "code",
   "execution_count": 3,
   "metadata": {
    "collapsed": false
   },
   "outputs": [
    {
     "data": {
      "text/plain": [
       "('ice_cream2.txt', <httplib.HTTPMessage instance at 0x10611ae18>)"
      ]
     },
     "execution_count": 3,
     "metadata": {},
     "output_type": "execute_result"
    }
   ],
   "source": [
    "# 指定したURLからリソースをダウンロードし、名前をつける。"
   ]
  },
  {
   "cell_type": "code",
   "execution_count": 4,
   "metadata": {
    "collapsed": true
   },
   "outputs": [],
   "source": [
    "# ダウンロードしたデータから、列ごとに数字を読み込んでリストに格納する。"
   ]
  },
  {
   "cell_type": "code",
   "execution_count": 5,
   "metadata": {
    "collapsed": true
   },
   "outputs": [],
   "source": [
    "# 図やグラフを図示するためのライブラリをインポートする。"
   ]
  },
  {
   "cell_type": "code",
   "execution_count": 6,
   "metadata": {
    "collapsed": false
   },
   "outputs": [
    {
     "data": {
      "image/png": "[encoded data removed]",
      "text/plain": [
       "<matplotlib.figure.Figure at 0x10c4f1810>"
      ]
     },
     "metadata": {},
     "output_type": "display_data"
    }
   ],
   "source": [
    "# プロットする"
   ]
  },
  {
   "cell_type": "markdown",
   "metadata": {},
   "source": [
    "<P class=\"speech\">───はい、できましたよ。散布図です。</P>\n",
    "<P class=\"speech\">「うーん、確かに右上がりの散布図だけど……なんかぼんやりしているな」</P>\n",
    "<P class=\"speech\">───店長、それはしかたないですよ。データに分散があるのですから。</P>\n",
    "<P class=\"speech\">「こう、なんというか、すぱーっと線でも引いてくれないかな。この線をみれば、予測客数が一発でわかります、みたいな線。そうだなこんな線」</P>\n",
    "<P class=\"photo\"><img src=\"image/sanpuzu2.jpg\" width=\"356\" height=\"292\"></P>\n",
    "<P class=\"speech\">───確かにそんな線が引ければ、予測人数も計算しやすいわね。でも、かといって、目分量で引くわけにもいかないし……　どうしたらいいのかな？</P>\n",
    "<P class=\"photo\"><img src=\"image/aiko-fushigi.jpg\" width=\"148\" height=\"128\"></P>\n"
   ]
  },
  {
   "cell_type": "markdown",
   "metadata": {},
   "source": [
    "<h2 STYLE=\"background: #c2edff;padding: 0.5em;\"><a href=\"http://kogolab.chillout.jp/elearn/icecream/chap4/sec2.html\" target=\"_blank\">4.2　回帰直線の原理</a></h2>\n",
    "\n",
    "<P class=\"photo\"><img src=\"image/senpai-futsu.jpg\" width=\"152\" height=\"127\"></P>\n",
    "<P class=\"speech\">「どうしました？　店長、アイ子ちゃん。難しい顔をして」</P>\n",
    "<P class=\"speech\">───あ、三ヶ島先輩。この散布図を見てください。</P>\n",
    "<P class=\"speech\">「右上がり。正の相関だね」</P>\n",
    "<P class=\"speech\">───そうなんです。そこまではいいんですが、これに、すぱーっと線を引きたいんですよ。最高気温がわかれば、客の数がすぐに計算できるような線です。</P>\n",
    "<P class=\"speech\">「ふむふむ。まさに、それは、＜回帰直線＞と呼ばれているものなんだよ」</P>\n",
    "<P class=\"photo\"><img src=\"image/aiko-ganbaru.jpg\" width=\"181\" height=\"133\"></P>\n",
    "<P class=\"speech\">───怪奇直線ですか？　なんだか恐ろしげですね。</P>\n",
    "<P class=\"speech\">「いやいや、怪奇現象の怪奇じゃなくて、回って帰ると書いて＜回帰＞だ。妙なギャグかまさないように」</P>\n",
    "<P class=\"speech\">───てへ。三ヶ島先輩、その回帰直線というのを、教えてください。</P>"
   ]
  },
  {
   "cell_type": "markdown",
   "metadata": {},
   "source": [
    "<h4 style=\"border-bottom: solid 1px black;\">回帰直線の原理</h4>\n",
    "\n",
    "<p class=\"photo\"><img src=\"image/senpai-setsumei.jpg\" width=\"135\" height=\"136\"></p>\n",
    "<p>説明のために、4つだけのデータの場合を考えていこう。このようなデータだ。</p>\n",
    "<p class=\"photo\"><img src=\"image/kaiki1.jpg\" width=\"236\" height=\"242\"></p>\n",
    "<p>この4つの点をうまく通るような直線を引こうと考える。こんな感じだね。</p>\n",
    "<p class=\"photo\"><img src=\"image/kaiki2.jpg\" width=\"239\" height=\"241\"></p>\n",
    "<p>でも、どううまく直線を引いたとしても、どうしてもその直線と実際のデータは少しずれるわけだ。全部のデータがすべて直線の上に乗っていない限りね。そこで、直線と実際のデータの「ずれ」を考える。</p>\n",
    "<p>下の図の、オレンジとブルーの矢印のように、プラスとマイナスのずれがある。これを「<em>残差</em>」と呼ぼう。「残差」というのは、つまり、直線で予測できるデータの残りの部分ということだ。</p>\n",
    "<p class=\"photo\"><img src=\"image/kaiki3.jpg\" width=\"238\" height=\"238\"></p>\n",
    "<p>さて、この残差が最も小さくなるような直線を考える。これを<em>「回帰直線」</em>と呼ぶ。</p>\n",
    "<p>この回帰直線を求める方法として「最小２乗法」というものを使う。これは、残差の２乗の合計を計算して、それを最も小さくする直線を求めるものだ。</p>\n",
    "<p class=\"photo\"><img src=\"image/kaiki4.jpg\" width=\"440\" height=\"241\"></p>\n",
    "<p>下の図を見て、残差の２乗和が小さいケースと大きいケースを比較してみよう。残差の２乗は、残差を一辺とする正方形の面積に相当するので、小さい値がそろっている方が、合計値は小さくなる。下の図で、その大きさに注目してみよう。</p>\n",
    "<p class=\"photo\"><img src=\"image/kaiki5.jpg\" width=\"598\" height=\"281\"></p>\n",
    "\n"
   ]
  },
  {
   "cell_type": "markdown",
   "metadata": {},
   "source": [
    "<h2 STYLE=\"background: #c2edff;padding: 0.5em;\"><a href=\"http://kogolab.chillout.jp/elearn/icecream/chap4/sec3.html\" target=\"_blank\">4.3　回帰直線を求める</a></h2>\n",
    "\n",
    "<P class=\"photo\"><img src=\"image/aiko-futsu.jpg\" width=\"168\" height=\"140\"></P>\n",
    "<P class=\"speech\">───回帰直線の原理はわかりました、三ヶ島先輩。具体的にその直線を計算で求めるにはどうしたらいいんですか？</P>\n",
    "<P class=\"speech\">「うん。直線というのは、何を指定すれば決まると思う？」</P>\n",
    "<P class=\"speech\">───あー、中学校でやりましたね。ええと、「y切片」と「傾き」だったかな？</P>\n",
    "<P class=\"speech\">「そうだ。図で描くとこんな感じ」</P>\n",
    "<P class=\"photo\"><img src=\"image/kaiki6.jpg\" width=\"318\" height=\"277\"></P>\n",
    "<P class=\"speech\">「y切片というのは、xがゼロの時のyの値だ。傾きというのは、x方向に1だけ進んだとき、y方向にいくつ進んだかという値だ。思い出したかな？」</P>\n",
    "<P class=\"speech\">───じゃあ、最小２乗法によって、直線のy切片と傾きを決めれば、回帰直線が決まるというわけですね。</P>\n",
    "<P class=\"speech\">「そう。その通りだ」</P>\n",
    "<P class=\"speech\">───具体的には、どうやって求めるんですか？</P>\n",
    "<P class=\"speech\">「それには、偏微分の知識が必要だ」</P>\n",
    "<P class=\"photo\"><img src=\"image/aiko-asekaki.jpg\" width=\"194\" height=\"150\"></P>\n",
    "<P class=\"speech\">───偏微分？　微分積分さえ習ってませんので、かんべんしてください。</P>\n",
    "<P class=\"speech\">「じゃ、計算の仕方だけ教えるね。意外と簡単だよ」</P>"
   ]
  },
  {
   "cell_type": "markdown",
   "metadata": {},
   "source": [
    "<h4 style=\"border-bottom: solid 1px black;\">回帰直線を求める</h4>\n",
    "<p class=\"photo\"><img src=\"image/senpai-setsumei.jpg\" width=\"135\" height=\"136\"></p>\n",
    "<p>まず、回帰直線の傾きだ。</p>\n",
    "<p>相関係数の出し方はもうわかっているよね。そうすると、</p>\n",
    "<p class=\"eq\">回帰直線の傾き＝相関係数＊（（yの標準偏差）／（xの標準偏差））</p>\n",
    "<p>となる。ここで「＊」はかけ算、「／」はわり算の記号だよ。</p>\n",
    "<p>イメージにするとこんな感じだよ。</p>\n",
    "<p class=\"photo\"><img src=\"image/kaiki7.jpg\" width=\"691\" height=\"270\"></p>\n",
    "<p>次に、y切片だ。</p>\n",
    "<p class=\"eq\">y切片＝yの平均－（傾き＊xの平均）</p>\n",
    "<p>となる。</p>\n",
    "<p>これもイメージにしてみよう。こんな感じ。</p>\n",
    "<p class=\"photo\"><img src=\"image/kaiki8.jpg\" width=\"525\" height=\"276\"></p>"
   ]
  },
  {
   "cell_type": "markdown",
   "metadata": {},
   "source": [
    "<h2 STYLE=\"background: #c2edff;padding: 0.5em;\"><a href=\"http://kogolab.chillout.jp/elearn/icecream/chap4/sec4.html\" target=\"_blank\">4.4　回帰直線を求めてみよう</a></h2>\n",
    "\n",
    "<P class=\"photo\"><img src=\"image/aiko-fushigi.jpg\" width=\"148\" height=\"128\"></P>\n",
    "<P>じゃあ、最高気温(x)と客数(y)のデータを使って、回帰直線をもとめてみます。</P>"
   ]
  },
  {
   "cell_type": "markdown",
   "metadata": {},
   "source": [
    "<h4 style=\"padding: 0.25em 0.5em;color: #494949;background: transparent;border-left: solid 5px #7db4e6;\">課題4.4</h4>\n",
    "\n",
    "[去年の夏のデータ](https://raw.githubusercontent.com/maskot1977/ipython_notebook/master/toydata/ice_cream2.txt)をダウンロードし、以下の問に答えてください。\n",
    "\n",
    "(1)　相関係数を求めてください。\n",
    "    * 相関係数＝偏差積の平均／（xの標準偏差＊yの標準偏差）\n",
    "\n",
    "(2)　回帰直線の傾きを求めてください。\n",
    "    * 回帰直線の傾き＝相関係数＊（（yの標準偏差）／（xの標準偏差））\n",
    "\n",
    "(3)　回帰直線のy切片を求めてください。\n",
    "\n",
    "(4)　散布図に回帰直線を描き入れてください。"
   ]
  },
  {
   "cell_type": "code",
   "execution_count": 7,
   "metadata": {
    "collapsed": true
   },
   "outputs": [],
   "source": [
    "# 平均値を求める関数\n",
    "def average(list):"
   ]
  },
  {
   "cell_type": "code",
   "execution_count": 8,
   "metadata": {
    "collapsed": true
   },
   "outputs": [],
   "source": [
    "# 分散を求める関数\n",
    "def variance(list):"
   ]
  },
  {
   "cell_type": "code",
   "execution_count": 9,
   "metadata": {
    "collapsed": true
   },
   "outputs": [],
   "source": [
    "# 標準偏差を求める関数\n",
    "import math\n",
    "def standard_deviation(list):"
   ]
  },
  {
   "cell_type": "code",
   "execution_count": 10,
   "metadata": {
    "collapsed": true
   },
   "outputs": [],
   "source": [
    "# 共分散（偏差積の平均）を求める関数\n",
    "def covariance(list1, list2): "
   ]
  },
  {
   "cell_type": "code",
   "execution_count": 11,
   "metadata": {
    "collapsed": true
   },
   "outputs": [],
   "source": [
    "# 相関係数を求める関数\n",
    "def correlation(list1, list2):"
   ]
  },
  {
   "cell_type": "code",
   "execution_count": 12,
   "metadata": {
    "collapsed": false
   },
   "outputs": [
    {
     "data": {
      "text/plain": [
       "0.8703518769354424"
      ]
     },
     "execution_count": 12,
     "metadata": {},
     "output_type": "execute_result"
    }
   ],
   "source": [
    "# 相関係数を求める\n",
    "correlation(col2, col3)"
   ]
  },
  {
   "cell_type": "code",
   "execution_count": 13,
   "metadata": {
    "collapsed": false
   },
   "outputs": [],
   "source": [
    "# 回帰直線の傾き＝相関係数＊（（yの標準偏差）／（xの標準偏差））を求める関数を作ってください。\n",
    "def a_fit(xlist, ylist):"
   ]
  },
  {
   "cell_type": "code",
   "execution_count": 14,
   "metadata": {
    "collapsed": false
   },
   "outputs": [],
   "source": [
    "# y切片＝yの平均－（傾き＊xの平均）を求める関数を作ってください。\n",
    "def b_fit(xlist, ylist):"
   ]
  },
  {
   "cell_type": "code",
   "execution_count": 15,
   "metadata": {
    "collapsed": false
   },
   "outputs": [
    {
     "name": "stdout",
     "output_type": "stream",
     "text": [
      "y = ax + b; (a, b) = (17.2482570476, -229.981812671)\n"
     ]
    }
   ],
   "source": [
    "# 回帰直線の式\n",
    "print(\"y = ax + b; (a, b) = ({0}, {1})\".format(a_fit(col2, col3), b_fit(col2, col3)))"
   ]
  },
  {
   "cell_type": "code",
   "execution_count": 16,
   "metadata": {
    "collapsed": false
   },
   "outputs": [
    {
     "data": {
      "text/plain": [
       "304.71415580478936"
      ]
     },
     "execution_count": 16,
     "metadata": {},
     "output_type": "execute_result"
    }
   ],
   "source": [
    "# たとえば最高気温 31度のときの予測客数は\n",
    "a_fit(col2, col3) * 31 + b_fit(col2, col3)"
   ]
  },
  {
   "cell_type": "code",
   "execution_count": 17,
   "metadata": {
    "collapsed": false
   },
   "outputs": [],
   "source": [
    "# 回帰直線を描くための準備として、回帰直線の式を参考に、xの最小値〜最大値の範囲のxに対応するyの予測値（fitted_y）を計算してください。\n",
    "test_x = []\n",
    "fitted_y = []\n",
    "for x in range(min(col2), max(col2)+1):"
   ]
  },
  {
   "cell_type": "code",
   "execution_count": 18,
   "metadata": {
    "collapsed": false
   },
   "outputs": [
    {
     "data": {
      "image/png": "[encoded data removed]",
      "text/plain": [
       "<matplotlib.figure.Figure at 0x10ef94f90>"
      ]
     },
     "metadata": {},
     "output_type": "display_data"
    }
   ],
   "source": [
    "# 散布図と回帰直線を描く。\n",
    "plt.figure(figsize=(8,5))\n",
    "plt.plot(col2,col3,'bo', label='Exp.')\n",
    "plt.plot(test_x,fitted_y,'k-', label='fitted line', linewidth=10, alpha=0.3)\n",
    "plt.title(\"Numbers of customers in last summer\")\n",
    "plt.xlabel(\"Temperature\")\n",
    "plt.ylabel(\"Customers\")\n",
    "plt.legend(loc='best',fancybox=True, shadow=True)\n",
    "plt.grid(True)\n",
    "for day, x, y in zip(col1, col2, col3):\n",
    "    plt.text(x, y, day, alpha=0.8, size=12)\n",
    "plt.show()"
   ]
  },
  {
   "cell_type": "markdown",
   "metadata": {},
   "source": [
    "<p class=\"photo\"><img src=\"image/aiko-suteki.jpg\" width=\"154\" height=\"130\"></p>\n",
    "<p class=\"speech\">───三ヶ島先輩、計算できました。傾きは、17.25、y切片は、-229.98になりました。</p>\n",
    "<p class=\"speech\">「ということはどういう意味かな？　アイ子ちゃん」</p>\n",
    "<p class=\"speech\">───ええと、傾きが17.25ということは、最高気温が1度上がるごとに、お客の数が17.25人増えるということですね。</p>\n",
    "<p class=\"speech\">「うん、そうだね」</p>\n",
    "<p class=\"speech\">───そして、y切片が-229.98ということは……　え？　マイナス？</p>\n",
    "<p class=\"speech\">「それは、数字の通りに解釈すれば、こういうことだ。最高気温が0度のとき、お客の数は-229.98人と予測できる、ということ」</p>\n",
    "<p class=\"speech\">───でも、お客の数がマイナスなんておかしいじゃないですか？</p>\n",
    "<p class=\"speech\">「そうだ。おかしいよね。でも、回帰直線は計算されてしまうので、こういうことになる。最高気温0度のときのお客の数はゼロになることはあるかもしれないが、マイナスには論理的にならないね。このように数値を計算した後には、その意味づけをよく考えることが大切なんだ」</p>\n",
    "<p class=\"speech\">───いずれにしても、y切片が-229.98ということは、数値としてはおかしくないのですね。</p>\n",
    "<p class=\"speech\">「そう。おかしくない。解釈すると妙なことになるけどね」</p>\n",
    "<p class=\"photo\"><img src=\"image/senpai-nozoku.jpg\" width=\"135\" height=\"126\"></p>\n",
    "<p class=\"speech\">「たとえば、夏としては割と涼しい日である、最高気温25度の日のお客の数は、どれくらいだと予測できるかな？」</p>\n",
    "<p class=\"speech\">───えーと、傾き17.25に25をかけて、y切片-229.98を足せばいいんですね。そうすると、201.27人ですね。</p>\n",
    "<p class=\"speech\">「そうなるね。実際のデータでは、14番目のデータで、最高気温25度のとき、客数196人という実績があって、だいたい合致しているようだね」</p>\n",
    "<p class=\"speech\">───ほんとだ。うーん、回帰直線って、すごいですね。</p>"
   ]
  },
  {
   "cell_type": "markdown",
   "metadata": {},
   "source": [
    "<h2 STYLE=\"background: #c2edff;padding: 0.5em;\"><a href=\"http://kogolab.chillout.jp/elearn/icecream/chap4/sec5.html\" target=\"_blank\">4.5　（応用編）回帰直線で予測する</a></h2>\n",
    "\n",
    "<P class=\"photo\"><img src=\"image/tencho-muzukashii.jpg\" width=\"127\" height=\"138\"></P>\n",
    "<P class=\"speech\">「アイ子ちゃん、どう～？」</P>\n",
    "<P class=\"speech\">───あ、店長。知らないうちにどこに行っていたんですか？</P>\n",
    "<P class=\"speech\">「で、どうなの。ぱしーっと線は引けたの？」</P>\n",
    "<P class=\"speech\">───はい。三ヶ島先輩のおかげでばっちりですよ。その線は、「回帰直線」というんです。</P>\n",
    "<P class=\"speech\">「なに～？　怪奇直線？　なんか怖い～」</P>\n",
    "<P class=\"speech\">───（がくっ。私は店長と同じギャグレベルなのか…）いえ、店長。回って帰ると書いて「回帰」って言うんです。これを見てください。この回帰直線を使えば、最高気温によって予測できる客数が即座に計算できます。</P>\n",
    "<P class=\"speech\">「おおっ！　すごいな回帰直線てのは」</P>"
   ]
  },
  {
   "cell_type": "markdown",
   "metadata": {},
   "source": [
    "<h4 style=\"border-bottom: solid 1px black;\">駅からの距離で客数を予測する</h4>\n",
    "\n",
    "<p class=\"photo\"><img src=\"image/tencho-futsu.jpg\" width=\"130\" height=\"145\"></p>\n",
    "<p class=\"speech\">「アイ子ちゃん、それじゃ、店舗の駅からの距離と平均客数のデータを使って、回帰直線とやらを求めてくれないかな。本部にこのレポートを出せば、新規店舗を作ったときの客数予測に、きっと役立つに違いない」</p>\n",
    "\n",
    "<P class=\"speech\">───店長、このデータから回帰直線を求めてみますね。コーンも手伝って！</P>\n",
    "<P class=\"photo\"><img src=\"image/corn.jpg\" width=\"120\" height=\"91\"></P>"
   ]
  },
  {
   "cell_type": "markdown",
   "metadata": {},
   "source": [
    "<h4 style=\"padding: 0.25em 0.5em;color: #494949;background: transparent;border-left: solid 5px #7db4e6;\">課題4.5</h4>\n",
    "\n",
    "[店舗別８月の平均客数データ（12店舗）](https://raw.githubusercontent.com/maskot1977/ipython_notebook/master/toydata/shop_distance.txt)をダウンロードし、相関係数、回帰直線の傾き、回帰直線のy切片を求め、散布図に回帰直線を描き入れてください。"
   ]
  },
  {
   "cell_type": "code",
   "execution_count": 19,
   "metadata": {
    "collapsed": false
   },
   "outputs": [
    {
     "data": {
      "text/plain": [
       "('shop_distance.txt', <httplib.HTTPMessage instance at 0x10efa5680>)"
      ]
     },
     "execution_count": 19,
     "metadata": {},
     "output_type": "execute_result"
    }
   ],
   "source": [
    "# ウェブ上のリソースを指定する\n",
    "# 指定したURLからリソースをダウンロードし、名前をつける。"
   ]
  },
  {
   "cell_type": "code",
   "execution_count": 20,
   "metadata": {
    "collapsed": true
   },
   "outputs": [],
   "source": [
    "# ダウンロードしたデータから、列ごとに数字を読み込んでリストに格納する。"
   ]
  },
  {
   "cell_type": "code",
   "execution_count": 21,
   "metadata": {
    "collapsed": false
   },
   "outputs": [
    {
     "data": {
      "text/plain": [
       "-0.9795221182977909"
      ]
     },
     "execution_count": 21,
     "metadata": {},
     "output_type": "execute_result"
    }
   ],
   "source": [
    "# 相関係数を求める"
   ]
  },
  {
   "cell_type": "code",
   "execution_count": 22,
   "metadata": {
    "collapsed": false
   },
   "outputs": [
    {
     "name": "stdout",
     "output_type": "stream",
     "text": [
      "y = ax + b; (a, b) = (-0.476140442984, 755.34959721)\n"
     ]
    }
   ],
   "source": [
    "# 回帰直線の式"
   ]
  },
  {
   "cell_type": "code",
   "execution_count": 23,
   "metadata": {
    "collapsed": true
   },
   "outputs": [],
   "source": [
    "# 回帰直線を描くための準備"
   ]
  },
  {
   "cell_type": "code",
   "execution_count": 24,
   "metadata": {
    "collapsed": false,
    "scrolled": true
   },
   "outputs": [
    {
     "data": {
      "image/png": "[encoded data removed]",
      "text/plain": [
       "<matplotlib.figure.Figure at 0x10ef89fd0>"
      ]
     },
     "metadata": {},
     "output_type": "display_data"
    }
   ],
   "source": [
    "# 散布図と回帰直線を描く。"
   ]
  },
  {
   "cell_type": "markdown",
   "metadata": {},
   "source": [
    "<h2 STYLE=\"background: #c2edff;padding: 0.5em;\">アイスクリーム統計学 第４章 課題</h2>\n",
    "\n",
    "__課題4.1__、__課題4.4__、および __課題4.5__ を解いて、指定のメールアドレスまでメールしてください。メール送信後は、エラーが帰ってきてないことを確認してください（メールアドレスを間違える人がときどき居ます）。\n",
    "* 締切：10月27日（今すぐでなくても結構です）\n",
    "* メールタイトル：「アイスクリーム統計学 第４章」\n",
    "* 学籍番号と氏名を明記すること。\n",
    "* 感想などがあれば書いてくれると嬉しいです。次回以降の講義の改善につながるかも知れません。"
   ]
  },
  {
   "cell_type": "code",
   "execution_count": null,
   "metadata": {
    "collapsed": true
   },
   "outputs": [],
   "source": [
    "# アイスクリーム統計学 第４章 課題"
   ]
  },
  {
   "cell_type": "markdown",
   "metadata": {},
   "source": [
    "<h2 STYLE=\"background: #c2edff;padding: 0.5em;\">終わったら、<a href=\"IceCreamStatistics05.ipynb\">第５章：偏相関</a> に進んでください。</h2>\n",
    "（2017年10月27日講義、10月31日課題提出締切）"
   ]
  }
 ],
 "metadata": {
  "kernelspec": {
   "display_name": "Python 3",
   "language": "python",
   "name": "python3"
  },
  "language_info": {
   "codemirror_mode": {
    "name": "ipython",
    "version": 3
   },
   "file_extension": ".py",
   "mimetype": "text/x-python",
   "name": "python",
   "nbconvert_exporter": "python",
   "pygments_lexer": "ipython3",
   "version": "3.4.5"
  }
 },
 "nbformat": 4,
 "nbformat_minor": 0
}
