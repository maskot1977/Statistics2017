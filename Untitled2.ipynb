{
 "cells": [
  {
   "cell_type": "markdown",
   "metadata": {},
   "source": [
    "<h4 style=\"border-bottom: solid 1px black;\">問１</h4>\n",
    "\n",
    "以下の図は、Twitterで行われた２つのアンケートとその結果である。これに関して、以下の問いに答えなさい。"
   ]
  },
  {
   "cell_type": "markdown",
   "metadata": {},
   "source": [
    "<img src=\"Natto.png\">"
   ]
  },
  {
   "cell_type": "markdown",
   "metadata": {},
   "source": [
    "(1) 上記２つの仮説を検証するためにはどのような統計的検定を行えばよいか、検定法の名前を答えなさい。\n",
    "\n",
    "(2) 上記２つの仮説に対して統計的検定を行ない、その仮説が正しいかどうか検証しなさい。\n",
    "\n",
    "(3) 上記２つの仮説は非常によく似ているが異なる。このような２つのアンケートを行なった意図について説明し、２つのアンケート結果の違いについて検証しなさい。"
   ]
  },
  {
   "cell_type": "markdown",
   "metadata": {},
   "source": [
    "<h4 style=\"border-bottom: solid 1px black;\">問２</h4>\n",
    "\n",
    "以下の図は、バスケットボールをテーマとした３つのマンガ\n",
    "\n",
    "* 「スラムダンク」（1990年 - 1996年）\n",
    "* 「黒子のバスケ」（2009年 - 2014年）\n",
    "* 「ハイキュー！！」（2012年 - 連載中）\n",
    "\n",
    "の主要な登場人物の身長と体重に関するデータである。これに関して、以下の問いに答えなさい。"
   ]
  },
  {
   "cell_type": "markdown",
   "metadata": {},
   "source": [
    "<img src=\"BasketBall.jpg\">"
   ]
  },
  {
   "cell_type": "markdown",
   "metadata": {},
   "source": [
    "(1) 各マンガごとに、身長の平均、身長の標準偏差、体重の平均、体重の標準偏差を求めなさい。\n",
    "\n",
    "(2) ボディマス指数とは、一般にBMI (Body Mass Index) と呼ばれ、体重が __w__ kg、身長が __h__ m の人のBMIは BMI = __w__ / __h__<sup>2</sup> で表される。各マンガごとに、BMIの平均、BMIの標準偏差を求めなさい。\n",
    "\n",
    "(3) これらのマンガを、「２０世紀のマンガ」（スラムダンク）と「２１世紀のマンガ」（黒子のバスケ＋ハイキュー！！）に分類する。このとき、「２０世紀のマンガの登場人物と、２１世紀のマンガの登場人物では体格が異なる」という仮説を立てた。その仮説を検証するためにはどのような統計的検定を行えばよいか、検定法の名前を答えなさい。\n",
    "\n",
    "(4) (3) の仮説について、身長、体重、BMI それぞれについて統計的検定を行ない、その仮説が正しいかどうか検証しなさい。"
   ]
  },
  {
   "cell_type": "markdown",
   "metadata": {},
   "source": [
    "<h4 style=\"border-bottom: solid 1px black;\">問３</h4>\n",
    "\n",
    "以下の図は、あるテレビ局の報道・情報番組で紹介された統計データである。"
   ]
  },
  {
   "cell_type": "markdown",
   "metadata": {},
   "source": [
    "<img src=\"Okashina.jpg\">"
   ]
  },
  {
   "cell_type": "markdown",
   "metadata": {},
   "source": [
    "この内容に関して、おかしな点を指摘し、改善点を提案しなさい。"
   ]
  },
  {
   "cell_type": "markdown",
   "metadata": {},
   "source": [
    "以上、全３問"
   ]
  }
 ],
 "metadata": {
  "kernelspec": {
   "display_name": "Python 3",
   "language": "python",
   "name": "python3"
  },
  "language_info": {
   "codemirror_mode": {
    "name": "ipython",
    "version": 3
   },
   "file_extension": ".py",
   "mimetype": "text/x-python",
   "name": "python",
   "nbconvert_exporter": "python",
   "pygments_lexer": "ipython3",
   "version": "3.4.5"
  }
 },
 "nbformat": 4,
 "nbformat_minor": 2
}
