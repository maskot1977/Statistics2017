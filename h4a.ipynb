{
 "cells": [
  {
   "cell_type": "markdown",
   "metadata": {},
   "source": [
    "# ハンバーガー統計学 with Python 第4章\n",
    "\n",
    "第４回講義（2017年10月10日講義、10月13日課題提出締切）\n",
    "\n",
    "このページは、<a href=\"http://kogolab.chillout.jp/elearn/hamburger/index.html\" target=\"_blank\">ハンバーガー統計学にようこそ！</a>の内容をプログラミング言語 Python に合わせて書き直したものです（著作権者の許諾を得て利用しております）。"
   ]
  },
  {
   "cell_type": "markdown",
   "metadata": {},
   "source": [
    "<h1 STYLE=\"background: #c2edff;padding: 0.5em;\"><a href=\"http://kogolab.chillout.jp/elearn/hamburger/chap4/sec0.html\" target=\"_blank\">第４章 t検定（対応なし）</a></h1>\n",
    "\n",
    "<img src=\"image/w-burger00001.jpg\">\n",
    "\n",
    "ワクワクバーガーで、ポテトとチキンについて調べたあなたは、店員さんと仲良くなり、よく話をするようになりました。\n",
    "\n",
    "「いやぁ～、統計って何でもわかるんだなぁ～」\n",
    "\n",
    "ある日、そんな店員さんが、あなたにまたまた相談を持ちかけてきました。\n",
    "\n",
    "「実はね、うちのハンバーガーの売り上げのことなんだ。ちょっと気になることがあってね……」"
   ]
  },
  {
   "cell_type": "markdown",
   "metadata": {},
   "source": [
    "<h2 STYLE=\"background: #c2edff;padding: 0.5em;\"><a href=\"http://kogolab.chillout.jp/elearn/hamburger/chap4/sec1.html\" target=\"_blank\">4.1　ハンバーガーの味を評価する</a></h2>\n",
    "\n",
    "ワクワクバーガーの店員さんの調査の依頼とは、次のようなことでした。\n",
    "\n",
    "<img src=\"image/salesman00013.jpg\">\n",
    "\n",
    "「うちのハンバーガーの売り上げは悪くはないんだけど、ほかの店に比べて客層の年齢が高いような気がするんだ。モグモグバーガーは女子高生であふれてるんだけど、うちではそうでもない」\n",
    "\n",
    "「あっちの味のほうが女子高生ウケしてるのかな？　どう思う？　もしよかったら調査してくれないか」\n",
    "\n",
    "今度は、売り上げの個数ではなく、ワクワクバーガーとモグモグバーガーでのハンバーガーの味が女子高生にどれくらい好まれているかどうかということです。\n",
    "\n",
    "はたして、女子高生は、ワクワクのハンバーガーの味とモグモグのハンバーガーの味をどの程度好んでいるのでしょうか。それには差があるのでしょうか。"
   ]
  },
  {
   "cell_type": "markdown",
   "metadata": {},
   "source": [
    "<h4 style=\"border-bottom: solid 1px black;\">ハンバーガーの味に点数をつけてもらう</h4>\n",
    "\n",
    "ワクワクのハンバーガーの味とモグモグのハンバーガーの味とでは、評価が違っているのでしょうか？　それを知りたいのです。\n",
    "\n",
    "そこで、あなたはこの町の駅に行き、改札を通る女子高生を10人ごとに1人選びだして、調査を協力してもらいました。1人目の女子高生にはワクワクのハンバーガーを食べてもらい、100点満点で味の採点をしてもらいます。2人目は、モグモグのハンバーガーで同じようにしてもらいます。3人目はワクワクに戻ります。このようにして、それぞれのハンバーガーについて8人ずつのデータを取りました。\n",
    "\n",
    "<img src=\"image/other00002.jpg\">\n",
    "\n",
    "「……まあまあかな」\n",
    "\n",
    "「ピクルスきら～い」\n",
    "\n",
    "「タダなら何でもおいしい」\n",
    "\n",
    "など感想はいろいろです。 おいしさについての100点満点の点数は次のようになりました。"
   ]
  },
  {
   "cell_type": "markdown",
   "metadata": {},
   "source": [
    "<table border=\"1\" bgcolor=\"#FFFFFF\" cellpadding=\"0\" cellspacing=\"0\" align=\"center\">\n",
    "  <tr align=\"center\"> \n",
    "    <th width=\"120\" height=\"30\" bgcolor=\"#ffffcc\"> ワクワクバーガーを食べた女子高生</th>\n",
    "    <th width=\"120\" height=\"30\" bgcolor=\"#ffffcc\"> 点数</th>\n",
    "    <th width=\"120\" height=\"30\" bgcolor=\"#ffcccc\"> モグモグバーガーを食べた女子高生</th>\n",
    "    <th width=\"120\" height=\"30\" bgcolor=\"#ffcccc\"> 点数</th>\n",
    "  </tr>\n",
    "  <tr align=\"center\"> \n",
    "    <td width=\"120\" height=\"30\" bgcolor=\"#cccccc\"> 1</td>\n",
    "    <td width=\"120\" height=\"30\"> 70</td>\n",
    "    <td width=\"120\" height=\"30\" bgcolor=\"#cccccc\"> 1</td>\n",
    "    <td width=\"120\" height=\"30\"> 85</td>\n",
    "  </tr>\n",
    "  <tr align=\"center\"> \n",
    "    <td width=\"120\" height=\"30\" bgcolor=\"#cccccc\">2</td>\n",
    "    <td width=\"120\" height=\"30\">75</td>\n",
    "    <td width=\"120\" height=\"30\" bgcolor=\"#cccccc\">2</td>\n",
    "    <td width=\"120\" height=\"30\">80</td>\n",
    "  </tr>\n",
    "  <tr align=\"center\"> \n",
    "    <td width=\"120\" height=\"30\" bgcolor=\"#cccccc\">3</td>\n",
    "    <td width=\"120\" height=\"30\">70</td>\n",
    "    <td width=\"120\" height=\"30\" bgcolor=\"#cccccc\">3</td>\n",
    "    <td width=\"120\" height=\"30\">95</td>\n",
    "  </tr>\n",
    "  <tr align=\"center\"> \n",
    "    <td width=\"120\" height=\"30\" bgcolor=\"#cccccc\">4</td>\n",
    "    <td width=\"120\" height=\"30\">85</td>\n",
    "    <td width=\"120\" height=\"30\" bgcolor=\"#cccccc\">4</td>\n",
    "    <td width=\"120\" height=\"30\">70</td>\n",
    "  </tr>\n",
    "  <tr align=\"center\"> \n",
    "    <td width=\"120\" height=\"30\" bgcolor=\"#cccccc\">5</td>\n",
    "    <td width=\"120\" height=\"30\">90</td>\n",
    "    <td width=\"120\" height=\"30\" bgcolor=\"#cccccc\">5</td>\n",
    "    <td width=\"120\" height=\"30\">80</td>\n",
    "  </tr>\n",
    "  <tr align=\"center\"> \n",
    "    <td width=\"120\" height=\"30\" bgcolor=\"#cccccc\">6</td>\n",
    "    <td width=\"120\" height=\"30\">70</td>\n",
    "    <td width=\"120\" height=\"30\" bgcolor=\"#cccccc\">6</td>\n",
    "    <td width=\"120\" height=\"30\">75</td>\n",
    "  </tr>\n",
    "  <tr align=\"center\"> \n",
    "    <td width=\"120\" height=\"30\" bgcolor=\"#cccccc\">7</td>\n",
    "    <td width=\"120\" height=\"30\">80</td>\n",
    "    <td width=\"120\" height=\"30\" bgcolor=\"#cccccc\">7</td>\n",
    "    <td width=\"120\" height=\"30\">80</td>\n",
    "  </tr>\n",
    "  <tr align=\"center\"> \n",
    "    <td width=\"120\" height=\"30\" bgcolor=\"#cccccc\">8</td>\n",
    "    <td width=\"120\" height=\"30\">75</td>\n",
    "    <td width=\"120\" height=\"30\" bgcolor=\"#cccccc\">8</td>\n",
    "    <td width=\"120\" height=\"30\">90</td>\n",
    "  </tr>\n",
    "  <tr align=\"center\"> \n",
    "    <td width=\"120\" height=\"30\" bgcolor=\"#ffffcc\">平均</td>\n",
    "    <td width=\"120\" height=\"30\" bgcolor=\"#ffffcc\">76.88</td>\n",
    "    <td width=\"120\" height=\"30\" bgcolor=\"#ffcccc\">平均</td>\n",
    "    <td width=\"120\" height=\"30\" bgcolor=\"#ffcccc\">81.88</td>\n",
    "  </tr>\n",
    "  <tr align=\"center\"> \n",
    "    <td width=\"120\" height=\"30\" bgcolor=\"#ffffcc\"> 分散</td>\n",
    "    <td width=\"120\" height=\"30\" bgcolor=\"#ffffcc\">49.61</td>\n",
    "    <td width=\"120\" height=\"30\" bgcolor=\"#ffcccc\"> 分散</td>\n",
    "    <td width=\"120\" height=\"30\" bgcolor=\"#ffcccc\">55.86</td>\n",
    "  </tr>\n",
    "</table>"
   ]
  },
  {
   "cell_type": "markdown",
   "metadata": {},
   "source": [
    "まず、それぞれのハンバーガーの平均点を計算します。\n",
    "\n",
    "* ワクワクバーガーは、76.88点で、モグモグバーガーは、81.88点でした。\n",
    "\n",
    "次に、ばらつきの指標である分散を計算します。\n",
    "\n",
    "* ワクワクバーガーは、49.61で、モグモグバーガーでは、55.86でした。\n",
    "\n",
    "さて、ワクワクバーガーの平均点76.88と、モグモグバーガーの平均点81.88では、5点の差があります。問題はこれをどのように考えるかです。\n",
    "\n",
    "2つの選択肢があります。\n",
    "\n",
    "* 5点の差でも、モグモグバーガーの方が平均点が高かったから、モグモグバーガーの方が女子高生にうけていると考えるのか　あるいは、\n",
    "* 5点の差は意味があるとは考えない。つまり、データのばらつきを考えると、5点の差は取るに足らないと考える。\n",
    "\n",
    "どちらの考え方を採用したらいいのでしょうか。"
   ]
  },
  {
   "cell_type": "markdown",
   "metadata": {},
   "source": [
    "<h2 STYLE=\"background: #c2edff;padding: 0.5em;\"><a href=\"http://kogolab.chillout.jp/elearn/hamburger/chap4/sec2.html\" target=\"_blank\">4.2　平均差の信頼区間</a></h2>"
   ]
  },
  {
   "cell_type": "markdown",
   "metadata": {},
   "source": [
    "<h4 style=\"border-bottom: solid 1px black;\">5点差の信頼区間</h4>\n",
    "\n",
    "ワクワクバーガーの評価点の平均と、モグモグバーガーの評価点の平均とでは、5点の差がありました。この5点がどれくらい信頼できるものかを考えるために、その信頼区間を求めてみましょう。"
   ]
  },
  {
   "cell_type": "markdown",
   "metadata": {},
   "source": [
    "<h4 style=\"border-bottom: solid 1px black;\">信頼区間を思い出そう</h4>\n",
    "\n",
    "その前に「信頼区間」の章で学んだ信頼区間について思い出しましょう。信頼区間を求めるには次のようにするのでした。\n",
    "\n",
    "信頼区間＝標本平均±t×標本標準誤差\n",
    "\n",
    "ここで、tは、自由度（＝標本数－1）で決まるt分布の95%（あるいは99%）の値です。\n",
    "\n",
    "<img src=\"image/commonfig00001.jpg\">\n",
    "\n",
    "標本標準誤差は、標本平均の標準偏差のことです。\n",
    "\n",
    "また、標本平均の分散は、母分散を標本数で割ったものでした。\n",
    "\n",
    "母分散は実際にはわかりませんので、不偏分散で推定します。不偏分散は、分散の計算式の中で「個数」で割るところを「個数－1」で割ったものでした。\n",
    "\n",
    "* 不偏分散＝（（データ－平均値）の二乗）の総和／（個数－1）\n",
    "\n",
    "そうすると、標本標準誤差は次のようになります。\n",
    "\n",
    "* 標本標準誤差＝sqrt（不偏分散／標本数）"
   ]
  },
  {
   "cell_type": "markdown",
   "metadata": {},
   "source": [
    "<h4 style=\"border-bottom: solid 1px black;\">信頼区間を差に適用してみる</h4>\n",
    "\n",
    "さて、信頼区間を思い出したところで、これを「平均値の差」に適用することを考えます。\n",
    "\n",
    "いま、母集団Aと母集団Bを考えます。それぞれの母集団から同じ大きさの標本Aと標本Bを抽出します。そして、それぞれの標本について、標本平均と標本分散を計算します。\n",
    "\n",
    "以上の抽出と計算を何回も繰り返します。\n",
    "\n",
    "<img src=\"image/fig4-1.jpg\">"
   ]
  },
  {
   "cell_type": "markdown",
   "metadata": {},
   "source": [
    "その結果、標本平均Aと標本平均Bの差の分布はどうなるかということを問題にします。この分布はt分布にしたがい、信頼区間を求める式がそのまま使えます。\n",
    "\n",
    "<blockquote>\n",
    "* 平均の差の信頼区間＝（標本平均A－標本平均B）±t×差の標本標準誤差\n",
    "</blockquote>\n",
    "\n",
    "ここで問題なのは「差の標本標準誤差」をどうやって求めるかです。\n",
    "\n",
    "標本平均Aの分散は、（母分散A／標本数A）で求まります。同様に、標本平均Bの分散は、（母分散B／標本数B）で求まります。それでは、その差である（標本平均A－標本平均B）の分散はどうなるでしょうか。これは（母分散A／標本数A）と（母分散B／標本数B）を足したものになります。これは、２つの標本が互いに独立だからです。\n",
    "\n",
    "上での母分散はすべて不偏分散で推定しますので、差の標本標準誤差は次の式になります。\n",
    "\n",
    "<blockquote>\n",
    "* 差の標本標準誤差＝sqrt（（不偏分散A／標本数A）＋（不偏分散B／標本数B））\n",
    "</blockquote>\n",
    "\n",
    "ここで、AとBの母分散は等しいとして、「推定母分散」と表記すると、\n",
    "\n",
    "<blockquote>\n",
    "* 差の標本標準誤差＝sqrt（（推定母分散／標本数A）＋（推定母分散／標本数B））<br>\n",
    "＝sqrt（推定母分散×（（1／標本数A）＋（1／標本数B））\n",
    "</blockquote>\n",
    "\n",
    "推定母分散は次の式で推定します。これは不偏分散を求める方法と同じで、平均からの偏差の平方和を（標本数－1）で割ったものに相当します。\n",
    "\n",
    "<blockquote>\n",
    "* 推定母分散＝（標本Aの平均からの偏差の平方和＋標本Bの平均からの偏差の平方和）／（（標本数A－1）＋（標本数B－1））\n",
    "</blockquote>\n",
    "\n",
    "これで平均の差の信頼区間が計算できます。"
   ]
  },
  {
   "cell_type": "markdown",
   "metadata": {},
   "source": [
    "<h4 style=\"border-bottom: solid 1px black;\">差の信頼区間を計算してみる</h4>\n",
    "\n",
    "それでは、実際に差の信頼区間を計算してみましょう。\n",
    "\n",
    "<blockquote>\n",
    "* ワクワクバーガーの評価点の標本分散＝49.61<br>\n",
    "　その平均からの偏差の平方和＝49.61×8<br>\n",
    "<br>\n",
    "* モグモグバーガーの評価点の標本分散＝55.86<br>\n",
    "　その平均からの偏差の平方和＝55.86×8<br>\n",
    "<br>\n",
    "* 推定母分散＝（49.61×8＋55.86×8）／（（8-1）＋（8-1））<br>\n",
    "　　　　　＝60.27<br>\n",
    "<br>\n",
    "* 差の標本標準誤差＝sqrt（60.27×（（1/8）＋（1/8）））<br>\n",
    "　　　　　　　　＝3.88\n",
    "</blockquote>\n",
    "\n",
    "したがって差の信頼区間は、\n",
    "\n",
    "* 差の信頼区間＝標本平均の差±t×差の標本標準誤差\n",
    "　　　　　　＝-5.00±t×3.88\n",
    "\n",
    "ここで、自由度は（標本数A－1）＋（標本数B－1）で、14になります。自由度14のときの95%のtの値は、2.145ですので、\n",
    "\n",
    "<blockquote>\n",
    "差の信頼区間＝-5.00±2.145×3.88<br>\n",
    "　　　　　　＝-5.00±8.33<br>\n",
    "　　　　　　＝-13.33～3.33<br>\n",
    "</blockquote>\n",
    "\n",
    "つまり、差の95%信頼区間は、-13.33から3.33の間ということになりました。\n",
    "\n",
    "これはどう解釈すればいいのでしょうか。"
   ]
  },
  {
   "cell_type": "markdown",
   "metadata": {},
   "source": [
    "<h4 style=\"border-bottom: solid 1px black;\">差の信頼区間の解釈</h4>\n",
    "\n",
    "ワクワクバーガーとモグモグバーガーの評価点の差は、5点でした。しかし、この95%信頼区間を求めてみると、-13.33から3.33の間であるということがわかりました。これは、この範囲内に、95%の確率で母集団の平均の差が含まれているということです。\n",
    "\n",
    "ということは、\n",
    "\n",
    "* 差が-13、つまり、モグモグバーガーの方が（かなり）評価が高いということもある\n",
    "* 差が0、つまり、ワクワクとモグモグの評価は同じということもある\n",
    "* 差が+3、つまり、ワクワクバーガーの方が（少し）評価が高いということもある\n",
    "\n",
    "という場合がすべて含まれているということになります。とりわけ、差が0という場合が含まれているということに注目します。これは次のことを意味します。\n",
    "\n",
    "ワクワクバーガーとモグモグバーガーの評価点の差は、5点でした。しかし、その信頼区間には、0点が含まれていました。つまり、母集団においてその差が0点であること、つまりワクワクバーガーとモグモグバーガーの評価には差がないということが、十分起こり得ることだと解釈できます。\n",
    "\n",
    "したがって、この5点の差は、意味のある差、つまり有意な差であるとは認められないということになります。\n",
    "\n",
    "これが、差の信頼区間を計算した結果の解釈になります。\n",
    "\n"
   ]
  },
  {
   "cell_type": "markdown",
   "metadata": {},
   "source": [
    "<h2 STYLE=\"background: #c2edff;padding: 0.5em;\"><a href=\"http://kogolab.chillout.jp/elearn/hamburger/chap4/sec3.html\" target=\"_blank\">4.3　t検定</a></h2>\n",
    "\n",
    "<h4 style=\"border-bottom: solid 1px black;\">仮説検定</h4>\n",
    "\n",
    "さて、ワクワクバーガーとモグモグバーガーの味の評価の間に意味のある差（有意差）があるかどうかを決める方法を考えていきましょう。\n",
    "\n",
    "そのためには、前の章で説明した仮説検定の考え方を使います。\n",
    "\n",
    "<table border=\"0\"><tr><td><img src=\"image/w-burger00001.jpg\"></td>\n",
    "<td><img src=\"image/m-burger00001.jpg\"></td></tr></table>\n",
    "\n",
    "仮説検定の考え方は次のようなものです。\n",
    "\n",
    "* まず、帰無仮説「差はない」を立てる\n",
    "* 適当な指標を計算する\n",
    "* その指標が起こる確率を計算する\n",
    "* 確率に基づいて、帰無仮説を採択するか、棄却するかを決める\n",
    "  * 帰無仮説を採択した場合は、「意味のある差（有意差）はない」と結論する\n",
    "  * 帰無仮説を棄却した場合は、対立仮説を採択し、「差はないとはいえない、つまり意味のある差（有意差）がある」と結論する"
   ]
  },
  {
   "cell_type": "markdown",
   "metadata": {},
   "source": [
    "<h4 style=\"border-bottom: solid 1px black;\">指標tの性質</h4>\n",
    "\n",
    "今、２つの母集団A,Bを考えます。AもBも、だいたい正規分布にしたがっており、平均値が等しく、分散もほぼ等しいとします。\n",
    "\n",
    "その２つの母集団A,BそれぞれからNA, NB個の標本を取り出してきます。それを標本集団A,Bとします。\n",
    "\n",
    "標本集団A,Bのそれぞれの平均値を計算して、それを標本平均A,Bとします。\n",
    "\n",
    "標本平均Aと標本平均Bの差を計算します。すると、これは0に近い場合が多いと考えられます。なぜなら、もともとの母集団A,Bの平均値が等しいからです。そこから取り出した標本集団A,Bの平均値もお互いに近い場合が多いのではないかと推測できます。\n",
    "\n",
    "そこで、次のような指標tを考えます。\n",
    "\n",
    "<blockquote> t＝（標本平均の差）／（標本平均の差の標準誤差）</blockquote>\n",
    "\n",
    "すると、このtは、自由度（NA+NB-2）のt分布に従うことが知られています。\n",
    "\n",
    "<img src=\"image/fig2009.jpg\">\n",
    "\n",
    "標本平均の差の標準誤差は、前の節でやったように、次の式で推定します。\n",
    "\n",
    "<blockquote>標本平均の差の標準誤差＝sqrt（（Aの不偏分散／Aの標本数）＋（Bの不偏分散／Bの標本数））</blockquote>\n",
    "\n",
    "ここで、AとBの母分散は等しいとして、「推定母分散」と表記すると、\n",
    "\n",
    "<blockquote>差の標本標準誤差＝sqrt（（推定母分散／標本数A）＋（推定母分散／標本数B））<br>\n",
    "　　　　　　　　＝sqrt（推定母分散×（（1／標本数A）＋（1／標本数B））</blockquote>\n",
    "\n",
    "推定母分散は次の式で推定します。これは不偏分散を求める方法と同じで、平均からの偏差の平方和（これは分散を求めるときの（（データ－平均値）の２乗）の総和のことです）を（標本数－1）で割ったものに相当します。\n",
    "\n",
    "<blockquote>推定母分散＝（標本Aの平均からの偏差の平方和＋標本Bの平均からの偏差の平方和）／（（標本数A－1）＋（標本数B－1））</blockquote>\n",
    "\n",
    "まとめると、\n",
    "\n",
    "<blockquote>\n",
    "* t＝（標本平均の差）／sqrt（推定母分散×（（1／標本数A）＋（1／標本数B））\n",
    "\n",
    "* 推定母分散＝（標本Aの平均からの偏差の平方和＋標本Bの平均からの偏差の平方和）／（（標本数A－1）＋（標本数B－1））\n",
    "\n",
    "</blockquote>\n",
    "\n",
    "となります。"
   ]
  },
  {
   "cell_type": "markdown",
   "metadata": {},
   "source": [
    "<h4 style=\"border-bottom: solid 1px black;\">指標tを計算してみよう</h4>\n",
    "\n",
    "それでは、実際にワクワクバーガーの評価点とモグモグバーガーの評価点について、tを計算してみましょう。\n",
    "\n",
    "まず、標本平均の差は、\n",
    "\n",
    "<blockquote>\n",
    "* 標本平均の差＝76.88-81.88<br>\n",
    "　　　　　　＝-5.00\n",
    "</blockquote>\n",
    "\n",
    "次に、差の標準誤差を求めます。\n",
    "\n",
    "<blockquote>\n",
    "* ワクワクバーガーの評価点の標本分散＝49.61<br>\n",
    "　その平均からの偏差の平方和＝49.61×8<br>\n",
    "<br>\n",
    "* モグモグバーガーの評価点の標本分散＝55.86<br>\n",
    "　その平均からの偏差の平方和＝55.86×8<br>\n",
    "<br>\n",
    "* 推定母分散＝（49.61×8＋55.86×8）／（（8-1）＋（8-1））<br>\n",
    "　　　　　＝60.27<br>\n",
    "<br>\n",
    "* 差の標本標準誤差＝sqrt（60.27×（（1/8）＋（1/8）））<br>\n",
    "　　　　　　　　＝3.88\n",
    "</blockquote>\n",
    "\n",
    "そうすると、tはこうなります。\n",
    "\n",
    "<blockquote>\n",
    "t＝-5.00／3.88<br>\n",
    "　＝-1.29\n",
    " </blockquote>"
   ]
  },
  {
   "cell_type": "markdown",
   "metadata": {},
   "source": [
    "<h4 style=\"padding: 0.25em 0.5em;color: #494949;background: transparent;border-left: solid 5px #7db4e6;\">課題4.3</h4>\n",
    "\n",
    "ワクワクバーガーとモグモグバーガーの評価に差があるかどうか、下表の空欄を埋めながら検定を進めてください。\n",
    "<table border=\"1\" bgcolor=\"#FFFFFF\" cellpadding=\"0\" cellspacing=\"0\" align=\"center\">\n",
    "  <tr align=\"center\"> \n",
    "    <th width=\"120\" height=\"30\" bgcolor=\"#ffffcc\"> ワクワクバーガーを食べた女子高生</th>\n",
    "    <th width=\"120\" height=\"30\" bgcolor=\"#ffffcc\"> 点数</th>\n",
    "    <th width=\"120\" height=\"30\" bgcolor=\"#ffcccc\"> モグモグバーガーを食べた女子高生</th>\n",
    "    <th width=\"120\" height=\"30\" bgcolor=\"#ffcccc\"> 点数</th>\n",
    "  </tr>\n",
    "  <tr align=\"center\"> \n",
    "    <td width=\"120\" height=\"30\" bgcolor=\"#cccccc\"> 1</td>\n",
    "    <td width=\"120\" height=\"30\"> 70</td>\n",
    "    <td width=\"120\" height=\"30\" bgcolor=\"#cccccc\"> 1</td>\n",
    "    <td width=\"120\" height=\"30\"> 85</td>\n",
    "  </tr>\n",
    "  <tr align=\"center\"> \n",
    "    <td width=\"120\" height=\"30\" bgcolor=\"#cccccc\">2</td>\n",
    "    <td width=\"120\" height=\"30\">75</td>\n",
    "    <td width=\"120\" height=\"30\" bgcolor=\"#cccccc\">2</td>\n",
    "    <td width=\"120\" height=\"30\">80</td>\n",
    "  </tr>\n",
    "  <tr align=\"center\"> \n",
    "    <td width=\"120\" height=\"30\" bgcolor=\"#cccccc\">3</td>\n",
    "    <td width=\"120\" height=\"30\">70</td>\n",
    "    <td width=\"120\" height=\"30\" bgcolor=\"#cccccc\">3</td>\n",
    "    <td width=\"120\" height=\"30\">95</td>\n",
    "  </tr>\n",
    "  <tr align=\"center\"> \n",
    "    <td width=\"120\" height=\"30\" bgcolor=\"#cccccc\">4</td>\n",
    "    <td width=\"120\" height=\"30\">85</td>\n",
    "    <td width=\"120\" height=\"30\" bgcolor=\"#cccccc\">4</td>\n",
    "    <td width=\"120\" height=\"30\">70</td>\n",
    "  </tr>\n",
    "  <tr align=\"center\"> \n",
    "    <td width=\"120\" height=\"30\" bgcolor=\"#cccccc\">5</td>\n",
    "    <td width=\"120\" height=\"30\">90</td>\n",
    "    <td width=\"120\" height=\"30\" bgcolor=\"#cccccc\">5</td>\n",
    "    <td width=\"120\" height=\"30\">80</td>\n",
    "  </tr>\n",
    "  <tr align=\"center\"> \n",
    "    <td width=\"120\" height=\"30\" bgcolor=\"#cccccc\">6</td>\n",
    "    <td width=\"120\" height=\"30\">70</td>\n",
    "    <td width=\"120\" height=\"30\" bgcolor=\"#cccccc\">6</td>\n",
    "    <td width=\"120\" height=\"30\">75</td>\n",
    "  </tr>\n",
    "  <tr align=\"center\"> \n",
    "    <td width=\"120\" height=\"30\" bgcolor=\"#cccccc\">7</td>\n",
    "    <td width=\"120\" height=\"30\">80</td>\n",
    "    <td width=\"120\" height=\"30\" bgcolor=\"#cccccc\">7</td>\n",
    "    <td width=\"120\" height=\"30\">80</td>\n",
    "  </tr>\n",
    "  <tr align=\"center\"> \n",
    "    <td width=\"120\" height=\"30\" bgcolor=\"#cccccc\">8</td>\n",
    "    <td width=\"120\" height=\"30\">75</td>\n",
    "    <td width=\"120\" height=\"30\" bgcolor=\"#cccccc\">8</td>\n",
    "    <td width=\"120\" height=\"30\">90</td>\n",
    "  </tr>\n",
    "  <tr align=\"center\"> \n",
    "    <td width=\"120\" height=\"30\" bgcolor=\"#ffffcc\">標本平均</td>\n",
    "    <td width=\"120\" height=\"30\"></td>\n",
    "    <td width=\"120\" height=\"30\" bgcolor=\"#ffcccc\">標本平均</td>\n",
    "    <td width=\"120\" height=\"30\"></td>\n",
    "  </tr>\n",
    "  <tr align=\"center\"> \n",
    "    <td width=\"120\" height=\"30\" bgcolor=\"#ffffcc\">標本分散</td>\n",
    "    <td width=\"120\" height=\"30\"></td>\n",
    "    <td width=\"120\" height=\"30\" bgcolor=\"#ffcccc\">標本分散</td>\n",
    "    <td width=\"120\" height=\"30\"></td>\n",
    "  </tr>\n",
    "  <tr align=\"center\"> \n",
    "    <td width=\"120\" height=\"30\" bgcolor=\"#ffffcc\">平均偏差の平方和</td>\n",
    "    <td width=\"120\" height=\"30\"></td>\n",
    "    <td width=\"120\" height=\"30\" bgcolor=\"#ffcccc\">平均偏差の平方和</td>\n",
    "    <td width=\"120\" height=\"30\"></td>\n",
    "  </tr>\n",
    "  <tr align=\"center\"> \n",
    "    <td width=\"120\" height=\"30\" bgcolor=\"#cccccc\">推定母分散</td>\n",
    "    <td width=\"120\" height=\"30\" colspan=\"3\"></td>\n",
    "  </tr>\n",
    "  <tr align=\"center\"> \n",
    "    <td width=\"120\" height=\"30\" bgcolor=\"#cccccc\">差の標準誤差</td>\n",
    "    <td width=\"120\" height=\"30\" colspan=\"3\"></td>\n",
    "  </tr>\n",
    "  <tr align=\"center\"> \n",
    "    <td width=\"120\" height=\"30\" bgcolor=\"#cccccc\">t値</td>\n",
    "    <td width=\"120\" height=\"30\" colspan=\"3\"></td>\n",
    "  </tr>\n",
    "</table>"
   ]
  },
  {
   "cell_type": "markdown",
   "metadata": {},
   "source": [
    "* ワクワクバーガー、モグモグバーガーの評価点の平均値（標本平均）をそれぞれ求めてください。"
   ]
  },
  {
   "cell_type": "code",
   "execution_count": 1,
   "metadata": {
    "collapsed": true
   },
   "outputs": [],
   "source": [
    "wakuwaku = [70, 75, 70, 85, 90, 70, 80, 75]\n",
    "mogumogu = [85, 80, 95, 70, 80, 75, 80, 90] "
   ]
  },
  {
   "cell_type": "code",
   "execution_count": 2,
   "metadata": {
    "collapsed": true
   },
   "outputs": [],
   "source": [
    "# 平均値を求める関数\n",
    "def average(list):\n",
    "    sum = 0\n",
    "    for x in list:\n",
    "        sum += x\n",
    "    return sum / len(list)"
   ]
  },
  {
   "cell_type": "code",
   "execution_count": 3,
   "metadata": {
    "collapsed": false
   },
   "outputs": [
    {
     "name": "stdout",
     "output_type": "stream",
     "text": [
      "76.875\n",
      "81.875\n"
     ]
    }
   ],
   "source": [
    "# ワクワクバーガー、モグモグバーガーの評価点の平均値（標本平均）\n",
    "print (average(wakuwaku)) #ワクワクバーガーの評価点の平均\n",
    "print (average(mogumogu)) #モグモグバーガーの評価点の平均"
   ]
  },
  {
   "cell_type": "markdown",
   "metadata": {},
   "source": [
    "* ワクワクバーガー、モグモグバーガーの評価点の分散値（標本分散）をそれぞれ求めてください。"
   ]
  },
  {
   "cell_type": "code",
   "execution_count": 4,
   "metadata": {
    "collapsed": true
   },
   "outputs": [],
   "source": [
    "# 分散を求める関数\n",
    "def variance(list):\n",
    "    ave = average(list)\n",
    "    sum = 0\n",
    "    for x in list:\n",
    "        sum += (x - ave) ** 2\n",
    "    return sum / len(list)"
   ]
  },
  {
   "cell_type": "code",
   "execution_count": 5,
   "metadata": {
    "collapsed": false
   },
   "outputs": [
    {
     "name": "stdout",
     "output_type": "stream",
     "text": [
      "49.609375\n",
      "55.859375\n"
     ]
    }
   ],
   "source": [
    "# ワクワクバーガー、モグモグバーガーの評価点の分散値（標本分散）\n",
    "print (variance(wakuwaku)) #ワクワクバーガーの評価点の分散\n",
    "print (variance(mogumogu)) #モグモグバーガーの評価点の分散"
   ]
  },
  {
   "cell_type": "markdown",
   "metadata": {},
   "source": [
    "* ワクワクバーガー、モグモグバーガーの評価点の平均偏差の平方和をそれぞれ求めてください。"
   ]
  },
  {
   "cell_type": "code",
   "execution_count": 6,
   "metadata": {
    "collapsed": true
   },
   "outputs": [],
   "source": [
    "# 平均偏差の平方和を求める関数\n",
    "def sum_square(list):\n",
    "    ave = average(list)\n",
    "    sum = 0\n",
    "    for x in list:\n",
    "        sum += (x - ave) ** 2\n",
    "    return sum"
   ]
  },
  {
   "cell_type": "code",
   "execution_count": 7,
   "metadata": {
    "collapsed": false
   },
   "outputs": [
    {
     "name": "stdout",
     "output_type": "stream",
     "text": [
      "396.875\n",
      "446.875\n"
     ]
    }
   ],
   "source": [
    "# ワクワクバーガー、モグモグバーガーの評価点の平均偏差の平方和\n",
    "print (sum_square(wakuwaku)) #ワクワクバーガーの評価点の平均偏差の平方和\n",
    "print (sum_square(mogumogu)) #モグモグバーガーの評価点の平均偏差の平方和"
   ]
  },
  {
   "cell_type": "markdown",
   "metadata": {},
   "source": [
    "* 推定母分散を求めてください。\n",
    "  * __推定母分散__ ＝（標本Aの平均偏差の平方和＋標本Bの平均偏差の平方和）／（（標本数A－1）＋（標本数B－1））"
   ]
  },
  {
   "cell_type": "code",
   "execution_count": 8,
   "metadata": {
    "collapsed": true
   },
   "outputs": [],
   "source": [
    "# 推定母分散\n",
    "def population_variance(list1, list2):\n",
    "    return (sum_square(list1) + sum_square(list2)) / ((len(list1) - 1) + (len(list2) - 1))"
   ]
  },
  {
   "cell_type": "code",
   "execution_count": 9,
   "metadata": {
    "collapsed": false
   },
   "outputs": [
    {
     "data": {
      "text/plain": [
       "60.267857142857146"
      ]
     },
     "execution_count": 9,
     "metadata": {},
     "output_type": "execute_result"
    }
   ],
   "source": [
    "population_variance(wakuwaku, mogumogu)"
   ]
  },
  {
   "cell_type": "markdown",
   "metadata": {},
   "source": [
    "* 差の標準誤差を求めてください。\n",
    "    * __差の標準誤差__ ＝ sqrt（推定母分散×（（1／標本数A）＋（1／標本数B））"
   ]
  },
  {
   "cell_type": "code",
   "execution_count": 10,
   "metadata": {
    "collapsed": true
   },
   "outputs": [],
   "source": [
    "# 差の標準誤差\n",
    "import math\n",
    "def diff_standard_error(list1, list2):\n",
    "    return math.sqrt(population_variance(list1, list2) * (1 / len(list1) + 1 /len(list2)) )"
   ]
  },
  {
   "cell_type": "code",
   "execution_count": 11,
   "metadata": {
    "collapsed": false
   },
   "outputs": [
    {
     "data": {
      "text/plain": [
       "3.8816187713007424"
      ]
     },
     "execution_count": 11,
     "metadata": {},
     "output_type": "execute_result"
    }
   ],
   "source": [
    "diff_standard_error(wakuwaku, mogumogu)"
   ]
  },
  {
   "cell_type": "markdown",
   "metadata": {},
   "source": [
    "* ｔ値を求めてください。\n",
    "  * __t__ ＝（標本平均の差）／（差の標準誤差）"
   ]
  },
  {
   "cell_type": "code",
   "execution_count": 12,
   "metadata": {
    "collapsed": true
   },
   "outputs": [],
   "source": [
    "# t 値\n",
    "def t_value(list1, list2):\n",
    "    return (average(list1) - average(list2)) / diff_standard_error(list1, list2)"
   ]
  },
  {
   "cell_type": "code",
   "execution_count": 13,
   "metadata": {
    "collapsed": false
   },
   "outputs": [
    {
     "data": {
      "text/plain": [
       "-1.2881223774390613"
      ]
     },
     "execution_count": 13,
     "metadata": {},
     "output_type": "execute_result"
    }
   ],
   "source": [
    "t_value(wakuwaku, mogumogu)"
   ]
  },
  {
   "cell_type": "markdown",
   "metadata": {},
   "source": [
    "<h4 style=\"border-bottom: solid 1px black;\">t分布表を見る</h4>\n",
    "\n",
    "さて、t=-1.29となりました。この値はどのくらいの確率で起こるのでしょうか。\n",
    "\n",
    "それを調べるためには、t分布表を使います。\n",
    "\n",
    "t分布は自由度によって少しずつ変わってきます。t検定の場合は、（標本数A-1）と（標本数B-1）を足したものが自由度になります。"
   ]
  },
  {
   "cell_type": "markdown",
   "metadata": {},
   "source": [
    "* 自由度を求めてください。\n",
    "  * t検定の場合は、（標本数A-1）と（標本数B-1）を足したものが自由度になります。"
   ]
  },
  {
   "cell_type": "code",
   "execution_count": 14,
   "metadata": {
    "collapsed": true
   },
   "outputs": [],
   "source": [
    "# 自由度\n",
    "def freedom_t(list1, list2):\n",
    "    return (len(list1) - 1) + (len(list2) - 1)"
   ]
  },
  {
   "cell_type": "code",
   "execution_count": 15,
   "metadata": {
    "collapsed": false
   },
   "outputs": [
    {
     "data": {
      "text/plain": [
       "14"
      ]
     },
     "execution_count": 15,
     "metadata": {},
     "output_type": "execute_result"
    }
   ],
   "source": [
    "freedom_t(wakuwaku, mogumogu)"
   ]
  },
  {
   "cell_type": "markdown",
   "metadata": {},
   "source": [
    "* 下記のt分布表を用いて、t検定の結果を説明してください。\n",
    "<table width=\"50%\" border=\"1\" align=\"center\" cellpadding=\"2\" cellspacing=\"0\">\n",
    "  <tr bgcolor=\"#FFFFCC\"> \n",
    "    <td width=\"32%\"> <div align=\"right\">自由度</div></td>\n",
    "    <td width=\"34%\"> <div align=\"right\">有意水準5%</div></td>\n",
    "    <td width=\"34%\"> <div align=\"right\">有意水準1%</div></td>\n",
    "  </tr>\n",
    "  <tr> \n",
    "    <td bgcolor=\"#CCCCCC\"><div align=\"right\">1</div></td>\n",
    "    <td><div align=\"right\">12.706</div></td>\n",
    "    <td><div align=\"right\">63.657</div></td>\n",
    "  </tr>\n",
    "  <tr> \n",
    "    <td bgcolor=\"#CCCCCC\"><div align=\"right\">2</div></td>\n",
    "    <td><div align=\"right\">4.303</div></td>\n",
    "    <td><div align=\"right\">9.925</div></td>\n",
    "  </tr>\n",
    "  <tr> \n",
    "    <td bgcolor=\"#CCCCCC\"><div align=\"right\">3</div></td>\n",
    "    <td><div align=\"right\">3.182</div></td>\n",
    "    <td><div align=\"right\">5.841</div></td>\n",
    "  </tr>\n",
    "  <tr> \n",
    "    <td bgcolor=\"#CCCCCC\"><div align=\"right\">4</div></td>\n",
    "    <td><div align=\"right\">2.776</div></td>\n",
    "    <td><div align=\"right\">4.604</div></td>\n",
    "  </tr>\n",
    "  <tr> \n",
    "    <td bgcolor=\"#CCCCCC\"><div align=\"right\">5</div></td>\n",
    "    <td><div align=\"right\">2.571</div></td>\n",
    "    <td><div align=\"right\">4.032</div></td>\n",
    "  </tr>\n",
    "  <tr> \n",
    "    <td bgcolor=\"#CCCCCC\"><div align=\"right\">6</div></td>\n",
    "    <td><div align=\"right\">2.447</div></td>\n",
    "    <td><div align=\"right\">3.707</div></td>\n",
    "  </tr>\n",
    "  <tr> \n",
    "    <td bgcolor=\"#CCCCCC\"><div align=\"right\">7</div></td>\n",
    "    <td><div align=\"right\">2.365</div></td>\n",
    "    <td><div align=\"right\">3.499</div></td>\n",
    "  </tr>\n",
    "  <tr> \n",
    "    <td bgcolor=\"#CCCCCC\"><div align=\"right\">8</div></td>\n",
    "    <td><div align=\"right\">2.306</div></td>\n",
    "    <td><div align=\"right\">3.355</div></td>\n",
    "  </tr>\n",
    "  <tr> \n",
    "    <td bgcolor=\"#CCCCCC\"><div align=\"right\">9</div></td>\n",
    "    <td><div align=\"right\">2.262</div></td>\n",
    "    <td><div align=\"right\">3.250</div></td>\n",
    "  </tr>\n",
    "  <tr> \n",
    "    <td bgcolor=\"#CCCCCC\"><div align=\"right\">10</div></td>\n",
    "    <td><div align=\"right\">2.226</div></td>\n",
    "    <td><div align=\"right\">3.169</div></td>\n",
    "  </tr>\n",
    "  <tr> \n",
    "    <td bgcolor=\"#eeeeee\"> <div align=\"right\">11</div></td>\n",
    "    <td><div align=\"right\">2.201</div></td>\n",
    "    <td><div align=\"right\">3.106</div></td>\n",
    "  </tr>\n",
    "  <tr> \n",
    "    <td bgcolor=\"#eeeeee\"> <div align=\"right\">12</div></td>\n",
    "    <td><div align=\"right\">2.179</div></td>\n",
    "    <td><div align=\"right\">3.055</div></td>\n",
    "  </tr>\n",
    "  <tr> \n",
    "    <td bgcolor=\"#eeeeee\"> <div align=\"right\">13</div></td>\n",
    "    <td><div align=\"right\">2.160</div></td>\n",
    "    <td><div align=\"right\">3.021</div></td>\n",
    "  </tr>\n",
    "  <tr> \n",
    "    <td bgcolor=\"#eeeeee\"> <div align=\"right\">14</div></td>\n",
    "    <td>\n",
    "<div align=\"right\">2.145</div></td>\n",
    "    <td>\n",
    "<div align=\"right\">2.977</div></td>\n",
    "  </tr>\n",
    "  <tr> \n",
    "    <td bgcolor=\"#eeeeee\"> <div align=\"right\">15</div></td>\n",
    "    <td><div align=\"right\">2.131</div></td>\n",
    "    <td><div align=\"right\">2.947</div></td>\n",
    "  </tr>\n",
    "  <tr> \n",
    "    <td bgcolor=\"#eeeeee\"> <div align=\"right\">16</div></td>\n",
    "    <td><div align=\"right\">2.120</div></td>\n",
    "    <td><div align=\"right\">2.921</div></td>\n",
    "  </tr>\n",
    "  <tr> \n",
    "    <td bgcolor=\"#eeeeee\"> <div align=\"right\">17</div></td>\n",
    "    <td><div align=\"right\">2.110</div></td>\n",
    "    <td><div align=\"right\">2.898</div></td>\n",
    "  </tr>\n",
    "  <tr> \n",
    "    <td bgcolor=\"#eeeeee\"> <div align=\"right\">18</div></td>\n",
    "    <td><div align=\"right\">2.101</div></td>\n",
    "    <td><div align=\"right\">2.878</div></td>\n",
    "  </tr>\n",
    "  <tr> \n",
    "    <td bgcolor=\"#eeeeee\"> <div align=\"right\">19</div></td>\n",
    "    <td><div align=\"right\">2.093</div></td>\n",
    "    <td><div align=\"right\">2.861</div></td>\n",
    "  </tr>\n",
    "  <tr> \n",
    "    <td bgcolor=\"#eeeeee\"> <div align=\"right\">20</div></td>\n",
    "    <td><div align=\"right\">2.086</div></td>\n",
    "    <td><div align=\"right\">2.845</div></td>\n",
    "  </tr>\n",
    "  <tr> \n",
    "    <td bgcolor=\"#CCCCCC\"><div align=\"right\">21</div></td>\n",
    "    <td><div align=\"right\">2.080</div></td>\n",
    "    <td><div align=\"right\">2.831</div></td>\n",
    "  </tr>\n",
    "  <tr> \n",
    "    <td bgcolor=\"#CCCCCC\"><div align=\"right\">22</div></td>\n",
    "    <td><div align=\"right\">2.074</div></td>\n",
    "    <td><div align=\"right\">2.819</div></td>\n",
    "  </tr>\n",
    "  <tr> \n",
    "    <td bgcolor=\"#CCCCCC\"><div align=\"right\">23</div></td>\n",
    "    <td><div align=\"right\">2.069</div></td>\n",
    "    <td><div align=\"right\">2.807</div></td>\n",
    "  </tr>\n",
    "  <tr> \n",
    "    <td bgcolor=\"#CCCCCC\"><div align=\"right\">24</div></td>\n",
    "    <td><div align=\"right\">2.064</div></td>\n",
    "    <td><div align=\"right\">2.797</div></td>\n",
    "  </tr>\n",
    "  <tr> \n",
    "    <td bgcolor=\"#CCCCCC\"><div align=\"right\">25</div></td>\n",
    "    <td><div align=\"right\">2.060</div></td>\n",
    "    <td><div align=\"right\">2.787</div></td>\n",
    "  </tr>\n",
    "  <tr> \n",
    "    <td bgcolor=\"#CCCCCC\"><div align=\"right\">26</div></td>\n",
    "    <td><div align=\"right\">2.056</div></td>\n",
    "    <td><div align=\"right\">2.779</div></td>\n",
    "  </tr>\n",
    "  <tr> \n",
    "    <td bgcolor=\"#CCCCCC\"><div align=\"right\">27</div></td>\n",
    "    <td><div align=\"right\">2.052</div></td>\n",
    "    <td><div align=\"right\">2.771</div></td>\n",
    "  </tr>\n",
    "  <tr> \n",
    "    <td bgcolor=\"#CCCCCC\"><div align=\"right\">28</div></td>\n",
    "    <td><div align=\"right\">2.048</div></td>\n",
    "    <td><div align=\"right\">2.763</div></td>\n",
    "  </tr>\n",
    "  <tr> \n",
    "    <td bgcolor=\"#CCCCCC\"><div align=\"right\">29</div></td>\n",
    "    <td><div align=\"right\">2.045</div></td>\n",
    "    <td><div align=\"right\">2.756</div></td>\n",
    "  </tr>\n",
    "  <tr> \n",
    "    <td bordercolor=\"#CCCCCC\" bgcolor=\"#eeeeee\"> <div align=\"right\">30</div></td>\n",
    "    <td><div align=\"right\">2.042</div></td>\n",
    "    <td><div align=\"right\">2.750</div></td>\n",
    "  </tr>\n",
    "  <tr> \n",
    "    <td bordercolor=\"#CCCCCC\" bgcolor=\"#eeeeee\"> <div align=\"right\">40</div></td>\n",
    "    <td><div align=\"right\">2.021</div></td>\n",
    "    <td><div align=\"right\">2.704</div></td>\n",
    "  </tr>\n",
    "  <tr> \n",
    "    <td bordercolor=\"#CCCCCC\" bgcolor=\"#eeeeee\"> <div align=\"right\">60</div></td>\n",
    "    <td><div align=\"right\">2.000</div></td>\n",
    "    <td><div align=\"right\">2.660</div></td>\n",
    "  </tr>\n",
    "  <tr> \n",
    "    <td bordercolor=\"#CCCCCC\" bgcolor=\"#eeeeee\"> <div align=\"right\">120</div></td>\n",
    "    <td><div align=\"right\">1.980</div></td>\n",
    "    <td><div align=\"right\">2.617</div></td>\n",
    "  </tr>\n",
    "  <tr> \n",
    "    <td bordercolor=\"#CCCCCC\" bgcolor=\"#eeeeee\"> <div align=\"right\">∞</div></td>\n",
    "    <td><div align=\"right\">1.960</div></td>\n",
    "    <td><div align=\"right\">2.576</div></td>\n",
    "  </tr>\n",
    "</table>"
   ]
  },
  {
   "cell_type": "code",
   "execution_count": 16,
   "metadata": {
    "collapsed": true
   },
   "outputs": [],
   "source": [
    "# t検定の結果を説明\n",
    "# 計算したt値は -1.29 だった。\n",
    "# 一方、自由度は14なので、有意水準5%を満たすt値は　-2.145 である。\n",
    "# 計算したt値は -2.145 を下回らないので棄却域に入らない。\n",
    "# それは、5%よりも大きい確率で起こりうることを意味する。\n",
    "# したがって帰無仮説は棄却できない。\n",
    "# つまり、ワクワクバーガー（全体）とモグモグバーガー（全体）のおいしさの評価点には差があるとは言えない。"
   ]
  },
  {
   "cell_type": "markdown",
   "metadata": {},
   "source": [
    "自由度14において、有意水準5%のtは2.145、有意水準1%のtは2.977と書いてあります。\n",
    "\n",
    "これは次のことを意味しています。\n",
    "\n",
    "自由度14のときのt分布を描いてみると、tが2.977よりも大きい、または-2.977よりも小さいことが起こる確率が1%未満であるということを示しています。\n",
    "\n",
    "また、tが2.145よりも大きい、または-2.145よりも小さいことが起こる確率が5%未満であるということを示しています。\n",
    "\n",
    "tが2.977よりも大きい、または-2.977よりも小さい部分を、1%有意水準での棄却域と呼びます。\n",
    "\n",
    "同様に、tが2.145よりも大きい、または-2.145よりも小さい部分を、5%有意水準での棄却域と呼びます。\n",
    "\n",
    "<img src=\"image/t-bunpu.jpg\">"
   ]
  },
  {
   "cell_type": "markdown",
   "metadata": {},
   "source": [
    "<h4 style=\"border-bottom: solid 1px black;\">t検定の考え方</h4>\n",
    "\n",
    "いま、有意水準を5%に設定したとすると、tが2.145よりも大きいか、-2.145よりも小さければ（棄却域に入っている）、それが起こる確率は5%未満なので、２つの母集団の平均、つまりワクワクとモグモグの評価点の平均には差がないとした帰無仮説が棄却されます。結論としては、ワクワクとモグモグの評価点の平均には差がないとはいえない、つまり、差があるということになります。\n",
    "\n",
    "さて、計算したtは、-1.29でしたので、5%有意水準での棄却域には入っていません。したがって帰無仮説は棄却できません。結論としては、ワクワクとモグモグの評価点の平均には差がないということになります。\n",
    "\n",
    "これでt検定が完成しました。"
   ]
  },
  {
   "cell_type": "markdown",
   "metadata": {},
   "source": [
    "<h4 style=\"border-bottom: solid 1px black;\">t検定の手続き</h4>\n",
    "\n",
    "もう一度、t検定の手続きをまとめてみましょう。\n",
    "\n",
    "__1.　帰無仮説を立てる：__\n",
    "\n",
    "「ワクワクバーガー（全体）とモグモグバーガー（全体）のおいしさの評価点には差がない」\n",
    "\n",
    "__2.　帰無仮説の否定である対立仮説を立てる：__\n",
    "\n",
    "「ワクワクバーガー（全体）とモグモグバーガー（全体）のおいしさの評価点には差がないとはいえない、つまり、差がある」\n",
    "\n",
    "__3.　有意水準を決める__\n",
    "\n",
    "通常は、厳しくて1%、少し甘くて5%\n",
    "\n",
    "__4.　得られた標本を使って、指標tを計算する：__\n",
    "\n",
    "t＝（標本平均の差）／sqrt（（Aの不偏分散／Aの標本数）＋（Bの不偏分散／Bの標本数））\n",
    "\n",
    "__5.　標本の数から自由度を計算する：__\n",
    "\n",
    "自由度＝（Aの標本数－1）＋（Bの標本数－1）＝Aの標本数＋Bの標本数－2\n",
    "\n",
    "__6.　t分布表の該当する自由度のところを見て、求めたtが棄却域にはいっているか、いないかを判定し、帰無仮説を棄却するか、採択するかを決める__\n",
    "\n",
    "もしtが棄却域に入っていなければ、帰無仮説を採択する\n",
    "\n",
    "もしtが棄却域に入っていれば、帰無仮説を棄却し、対立仮説を採択する\n",
    "\n",
    "__7.　結論を決める__\n",
    "\n",
    "帰無仮説を採択した場合は、「ワクワクバーガー（全体）とモグモグバーガー（全体）のおいしさの評価点には差がない」\n",
    "\n",
    "対立仮説を採択した場合は、「ワクワクバーガー（全体）とモグモグバーガー（全体）のおいしさの評価点には差がないとはいえない、つまり、差がある」\n",
    "\n",
    "以上がt検定の手続きです。\n",
    "\n"
   ]
  },
  {
   "cell_type": "markdown",
   "metadata": {},
   "source": [
    "<h2 STYLE=\"background: #c2edff;padding: 0.5em;\"><a href=\"http://kogolab.chillout.jp/elearn/hamburger/chap4/sec4.html\" target=\"_blank\">4.4　実践編：ポテトの評価は？</a></h2>\n",
    "\n",
    "<h4 style=\"border-bottom: solid 1px black;\">ポテトの評価をt検定してみよう</h4>\n",
    "\n",
    "<table border=\"0\"><tr><td><img src=\"image/w-potato00001.jpg\"></td>\n",
    "<td><img src=\"image/m-potato00001.jpg\"></td></tr></table>\n",
    "\n",
    "あなたは、ハンバーガーの点数を聞くと同時に、ポテトの点数も聞きました。 その点数が下に示してあります。このポテトの点数を使って、t検定をしてみましょう。"
   ]
  },
  {
   "cell_type": "markdown",
   "metadata": {},
   "source": [
    "<h4 style=\"padding: 0.25em 0.5em;color: #494949;background: transparent;border-left: solid 5px #7db4e6;\">課題4.4</h4>\n",
    "\n",
    "下表を用いて、ワクワクポテトとモグモグポテトの評価に差があるかどうかを検定してください。\n",
    "<table border=\"1\" bgcolor=\"#FFFFFF\" cellpadding=\"0\" cellspacing=\"0\" align=\"center\">\n",
    "  <tr align=\"center\"> \n",
    "    <th width=\"120\" height=\"30\" bgcolor=\"#ffffcc\"> ワクワクポテトを食べた女子高生</th>\n",
    "    <th width=\"120\" height=\"30\" bgcolor=\"#ffffcc\"> 点数</th>\n",
    "    <th width=\"120\" height=\"30\" bgcolor=\"#ffcccc\"> モグモグポテトを食べた女子高生</th>\n",
    "    <th width=\"120\" height=\"30\" bgcolor=\"#ffcccc\"> 点数</th>\n",
    "  </tr>\n",
    "  <tr align=\"center\"> \n",
    "    <td width=\"120\" height=\"30\" bgcolor=\"#cccccc\"> 1</td>\n",
    "    <td width=\"120\" height=\"30\"> 80</td>\n",
    "    <td width=\"120\" height=\"30\" bgcolor=\"#cccccc\"> 1</td>\n",
    "    <td width=\"120\" height=\"30\"> 75</td>\n",
    "  </tr>\n",
    "  <tr align=\"center\"> \n",
    "    <td width=\"120\" height=\"30\" bgcolor=\"#cccccc\">2</td>\n",
    "    <td width=\"120\" height=\"30\">75</td>\n",
    "    <td width=\"120\" height=\"30\" bgcolor=\"#cccccc\">2</td>\n",
    "    <td width=\"120\" height=\"30\">65</td>\n",
    "  </tr>\n",
    "  <tr align=\"center\"> \n",
    "    <td width=\"120\" height=\"30\" bgcolor=\"#cccccc\">3</td>\n",
    "    <td width=\"120\" height=\"30\">80</td>\n",
    "    <td width=\"120\" height=\"30\" bgcolor=\"#cccccc\">3</td>\n",
    "    <td width=\"120\" height=\"30\">80</td>\n",
    "  </tr>\n",
    "  <tr align=\"center\"> \n",
    "    <td width=\"120\" height=\"30\" bgcolor=\"#cccccc\">4</td>\n",
    "    <td width=\"120\" height=\"30\">95</td>\n",
    "    <td width=\"120\" height=\"30\" bgcolor=\"#cccccc\">4</td>\n",
    "    <td width=\"120\" height=\"30\">85</td>\n",
    "  </tr>\n",
    "  <tr align=\"center\"> \n",
    "    <td width=\"120\" height=\"30\" bgcolor=\"#cccccc\">5</td>\n",
    "    <td width=\"120\" height=\"30\">90</td>\n",
    "    <td width=\"120\" height=\"30\" bgcolor=\"#cccccc\">5</td>\n",
    "    <td width=\"120\" height=\"30\">75</td>\n",
    "  </tr>\n",
    "  <tr align=\"center\"> \n",
    "    <td width=\"120\" height=\"30\" bgcolor=\"#cccccc\">6</td>\n",
    "    <td width=\"120\" height=\"30\">80</td>\n",
    "    <td width=\"120\" height=\"30\" bgcolor=\"#cccccc\">6</td>\n",
    "    <td width=\"120\" height=\"30\">80</td>\n",
    "  </tr>\n",
    "  <tr align=\"center\"> \n",
    "    <td width=\"120\" height=\"30\" bgcolor=\"#cccccc\">7</td>\n",
    "    <td width=\"120\" height=\"30\">85</td>\n",
    "    <td width=\"120\" height=\"30\" bgcolor=\"#cccccc\">7</td>\n",
    "    <td width=\"120\" height=\"30\">80</td>\n",
    "  </tr>\n",
    "  <tr align=\"center\"> \n",
    "    <td width=\"120\" height=\"30\" bgcolor=\"#cccccc\">8</td>\n",
    "    <td width=\"120\" height=\"30\">90</td>\n",
    "    <td width=\"120\" height=\"30\" bgcolor=\"#cccccc\">8</td>\n",
    "    <td width=\"120\" height=\"30\">70</td>\n",
    "  </tr>\n",
    "</table>"
   ]
  },
  {
   "cell_type": "code",
   "execution_count": 17,
   "metadata": {
    "collapsed": true
   },
   "outputs": [],
   "source": [
    "wakuwaku = [80, 75, 80, 95, 90, 80, 85, 90]\n",
    "mogumogu = [75, 65, 80, 85, 75, 80, 80, 70]"
   ]
  },
  {
   "cell_type": "code",
   "execution_count": 18,
   "metadata": {
    "collapsed": false
   },
   "outputs": [
    {
     "data": {
      "text/plain": [
       "2.463060426921489"
      ]
     },
     "execution_count": 18,
     "metadata": {},
     "output_type": "execute_result"
    }
   ],
   "source": [
    "# 課題4.4\n",
    "t_value(wakuwaku, mogumogu)"
   ]
  },
  {
   "cell_type": "code",
   "execution_count": 19,
   "metadata": {
    "collapsed": true
   },
   "outputs": [],
   "source": [
    "# 計算したt値は 2.46 だった。\n",
    "# 一方、自由度は14なので、有意水準5%を満たすt値は　2.145 である。\n",
    "# 計算したt値は 2.145 を上回り棄却域に入った。\n",
    "# それは、帰無仮説を仮定した場合に5%よりも小さい確率でしか起こりえないことが起こったを意味する。\n",
    "# したがって帰無仮説は棄却でき、\n",
    "# ワクワクポテト（全体）とモグモグポテト（全体）のおいしさの評価点には差があると言える。"
   ]
  },
  {
   "cell_type": "markdown",
   "metadata": {},
   "source": [
    "<h2 STYLE=\"background: #c2edff;padding: 0.5em;\">ハンバーガー統計学 第４章 課題</h2>\n",
    "\n",
    "__課題4.3__、および __課題4.4__ を解いて、指定のメールアドレスまでメールしてください。メール送信後は、エラーが帰ってきてないことを確認してください（メールアドレスを間違える人がときどき居ます）。\n",
    "* 締切：10月13日（今すぐでなくても結構です）\n",
    "* メールタイトル：「ハンバーガー統計学 第４章」\n",
    "* 学籍番号と氏名を明記すること。\n",
    "* 感想などがあれば書いてくれると嬉しいです。次回以降の講義の改善につながるかも知れません。"
   ]
  },
  {
   "cell_type": "code",
   "execution_count": 20,
   "metadata": {
    "collapsed": true
   },
   "outputs": [],
   "source": [
    "# ハンバーガー統計学 第４章 課題"
   ]
  },
  {
   "cell_type": "markdown",
   "metadata": {},
   "source": [
    "<h2 STYLE=\"background: #c2edff;padding: 0.5em;\">終わったら、<a href=\"HamburgerStatistics05.ipynb\">第５章：t検定（対応あり）</a> に進んでください。</h2>\n",
    "（2017年10月10日講義、10月13日課題提出締切）"
   ]
  }
 ],
 "metadata": {
  "kernelspec": {
   "display_name": "Python 3",
   "language": "python",
   "name": "python3"
  },
  "language_info": {
   "codemirror_mode": {
    "name": "ipython",
    "version": 3
   },
   "file_extension": ".py",
   "mimetype": "text/x-python",
   "name": "python",
   "nbconvert_exporter": "python",
   "pygments_lexer": "ipython3",
   "version": "3.4.5"
  }
 },
 "nbformat": 4,
 "nbformat_minor": 2
}
