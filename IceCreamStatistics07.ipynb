{
 "cells": [
  {
   "cell_type": "markdown",
   "metadata": {},
   "source": [
    "# アイスクリーム統計学 with Python 第7章\n",
    "\n",
    "第１１回講義（2017年10月31日講義、11月3日課題提出締切）\n",
    "\n",
    "このページは、<a href=\"http://kogolab.chillout.jp/elearn/icecream/index.html\" target=\"_blank\">アイスクリーム統計学にようこそ！</a>の内容をプログラミング言語 Python に合わせて書き直したものです（著作権者の許諾を得て利用しております）。"
   ]
  },
  {
   "cell_type": "markdown",
   "metadata": {},
   "source": [
    "<h1 STYLE=\"background: #c2edff;padding: 0.5em;\"><a href=\"http://kogolab.chillout.jp/elearn/icecream/chap7/sec0.html\" target=\"_blank\">第７章 相関行列</a></h1>\n",
    "\n",
    "<P class=\"photo\"><img src=\"image/icecream.jpg\" width=\"172\" height=\"179\"></P>\n",
    "<P>開店１周年もぶじに過ぎ、店長はますます張り切っているようです。</P>\n",
    "<P class=\"photo\"><img src=\"image/tencho-futsu.jpg\" width=\"130\" height=\"145\"></P>\n",
    "<P class=speech>「開店１周年もぶじ乗り切ったし、売上げも順調だ。これもアイ子ちゃんのおかげだよ」</P>\n",
    "<P class=speech>───いえいえ、みんなで協力してきたからですよ。</P>\n",
    "<P class=speech>「一段落ついたこの時期に、アイスクリームのメニューの見直しをしておきたいんだ」</P>\n",
    "<P class=speech>───（そういう伏線だったのね……）それはいい考えですね。</P>\n",
    "<P class=speech>「知ってのとおり、21アイスクリームでは、21種類のアイスクリームを売っているわけだ」</P>\n",
    "<P class=speech>───最近は、新メニューのアズキが好評ですね。</P>\n",
    "<P class=speech>「そう。バニラのような定番もあるけれども、新メニューも入れていくことも必要だ」</P>\n",
    "<P class=speech>「そこで、このようなアンケートを実施したんだ。じゃーん！」</P>"
   ]
  },
  {
   "cell_type": "markdown",
   "metadata": {},
   "source": [
    "<h2 STYLE=\"background: #c2edff;padding: 0.5em;\"><a href=\"http://kogolab.chillout.jp/elearn/icecream/chap7/sec1.html\" target=\"_blank\">7.1 多変量データ</a></h2>\n",
    "\n",
    "<P class=\"photo\"><img src=\"image/tencho-futsu.jpg\" width=\"130\" height=\"145\"></P>\n",
    "<P class=\"speech\">「じゃーん。これが『アイスクリームの好みについてのアンケート』です！」</P>\n",
    "<P class=\"photo\"><img src=\"image/chosahyo.jpg\" width=\"514\" height=\"758\" border=\"1\"></P>\n",
    "<P class=\"photo\"><img src=\"image/aiko-fushigi.jpg\" width=\"148\" height=\"128\"></P>\n",
    "<P class=\"speech\">───わあー、店長すごいじゃないですか。</P>\n",
    "<P class=\"speech\">「いや、実は、三ヶ島くんに手伝ってもらったんだけどね……」</P>\n",
    "<P class=\"speech\">───でも、性別や年齢はいいとしても、出生順を聞いているのはなんでですか？</P>\n",
    "<P class=\"speech\">「いや、ちょっとした仮説があってね」</P>\n",
    "<P class=\"speech\">───店長が「仮説」なんてことばを使うなんて！　いったいどんな仮説なんですか？</P>\n",
    "<P class=\"speech\">「いや、その。一人っ子はミルク系が好きかな～、長子は渋め系が好きかな～、って感じなんだけど」</P>\n",
    "<P class=\"speech\">───……なんか、かなりいい加減な仮説ですね。</P>\n",
    "<P class=\"photo\"><img src=\"image/tencho-futsu.jpg\" width=\"130\" height=\"145\"></P>\n",
    "<P class=\"speech\">「まあ、いいじゃないか。とにかくこのアンケートを実施して、もうデータは取ってあるんだよ」</P>\n",
    "<P class=\"speech\">───わあ、行動が速いですね。</P>\n",
    "<P class=\"speech\">「えへ。これがデータだよ。20歳前後の男女40人ずつにやってもらった。でね……」</P>\n",
    "<P class=\"speech\">───ま、まさか。</P>\n",
    "<P class=\"speech\">「アイ子ちゃん、お願い。これを分析してくれないか」</P>"
   ]
  },
  {
   "cell_type": "markdown",
   "metadata": {},
   "source": [
    "<h4 style=\"border-bottom: solid 1px black;\">多変量データ</h4>\n",
    "<P>このようなアンケートでは、変数がたくさんあります。性別、年齢、出生順、アイスクリームを食べる頻度、そして、バニラの好き嫌い、ストロベリーの好き嫌い、ミルクティーの好き嫌い、……、あずきの好き嫌い。これらのすべてが変数になるわけです。</P>\n",
    "<P>このようなデータを「<em>多変量データ</em>」と呼びます。たくさんの変数からなっているデータという意味です。「変量」と「変数」とは同じ意味です（英語では\n",
    "  variables ）。</P>\n",
    "<P>多変量データを入力するときは、次のような形式を取ります。</P>\n",
    "\n",
    "https://raw.githubusercontent.com/maskot1977/ipython_notebook/master/toydata/icecream_chosa.txt\n",
    "\n",
    "<p>横方向（列）には<em>変数</em>を並べます。ここでは、性別、年齢や、各種アイスクリームの好みの度合いが並びます。</p>\n",
    "<p>縦方向（行）には<em>ケース</em>（個別にワンセットになったデータ）を並べます。ここでは、回答者が並びます。</p>\n",
    "<p>（注意）　ここでは、性別の男性に1、女性に2という数字を割り当てています。また、出生順では、一人っ子は1、長子は2、中間子は3、末っ子は4という数字を割り当てています。こうした割り当ては、適宜自分で決めることができます。</p>"
   ]
  },
  {
   "cell_type": "markdown",
   "metadata": {},
   "source": [
    "<h2 STYLE=\"background: #c2edff;padding: 0.5em;\"><a href=\"http://kogolab.chillout.jp/elearn/icecream/chap7/sec2.html\" target=\"_blank\">7.2 変数をまとめる</a></h2>\n",
    "\n",
    "<P class=\"photo\"><img src=\"image/aiko-ganbaru.jpg\" width=\"181\" height=\"133\"></P>\n",
    "<P class=\"speech\">───ふう、やっと全部のデータを入れ終わったわ。変数がたくさんになると、データを入力するのでも一苦労ね。</P>\n",
    "\n",
    "https://raw.githubusercontent.com/maskot1977/ipython_notebook/master/toydata/icecream_chosa.txt\n",
    "\n",
    "<P class=\"speech\">───さて、これをどうやって分析したらいいのかな？</P>\n",
    "<P class=\"speech\">───とにかく、変数がたくさんあるから、扱いが大変なんだわ。この変数をどうにかして、まとめることができないかな～。</P>\n",
    "<P class=\"photo\"><img src=\"image/senpai-futsu.jpg\" width=\"152\" height=\"127\"></P>\n",
    "<P class=\"speech\">「その考え方は、いい線いっているよ」</P>\n",
    "<P class=\"speech\">───あ、三ヶ島先輩。助けに来てくれたんですか？</P>\n",
    "<P class=\"speech\">「うん。変数をまとめる、というのはどういうこと？」</P>\n",
    "<P class=\"speech\">───たとえば、フルーツ系のアイスクリームが好きな人は、ストロベリーやメロンやオレンジが好きだと思うんですよ。和風のアイスクリームが好きな人なら、抹茶やあずきは好きそうですよね。チョコレート系が好きな人なら、チョコレートやチョコチップやチョコミントが好きだと思うんです。あ、でも、チョコミントは違うかな。ミントが嫌いな人もいるからな～。</P>\n",
    "<P class=\"speech\">「ふむふむ」</P>\n",
    "<P class=\"speech\">───いずれにしても、そんなふうにして、フルーツ系、和風系、チョコレート系、バニラ系というように、変数をもう少しまとまったグループに分類できるのではないでしょうか。</P>\n",
    "<P class=\"speech\">「なるほど。グループにまとめるためには何が使えると思う？」</P>\n",
    "<P class=\"speech\">───あっ！</P>\n",
    "<P class=\"photo\"><img src=\"image/aiko-hirameku.jpg\" width=\"185\" height=\"135\"></P>\n",
    "<P class=\"speech\">───相関係数ですね。ストロベリーが好きな人がメロンも好きであれば、ストロベリーの変数とメロンの変数の相関が高いはずです。相関が高いということは、ひとまとまりのグループとして分類することができるはずです。</P>\n",
    "<P class=\"speech\">「その通り。イメージとしてはこんな感じになるね。この段階では、あくまでも仮説的なイメージだけど」</P>\n",
    "<P class=\"photo\"><img src=\"image/group.jpg\" width=\"539\" height=\"287\"></P>\n",
    "\n",
    "\n",
    "ここでは、人を「サンプル」と見なし、バニラ、ストロベリーなどの味の好みを「変数」と見なします。（逆に、バニラ、ストロベリーなどのアイスを「サンプル」と見なし、人の好みを「変数」と見なすこともできます。）"
   ]
  },
  {
   "cell_type": "markdown",
   "metadata": {},
   "source": [
    "<h4 style=\"padding: 0.25em 0.5em;color: #494949;background: transparent;border-left: solid 5px #7db4e6;\">課題7.2</h4>\n",
    "\n",
    "[アイスクリームアンケート調査結果](https://raw.githubusercontent.com/maskot1977/ipython_notebook/master/toydata/icecream_chosa.txt)をダウンロードして、次のコードを実行してください。"
   ]
  },
  {
   "cell_type": "code",
   "execution_count": null,
   "metadata": {
    "collapsed": true
   },
   "outputs": [],
   "source": [
    "# URL によるリソースへのアクセスを提供するライブラリをインポートする。\n",
    "#import urllib # Python 2 の場合\n",
    "import urllib.request # Python 3 の場合"
   ]
  },
  {
   "cell_type": "code",
   "execution_count": null,
   "metadata": {
    "collapsed": true
   },
   "outputs": [],
   "source": [
    "# ウェブ上のリソースを指定する\n",
    "url = 'https://raw.githubusercontent.com/maskot1977/ipython_notebook/master/toydata/icecream_chosa.txt'"
   ]
  },
  {
   "cell_type": "code",
   "execution_count": null,
   "metadata": {
    "collapsed": false
   },
   "outputs": [],
   "source": [
    "# 指定したURLからリソースをダウンロードし、名前をつける。\n",
    "# urllib.urlretrieve(url, 'icecream_chosa.txt') # Python 2 の場合\n",
    "urllib.request.urlretrieve(url, 'icecream_chosa.txt') # Python 3 の場合"
   ]
  },
  {
   "cell_type": "code",
   "execution_count": null,
   "metadata": {
    "collapsed": true
   },
   "outputs": [],
   "source": [
    "import pandas as pd # データフレームワーク処理のライブラリをインポート"
   ]
  },
  {
   "cell_type": "code",
   "execution_count": null,
   "metadata": {
    "collapsed": false
   },
   "outputs": [],
   "source": [
    "df = pd.read_csv('icecream_chosa.txt', header=None) # データフレームへの読み込み"
   ]
  },
  {
   "cell_type": "code",
   "execution_count": null,
   "metadata": {
    "collapsed": false
   },
   "outputs": [],
   "source": [
    "df #データの中身を確認"
   ]
  },
  {
   "cell_type": "code",
   "execution_count": null,
   "metadata": {
    "collapsed": false
   },
   "outputs": [],
   "source": [
    "df = pd.read_csv('icecream_chosa.txt', sep='\\s+', index_col=0) # スペース区切りで読み込み"
   ]
  },
  {
   "cell_type": "code",
   "execution_count": null,
   "metadata": {
    "collapsed": false
   },
   "outputs": [],
   "source": [
    "df # データの確認"
   ]
  },
  {
   "cell_type": "code",
   "execution_count": null,
   "metadata": {
    "collapsed": false
   },
   "outputs": [],
   "source": [
    "df.head() #最初の数レコードだけ確認"
   ]
  },
  {
   "cell_type": "code",
   "execution_count": null,
   "metadata": {
    "collapsed": false
   },
   "outputs": [],
   "source": [
    "strawberry = df['strawberry'].tolist() # 指定した列だけ抜き出してリストにする"
   ]
  },
  {
   "cell_type": "code",
   "execution_count": null,
   "metadata": {
    "collapsed": false
   },
   "outputs": [],
   "source": [
    "print(strawberry) # 得られたリストの中身の確認"
   ]
  },
  {
   "cell_type": "code",
   "execution_count": null,
   "metadata": {
    "collapsed": false
   },
   "outputs": [],
   "source": [
    "df.iloc[10:20, 5:9] # 指定した行、指定した列だけ抜き出す"
   ]
  },
  {
   "cell_type": "code",
   "execution_count": null,
   "metadata": {
    "collapsed": false
   },
   "outputs": [],
   "source": [
    "df.iloc[:, 5:] # 指定した行、指定した列だけ抜き出す"
   ]
  },
  {
   "cell_type": "code",
   "execution_count": null,
   "metadata": {
    "collapsed": false
   },
   "outputs": [],
   "source": [
    "df.iloc[[1, 3, 5, 7, 9], [2, 4, 6, 8, 10]] # 指定した行、指定した列だけ抜き出す"
   ]
  },
  {
   "cell_type": "code",
   "execution_count": null,
   "metadata": {
    "collapsed": false
   },
   "outputs": [],
   "source": [
    "df.T # 転置"
   ]
  },
  {
   "cell_type": "code",
   "execution_count": null,
   "metadata": {
    "collapsed": false
   },
   "outputs": [],
   "source": [
    "df.iloc[[1, 3, 5, 7, 9], [2, 4, 6, 8, 10]].T # 指定した行・列だけ抜き出してから転置"
   ]
  },
  {
   "cell_type": "code",
   "execution_count": null,
   "metadata": {
    "collapsed": false
   },
   "outputs": [],
   "source": [
    "df.T.iloc[[1, 3, 5, 7, 9], [2, 4, 6, 8, 10]] #　転置してから指定した行・列だけ抜き出す"
   ]
  },
  {
   "cell_type": "markdown",
   "metadata": {},
   "source": [
    "* 補足資料 : <a href=\"ReadingCSV.ipynb\">タブ区切りデータ、コンマ区切りデータ等の読み込み</a>"
   ]
  },
  {
   "cell_type": "markdown",
   "metadata": {},
   "source": [
    "<h2 STYLE=\"background: #c2edff;padding: 0.5em;\"><a href=\"http://kogolab.chillout.jp/elearn/icecream/chap7/sec3.html\" target=\"_blank\">7.3　相関行列を計算する(1)</a></h2>\n",
    "\n",
    "<P class=\"photo\"><img src=\"image/aiko-ganbaru.jpg\" width=\"181\" height=\"133\"></P>\n",
    "<P class=\"speech\">───よし、方針は決まったわ。相関係数を計算していこう。</P>\n",
    "<P class=\"speech\">───えーと、まずは、バニラとストロベリーの相関係数だ。すると、次は、バニラとミルクティーね。その次は、バニラとマカダミアナッツと。その次は、バニラとクッキー……</P>\n",
    "<P class=\"speech\">───ええ～、これは大変だ。１つの相関係数を求めるだけでも大変なのに、すごい組み合わせの数になる。組み合わせの数は、20+19+18+17+………+3+2+1ね。えーと、これは、210通りの組み合わせだわ。こんなの無理だわ。三ヶ島先輩。</P>\n",
    "<P class=\"photo\"><img src=\"image/senpai-setsumei.jpg\" width=\"135\" height=\"136\"></P>\n",
    "<p class=\"speech\">「すべてのアイスクリームの組み合わせというのはこうなるね」</p>\n",
    "<p class=\"speech\">「横方向に、バニラ、ストロベリー、ミルク、………、チョコレート、あずき、と並ぶ。縦方向も同様に、バニラ、ストロベリー、ミルク、………、チョコレート、あずき、と並べる。そうすると、こんな行列ができあがる」</p>\n",
    "<p class=\"photo\"><img src=\"image/matrix1.jpg\" width=\"645\" height=\"268\"></p>\n",
    "<p class=\"speech\">「そうしたところで、縦と横の項目が交わったところに、その相関係数をいれていくんだ。たとえば、バニラとストロベリーが交わったセルにはその相関係数をいれていく。対角線の部分、つまり、バニラとバニラ、ストロベリーとストロベリー、ミルクとミルクのセルには、相関係数1.0がはいる。自分自身との相関は常に1.0だからね」</p>\n",
    "<p class=\"speech\">「これを<em>相関行列</em>と呼ぶんだよ」</p>\n",
    "<p class=\"photo\"><img src=\"image/matrix2.jpg\" width=\"588\" height=\"194\"></p>\n",
    "<p class=\"photo\"><img src=\"image/aiko-ganbaru.jpg\" width=\"181\" height=\"133\"></p>\n",
    "<p class=\"speech\">───でも、三ヶ島先輩、バニラとストロベリーの相関係数ひとつを計算するんでもたいへんなんですよ。平均を出して、平均からの偏差を出して、それを掛け合わせて、その平均を求めて、それを２つの標準偏差で割るんです。</p>\n",
    "<p class=\"speech\">「おっ、もう相関係数の算出の仕方が身についているね。すばらしい」</p>\n",
    "<p class=\"speech\">───そりゃもう、何度も何度も計算しましたから。</p>\n",
    "<p class=\"speech\">「それじゃ、便利な方法を教えよう。相関係数を一発で求める関数だ」</p>\n"
   ]
  },
  {
   "cell_type": "code",
   "execution_count": null,
   "metadata": {
    "collapsed": false
   },
   "outputs": [],
   "source": [
    "df.corr() # 相関行列"
   ]
  },
  {
   "cell_type": "markdown",
   "metadata": {},
   "source": [
    "<p class=\"speech\">───ええっ、そんなに便利な関数があるんですか～。なんでそれを先に教えてくれなかったんですか～。</p>\n",
    "<p class=\"speech\">「ごめん、ごめん。でも、相関係数の計算をしたおかげで、計算方法が身についたでしょ？　それはさっきすらすらと計算方法を言えたことで証明されている」</p>\n",
    "<p class=\"speech\">「Pythonの関数を先に教えてしまえば、確かに計算はラクになるだろうけれども、それについて何もわかったことにはならないよね。内容を理解した上で道具を使うことと、まったくのブラックボックス（中身のわからないハコ）として使うのでは、全然違うということだ」</p>\n",
    "<p class=\"photo\"><img src=\"image/senpai-setsumei.jpg\" width=\"135\" height=\"136\"></p>"
   ]
  },
  {
   "cell_type": "markdown",
   "metadata": {},
   "source": [
    "<h2 STYLE=\"background: #c2edff;padding: 0.5em;\"><a href=\"http://kogolab.chillout.jp/elearn/icecream/chap7/sec4.html\" target=\"_blank\">7.4　相関行列を計算する(2)</a></h2>\n",
    "\n",
    "<p class=\"photo\"><img src=\"image/tencho-futsu.jpg\" width=\"130\" height=\"145\"></p>\n",
    "<p class=\"speech\">「やあ、データ分析は進んでいるかな？」</p>\n",
    "<p class=\"speech\">───あ、店長。今、相関行列を計算しようとしているところです。</p>\n",
    "<p class=\"speech\">「そうかー、やはりうちも行列のできる店にならなくちゃな、うん」</p>\n",
    "<p class=\"speech\">───相関行列を分析して、行列のできる店になればいいですね。さあ、三ヶ島先輩、計算を進めましょう。</p>\n",
    "<p class=\"photo\"><img src=\"image/senpai-futsu.jpg\" width=\"152\" height=\"127\"></p>\n",
    "<p class=\"speech\">「よし、相関係数はこの関数で求められるということをいったよね。これを実際に使っていこう」</p>\n",
    "<p class=\"speech\">「まず、バニラとストロベリーの相関係数を求めてみよう」</p>"
   ]
  },
  {
   "cell_type": "code",
   "execution_count": null,
   "metadata": {
    "collapsed": false
   },
   "outputs": [],
   "source": [
    "df.iloc[:, 4:6] # バニラとストロベリーだけ抜き出す"
   ]
  },
  {
   "cell_type": "code",
   "execution_count": null,
   "metadata": {
    "collapsed": false
   },
   "outputs": [],
   "source": [
    "df.iloc[:, 4:6].corr() # バニラとストロベリーだけ抜き出して相関行列を作る"
   ]
  },
  {
   "cell_type": "markdown",
   "metadata": {},
   "source": [
    "<p class=\"speech\">───三ヶ島先輩、出ました。小数第3位を四捨五入して、相関係数は0.03です。まあ、なんて簡単なのかしら！　感動的。</p>\n",
    "<p class=\"speech\">「本当だね。でも、相関係数を１つ１つ計算することをやってきたから、その感動が味わえるわけだ。もしそうやっていなかったら、相関係数は簡単に出たけどなんだかよくわからない、ってことになっちゃうだろうね」</p>\n",
    "\n",
    "<p class=\"speech\">───そうすると、これを繰り返せば、完全な相関行列が完成しますね。</p>\n",
    "<p class=\"speech\">───よし、がんばってみよう。コーンも手伝って。</p>\n",
    "<p class=\"photo\"><img src=\"image/corn.jpg\" width=\"120\" height=\"91\"></p>"
   ]
  },
  {
   "cell_type": "code",
   "execution_count": null,
   "metadata": {
    "collapsed": false
   },
   "outputs": [],
   "source": [
    "corr = df.iloc[:, 4:].corr() # バニラからアズキまでを抜き出して相関行列を作る"
   ]
  },
  {
   "cell_type": "code",
   "execution_count": null,
   "metadata": {
    "collapsed": false
   },
   "outputs": [],
   "source": [
    "corr # 相関行列"
   ]
  },
  {
   "cell_type": "markdown",
   "metadata": {},
   "source": [
    "<h4 style=\"padding: 0.25em 0.5em;color: #494949;background: transparent;border-left: solid 5px #7db4e6;\">課題7.6</h4>\n",
    "\n",
    "[アイスクリームアンケート調査結果](https://raw.githubusercontent.com/maskot1977/ipython_notebook/master/toydata/icecream_chosa.txt)のデータを用い、以下の問いに答えてください。\n",
    "\n",
    "(1)　21種類のアイスクリームの好みのデータについて、すべての組み合わせの相関係数を求めた上で、正の相関が高いもの（ここでは+0.4以上）の組み合わせをリストしてください。\n",
    "\n",
    "(2)　同様に、相関行列の中で、負の相関が高いもの（ここでは-0.2以下）の組み合わせをリストしてください。\n",
    "\n",
    "(3)　以上の結果を踏まえて、アイスクリームの好みについての分類をしたときに、言えることを書いてください。\n",
    "\n",
    "(4)　８０人の被験者の中で、アイスクリームの好みが最も類似している２人を挙げてください。また、その２人の性別、その２人が好きな味を答えてください。"
   ]
  },
  {
   "cell_type": "code",
   "execution_count": null,
   "metadata": {
    "collapsed": true
   },
   "outputs": [],
   "source": [
    "# 課題7.6"
   ]
  },
  {
   "cell_type": "code",
   "execution_count": null,
   "metadata": {
    "collapsed": false
   },
   "outputs": [],
   "source": [
    "# 正方行列をリストに変換する\n",
    "corr_dict = corr.to_dict()\n",
    "corr2 = []\n",
    "for x in corr_dict.keys():\n",
    "    for y in corr_dict[x].keys():\n",
    "        if x >= y:\n",
    "            continue\n",
    "        corr2.append([x, y, corr_dict[x][y]])"
   ]
  },
  {
   "cell_type": "code",
   "execution_count": null,
   "metadata": {
    "collapsed": false
   },
   "outputs": [],
   "source": [
    "pd.DataFrame(corr2) # データを確認"
   ]
  },
  {
   "cell_type": "code",
   "execution_count": null,
   "metadata": {
    "collapsed": false
   },
   "outputs": [],
   "source": [
    "pd.DataFrame(corr2).sort_values(2, ascending=False) # 第２列で降順にソートする"
   ]
  },
  {
   "cell_type": "markdown",
   "metadata": {},
   "source": [
    "<h2 STYLE=\"background: #c2edff;padding: 0.5em;\">アイスクリーム統計学 第７章 課題</h2>\n",
    "\n",
    "__課題7.2__、および __課題7.6__ を解いて、指定のメールアドレスまでメールしてください。メール送信後は、エラーが帰ってきてないことを確認してください（メールアドレスを間違える人がときどき居ます）。\n",
    "* 締切：11月3日（今すぐでなくても結構です）\n",
    "* メールタイトル：「アイスクリーム統計学 第７章」\n",
    "* 学籍番号と氏名を明記すること。\n",
    "* 感想などがあれば書いてくれると嬉しいです。次回以降の講義の改善につながるかも知れません。"
   ]
  },
  {
   "cell_type": "code",
   "execution_count": null,
   "metadata": {
    "collapsed": true
   },
   "outputs": [],
   "source": [
    "# アイスクリーム統計学 第７章 課題"
   ]
  },
  {
   "cell_type": "markdown",
   "metadata": {},
   "source": [
    "<h2 STYLE=\"background: #c2edff;padding: 0.5em;\">終わったら、<a href=\"IceCreamStatistics08.ipynb\">第８章：因子分析 (1)</a> に進んでください。</h2>\n",
    "（2017年10月31日講義、11月3日課題提出締切）"
   ]
  }
 ],
 "metadata": {
  "kernelspec": {
   "display_name": "Python 3",
   "language": "python",
   "name": "python3"
  },
  "language_info": {
   "codemirror_mode": {
    "name": "ipython",
    "version": 3
   },
   "file_extension": ".py",
   "mimetype": "text/x-python",
   "name": "python",
   "nbconvert_exporter": "python",
   "pygments_lexer": "ipython3",
   "version": "3.4.5"
  }
 },
 "nbformat": 4,
 "nbformat_minor": 0
}
