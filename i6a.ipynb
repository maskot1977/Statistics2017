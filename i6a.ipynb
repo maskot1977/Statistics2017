{
 "cells": [
  {
   "cell_type": "markdown",
   "metadata": {},
   "source": [
    "# アイスクリーム統計学 with Python 第6章\n",
    "\n",
    "第１０回講義（2017年10月27日講義、10月31日課題提出締切）\n",
    "\n",
    "このページは、<a href=\"http://kogolab.chillout.jp/elearn/icecream/index.html\" target=\"_blank\">アイスクリーム統計学にようこそ！</a>の内容をプログラミング言語 Python に合わせて書き直したものです（著作権者の許諾を得て利用しております）。"
   ]
  },
  {
   "cell_type": "markdown",
   "metadata": {},
   "source": [
    "<h1 STYLE=\"background: #c2edff;padding: 0.5em;\"><a href=\"http://kogolab.chillout.jp/elearn/icecream/chap6/sec0.html\" target=\"_blank\">第６章 重回帰</a></h1>\n",
    "\n",
    "<P class=\"photo\"><img src=\"image/icecream.jpg\" width=\"172\" height=\"179\"></P>\n",
    "<P>アイ子ちゃんには、偏相関はちょっと難しかったようです。</P>\n",
    "<P class=\"photo\"><img src=\"image/aiko-futsu.jpg\" width=\"168\" height=\"140\"></P>\n",
    "<P class=speech>───何回考えても、偏相関は頭がこんがらがるわね。繰り返し復習するしかないか。</P>\n",
    "<P class=speech>───そういえば、店長、そもそも最初のアイデアは、最高気温だけじゃなくて、最低気温のデータも使えば、客数がより正確に予測できるんじゃないか、ということでしたよね。</P>\n",
    "<P class=speech>「そういわれてみれば、そうだ。それなのに、偏相関なんてものを持ち出してきたんだよな、三ヶ島くんは」</P>\n",
    "<P class=speech>───予測するために、偏相関は何か役に立つのかな？</P>"
   ]
  },
  {
   "cell_type": "markdown",
   "metadata": {},
   "source": [
    "<h2 STYLE=\"background: #c2edff;padding: 0.5em;\"><a href=\"http://kogolab.chillout.jp/elearn/icecream/chap6/sec1.html\" target=\"_blank\">6.1　偏回帰係数</a></h2>\n",
    "\n",
    "<P class=\"photo\"><img src=\"image/tencho-futsu.jpg\" width=\"130\" height=\"145\"></P>\n",
    "<P class=\"speech\">「以前、客数を最高気温によって予測しようとしたときに、怪奇……じゃない、回帰直線を使ったよね」</P>\n",
    "<P class=\"speech\">───そうです。回帰直線を使いました。</P>\n",
    "<P class=\"photo\">→<a href=\"IceCreamStatistics04.ipynb\" target=\"_blank\">回帰直線について思い出そう</a>（4章3節）</P>\n",
    "<P class=\"speech\">「偏相関についても同じように、回帰直線みたいなものが引けるんじゃないの？」</P>\n",
    "<P class=\"speech\">───なるほど。店長、それはいいアイデアかもしれません。でも、どうやるのかな？</P>\n",
    "<P class=\"photo\"><img src=\"image/senpai-futsu.jpg\" width=\"152\" height=\"127\"></P>\n",
    "<P class=\"speech\">「どうしました？　店長、アイ子ちゃん」</P>\n",
    "<P class=\"speech\">───あ、三ヶ島先輩。偏相関についてはなんとかわかったのですが、それを客数を予測するためにどうやって使えばいいのかが、わからないのです。偏相関についても、回帰直線みたいなものが引けるのでしょうか？</P>\n",
    "<P class=\"speech\">「おお、いいところを突いているね。説明するよ」</P>"
   ]
  },
  {
   "cell_type": "markdown",
   "metadata": {},
   "source": [
    "<h4 style=\"border-bottom: solid 1px black;\">偏回帰係数</h4>\n",
    "\n",
    "<P>偏相関についても回帰直線は引ける。</P>\n",
    "<P>たとえば、最高気温の影響を取り除いた、最低気温の残差と客数の残差の散布図は次のようになった。</P>\n",
    "<P class=\"photo\"><img src=\"image/bunkai7.jpg\" width=\"363\" height=\"274\"></P>\n",
    "<P>だから、この散布図に対して、回帰直線を求めればいいわけだ。</P>\n",
    "<P>だけど、いちいち残差から回帰直線を計算しなくても、次の式で回帰直線の傾きを求めることができる。これを「<em>偏回帰係数</em>」と呼ぶ。つまり、偏回帰直線の傾きということだ。</P>\n",
    "<P class=\"photo\"><img src=\"image/jukaiki1.jpg\" width=\"497\" height=\"376\"></P>\n",
    "\n",
    "<P>では、実際に偏回帰係数を計算してみよう。</P>\n",
    "\n",
    "<h4 style=\"padding: 0.25em 0.5em;color: #494949;background: transparent;border-left: solid 5px #7db4e6;\">課題6.1</h4>\n",
    "\n",
    "[去年の夏（最低気温込み）](https://raw.githubusercontent.com/maskot1977/ipython_notebook/master/toydata/ice_cream3.txt)のデータを用いて以下の問いに答えてください。\n",
    "\n",
    "(1)　最高気温の影響を取り除いた、最低気温と客数の偏回帰係数を求めてください。\n",
    "* a の影響を除いた、b と y の偏回帰係数 = （__r__<sub>by</sub> - (__r__<sub>ay</sub> ＊ __r__<sub>ab</sub>)) ＊ __σ__<sub>y</sub> /  ((1 - __r__<sub>ab</sub><sup>2</sup>) ＊ __σ__<sub>b</sub>)\n",
    "\n",
    "(2)　最高気温の影響を取り除いた、最低気温と客数の標準偏回帰係数を求めてください。\n",
    "* a の影響を除いた、b と y の標準偏回帰係数 = （__r__<sub>by</sub> - (__r__<sub>ay</sub> ＊ __r__<sub>ab</sub>)) /  (1 - __r__<sub>ab</sub><sup>2</sup>)"
   ]
  },
  {
   "cell_type": "code",
   "execution_count": 48,
   "metadata": {
    "collapsed": true
   },
   "outputs": [],
   "source": [
    "# ダウンロードしたデータから、列ごとに数字を読み込んでリストに格納する。"
   ]
  },
  {
   "cell_type": "code",
   "execution_count": 49,
   "metadata": {
    "collapsed": true
   },
   "outputs": [],
   "source": [
    "# a の影響を除いた、b と y の偏回帰係数 partial regression coefficient を求める関数\n",
    "def partial_regression(a, b, y):"
   ]
  },
  {
   "cell_type": "code",
   "execution_count": 50,
   "metadata": {
    "collapsed": false
   },
   "outputs": [
    {
     "data": {
      "text/plain": [
       "-16.703141150412772"
      ]
     },
     "execution_count": 50,
     "metadata": {},
     "output_type": "execute_result"
    }
   ],
   "source": [
    "# 偏回帰係数を求める"
   ]
  },
  {
   "cell_type": "code",
   "execution_count": 51,
   "metadata": {
    "collapsed": true
   },
   "outputs": [],
   "source": [
    "# a の影響を除いた、b と y の標準偏回帰係数 standard partial regression coefficient を求める関数\n",
    "def standard_partial_regression(a, b, y):"
   ]
  },
  {
   "cell_type": "code",
   "execution_count": 52,
   "metadata": {
    "collapsed": false
   },
   "outputs": [
    {
     "data": {
      "text/plain": [
       "-0.6225767534015739"
      ]
     },
     "execution_count": 52,
     "metadata": {},
     "output_type": "execute_result"
    }
   ],
   "source": [
    "# 標準偏回帰係数を求める"
   ]
  },
  {
   "cell_type": "markdown",
   "metadata": {},
   "source": [
    "<P class=\"photo\"><img src=\"image/aiko-ganbaru.jpg\" width=\"181\" height=\"133\"></P>\n",
    "<P class=\"speech\">───偏回帰係数は、-16.703 ですね。傾きはマイナスなので、右下がりの直線になります。</P>\n",
    "<P class=\"speech\">「そのようだ。よさそうだね」</P>\n",
    "<P class=\"speech\">───三ヶ島先輩。でも、y切片を出さなくていいんですか？</P>\n",
    "<P class=\"speech\">「うん、いいんだ。なぜなら、残差は平均0になっているので、y切片は常に0だからなんだ」</P>\n",
    "<P>残差の散布図に回帰直線を引いてみるとこんな具合になる。</P>\n",
    "<P class=\"photo\"><img src=\"image/jukaiki4.jpg\" width=\"362\" height=\"273\"></P>\n",
    "<P>ここで、縦軸、横軸ともに平均は0で揃っているけれども、標準偏差はそれぞれにばらばらだ。そこで、それを標準偏差1で揃えてみる。</P>\n",
    "<P class=\"photo\">→<a href=\"IceCreamStatistics02.ipynb\" target=\"_blank\">標準偏差1で揃えることのイメージを思い出そう</a>（2章4節）</P>\n",
    "<P>このときの偏回帰係数を「<em>標準偏回帰係数</em>」と呼ぶ。</P>\n",
    "<P>標準偏回帰係数の求め方は、偏回帰係数の式の前半部分だけになる。次の通りだ。</P>\n",
    "<P class=\"photo\"><img src=\"image/jukaiki3.jpg\" width=\"310\" height=\"169\"></P>\n",
    "<P class=\"speech\">「標準偏回帰係数を求めてみると、いくらになるかな？」</P>\n",
    "<P class=\"speech\">───えーと、-0.623になります。</P>\n",
    "<P class=\"photo\"><img src=\"image/aiko-hirameku.jpg\" width=\"185\" height=\"135\"></P>"
   ]
  },
  {
   "cell_type": "markdown",
   "metadata": {},
   "source": [
    "<h2 STYLE=\"background: #c2edff;padding: 0.5em;\"><a href=\"http://kogolab.chillout.jp/elearn/icecream/chap6/sec2.html\" target=\"_blank\">6.2　２つの変数で予測する</a></h2>\n",
    "\n",
    "<P class=\"photo\"><img src=\"image/aiko-fushigi.jpg\" width=\"148\" height=\"128\"></P>\n",
    "<P class=\"speech\">───三ヶ島先輩。偏回帰係数と標準偏回帰係数の求め方はわかりました。でも、最初の目的は、最高気温と最低気温の２種類のデータで、客数を予測することです。</P>\n",
    "<P class=\"speech\">「そうだったね。ここでは２種類のデータのことを２つの変数と呼ぶことにしよう。つまり２つの変数で別の１つの変数を予測するということだ」</P>\n",
    "<P class=\"speech\">───そうです、それをやりたいんです。ぜひ！</P>\n",
    "<P class=\"speech\">「おお、すごい意気込みだね。大丈夫、ぼくたちにはそれをするための準備はほとんど整っているんだよ」</P>\n",
    "<P class=\"speech\">───ええっ、いつの間に。</P>\n",
    "<P class=\"speech\">「少しずつ、着実に進んでいるおかげさ」</P>\n",
    "<P class=\"photo\"><img src=\"image/senpai-futsu.jpg\" width=\"152\" height=\"127\"></P>\n",
    "<P class=\"speech\">───その予測の方法はどんなものなんですか？</P>\n",
    "<P class=\"speech\">「それは、<em>重回帰モデル</em>と呼ばれるものだ」</P>\n",
    "<P class=\"speech\">───重回帰モデルですか？</P>\n",
    "<P class=\"speech\">「そうだ。それに対して、以前にやった、回帰直線による予測は<em>単回帰モデル</em>と呼ばれている。単というのは１つという意味だ。つまり、単回帰というのは１つの回帰直線による予測という意味だよ」</P>\n",
    "<P class=\"speech\">───なるほど、じゃあ、重回帰というのは２つの回帰直線による予測という意味なんですね。</P>\n",
    "<P class=\"speech\">「そう、その通り。ただ２つだけではなくて、２つ以上、つまり３つでも４つでも、それ以上でも重回帰モデルになる。ここでは、２つの変数による重回帰モデルを説明していこう。それ以上の個数の変数でも、あとは同じだからね」</P>\n",
    "<P class=\"speech\">───ぜひ、お願いします。</P>\n",
    "<P class=\"photo\"><img src=\"image/aiko-ganbaru.jpg\" width=\"181\" height=\"133\"></P>\n"
   ]
  },
  {
   "cell_type": "markdown",
   "metadata": {},
   "source": [
    "<h2 STYLE=\"background: #c2edff;padding: 0.5em;\"><a href=\"http://kogolab.chillout.jp/elearn/icecream/chap6/sec3.html\" target=\"_blank\">6.3　重回帰モデル</a></h2>\n",
    "\n",
    "<P class=\"photo\"><img src=\"image/senpai-setsumei.jpg\" width=\"135\" height=\"136\"></P>\n",
    "<P>じゃあ、重回帰モデルを説明していこう。</P>\n",
    "<P>その前に、単回帰モデルを思い出してみよう。最高気温で客数を予測するモデルは、</P>\n",
    "<P class=\"eq\">客数の予測値　＝　回帰直線のy切片　＋　回帰直線の傾き×最高気温</P>\n",
    "<P>ということだったね。</P>\n",
    "<P>これに対して、重回帰モデルでは、こう考える。</P>\n",
    "<P>最高気温と最低気温の２つで、客数を予測するモデルを次のように考える。</P>\n",
    "<P class=\"eq\">客数の予測値　＝　定数m　＋　定数p×最高気温　＋　定数q×最低気温</P>\n",
    "<P>定数mが単回帰モデルのy切片に相当し、定数pと定数qは回帰直線の傾きに相当する。</P>\n",
    "<P>つまり、最高気温をp倍したものと、最低気温をq倍したものを足して、さらに定数mを足すと、客数の予測値になると考えるわけだ。</P>\n",
    "<P class=\"photo\"><img src=\"image/aiko-asekaki.jpg\" width=\"194\" height=\"150\"></P>\n",
    "<P class=\"speech\">───でも、そんなp, q, mを求めるにはどうしたらいいんですか？</P>\n",
    "<P class=\"speech\">「それは、以前にやった最小２乗法を使うんだよ」</P>\n",
    "<P class=\"photo\">→<a href=\"IceCreamStatistics04.ipynb\" target=\"_blank\">最小２乗法について思い出そう</a>（4章2節）</P>\n",
    "<P class=\"speech\">───なるほど、客数の予測値と実際の客数のずれを計算して、それを２乗した合計が最も小さくなるようにして、p, q, mを求めればいいのですね。</P>\n",
    "<P class=\"speech\">「そうだ。さすがだ。アイ子ちゃん」</P>\n",
    "<P class=\"speech\">───でも、それはどうやって計算すればいいのですか？</P>\n",
    "<P class=\"photo\"><img src=\"image/senpai-setsumei.jpg\" width=\"135\" height=\"136\"></P>\n",
    "<p>そう、それだ。</p>\n",
    "<p class=\"eq\">客数の予測値　＝　定数m　＋　定数p×最高気温　＋　定数q×最低気温</p>\n",
    "<p>このp, q, mを求めたいわけなんだけど、このとき、</p>\n",
    "<p class=\"eq\">定数p　＝　客数と最高気温の偏回帰係数</p>\n",
    "<p class=\"eq\">定数q　＝　客数と最低気温の偏回帰係数</p>\n",
    "<p>として求められるんだよ。</p>\n",
    "<p class=\"speech\">───え？　偏回帰係数でいいんですか？　いまやったばかりだわ。</p>\n",
    "<p>そう。だから準備は整っているっていったでしょ。</p>\n",
    "<p>そして、残る定数mは次のように決められる。</p>\n",
    "<p class=\"eq\">定数m　＝　客数の平均　－　p×最高気温の平均　－　q×最低気温の平均</p>\n",
    "<p>では、p, q, mを計算してみて。</p>\n",
    "<p class=\"speech\">───えーと、mを求めるためには、それぞれの変数の平均がいるわね。</p>\n",
    "\n",
    "<h4 style=\"padding: 0.25em 0.5em;color: #494949;background: transparent;border-left: solid 5px #7db4e6;\">課題6.3</h4>\n",
    "\n",
    "[去年の夏（最低気温込み）](https://raw.githubusercontent.com/maskot1977/ipython_notebook/master/toydata/ice_cream3.txt)のデータを用い、「客数の予測値　＝　定数m　＋　定数p × 最高気温　＋　定数q × 最低気温」という重回帰モデルを考えたときの、定数m, p, qを求めてください。\n",
    "  * 定数p　＝　客数と最高気温の偏回帰係数\n",
    "  * 定数q　＝　客数と最低気温の偏回帰係数\n",
    "  * 定数m　＝　客数の平均　－　p×最高気温の平均　－　q×最低気温の平均"
   ]
  },
  {
   "cell_type": "code",
   "execution_count": 53,
   "metadata": {
    "collapsed": false
   },
   "outputs": [
    {
     "data": {
      "text/plain": [
       "25.956775622524997"
      ]
     },
     "execution_count": 53,
     "metadata": {},
     "output_type": "execute_result"
    }
   ],
   "source": [
    "# 定数p　＝　客数と最高気温の偏回帰係数"
   ]
  },
  {
   "cell_type": "code",
   "execution_count": 54,
   "metadata": {
    "collapsed": false
   },
   "outputs": [
    {
     "data": {
      "text/plain": [
       "-16.703141150412772"
      ]
     },
     "execution_count": 54,
     "metadata": {},
     "output_type": "execute_result"
    }
   ],
   "source": [
    "# 定数q　＝　客数と最低気温の偏回帰係数"
   ]
  },
  {
   "cell_type": "code",
   "execution_count": 55,
   "metadata": {
    "collapsed": false
   },
   "outputs": [
    {
     "data": {
      "text/plain": [
       "-90.64045237935426"
      ]
     },
     "execution_count": 55,
     "metadata": {},
     "output_type": "execute_result"
    }
   ],
   "source": [
    "# 定数m　＝　客数の平均　－　p×最高気温の平均　－　q×最低気温の平均"
   ]
  },
  {
   "cell_type": "markdown",
   "metadata": {},
   "source": [
    "<p class=\"speech\">───はい、出ました。</p>\n",
    "<p class=\"eq\">p = 25.96</p>\n",
    "<p class=\"eq\">q = -16.70</p>\n",
    "<p class=\"eq\">m = -90.64</p>\n",
    "<p class=\"speech\">になります。</p>\n",
    "<p class=\"speech\">「ということはどういうことかな？」</p>\n",
    "<p class=\"speech\">───はい。客数の予測値は、最高気温に25.96をかけたものと、最低気温に-16.70をかけたものを足して、さらに、-90.64を足す（つまり90.64を引く）ことで求められるということです。</p>\n",
    "<p class=\"speech\">「そうだね」</p>\n",
    "<p class=\"speech\">───なるほど、以前、最低気温と客数の偏相関係数がマイナスになって、びっくりしたことがあったけど、ここでも定数qがマイナスになっているわ。つまり、最低気温は高ければ高いほど客数を減らすという効果になっているということね。</p>\n",
    "<p class=\"photo\"><img src=\"image/aiko-ganbaru.jpg\" width=\"181\" height=\"133\"></p>\n",
    "\n"
   ]
  },
  {
   "cell_type": "markdown",
   "metadata": {},
   "source": [
    "<h2 STYLE=\"background: #c2edff;padding: 0.5em;\"><a href=\"http://kogolab.chillout.jp/elearn/icecream/chap6/sec4.html\" target=\"_blank\">6.4　重回帰モデルによる予測</a></h2>\n",
    "\n",
    "<p class=\"photo\"><img src=\"image/tencho-futsu.jpg\" width=\"130\" height=\"145\"></p>\n",
    "<p class=\"speech\">「やあ、みんな元気？」</p>\n",
    "<p class=\"speech\">───あ、店長。どこ行ってたんですか？　なんか統計の話になると姿が見えなくなりますね。</p>\n",
    "<p class=\"speech\">「そ、そう？　で、どうなった？　最高気温と最低気温の２つで客の数を予測するという問題は」</p>\n",
    "<p class=\"speech\">───はい、ばっちりです。重回帰モデルというのを使うんですよ。それによると、客数の予測値は、最高気温に25.96をかけたものと、最低気温に-16.70をかけたものを足して、さらに、-90.64を足すことで求められるんです。</p>\n",
    "<p class=\"speech\">「おお、すごいな。でもまてよ、最低気温に-16.70をかけるんだって？　ということは、最低気温が低ければ低いほど客は多くなるってことじゃないか？　逆に最低気温が高ければ高いほど客は少なくなるの？」</p>\n",
    "<p class=\"speech\">───そうですよ。偏相関係数のところで、店長も納得したじゃないですか。もう忘れたんですか。</p>\n",
    "<p class=\"speech\">「いや、あのときはなんとなく雰囲気で納得したんだけど、本当にそうなのかなあ？」</p>\n",
    "<p class=\"photo\"><img src=\"image/senpai-futsu.jpg\" width=\"152\" height=\"127\"></p>\n",
    "<p class=\"speech\">「店長の疑問ももっともだよね。じゃあ、実際にこの重回帰モデルが正確に客数を予測できるかどうか調べてみよう。アイ子ちゃん、どうしたらいい？」</p>\n",
    "<p class=\"speech\">───うーんと。重回帰モデルによる予測値と実際の客数との相関を見ればいいんじゃないですか。予測値は、今やった、p, q,\n",
    "  mの定数がわかっていれば、計算できますから。</p>\n",
    "<p class=\"speech\">───よーし、じゃあ計算してみよう。コーンも手伝って。</p>\n",
    "<p class=\"photo\"><img src=\"image/corn.jpg\" width=\"120\" height=\"91\"></p>\n",
    "\n",
    "<h4 style=\"padding: 0.25em 0.5em;color: #494949;background: transparent;border-left: solid 5px #7db4e6;\">課題6.4</h4>\n",
    "\n",
    "[去年の夏（最低気温込み）](https://raw.githubusercontent.com/maskot1977/ipython_notebook/master/toydata/ice_cream3.txt)のデータを用い、「客数の予測値　＝　定数m　＋　定数p × 最高気温　＋　定数q × 最低気温」という重回帰モデルを考えたときの、重回帰モデルによる予測値と実際の客数との相関係数を求めてください。"
   ]
  },
  {
   "cell_type": "code",
   "execution_count": 56,
   "metadata": {
    "collapsed": false
   },
   "outputs": [],
   "source": [
    "# 予測値を求める\n",
    "fitted_y = []"
   ]
  },
  {
   "cell_type": "code",
   "execution_count": 57,
   "metadata": {
    "collapsed": false
   },
   "outputs": [
    {
     "data": {
      "text/plain": [
       "0.9757108760038424"
      ]
     },
     "execution_count": 57,
     "metadata": {},
     "output_type": "execute_result"
    }
   ],
   "source": [
    "# 予測値と実際の客数との相関係数を求める"
   ]
  },
  {
   "cell_type": "markdown",
   "metadata": {},
   "source": [
    "<h2 STYLE=\"background: #c2edff;padding: 0.5em;\"><a href=\"http://kogolab.chillout.jp/elearn/icecream/chap6/sec5.html\" target=\"_blank\">6.5　重相関係数</a></h2>\n",
    "\n",
    "<P class=\"photo\"><img src=\"image/senpai-futsu.jpg\" width=\"152\" height=\"127\"></P>\n",
    "<P class=\"speech\">「予測値は計算できたね。そうしたら、実際の値と予測値の散布図を描いてみよう」</P>\n",
    "<P class=\"speech\">───はい、三ヶ島先輩。こうなります。</P>\n",
    "<P class=\"photo\"><img src=\"image/jukaiki7.jpg\" width=\"389\" height=\"297\"></P>\n",
    "<P class=\"speech\">───強い正の相関ですね。予測値がそうとう正確であることが読みとれます。実測値と予測値の相関係数を計算すれば、その正確さがわかると思います。</P>\n",
    "<P class=\"speech\">「そのとおりだ、アイ子ちゃん。ここから実測値と予測値の相関係数を計算してもいいけれども、もっと簡単な方法があるんだ」</P>\n",
    "<P class=\"photo\"><img src=\"image/senpai-futsu.jpg\" width=\"152\" height=\"127\"></P>\n",
    "<P>実測値と重回帰モデルによる予測値の相関係数を「<em>重相関係数</em>」と呼ぶんだ。</P>\n",
    "<P>重相関係数は次のような式で求められるよ。つまり、３組の相関係数がわかっていれば、この式で重相関係数が求められるわけだ。</P>\n",
    "<P class=\"photo\"><img src=\"image/jukaiki6.jpg\" width=\"505\" height=\"365\"></P>\n",
    "<P>では実際に重相関係数を求めてみよう。</P>\n",
    "\n",
    "<h4 style=\"padding: 0.25em 0.5em;color: #494949;background: transparent;border-left: solid 5px #7db4e6;\">課題6.5</h4>\n",
    "\n",
    "[去年の夏（最低気温込み）](https://raw.githubusercontent.com/maskot1977/ipython_notebook/master/toydata/ice_cream3.txt)のデータを用い、最高気温と最低気温から客数を予測する場合の重相関係数を求めてください。\n",
    "\n",
    "* 実測値と重回帰モデルによる予測値の相関係数を「重相関係数」(Multiple correlation coefficient)と呼ぶ。\n",
    "    * sqrt( (__r__<sub>ay</sub><sup>2</sup> + __r__<sub>by</sub><sup>2</sup> - 2 ＊ __r__<sub>ay</sub> ＊ __r__<sub>by</sub> ＊ __r__<sub>ab</sub>) / (1 -  __r__<sub>ab</sub><sup>2</sup>) )"
   ]
  },
  {
   "cell_type": "code",
   "execution_count": 58,
   "metadata": {
    "collapsed": true
   },
   "outputs": [],
   "source": [
    "# a と b から y を予測する場合の重相関係数を求める関数\n",
    "def multiple_correlation(a, b, y):"
   ]
  },
  {
   "cell_type": "code",
   "execution_count": 59,
   "metadata": {
    "collapsed": false
   },
   "outputs": [
    {
     "data": {
      "text/plain": [
       "0.9757108760038422"
      ]
     },
     "execution_count": 59,
     "metadata": {},
     "output_type": "execute_result"
    }
   ],
   "source": [
    "# 最高気温と最低気温から客数を予測する場合の重相関係数を求める"
   ]
  },
  {
   "cell_type": "markdown",
   "metadata": {},
   "source": [
    "<P class=\"photo\"><img src=\"image/aiko-ureshii.jpg\" width=\"152\" height=\"133\"></P>\n",
    "<P class=\"speech\">───重相関係数は、0.976　になったわ。とても強い相関だ。ということは、予測値と実測値が非常に近いということになるわね。</P>"
   ]
  },
  {
   "cell_type": "markdown",
   "metadata": {},
   "source": [
    "<h4 style=\"border-bottom: solid 1px black;\">重回帰モデルのまとめ</h4>\n",
    "<P class=\"photo\"><img src=\"image/senpai-futsu.jpg\" width=\"152\" height=\"127\"></P>\n",
    "<P>そうだね。</P>\n",
    "<P>じゃあ、最後にまとめておこう。</P>\n",
    "<P>最初に<em>偏回帰係数</em>というものを学んだね。</P>\n",
    "<P class=\"photo\"><img src=\"image/jukaiki1.jpg\" width=\"249\" height=\"188\"></P>\n",
    "<P>そして、２つ（以上）の変数から１つの変数を予測する方法として、<em>重回帰モデル</em>を学んだ。</P>\n",
    "<P>これがその一例だ。</P>\n",
    "<p class=\"eq\">客数の予測値　＝　定数m　＋　定数p×最高気温　＋　定数q×最低気温</p>\n",
    "<p>このとき、定数p, q, mは、</p>\n",
    "<p class=\"eq\">定数p　＝　客数と最高気温の偏回帰係数</p>\n",
    "<p class=\"eq\">定数q　＝　客数と最低気温の偏回帰係数</p>\n",
    "<p class=\"eq\">定数m　＝　客数の平均　－　p×最高気温の平均　－　q×最低気温の平均</p>\n",
    "<p>として求められる。</p>\n",
    "<p>そして、最後に、実測値と重回帰モデルによる予測値の相関係数を<em>重相関係数</em>と呼び、次の式で求められることを学んだ。</p>\n",
    "<p class=\"photo\"><img src=\"image/jukaiki6.jpg\" width=\"253\" height=\"183\"></p>\n",
    "<p>これで、偏相関から始まった重回帰モデルまでの旅はおしまいだ。</p>\n",
    "<p>前にも言ったけど、重回帰モデルは説明のための変数が２つ以上の場合もある。しかし、考え方は、今説明した２つの変数の場合を拡張したものだ。</p>\n",
    "<p class=\"photo\"><img src=\"image/aiko-suteki.jpg\" width=\"154\" height=\"130\"></p>\n",
    "<p class=\"speech\">───ありがとうございました。三ヶ島先輩！</p>"
   ]
  },
  {
   "cell_type": "markdown",
   "metadata": {},
   "source": [
    "<h2 STYLE=\"background: #c2edff;padding: 0.5em;\">アイスクリーム統計学 第６章 課題</h2>\n",
    "\n",
    "__課題6.1__、__課題6.3__、__課題6.4__、および __課題6.5__ を解いて、指定のメールアドレスまでメールしてください。メール送信後は、エラーが帰ってきてないことを確認してください（メールアドレスを間違える人がときどき居ます）。\n",
    "* 締切：10月31日（今すぐでなくても結構です）\n",
    "* メールタイトル：「アイスクリーム統計学 第６章」\n",
    "* 学籍番号と氏名を明記すること。\n",
    "* 感想などがあれば書いてくれると嬉しいです。次回以降の講義の改善につながるかも知れません。"
   ]
  },
  {
   "cell_type": "code",
   "execution_count": 1,
   "metadata": {
    "collapsed": true
   },
   "outputs": [],
   "source": [
    "# アイスクリーム統計学 第６章 課題"
   ]
  },
  {
   "cell_type": "markdown",
   "metadata": {},
   "source": [
    "<h2 STYLE=\"background: #c2edff;padding: 0.5em;\">終わったら、<a href=\"IceCreamStatistics07.ipynb\">第７章：相関行列</a> に進んでください。</h2>\n",
    "（2017年10月31日講義、11月3日課題提出締切）"
   ]
  }
 ],
 "metadata": {
  "kernelspec": {
   "display_name": "Python 3",
   "language": "python",
   "name": "python3"
  },
  "language_info": {
   "codemirror_mode": {
    "name": "ipython",
    "version": 3
   },
   "file_extension": ".py",
   "mimetype": "text/x-python",
   "name": "python",
   "nbconvert_exporter": "python",
   "pygments_lexer": "ipython3",
   "version": "3.4.5"
  }
 },
 "nbformat": 4,
 "nbformat_minor": 0
}
