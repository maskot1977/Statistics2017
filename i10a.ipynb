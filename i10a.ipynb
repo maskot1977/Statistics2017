{
 "cells": [
  {
   "cell_type": "markdown",
   "metadata": {},
   "source": [
    "# アイスクリーム統計学 with Python 第10章\n",
    "\n",
    "第１２回講義（2017年11月3日講義、11月7日課題提出締切）\n",
    "\n",
    "このページは、<a href=\"http://kogolab.chillout.jp/elearn/icecream/index.html\" target=\"_blank\">アイスクリーム統計学にようこそ！</a>を終えた学生向けに、復習と補足のために私が追記したものです。"
   ]
  },
  {
   "cell_type": "markdown",
   "metadata": {},
   "source": [
    "<h1 STYLE=\"background: #c2edff;padding: 0.5em;\">第１０章 主成分分析</h1>\n",
    "\n",
    "<a href=\"IceCreamStatistics08.ipynb\">第８章</a>・<a href=\"IceCreamStatistics09.ipynb\">第９章</a> では因子分析の概要を勉強しました。似て非なる手法として「主成分分析」があります。"
   ]
  },
  {
   "cell_type": "markdown",
   "metadata": {},
   "source": [
    "<h2 STYLE=\"background: #c2edff;padding: 0.5em;\">10.1 因子分析と主成分分析の違い</h2>\n",
    "\n",
    "（図は http://www.f.waseda.jp/oshio.at/edu/data_b/top.html から）"
   ]
  },
  {
   "cell_type": "markdown",
   "metadata": {},
   "source": [
    "<h4 style=\"border-bottom: solid 1px black;\">因子分析の目的は「共通因子を見つけること」</h4>\n",
    "\n",
    "<b>X</b><sub>j</sub> = <b>a</b><sub>j1</sub><b>f</b><sub>1</sub> + <b>a</b><sub>j2</sub><b>f</b><sub>2</sub> + <b>e</b><sub>j</sub>\n",
    "* <b>X</b> : 測定された変数（観測変数）\n",
    "* <b>a</b> : 因子負荷\n",
    "* <b>f</b> : 潜在因子（共通因子）\n",
    "* <b>e</b> : 独自因子\n",
    "<img src=\"image/ad_01.jpg\">\n",
    "* 因子は変数を説明する独立変数\n",
    "* 共通因子の影響を除いたら変数間の偏相関が0になるように因子負荷を求める\n",
    "* 誤差は独自因子に含まれ、共通因子に誤差は含まれない\n",
    "* 変数間の相関関係を因子によって説明する\n",
    "* 因子の数を少なくすることが目的ではない。"
   ]
  },
  {
   "cell_type": "markdown",
   "metadata": {},
   "source": [
    "<h4 style=\"border-bottom: solid 1px black;\">主成分分析の目的は「情報を縮約すること」</h4>\n",
    "\n",
    "<b>Z</b><sub>j</sub> = <b>a</b><sub>j1</sub><b>X</b><sub>1</sub> + <b>a</b><sub>j2</sub><b>X</b><sub>2</sub>\n",
    "* <b>Z</b> : 主成分\n",
    "* <b>a</b> : 主成分負荷量\n",
    "* <b>X</b> : 測定された変数（観測変数）\n",
    "\n",
    "<img src=\"image/ad_02.jpg\">\n",
    "* 主成分分析はデータの記述であり、因子分析のような潜在変数を想定したモデルではない。観測変数が共有する情報を合成変数として集約する\n",
    "* 主成分は変数によってその値が決まる従属変数\n",
    "* 主成分の分散が最大になるように変数にかかる重みを求める\n",
    "* 独自因子を考慮せず、誤差を含む観測変数からそのまま主成分を合成するので、主成分にも誤差は含まれる\n",
    "* <b>a</b><sub>j1</sub><sup>2</sup> + <b>a</b><sub>j2</sub><sup>2</sup> = 1\n",
    "* もとの変数群の分散をできるだけ取り込むような合成変数を求める\n",
    "* 主成分をできる限り少なくすることが目的"
   ]
  },
  {
   "cell_type": "markdown",
   "metadata": {},
   "source": [
    "<h2 STYLE=\"background: #c2edff;padding: 0.5em;\">10.2 主成分分析</h2>\n",
    "\n",
    "<h4 style=\"border-bottom: solid 1px black;\">主成分の決め方</h4>\n",
    "\n",
    "(図は https://www.macromill.com/service/data_analysis/d009.html から)\n",
    "\n",
    "<img src=\"image/image_002.gif\">\n",
    "\n",
    "* まず、分散が最大になるように第1主成分を決めます。\n",
    "* 次に、第1主成分とは相関しないという条件下で分散が最大になるように、第2主成分を決めます。\n",
    "* 第3主成分以降も同様。\n",
    "\n",
    "<h4 style=\"border-bottom: solid 1px black;\">主成分分析の解釈</h4>\n",
    "\n",
    "* 第一主成分は総合指標になることが多い\n",
    "* 上位の主成分ほど個体の散らばりをよく表す\n",
    "* 異なる主成分どうしは無相関 (軸が直交)。すなわち、異なる主成分は互いに無関係な意味をもつ。\n",
    "* 主成分はどちらの方向が正か負かを決められないので、主成分の正負と意味づけにおける正負が逆転してもよい。"
   ]
  },
  {
   "cell_type": "markdown",
   "metadata": {},
   "source": [
    "<h2 STYLE=\"background: #c2edff;padding: 0.5em;\">10.3 Pythonで主成分分析</h2>\n",
    "\n",
    "Pythonでは、主成分分析を行うためのライブラリが使えます。\n",
    "\n",
    "<h4 style=\"padding: 0.25em 0.5em;color: #494949;background: transparent;border-left: solid 5px #7db4e6;\">課題10.1</h4>\n",
    "\n",
    "主成分分析を行う以下のコードを実行してください。"
   ]
  },
  {
   "cell_type": "code",
   "execution_count": null,
   "metadata": {
    "collapsed": true
   },
   "outputs": [],
   "source": [
    "# URL によるリソースへのアクセスを提供するライブラリをインポートする。\n",
    "# import urllib # Python 2 の場合\n",
    "import urllib.request # Python 3 の場合"
   ]
  },
  {
   "cell_type": "code",
   "execution_count": null,
   "metadata": {
    "collapsed": true
   },
   "outputs": [],
   "source": [
    "# ウェブ上のリソースを指定する\n",
    "url = 'https://raw.githubusercontent.com/maskot1977/ipython_notebook/master/toydata/icecream_chosa.txt'"
   ]
  },
  {
   "cell_type": "code",
   "execution_count": null,
   "metadata": {
    "collapsed": false
   },
   "outputs": [],
   "source": [
    "# 指定したURLからリソースをダウンロードし、名前をつける。\n",
    "# urllib.urlretrieve(url, 'icecream_chosa.txt') # Python 2 の場合\n",
    "urllib.request.urlretrieve(url, 'icecream_chosa.txt') # Python 3 の場合"
   ]
  },
  {
   "cell_type": "code",
   "execution_count": null,
   "metadata": {
    "collapsed": true
   },
   "outputs": [],
   "source": [
    "import pandas as pd # データフレームワーク処理のライブラリをインポート"
   ]
  },
  {
   "cell_type": "code",
   "execution_count": null,
   "metadata": {
    "collapsed": false
   },
   "outputs": [],
   "source": [
    "df = pd.read_csv('icecream_chosa.txt', sep='\\s+', index_col=0) # スペース区切りで読み込み"
   ]
  },
  {
   "cell_type": "code",
   "execution_count": null,
   "metadata": {
    "collapsed": false
   },
   "outputs": [],
   "source": [
    "df.head() #最初の数レコードだけ確認"
   ]
  },
  {
   "cell_type": "code",
   "execution_count": null,
   "metadata": {
    "collapsed": true
   },
   "outputs": [],
   "source": [
    "df2 = df.iloc[:, 4:] # 指定した行、指定した列だけ抜き出す"
   ]
  },
  {
   "cell_type": "code",
   "execution_count": null,
   "metadata": {
    "collapsed": false
   },
   "outputs": [],
   "source": [
    "df2.head() #最初の数レコードだけ確認"
   ]
  },
  {
   "cell_type": "code",
   "execution_count": null,
   "metadata": {
    "collapsed": true
   },
   "outputs": [],
   "source": [
    "# 行列の正規化を行います。\n",
    "# 一般的には平均 0 、分散 (及び標準偏差) が 1 になるように値を変換することを指します。\n",
    "# axis=1 とすれば、列ではなく行単位で正規化します。\n",
    "df3 = df2.apply(lambda x: (x-x.mean())/x.std(), axis=0)"
   ]
  },
  {
   "cell_type": "code",
   "execution_count": null,
   "metadata": {
    "collapsed": false
   },
   "outputs": [],
   "source": [
    "df3.head() #最初の数レコードだけ確認"
   ]
  },
  {
   "cell_type": "code",
   "execution_count": null,
   "metadata": {
    "collapsed": true
   },
   "outputs": [],
   "source": [
    "# 図やグラフを図示するためのライブラリをインポートする。\n",
    "import matplotlib.pyplot as plt\n",
    "%matplotlib inline"
   ]
  },
  {
   "cell_type": "code",
   "execution_count": null,
   "metadata": {
    "collapsed": true
   },
   "outputs": [],
   "source": [
    "import sklearn #機械学習のライブラリ\n",
    "from sklearn.decomposition import PCA #主成分分析器"
   ]
  },
  {
   "cell_type": "code",
   "execution_count": null,
   "metadata": {
    "collapsed": false
   },
   "outputs": [],
   "source": [
    "#主成分分析の実行\n",
    "pca = PCA()\n",
    "pca.fit(df3)"
   ]
  },
  {
   "cell_type": "code",
   "execution_count": null,
   "metadata": {
    "collapsed": false
   },
   "outputs": [],
   "source": [
    "# 主成分負荷量：上から順に第一主成分、第二主成分、、、\n",
    "pd.DataFrame(pca.components_, columns=df3.columns)"
   ]
  },
  {
   "cell_type": "code",
   "execution_count": null,
   "metadata": {
    "collapsed": false
   },
   "outputs": [],
   "source": [
    "# 主成分負荷量：上から順に第一主成分、第二主成分、、、\n",
    "# 主成分負荷量の表をカラーマップで表して俯瞰してみる\n",
    "import numpy as np\n",
    "fig = plt.figure(figsize=(6, 5))\n",
    "plt.imshow(pca.components_, interpolation='nearest', cmap=plt.cm.coolwarm)\n",
    "plt.colorbar()\n",
    "plt.xticks(np.arange(len(df3.columns)), df3.columns, rotation=90)\n",
    "plt.yticks(np.arange(len(pca.components_)), range(len(pca.components_)))\n",
    "plt.tight_layout()"
   ]
  },
  {
   "cell_type": "code",
   "execution_count": null,
   "metadata": {
    "collapsed": false
   },
   "outputs": [],
   "source": [
    "# 第一主成分と第二主成分でプロットする\n",
    "plt.figure(figsize=(8, 8))\n",
    "for x, y, name in zip(pca.components_.T[:, 0], pca.components_.T[:, 1], df3.columns):\n",
    "    plt.text(x, y, name, alpha=0.8, size=10)\n",
    "plt.scatter(pca.components_.T[:, 0], pca.components_.T[:, 1], alpha=0.8)\n",
    "plt.title(\"PCA Loading Plot\")\n",
    "plt.xlabel(\"Loadings 1\")\n",
    "plt.ylabel(\"Loadings 2\")\n",
    "plt.grid(True)\n",
    "plt.show()"
   ]
  },
  {
   "cell_type": "code",
   "execution_count": null,
   "metadata": {
    "collapsed": false
   },
   "outputs": [],
   "source": [
    "# 主成分得点：データを主成分空間に写像 = 次元圧縮\n",
    "pd.DataFrame(pca.transform(df3))"
   ]
  },
  {
   "cell_type": "code",
   "execution_count": null,
   "metadata": {
    "collapsed": false
   },
   "outputs": [],
   "source": [
    "# 主成分得点をカラーマップで表したもの\n",
    "transformed = pca.transform(df3)\n",
    "fig = plt.figure(figsize=(20, 20))\n",
    "plt.imshow(transformed, interpolation='nearest', cmap=plt.cm.coolwarm)\n",
    "plt.colorbar()\n",
    "plt.xticks(np.arange(len(pca.components_)), range(len(pca.components_)), rotation=90)\n",
    "plt.yticks(np.arange(len(transformed)), range(len(transformed)))\n",
    "plt.tight_layout()"
   ]
  },
  {
   "cell_type": "code",
   "execution_count": null,
   "metadata": {
    "collapsed": false
   },
   "outputs": [],
   "source": [
    "# 第一主成分と第二主成分でプロットする\n",
    "plt.figure(figsize=(10, 10))\n",
    "for x, y, name in zip(transformed[:, 0], transformed[:, 1], df3.index):\n",
    "    plt.text(x, y, name, alpha=0.8, size=15)\n",
    "plt.scatter(transformed[:40, 0], transformed[:40, 1], alpha=0.8, color='red') # 女性は赤色\n",
    "plt.scatter(transformed[40:, 0], transformed[40:, 1], alpha=0.8, color='blue') # 男性は青色\n",
    "plt.title(\"Principal Component Analysis\")\n",
    "plt.xlabel(\"The first principal component score (PC1)\")\n",
    "plt.ylabel(\"The second principal component score (PC2)\")\n",
    "plt.grid()\n",
    "plt.show()"
   ]
  },
  {
   "cell_type": "markdown",
   "metadata": {},
   "source": [
    "<h2 STYLE=\"background: #c2edff;padding: 0.5em;\">アイスクリーム統計学 第１０章 課題</h2>\n",
    "\n",
    "__課題10.1__ を解いて、指定のメールアドレスまでメールしてください。メール送信後は、エラーが帰ってきてないことを確認してください（メールアドレスを間違える人がときどき居ます）。\n",
    "* 締切：11月7日（今すぐでなくても結構です）\n",
    "* メールタイトル：「アイスクリーム統計学 第１０章」\n",
    "* 学籍番号と氏名を明記すること。\n",
    "* 感想などがあれば書いてくれると嬉しいです。次回以降の講義の改善につながるかも知れません。"
   ]
  },
  {
   "cell_type": "code",
   "execution_count": null,
   "metadata": {
    "collapsed": true
   },
   "outputs": [],
   "source": [
    "# アイスクリーム統計学 第１０章 課題"
   ]
  },
  {
   "cell_type": "markdown",
   "metadata": {},
   "source": [
    "<h2 STYLE=\"background: #c2edff;padding: 0.5em;\">終わったら、<a href=\"IceCreamStatistics11.ipynb\">第１１章：線形回帰の復習</a> に進んでください。</h2>\n",
    "（2017年11月3日講義、11月7日課題提出締切）"
   ]
  }
 ],
 "metadata": {
  "kernelspec": {
   "display_name": "Python 3",
   "language": "python",
   "name": "python3"
  },
  "language_info": {
   "codemirror_mode": {
    "name": "ipython",
    "version": 3
   },
   "file_extension": ".py",
   "mimetype": "text/x-python",
   "name": "python",
   "nbconvert_exporter": "python",
   "pygments_lexer": "ipython3",
   "version": "3.4.5"
  }
 },
 "nbformat": 4,
 "nbformat_minor": 0
}
