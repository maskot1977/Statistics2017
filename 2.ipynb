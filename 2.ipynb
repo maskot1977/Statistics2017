{
 "cells": [
  {
   "cell_type": "markdown",
   "metadata": {},
   "source": [
    "<h2 STYLE=\"background: #c2edff;padding: 0.5em;\">生命統計学 期末試験 （本番）</h2>\n",
    "\n",
    "__問題1__から __問題4__ までの全課題を解いて、指定のメールアドレスまでメールしてください。メール送信後は、エラーが帰ってきてないことを確認してください（メールアドレスを間違える人がときどき居ます）。\n",
    "* 締切：18時20分\n",
    "* メールタイトル：「生命統計学 期末試験」\n",
    "* 学籍番号と氏名を明記すること。\n",
    "* 感想などがあれば書いてくれると嬉しいです。今後の講義の改善につながるかも知れません。"
   ]
  },
  {
   "cell_type": "markdown",
   "metadata": {},
   "source": [
    "<h4 style=\"border-bottom: solid 1px black;\">分布について</h4>\n",
    "\n",
    "下の問題を解くにあたって、もし必要なら下記のリンクの中にある分布表を使ってください。\n",
    "* カイ２乗分布表 http://nbviewer.jupyter.org/github/maskot1977/Statistics2017/blob/master/HamburgerStatistics03.ipynb\n",
    "* t分布表 http://nbviewer.jupyter.org/github/maskot1977/Statistics2017/blob/master/HamburgerStatistics04.ipynb\n",
    "* F分布表 http://nbviewer.jupyter.org/github/maskot1977/Statistics2017/blob/master/HamburgerStatistics06.ipynb"
   ]
  },
  {
   "cell_type": "markdown",
   "metadata": {},
   "source": [
    "<h4 style=\"border-bottom: solid 1px black;\">問１</h4>\n",
    "\n",
    "以下の図は、Twitterで行われた２つのアンケートとその結果である。これに関して、以下の問いに答えなさい。"
   ]
  },
  {
   "cell_type": "markdown",
   "metadata": {},
   "source": [
    "<img src=\"Natto.png\">\n",
    "\n",
    "もし上の図が見にくい場合は下のリンクから参照してください\n",
    "\n",
    "https://twitter.com/maskot1977/status/921705356341927938\n",
    "\n",
    "https://twitter.com/maskot1977/status/918996889420230656"
   ]
  },
  {
   "cell_type": "markdown",
   "metadata": {},
   "source": [
    "(1) 上記２つの仮説を検証するためにはどのような統計的検定を行えばよいか、検定法の名前を答えなさい。\n",
    "\n",
    "(2) 上記２つの仮説に対して統計的検定を行ない、その仮説が正しいかどうか検証しなさい。\n",
    "\n",
    "(3) 上記２つの仮説は非常によく似ているが異なる。このような２つのアンケートを行なった意図について説明し、２つのアンケート結果の違いについて検証しなさい。"
   ]
  },
  {
   "cell_type": "markdown",
   "metadata": {},
   "source": [
    "<h4 style=\"border-bottom: solid 1px black;\">問２</h4>\n",
    "\n",
    "以下の図は、バスケットボールをテーマとした３つのマンガ\n",
    "\n",
    "* 「スラムダンク」（1990年 - 1996年）\n",
    "* 「黒子のバスケ」（2009年 - 2014年）\n",
    "* 「ハイキュー！！」（2012年 - 連載中）\n",
    "\n",
    "の主要な登場人物の身長と体重に関するデータである。これに関して、以下の問いに答えなさい。"
   ]
  },
  {
   "cell_type": "markdown",
   "metadata": {},
   "source": [
    "<img src=\"BasketBall.jpg\">"
   ]
  },
  {
   "cell_type": "markdown",
   "metadata": {},
   "source": [
    "(1) これらのマンガを、「２０世紀のマンガ」（スラムダンク）と「２１世紀のマンガ」（黒子のバスケ＋ハイキュー！！）に分類する。このとき、「２０世紀のマンガの登場人物と、２１世紀のマンガの登場人物では体格が異なる」という仮説を立てた。その仮説を検証するためにはどのような統計的検定を行えばよいか、検定法の名前を答えなさい。\n",
    "\n",
    "(2) (1) の仮説について統計的検定を行ない、その仮説が正しいかどうか検証しなさい。"
   ]
  },
  {
   "cell_type": "markdown",
   "metadata": {},
   "source": [
    "<h4 style=\"border-bottom: solid 1px black;\">問３</h4>\n",
    "\n",
    "次のURLにあるテキストファイルは、ある駅に近い賃貸物件に関する情報である。このデータを利用して、以下の問いに答えなさい。\n",
    "\n",
    "https://raw.githubusercontent.com/maskot1977/Statistics2017/master/home.txt\n",
    "\n",
    "(1) 専有面積（m<sup>2</sup>）と家賃（円）の間の相関係数を求めなさい。\n",
    "\n",
    "(2) 専有面積（m<sup>2</sup>）から家賃（円）を予測する単回帰式を構築しなさい。\n",
    "\n",
    "(3) 徒歩（分）の影響を取り除いた専有面積（m<sup>2</sup>）と家賃（円）の間の偏相関係数を求めなさい。\n",
    "\n",
    "(4) 専有面積（m<sup>2</sup>）と徒歩（分）から家賃（円）を予測する重回帰式を構築しなさい。\n",
    "\n",
    "(5) (4) で得られた重回帰式の精度を評価するには何を計算すればよいか。また、実際に計算してみなさい。"
   ]
  },
  {
   "cell_type": "markdown",
   "metadata": {},
   "source": [
    "<h4 style=\"border-bottom: solid 1px black;\">問４</h4>\n",
    "\n",
    "以下の図は、あるテレビ局の報道・情報番組で紹介された統計データである。"
   ]
  },
  {
   "cell_type": "markdown",
   "metadata": {},
   "source": [
    "<img src=\"Okashina.jpg\">"
   ]
  },
  {
   "cell_type": "markdown",
   "metadata": {},
   "source": [
    "この内容に関してツッコミを入れなさい。"
   ]
  },
  {
   "cell_type": "markdown",
   "metadata": {},
   "source": [
    "以上、全４問"
   ]
  },
  {
   "cell_type": "code",
   "execution_count": null,
   "metadata": {
    "collapsed": true
   },
   "outputs": [],
   "source": []
  }
 ],
 "metadata": {
  "kernelspec": {
   "display_name": "Python 3",
   "language": "python",
   "name": "python3"
  },
  "language_info": {
   "codemirror_mode": {
    "name": "ipython",
    "version": 3
   },
   "file_extension": ".py",
   "mimetype": "text/x-python",
   "name": "python",
   "nbconvert_exporter": "python",
   "pygments_lexer": "ipython3",
   "version": "3.4.5"
  }
 },
 "nbformat": 4,
 "nbformat_minor": 2
}
