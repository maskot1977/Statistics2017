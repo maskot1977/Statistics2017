{
 "cells": [
  {
   "cell_type": "markdown",
   "metadata": {},
   "source": [
    "# ハンバーガー統計学 with Python 第9章\n",
    "\n",
    "第６回講義（2017年10月17日講義、10月20日課題提出締切）\n",
    "\n",
    "このページは、<a href=\"http://kogolab.chillout.jp/elearn/hamburger/index.html\" target=\"_blank\">ハンバーガー統計学にようこそ！</a>を終えた学生向けに、復習と補足のために私が追記したものです。"
   ]
  },
  {
   "cell_type": "markdown",
   "metadata": {},
   "source": [
    "<h1 STYLE=\"background: #c2edff;padding: 0.5em;\">第９章 ここまでの復習</h1>\n",
    "\n",
    "今まで、カイ２乗検定、t検定、分散分析などを勉強してきました。これらの手法は広く使われているので、Python含め、多くのプログラミング言語で汎用ライブラリがあります。計算方法やその意味は既に会得したことと思いますので、今後はこれらのライブラリを使ってみましょう。"
   ]
  },
  {
   "cell_type": "markdown",
   "metadata": {},
   "source": [
    "<h2 STYLE=\"background: #c2edff;padding: 0.5em;\">9.1 カイ２乗検定</h2>\n",
    "\n",
    "<a href=\"HamburgerStatistics03.ipynb\">第３章</a>の復習です。\n",
    "\n",
    "カイ２乗検定は、観測データの分布が理論値の分布に従うかどうかを検定するときにも用いる手法です。\n",
    "\n",
    "サイコロを60回ふり、各目が出た回数を数えたところ、次のようになりました。\n",
    "\n",
    "<table border=1>\n",
    "<tr><td>サイコロの目</td>\n",
    "<td>１</td><td>２</td><td>３</td><td>４</td><td>５</td><td>６</td></tr>\n",
    "<tr><td>出現回数</td>\n",
    "<td>17</td><td>10</td><td>6</td><td>7</td><td>15</td><td>5</td></tr>\n",
    "</table>\n",
    "\n",
    "このとき、理論値の分布に従うかどうかを検定してみましょう。"
   ]
  },
  {
   "cell_type": "code",
   "execution_count": 1,
   "metadata": {
    "collapsed": false
   },
   "outputs": [
    {
     "name": "stdout",
     "output_type": "stream",
     "text": [
      "chi2 値は 12.4\n",
      "確率は 0.0296994592035\n",
      "有意水準 0.05 で、有意な差があります\n"
     ]
    }
   ],
   "source": [
    "from scipy import stats\n",
    "\n",
    "significance = 0.05 # 有意水準\n",
    "o = [17, 10, 6, 7, 15, 5] # 実測値（観測度数）\n",
    "e = [10, 10, 10, 10, 10, 10] # 理論値（期待度数）\n",
    "\n",
    "chi2, p = stats.chisquare(o, f_exp = e)\n",
    "\n",
    "print( \"chi2 値は %(chi2)s\" %locals() )\n",
    "print( \"確率は %(p)s\" %locals() )\n",
    "\n",
    "if p < significance:\n",
    "    print(\"有意水準 %(significance)s で、有意な差があります\" %locals())\n",
    "else:\n",
    "    print(\"有意水準 %(significance)s で、有意な差がありません\" %locals())"
   ]
  },
  {
   "cell_type": "markdown",
   "metadata": {},
   "source": [
    "<h4 style=\"border-bottom: solid 1px black;\">２次元配列（行列）の場合のカイ２乗検定</h4>\n",
    "\n",
    "２次元配列（行列）の例として、第３章で用いた表でカイ２乗検定してみましょう。\n",
    "\n",
    "<TABLE BORDER=\"1\" BGCOLOR=\"#FFFFFF\" cellpadding=\"0\" cellspacing=\"0\">\n",
    "  <TR> \n",
    "    <th WIDTH=\"100\" HEIGHT=\"30\" BGCOLOR=\"#CCCC99\"> お店 </th>\n",
    "    <th WIDTH=\"81\" HEIGHT=\"30\" BGCOLOR=\"#FFFFCC\"> ポテト </th>\n",
    "    <th WIDTH=\"100\" HEIGHT=\"30\" BGCOLOR=\"#FFCCCC\"> チキン </th>\n",
    "    <th WIDTH=\"100\" HEIGHT=\"30\" BGCOLOR=\"#CCCCCC\"> 合計 </th>\n",
    "  </TR>\n",
    "  <TR align=\"center\"> \n",
    "    <TD WIDTH=\"100\" HEIGHT=\"30\" BGCOLOR=\"#CCCC99\"> ワクワク </TD>\n",
    "    <TD WIDTH=\"100\" HEIGHT=\"30\" BGCOLOR=\"#FFFFFF\"> 435</TD>\n",
    "    <TD WIDTH=\"100\" HEIGHT=\"30\" BGCOLOR=\"#FFFFFF\"> 165</TD>\n",
    "    <TD WIDTH=\"100\" HEIGHT=\"30\" BGCOLOR=\"#CCCCCC\"> 600</TD>\n",
    "  </TR>\n",
    "  <TR align=\"center\"> \n",
    "    <TD WIDTH=\"119\" HEIGHT=\"30\" BGCOLOR=\"#CCCC99\"> モグモグ </TD>\n",
    "    <TD WIDTH=\"81\" HEIGHT=\"30\" BGCOLOR=\"#FFFFFF\"> 265</TD>\n",
    "    <TD WIDTH=\"100\" HEIGHT=\"30\" BGCOLOR=\"#FFFFFF\"> 135</TD>\n",
    "    <TD WIDTH=\"100\" HEIGHT=\"30\" BGCOLOR=\"#CCCCCC\"> 400</TD>\n",
    "  </TR>\n",
    "</TABLE>\n",
    "\n",
    "２次元配列（行列）の場合のカイ２乗検定は、下記のようにちょっとした工夫が必要になります。"
   ]
  },
  {
   "cell_type": "code",
   "execution_count": 2,
   "metadata": {
    "collapsed": false
   },
   "outputs": [
    {
     "name": "stdout",
     "output_type": "stream",
     "text": [
      "chi2 値は 4.46428571429\n",
      "p 値は 0.107298258771\n",
      "有意水準 0.05 で、有意な差がありません\n"
     ]
    }
   ],
   "source": [
    "from scipy import stats\n",
    "\n",
    "significance = 0.05 # 有意水準\n",
    "observed = [[435, 165], [265, 135]] # 実測値（観測度数）\n",
    "expected = stats.contingency.expected_freq(observed) # 理論値（期待度数）\n",
    "o = [item for sublist in observed for item in sublist] # 平滑化した実測値（観測度数）\n",
    "e = [item for sublist in expected for item in sublist] # 平滑化した理論値（期待度数）\n",
    "dof = (len(observed) - 1) * (len(observed[0]) - 1) # 自由度\n",
    "\n",
    "chi2, p = stats.chisquare(o, f_exp = e, ddof = dof)\n",
    "\n",
    "print( \"chi2 値は %(chi2)s\" %locals() )\n",
    "print( \"p 値は %(p)s\" %locals() )\n",
    "\n",
    "if p < significance:\n",
    "    print(\"有意水準 %(significance)s で、有意な差があります\" %locals())\n",
    "else:\n",
    "    print(\"有意水準 %(significance)s で、有意な差がありません\" %locals())"
   ]
  },
  {
   "cell_type": "markdown",
   "metadata": {},
   "source": [
    "<h4 style=\"padding: 0.25em 0.5em;color: #494949;background: transparent;border-left: solid 5px #7db4e6;\">課題9.1</h4>\n",
    "\n",
    "ある野菜をＡ方式で育てたものとＢ方式で育てたものの出荷時の等級が次の表のようになったとき，これらの育て方と製品の等級には関連があると見るべきかどうか検定しなさい。\n",
    "\n",
    "<table border=\"1\" bgcolor=\"#FFFFFF\" cellpadding=\"0\" cellspacing=\"0\" align=\"center\">\n",
    "  <tr> \n",
    "    <th width=\"100\" height=\"30\" bgcolor=\"#CCCC99\"> 栽培方法 </th>\n",
    "    <th width=\"100\" height=\"30\" bgcolor=\"#FFFFCC\"> 優 </th>\n",
    "    <th width=\"100\" height=\"30\" bgcolor=\"#FFCCCC\"> 良 </th>\n",
    "    <th width=\"100\" height=\"30\" bgcolor=\"#99FFCC\"> 可 </th>\n",
    "    <th width=\"100\" height=\"30\" bgcolor=\"#CCCCCC\">合計</th>\n",
    "  </tr>\n",
    "  <tr align=\"center\"> \n",
    "    <td width=\"100\" height=\"30\" bgcolor=\"#CCCC99\"> Ａ方式 </td>\n",
    "    <td width=\"100\" height=\"30\">435</td>\n",
    "    <td width=\"100\" height=\"30\">165</td>\n",
    "    <td width=\"100\" height=\"30\">650</td>\n",
    "    <td width=\"100\" height=\"30\" bgcolor=\"#CCCCCC\">1250</td>\n",
    "  </tr>\n",
    "  <tr align=\"center\"> \n",
    "    <td width=\"100\" height=\"30\" bgcolor=\"#CCCC99\"> Ｂ方式 </td>\n",
    "    <td width=\"100\" height=\"30\">265</td>\n",
    "    <td width=\"100\" height=\"30\">135</td>\n",
    "    <td width=\"100\" height=\"30\">350</td>\n",
    "    <td width=\"100\" height=\"30\" bgcolor=\"#CCCCCC\">750</td>\n",
    "  </tr>\n",
    "  <tr align=\"center\" bgcolor=\"#CCCCCC\"> \n",
    "    <td width=\"119\" height=\"30\">合計</td>\n",
    "    <td width=\"81\" height=\"30\">700</td>\n",
    "    <td width=\"100\" height=\"30\">300</td>\n",
    "    <td width=\"100\" height=\"30\">1000</td>\n",
    "    <td width=\"100\" height=\"30\">2000</td>\n",
    "  </tr>\n",
    "</table>"
   ]
  },
  {
   "cell_type": "code",
   "execution_count": 3,
   "metadata": {
    "collapsed": false
   },
   "outputs": [
    {
     "name": "stdout",
     "output_type": "stream",
     "text": [
      "chi2 値は 9.90476190476\n",
      "p 値は 0.0193932860268\n",
      "有意水準 0.05 で、有意な差があります\n"
     ]
    }
   ],
   "source": [
    "# 課題9.1\n",
    "from scipy import stats\n",
    "\n",
    "significance = 0.05 # 有意水準\n",
    "observed = [[435, 165, 650], [265, 135, 350]] # 実測値（観測度数）\n",
    "expected = stats.contingency.expected_freq(observed) # 理論値（期待度数）\n",
    "o = [item for sublist in observed for item in sublist] # 平滑化した実測値（観測度数）\n",
    "e = [item for sublist in expected for item in sublist] # 平滑化した理論値（期待度数）\n",
    "dof = (len(observed) - 1) * (len(observed[0]) - 1) # 自由度\n",
    "\n",
    "chi2, p = stats.chisquare(o, f_exp = e, ddof = dof)\n",
    "\n",
    "print( \"chi2 値は %(chi2)s\" %locals() )\n",
    "print( \"p 値は %(p)s\" %locals() )\n",
    "\n",
    "if p < significance:\n",
    "    print(\"有意水準 %(significance)s で、有意な差があります\" %locals())\n",
    "else:\n",
    "    print(\"有意水準 %(significance)s で、有意な差がありません\" %locals())"
   ]
  },
  {
   "cell_type": "code",
   "execution_count": 4,
   "metadata": {
    "collapsed": true
   },
   "outputs": [],
   "source": [
    "# 有意水準 5% において、異なる育て方により等級が異なるという結果が得られた。\n",
    "# すなわち、これらの育て方と製品の等級にはある程度関連があると見るべきである。\n",
    "# （ただし、有意水準 1% においては有意な差ではない）"
   ]
  },
  {
   "cell_type": "markdown",
   "metadata": {
    "collapsed": true
   },
   "source": [
    "<h2 STYLE=\"background: #c2edff;padding: 0.5em;\">9.2 t検定</h2>"
   ]
  },
  {
   "cell_type": "markdown",
   "metadata": {},
   "source": [
    "<a href=\"HamburgerStatistics04.ipynb\">第４章</a>と<a href=\"HamburgerStatistics05.ipynb\">第５章</a>の復習です。t検定も同様に、Pythonで使えるライブラリがあります。\n",
    "\n",
    "<h4 style=\"border-bottom: solid 1px black;\">対応のない t検定</h4>"
   ]
  },
  {
   "cell_type": "code",
   "execution_count": 5,
   "metadata": {
    "collapsed": false
   },
   "outputs": [
    {
     "name": "stdout",
     "output_type": "stream",
     "text": [
      "t 値は -3.21404314682\n",
      "確率は 0.0062436950143\n",
      "有意水準 0.05 で、有意な差があります\n"
     ]
    }
   ],
   "source": [
    "# 対応のないt検定\n",
    "import numpy as np\n",
    "import scipy as sp\n",
    "from scipy import stats\n",
    "\n",
    "significance = 0.05\n",
    "X = [68, 75, 80, 71, 73, 79, 69, 65]\n",
    "Y = [86, 83, 76, 81, 75, 82, 87, 75]\n",
    "\n",
    "t, p = stats.ttest_ind(X, Y)\n",
    "\n",
    "print( \"t 値は %(t)s\" %locals() )\n",
    "print( \"確率は %(p)s\" %locals() )\n",
    "\n",
    "if p < significance:\n",
    "    print(\"有意水準 %(significance)s で、有意な差があります\" %locals())\n",
    "else:\n",
    "    print(\"有意水準 %(significance)s で、有意な差がありません\" %locals())"
   ]
  },
  {
   "cell_type": "markdown",
   "metadata": {},
   "source": [
    "<h4 style=\"padding: 0.25em 0.5em;color: #494949;background: transparent;border-left: solid 5px #7db4e6;\">課題9.2</h4>\n",
    "\n",
    "<a href=\"HamburgerStatistics04.ipynb\">第４章</a>の復習。ある野菜をＡ方式で育てたものとＢ方式で育てたものについて、ある栄養素の含有量は下表のようであった。これらの育て方と含有量には関連があると見るべきかどうか検定しなさい。\n",
    "\n",
    "<table border=\"1\" bgcolor=\"#FFFFFF\" cellpadding=\"0\" cellspacing=\"0\" align=\"center\">\n",
    "  <tr align=\"center\"> \n",
    "    <th width=\"120\" height=\"30\" bgcolor=\"#ffffcc\"> A方式 </th>\n",
    "    <th width=\"120\" height=\"30\" bgcolor=\"#ffffcc\"> 含有量 </th>\n",
    "    <th width=\"120\" height=\"30\" bgcolor=\"#ffcccc\"> B方式 </th>\n",
    "    <th width=\"120\" height=\"30\" bgcolor=\"#ffcccc\"> 含有量 </th>\n",
    "  </tr>\n",
    "  <tr align=\"center\"> \n",
    "    <td width=\"120\" height=\"30\" bgcolor=\"#cccccc\"> 1</td>\n",
    "    <td width=\"120\" height=\"30\"> 70</td>\n",
    "    <td width=\"120\" height=\"30\" bgcolor=\"#cccccc\"> 1</td>\n",
    "    <td width=\"120\" height=\"30\"> 85</td>\n",
    "  </tr>\n",
    "  <tr align=\"center\"> \n",
    "    <td width=\"120\" height=\"30\" bgcolor=\"#cccccc\">2</td>\n",
    "    <td width=\"120\" height=\"30\">75</td>\n",
    "    <td width=\"120\" height=\"30\" bgcolor=\"#cccccc\">2</td>\n",
    "    <td width=\"120\" height=\"30\">80</td>\n",
    "  </tr>\n",
    "  <tr align=\"center\"> \n",
    "    <td width=\"120\" height=\"30\" bgcolor=\"#cccccc\">3</td>\n",
    "    <td width=\"120\" height=\"30\">70</td>\n",
    "    <td width=\"120\" height=\"30\" bgcolor=\"#cccccc\">3</td>\n",
    "    <td width=\"120\" height=\"30\">95</td>\n",
    "  </tr>\n",
    "  <tr align=\"center\"> \n",
    "    <td width=\"120\" height=\"30\" bgcolor=\"#cccccc\">4</td>\n",
    "    <td width=\"120\" height=\"30\">85</td>\n",
    "    <td width=\"120\" height=\"30\" bgcolor=\"#cccccc\">4</td>\n",
    "    <td width=\"120\" height=\"30\">70</td>\n",
    "  </tr>\n",
    "  <tr align=\"center\"> \n",
    "    <td width=\"120\" height=\"30\" bgcolor=\"#cccccc\">5</td>\n",
    "    <td width=\"120\" height=\"30\">90</td>\n",
    "    <td width=\"120\" height=\"30\" bgcolor=\"#cccccc\">5</td>\n",
    "    <td width=\"120\" height=\"30\">80</td>\n",
    "  </tr>\n",
    "  <tr align=\"center\"> \n",
    "    <td width=\"120\" height=\"30\" bgcolor=\"#cccccc\">6</td>\n",
    "    <td width=\"120\" height=\"30\">70</td>\n",
    "    <td width=\"120\" height=\"30\" bgcolor=\"#cccccc\">6</td>\n",
    "    <td width=\"120\" height=\"30\">75</td>\n",
    "  </tr>\n",
    "  <tr align=\"center\"> \n",
    "    <td width=\"120\" height=\"30\" bgcolor=\"#cccccc\">7</td>\n",
    "    <td width=\"120\" height=\"30\">80</td>\n",
    "    <td width=\"120\" height=\"30\" bgcolor=\"#cccccc\">7</td>\n",
    "    <td width=\"120\" height=\"30\">80</td>\n",
    "  </tr>\n",
    "  <tr align=\"center\"> \n",
    "    <td width=\"120\" height=\"30\" bgcolor=\"#cccccc\">8</td>\n",
    "    <td width=\"120\" height=\"30\">75</td>\n",
    "    <td width=\"120\" height=\"30\" bgcolor=\"#cccccc\">8</td>\n",
    "    <td width=\"120\" height=\"30\">90</td>\n",
    "  </tr>\n",
    "</table>"
   ]
  },
  {
   "cell_type": "code",
   "execution_count": 6,
   "metadata": {
    "collapsed": true
   },
   "outputs": [],
   "source": [
    "X = [70, 75, 70, 85, 90, 70, 80, 75]\n",
    "Y = [85, 80, 95, 70, 80, 75, 80, 90] "
   ]
  },
  {
   "cell_type": "code",
   "execution_count": 7,
   "metadata": {
    "collapsed": false
   },
   "outputs": [
    {
     "name": "stdout",
     "output_type": "stream",
     "text": [
      "t 値は -1.28812237744\n",
      "確率は 0.218587022202\n",
      "有意水準 0.05 で、有意な差がありません\n"
     ]
    }
   ],
   "source": [
    "# 課題9.2\n",
    "t, p = stats.ttest_ind(X, Y)\n",
    "\n",
    "print( \"t 値は %(t)s\" %locals() )\n",
    "print( \"確率は %(p)s\" %locals() )\n",
    "\n",
    "if p < significance:\n",
    "    print(\"有意水準 %(significance)s で、有意な差があります\" %locals())\n",
    "else:\n",
    "    print(\"有意水準 %(significance)s で、有意な差がありません\" %locals())"
   ]
  },
  {
   "cell_type": "code",
   "execution_count": 8,
   "metadata": {
    "collapsed": true
   },
   "outputs": [],
   "source": [
    "# これらの育て方と含有量には関連があるとは言えない。"
   ]
  },
  {
   "cell_type": "markdown",
   "metadata": {},
   "source": [
    "<h4 style=\"border-bottom: solid 1px black;\">対応のある t検定</h4>"
   ]
  },
  {
   "cell_type": "code",
   "execution_count": 9,
   "metadata": {
    "collapsed": false
   },
   "outputs": [
    {
     "name": "stdout",
     "output_type": "stream",
     "text": [
      "t 値は -2.99232037543\n",
      "確率は 0.0201600161737\n",
      "有意水準 0.05 で、有意な差があります\n"
     ]
    }
   ],
   "source": [
    "# 対応のあるt検定\n",
    "import numpy as np\n",
    "import scipy as sp\n",
    "from scipy import stats\n",
    "\n",
    "significance = 0.05\n",
    "X = [68, 75, 80, 71, 73, 79, 69, 65]\n",
    "Y = [86, 83, 76, 81, 75, 82, 87, 75]\n",
    "\n",
    "t, p = stats.ttest_rel(X, Y)\n",
    "\n",
    "print( \"t 値は %(t)s\" %locals() )\n",
    "print( \"確率は %(p)s\" %locals() )\n",
    "\n",
    "if p < significance:\n",
    "    print(\"有意水準 %(significance)s で、有意な差があります\" %locals())\n",
    "else:\n",
    "    print(\"有意水準 %(significance)s で、有意な差がありません\" %locals())"
   ]
  },
  {
   "cell_type": "markdown",
   "metadata": {},
   "source": [
    "<h4 style=\"padding: 0.25em 0.5em;color: #494949;background: transparent;border-left: solid 5px #7db4e6;\">課題9.3</h4>\n",
    "\n",
    "<a href=\"HamburgerStatistics05.ipynb\">第５章</a>の復習。マウス８匹に対し行動テストを行なって点数を得た後、ある学習を施し、再び行動テストを行なった。その結果が下表である。その学習に効果があったかどうか検定しなさい。\n",
    "\n",
    "<table border=\"1\" bgcolor=\"#FFFFFF\" cellpadding=\"0\" cellspacing=\"0\" align=\"center\">\n",
    "  <tr align=\"center\"> \n",
    "    <th width=\"120\" height=\"30\" bgcolor=\"#ffffcc\"> マウス </th>\n",
    "    <th width=\"120\" height=\"30\" bgcolor=\"#ffffcc\"> 学習前の点数 </th>\n",
    "    <th width=\"120\" height=\"30\" bgcolor=\"#ffcccc\"> 学習後の点数 </th>\n",
    "  </tr>\n",
    "  <tr align=\"center\"> \n",
    "    <td width=\"120\" height=\"30\" bgcolor=\"#cccccc\"> 1</td>\n",
    "    <td width=\"120\" height=\"30\"> 90</td>\n",
    "    <td width=\"120\" height=\"30\"> 95</td>\n",
    "  </tr>\n",
    "  <tr align=\"center\"> \n",
    "    <td width=\"120\" height=\"30\" bgcolor=\"#cccccc\">2</td>\n",
    "    <td width=\"120\" height=\"30\">75</td>\n",
    "    <td width=\"120\" height=\"30\">80</td>\n",
    "  </tr>\n",
    "  <tr align=\"center\"> \n",
    "    <td width=\"120\" height=\"30\" bgcolor=\"#cccccc\">3</td>\n",
    "    <td width=\"120\" height=\"30\">75</td>\n",
    "    <td width=\"120\" height=\"30\">80</td>\n",
    "  </tr>\n",
    "  <tr align=\"center\"> \n",
    "    <td width=\"120\" height=\"30\" bgcolor=\"#cccccc\">4</td>\n",
    "    <td width=\"120\" height=\"30\">75</td>\n",
    "    <td width=\"120\" height=\"30\">80</td>\n",
    "  </tr>\n",
    "  <tr align=\"center\"> \n",
    "    <td width=\"120\" height=\"30\" bgcolor=\"#cccccc\">5</td>\n",
    "    <td width=\"120\" height=\"30\">80</td>\n",
    "    <td width=\"120\" height=\"30\">75</td>\n",
    "  </tr>\n",
    "  <tr align=\"center\"> \n",
    "    <td width=\"120\" height=\"30\" bgcolor=\"#cccccc\">6</td>\n",
    "    <td width=\"120\" height=\"30\">65</td>\n",
    "    <td width=\"120\" height=\"30\">75</td>\n",
    "  </tr>\n",
    "  <tr align=\"center\"> \n",
    "    <td width=\"120\" height=\"30\" bgcolor=\"#cccccc\">7</td>\n",
    "    <td width=\"120\" height=\"30\">75</td>\n",
    "    <td width=\"120\" height=\"30\">80</td>\n",
    "  </tr>\n",
    "  <tr align=\"center\"> \n",
    "    <td width=\"120\" height=\"30\" bgcolor=\"#cccccc\">8</td>\n",
    "    <td width=\"120\" height=\"30\">80</td>\n",
    "    <td width=\"120\" height=\"30\">85</td>\n",
    "  </tr>\n",
    "</table>"
   ]
  },
  {
   "cell_type": "code",
   "execution_count": 10,
   "metadata": {
    "collapsed": true
   },
   "outputs": [],
   "source": [
    "X = [90, 75, 75, 75, 80, 65, 75, 80]\n",
    "Y = [95, 80, 80, 80, 75, 75, 80, 85]"
   ]
  },
  {
   "cell_type": "code",
   "execution_count": 11,
   "metadata": {
    "collapsed": false
   },
   "outputs": [
    {
     "name": "stdout",
     "output_type": "stream",
     "text": [
      "t 値は -2.96561491008\n",
      "確率は 0.0209375702069\n",
      "有意水準 0.05 で、有意な差があります\n"
     ]
    }
   ],
   "source": [
    "# 課題9.3\n",
    "t, p = stats.ttest_rel(X, Y)\n",
    "\n",
    "print( \"t 値は %(t)s\" %locals() )\n",
    "print( \"確率は %(p)s\" %locals() )\n",
    "\n",
    "if p < significance:\n",
    "    print(\"有意水準 %(significance)s で、有意な差があります\" %locals())\n",
    "else:\n",
    "    print(\"有意水準 %(significance)s で、有意な差がありません\" %locals())"
   ]
  },
  {
   "cell_type": "code",
   "execution_count": 12,
   "metadata": {
    "collapsed": true
   },
   "outputs": [],
   "source": [
    "def average(list):\n",
    "    sum = 0\n",
    "    for x in list:\n",
    "        sum += x\n",
    "    return sum / len(list)"
   ]
  },
  {
   "cell_type": "code",
   "execution_count": 13,
   "metadata": {
    "collapsed": false
   },
   "outputs": [
    {
     "name": "stdout",
     "output_type": "stream",
     "text": [
      "76.875 81.25\n"
     ]
    }
   ],
   "source": [
    "print(average(X), average(Y))"
   ]
  },
  {
   "cell_type": "code",
   "execution_count": 14,
   "metadata": {
    "collapsed": true
   },
   "outputs": [],
   "source": [
    "# 学習前の行動テストの点数の平均値よりも、学習後の行動テストの点数の平均値が高く、\n",
    "# その差は 有意水準 5% において有意な差がある（有意水準 1% においては差がない）ことが分かった。\n",
    "# すなわち、その学習にはある程度の効果があったと見なせるかも知れない。\n",
    "# ただし、どのような行動テストだったかという詳しい内容が分からないので、\n",
    "# その学習を施した効果なのか、その行動テストが２度目だったからなのかについては何とも言えない。"
   ]
  },
  {
   "cell_type": "markdown",
   "metadata": {},
   "source": [
    "<h2 STYLE=\"background: #c2edff;padding: 0.5em;\">9.3 分散分析</h2>\n",
    "\n",
    "<a href=\"HamburgerStatistics06.ipynb\">第６章</a>と<a href=\"HamburgerStatistics07.ipynb\">第７章</a>の復習です。分散分析も同様に、Pythonで使えるライブラリがあります。\n",
    "\n",
    "<h4 style=\"border-bottom: solid 1px black;\">１要因の分散分析</h4>"
   ]
  },
  {
   "cell_type": "code",
   "execution_count": 15,
   "metadata": {
    "collapsed": false
   },
   "outputs": [
    {
     "name": "stdout",
     "output_type": "stream",
     "text": [
      "f 値は 0.0986151666715\n",
      "確率は 0.906416171656\n",
      "有意水準 0.05 で、有意な差がありません\n"
     ]
    }
   ],
   "source": [
    "# 1要因の分散分析\n",
    "import numpy as np\n",
    "import scipy as sp\n",
    "from scipy import stats\n",
    "\n",
    "significance = 0.05\n",
    "a = [34, 39, 50, 72, 54, 50, 58, 64, 55, 62]\n",
    "b = [63, 75, 50, 54, 66, 31, 39, 45, 48, 60]\n",
    "c = [49, 36, 46, 56, 52, 46, 52, 68, 49, 62]\n",
    "f, p = stats.f_oneway(a, b, c)\n",
    "\n",
    "print( \"f 値は %(f)s\" %locals() )\n",
    "print( \"確率は %(p)s\" %locals() )\n",
    "\n",
    "if p < significance:\n",
    "    print(\"有意水準 %(significance)s で、有意な差があります\" %locals())\n",
    "else:\n",
    "    print(\"有意水準 %(significance)s で、有意な差がありません\" %locals())"
   ]
  },
  {
   "cell_type": "markdown",
   "metadata": {},
   "source": [
    "<h4 style=\"padding: 0.25em 0.5em;color: #494949;background: transparent;border-left: solid 5px #7db4e6;\">課題9.4</h4>\n",
    "\n",
    "<a href=\"HamburgerStatistics06.ipynb\">第６章</a>の復習です。ある野菜をＡ方式で育てたもの、Ｂ方式で育てたもの、C方式で育てたものについて、ある栄養素の含有量は下のようであった。これらの育て方と含有量には関連があると見るべきかどうか検定しなさい。"
   ]
  },
  {
   "cell_type": "code",
   "execution_count": 16,
   "metadata": {
    "collapsed": true
   },
   "outputs": [],
   "source": [
    "a = [80, 75, 80, 90, 95, 80, 80, 85, 85, 80, 90, 80, 75, 90, 85, 85, 90, 90, 85, 80]\n",
    "b = [75, 70, 80, 85, 90, 75, 85, 80, 80, 75, 80, 75, 70, 85, 80, 75, 80, 80, 90, 80]\n",
    "c = [80, 80, 80, 90, 95, 85, 95, 90, 85, 90, 95, 85, 98, 95, 85, 85, 90, 90, 85, 85]"
   ]
  },
  {
   "cell_type": "code",
   "execution_count": 17,
   "metadata": {
    "collapsed": false
   },
   "outputs": [
    {
     "name": "stdout",
     "output_type": "stream",
     "text": [
      "f 値は 12.2231101945\n",
      "確率は 3.82482645839e-05\n",
      "有意水準 0.05 で、有意な差があります\n"
     ]
    }
   ],
   "source": [
    "# 課題9.4\n",
    "f, p = stats.f_oneway(a, b, c)\n",
    "\n",
    "print( \"f 値は %(f)s\" %locals() )\n",
    "print( \"確率は %(p)s\" %locals() )\n",
    "\n",
    "if p < significance:\n",
    "    print(\"有意水準 %(significance)s で、有意な差があります\" %locals())\n",
    "else:\n",
    "    print(\"有意水準 %(significance)s で、有意な差がありません\" %locals())"
   ]
  },
  {
   "cell_type": "code",
   "execution_count": 18,
   "metadata": {
    "collapsed": true
   },
   "outputs": [],
   "source": [
    "# 少なくともどれか１つの育て方は含有量に影響するらしい。"
   ]
  },
  {
   "cell_type": "markdown",
   "metadata": {},
   "source": [
    "<h4 style=\"border-bottom: solid 1px black;\">２要因の分散分析</h4>\n",
    "\n",
    "２要因の分散分析については、Pythonで汎用ライブラリがないようですので私が自作してみました（ひょっとしたらバグがあるかも知れません）。以下のコードを、もし読んで理解できそうなら読んでみてください。理解できそうでなければ、今はとりあえず、ただ単にコピペして実行すれば結構です。"
   ]
  },
  {
   "cell_type": "code",
   "execution_count": 19,
   "metadata": {
    "collapsed": true
   },
   "outputs": [],
   "source": [
    "import numpy as np\n",
    "#２要因２水準の分散分析で要因A、要因B、交互作用のF値を計算する関数\n",
    "def stats_f_twoway(a1b1, a1b2, a2b1, a2b2):\n",
    "    ave11 = np.average(a1b1) # a1b1群の平均\n",
    "    ave12 = np.average(a1b2) # a1b2群の平均\n",
    "    ave21 = np.average(a2b1) # a2b1群の平均\n",
    "    ave22 = np.average(a2b2) # a2b2群の平均\n",
    "    \n",
    "    avea1 = np.average(a1b1 + a1b2) # 水準a1の平均\n",
    "    avea2 = np.average(a2b1 + a2b2) # 水準a2の平均\n",
    "    aveb1 = np.average(a1b1 + a2b1) # 水準b1の平均\n",
    "    aveb2 = np.average(a1b2 + a2b2) # 水準b2の平均\n",
    "    \n",
    "    ave = np.average(a1b1 + a1b2 + a2b1 + a2b2) # 全体の平均\n",
    "    \n",
    "    #要因Aによる残差（偏差平方和）\n",
    "    zure1 = np.power((avea1 - ave), 2) * len(a1b1 + a1b2) + \\\n",
    "            np.power((avea2 - ave), 2) * len(a2b1 + a2b2)\n",
    "        \n",
    "    #要因Bによる残差（偏差平方和）\n",
    "    zure2 = np.power((aveb1 - ave), 2) * len(a1b1 + a2b1) + \\\n",
    "            np.power((aveb2 - ave), 2) * len(a1b2 + a2b2)\n",
    "    \n",
    "    # 各群の平均の残差（偏差平方和）\n",
    "    zure3 = np.power((ave11 - ave), 2) * len(a1b1) + \\\n",
    "            np.power((ave12 - ave), 2) * len(a1b2) + \\\n",
    "            np.power((ave21 - ave), 2) * len(a2b1) + \\\n",
    "            np.power((ave22 - ave), 2) * len(a2b2)\n",
    "    \n",
    "    # 交互作用による残差（偏差平方和）\n",
    "    zure4 = zure3 - zure1 - zure2\n",
    "    \n",
    "    # 残りの残差（偏差平方和）\n",
    "    zure5 = np.var(a1b1) * len(a1b1) + \\\n",
    "            np.var(a1b2) * len(a1b2) + \\\n",
    "            np.var(a2b1) * len(a2b1) + \\\n",
    "            np.var(a2b2) * len(a2b2)\n",
    "    \n",
    "    freedoma = 1 # 要因Aの自由度\n",
    "    freedomb = 1 # 要因Bの自由度 \n",
    "    freedomx = freedoma * freedomb # 交互作用の自由度\n",
    "    freedom = len(a1b1 + a1b2 + a2b1 + a2b2) - 1 # 全体の自由度\n",
    "    freedomz = freedom - freedoma - freedomb - freedomx # 残差の自由度\n",
    "    \n",
    "    mean_square_a = zure1 / freedoma # 要因Aの平均平方\n",
    "    mean_square_b = zure2 / freedomb # 要因Bの平均平方\n",
    "    mean_square_x = zure4 / freedomx # 交互作用の平均平方\n",
    "    mean_square_z = zure5 / freedomz # 残差の平均平方\n",
    "    \n",
    "    f_a = mean_square_a / mean_square_z # 要因AのF値\n",
    "    f_b = mean_square_b / mean_square_z # 要因BのF値\n",
    "    f_x = mean_square_x / mean_square_z # 交互作用のF値\n",
    "        \n",
    "    return f_a, f_b, f_x, freedoma, freedomb, freedomx, freedomz"
   ]
  },
  {
   "cell_type": "code",
   "execution_count": 20,
   "metadata": {
    "collapsed": true
   },
   "outputs": [],
   "source": [
    "import numpy as np\n",
    "# F分布に従うランダム分布を作り、それに基づいて棄却域の境目を返す\n",
    "# dfnum : 群間の自由度\n",
    "# dfden : 群内の自由度\n",
    "def check_f_dist(dfnum, dfden, significance = 0.05, sample_size=1000000):\n",
    "    dist = np.random.f(dfnum, dfden, sample_size)\n",
    "    return sorted(dist)[int(-1 * sample_size * significance)]"
   ]
  },
  {
   "cell_type": "code",
   "execution_count": 21,
   "metadata": {
    "collapsed": false
   },
   "outputs": [
    {
     "name": "stdout",
     "output_type": "stream",
     "text": [
      "要因Aのf値は 17.5421686747\n",
      "　有意水準 0.05 で、有意な差があります\n",
      "要因Bのf値は 4.38554216867\n",
      "　有意水準 0.05 で、有意な差があります\n",
      "交互作用のf値は 0.934198331789\n",
      "　有意水準 0.05 で、有意な差がありません\n"
     ]
    }
   ],
   "source": [
    "import numpy as np\n",
    "import scipy as sp\n",
    "\n",
    "significance = 0.05 # 有意水準\n",
    "a1b1 = [80, 85, 75, 70, 75, 60, 70, 75, 85, 70, 75, 85, 75, 85, 90] \n",
    "a1b2 = [85, 65, 80, 75, 85, 65, 75, 60, 80, 70, 75, 80, 65, 85, 75] \n",
    "a2b1 = [60, 70, 80, 75, 65, 60, 70, 75, 80, 65, 65, 75, 70, 85, 60] \n",
    "a2b2 = [55, 65, 50, 70, 50, 65, 75, 65, 75, 65, 70, 55, 65, 70, 65] \n",
    "\n",
    "f_a, f_b, f_x, freedoma, freedomb, freedomx, freedomz = stats_f_twoway(a1b1, a1b2, a2b1, a2b2)\n",
    "threshold = check_f_dist(freedoma, freedomz, significance)\n",
    "\n",
    "print( \"要因Aのf値は %(f_a)s\" %locals() )    \n",
    "if f_a > threshold:\n",
    "    print(\"　有意水準 %(significance)s で、有意な差があります\" %locals())\n",
    "else:\n",
    "    print(\"　有意水準 %(significance)s で、有意な差がありません\" %locals())\n",
    "\n",
    "print( \"要因Bのf値は %(f_b)s\" %locals() )\n",
    "if f_b > threshold:\n",
    "    print(\"　有意水準 %(significance)s で、有意な差があります\" %locals())\n",
    "else:\n",
    "    print(\"　有意水準 %(significance)s で、有意な差がありません\" %locals())\n",
    "\n",
    "\n",
    "print( \"交互作用のf値は %(f_x)s\" %locals() )\n",
    "if f_x > threshold:\n",
    "    print(\"　有意水準 %(significance)s で、有意な差があります\" %locals())\n",
    "else:\n",
    "    print(\"　有意水準 %(significance)s で、有意な差がありません\" %locals())"
   ]
  },
  {
   "cell_type": "code",
   "execution_count": 22,
   "metadata": {
    "collapsed": false
   },
   "outputs": [
    {
     "data": {
      "text/plain": [
       "(1, 56)"
      ]
     },
     "execution_count": 22,
     "metadata": {},
     "output_type": "execute_result"
    }
   ],
   "source": [
    "freedoma, freedomz"
   ]
  },
  {
   "cell_type": "markdown",
   "metadata": {},
   "source": [
    "<h4 style=\"padding: 0.25em 0.5em;color: #494949;background: transparent;border-left: solid 5px #7db4e6;\">課題9.5</h4>\n",
    "\n",
    "<a href=\"HamburgerStatistics07.ipynb\">第７章</a>の復習。ある野菜を、異なる圃場（A1とA2）にてそれぞれ異なる栽培手法（B1とB2）を用いて栽培し、ある栄養素の含有量を測定したのが下の数値である。その栄養素の含有量に関して、圃場による違いの影響、栽培手法による違いの影響、そして両者の相互作用による影響を考察しなさい。"
   ]
  },
  {
   "cell_type": "code",
   "execution_count": 23,
   "metadata": {
    "collapsed": true
   },
   "outputs": [],
   "source": [
    "a1b1 = [65, 85, 75, 85, 75, 80, 90, 75, 85, 65, 75, 85, 80, 85, 90] \n",
    "a1b2 = [65, 70, 80, 75, 70, 60, 65, 70, 85, 60, 65, 75, 70, 80, 75] \n",
    "a2b1 = [70, 65, 85, 80, 75, 65, 75, 60, 85, 65, 75, 70, 65, 80, 75] \n",
    "a2b2 = [70, 70, 85, 80, 65, 75, 65, 85, 80, 60, 70, 75, 70, 80, 85]"
   ]
  },
  {
   "cell_type": "code",
   "execution_count": 24,
   "metadata": {
    "collapsed": false
   },
   "outputs": [
    {
     "name": "stdout",
     "output_type": "stream",
     "text": [
      "要因Aのf値は 0.837784371909\n",
      "　有意水準 0.05 で、有意な差がありません\n",
      "要因Bのf値は 3.05341246291\n",
      "　有意水準 0.05 で、有意な差がありません\n",
      "交互作用のf値は 6.65380811078\n",
      "　有意水準 0.05 で、有意な差があります\n"
     ]
    }
   ],
   "source": [
    "# 課題9.5\n",
    "f_a, f_b, f_x, freedoma, freedomb, freedomx, freedomz = stats_f_twoway(a1b1, a1b2, a2b1, a2b2)\n",
    "threshold = check_f_dist(freedoma, freedomz, significance)\n",
    "\n",
    "print( \"要因Aのf値は %(f_a)s\" %locals() )    \n",
    "if f_a > threshold:\n",
    "    print(\"　有意水準 %(significance)s で、有意な差があります\" %locals())\n",
    "else:\n",
    "    print(\"　有意水準 %(significance)s で、有意な差がありません\" %locals())\n",
    "\n",
    "print( \"要因Bのf値は %(f_b)s\" %locals() )\n",
    "if f_b > threshold:\n",
    "    print(\"　有意水準 %(significance)s で、有意な差があります\" %locals())\n",
    "else:\n",
    "    print(\"　有意水準 %(significance)s で、有意な差がありません\" %locals())\n",
    "\n",
    "\n",
    "print( \"交互作用のf値は %(f_x)s\" %locals() )\n",
    "if f_x > threshold:\n",
    "    print(\"　有意水準 %(significance)s で、有意な差があります\" %locals())\n",
    "else:\n",
    "    print(\"　有意水準 %(significance)s で、有意な差がありません\" %locals())"
   ]
  },
  {
   "cell_type": "code",
   "execution_count": 25,
   "metadata": {
    "collapsed": false
   },
   "outputs": [
    {
     "name": "stdout",
     "output_type": "stream",
     "text": [
      "79.66666666666667 71.0\n",
      "72.66666666666667 74.33333333333333\n"
     ]
    }
   ],
   "source": [
    "print(average(a1b1), average(a1b2))\n",
    "print(average(a2b1), average(a2b2))"
   ]
  },
  {
   "cell_type": "code",
   "execution_count": 26,
   "metadata": {
    "collapsed": true
   },
   "outputs": [],
   "source": [
    "# ある栄養素の含有量に関して、圃場や栽培手法それぞれの違いは単独では影響があるとは言えない。\n",
    "# 両者の相互作用による影響はありそうである。\n",
    "# すなわち、ある栄養素を多く含む野菜を育てようとした場合、\n",
    "# 圃場A1では栽培法B1が、圃場A2では栽培法B2が適している。"
   ]
  },
  {
   "cell_type": "markdown",
   "metadata": {},
   "source": [
    "<h2 STYLE=\"background: #c2edff;padding: 0.5em;\">ハンバーガー統計学 第９章 課題</h2>\n",
    "\n",
    "__課題9.1__、__課題9.2__、__課題9.3__、__課題9.4__、および __課題9.5__ を解いて、指定のメールアドレスまでメールしてください。メール送信後は、エラーが帰ってきてないことを確認してください（メールアドレスを間違える人がときどき居ます）。\n",
    "* 締切：10月20日（今すぐでなくても結構です）\n",
    "* メールタイトル：「ハンバーガー統計学 第９章」\n",
    "* 学籍番号と氏名を明記すること。\n",
    "* 感想などがあれば書いてくれると嬉しいです。次回以降の講義の改善につながるかも知れません。"
   ]
  },
  {
   "cell_type": "code",
   "execution_count": 27,
   "metadata": {
    "collapsed": true
   },
   "outputs": [],
   "source": [
    "# ハンバーガー統計学 第９章 課題"
   ]
  },
  {
   "cell_type": "markdown",
   "metadata": {},
   "source": [
    "お疲れ様でした。これでハンバーグ統計学は終了です。\n",
    "<h2 STYLE=\"background: #c2edff;padding: 0.5em;\">次は、<a href=\"IceCreamStatistics01.ipynb\">アイスクリーム統計学</a> に進みましょう。</h2>\n",
    "（2017年10月20日講義、10月24日課題提出締切）"
   ]
  }
 ],
 "metadata": {
  "kernelspec": {
   "display_name": "Python 3",
   "language": "python",
   "name": "python3"
  },
  "language_info": {
   "codemirror_mode": {
    "name": "ipython",
    "version": 3
   },
   "file_extension": ".py",
   "mimetype": "text/x-python",
   "name": "python",
   "nbconvert_exporter": "python",
   "pygments_lexer": "ipython3",
   "version": "3.4.5"
  }
 },
 "nbformat": 4,
 "nbformat_minor": 0
}
