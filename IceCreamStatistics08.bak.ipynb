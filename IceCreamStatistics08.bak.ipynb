{
 "cells": [
  {
   "cell_type": "markdown",
   "metadata": {},
   "source": [
    "# アイスクリーム統計学 with Python 第8章\n",
    "\n",
    "第１１回講義（2017年10月31日講義、11月3日課題提出締切）\n",
    "\n",
    "このページは、<a href=\"http://kogolab.chillout.jp/elearn/icecream/index.html\" target=\"_blank\">アイスクリーム統計学にようこそ！</a>の内容をプログラミング言語 Python に合わせて書き直したものです（著作権者の許諾を得て利用しております）。"
   ]
  },
  {
   "cell_type": "markdown",
   "metadata": {},
   "source": [
    "<h1 STYLE=\"background: #c2edff;padding: 0.5em;\"><a href=\"http://kogolab.chillout.jp/elearn/icecream/chap8/sec0.html\" target=\"_blank\">第８章 因子分析(1)</a></h1>\n",
    "\n",
    "<P class=\"photo\"><img src=\"image/icecream.jpg\" width=\"172\" height=\"179\"></P>\n",
    "<P>21種類のアイスクリームをうまく分類して、新メニューのためのヒントを得ようとしている店長です。</P>\n",
    "<P class=\"photo\"><img src=\"image/tencho-futsu.jpg\" width=\"130\" height=\"145\"></P>\n",
    "<P class=speech>「なるほど、相関行列をよく検討すればアイスクリームの分類ができるんだね」</P>\n",
    "<P class=speech>───そうなんです、店長。たとえば、マカダミアナッツとウォールナッツとアーモンドのアイスクリームはお互いに相関係数が高いですから、ひとつのグループとして考えることができますね。「ナッツ系」というような名前がつけられますね。</P>\n",
    "<P class=speech>「アンケートに答えた人にしてみれば、それぞれの種類のアイスクリームの好き嫌いを答えているに過ぎないんだけど、そういうアンケートをたくさん集めて分析すれば、自然にアイスクリーム全体の構造がわかってくるというわけだ」</P>\n",
    "<P class=speech>───そういうことになりますね。うーん、統計学ってすごいですね。</P>\n",
    "<P class=speech>「でも、相関行列が大きくなると、相関係数を見るだけでも大変だよね。それに、相関係数がゼロに近いものについては、なにも言えない」</P>\n",
    "<P class=speech>───そうですね。</P>\n",
    "<P class=speech>「21種類のアイスクリームが、地図のように配置できたら全体像がよくわかると思うんだけど、そういうことはできないの？」</P>\n",
    "<P class=speech>───地図ですか？　うーん……</P>"
   ]
  },
  {
   "cell_type": "markdown",
   "metadata": {},
   "source": [
    "<h2 STYLE=\"background: #c2edff;padding: 0.5em;\"><a href=\"http://kogolab.chillout.jp/elearn/icecream/chap8/sec1.html\" target=\"_blank\">8.1　因子分析の考え方</a></h2>\n",
    "\n",
    "<P class=\"photo\"><img src=\"image/aiko-kangaekomu.jpg\" width=\"150\" height=\"137\"></P>\n",
    "<P class=\"speech\">───21種類のアイスクリームを地図のように配置するのか……。確かに相関行列だけでは、一目で見てわかりやすいということにはならないわね。どうしたらいいのかしら。</P>\n",
    "<P class=\"speech\">「どうしたのアイ子ちゃん。むずかしい顔をして」</P>\n",
    "<P class=\"speech\">───あ、三ヶ島先輩。アイスクリームの好みについての相関行列まではできたんですけれど、これではまだわかりにくいので、地図のようにできないか、と店長がおっしゃるんですよ。</P>\n",
    "<P class=\"speech\">「なるほど。そのためには、因子分析を使えばいいんだよ」</P>\n",
    "<P class=\"speech\">───因子分析ですか？　うわー、なんか難しそうですね。</P>\n",
    "<P class=\"speech\">「変数がたくさんある、多変量データを分析する方法はいろいろあるけれども、因子分析はその中でも最もよく使われるもののひとつだ。これをマスターしておくと、これからきっと役に立つことがあると思うよ」</P>\n",
    "<P class=\"speech\">───三ヶ島先輩、ぜひ、それを教えてください。</P>"
   ]
  },
  {
   "cell_type": "markdown",
   "metadata": {},
   "source": [
    "<h4 style=\"border-bottom: solid 1px black;\">因子分析の考え方</h4>\n",
    "<P class=\"photo\"><img src=\"image/senpai-futsu.jpg\" width=\"152\" height=\"127\"></P>\n",
    "<P>まず最初に、因子分析の考え方を説明しよう。</P>\n",
    "<P>ここでは簡単のために、21種類のアイスクリームから、マカダミアナッツ、チョコレート、ウォールナッツ、チョコチップの4種類のアイスクリームのデータだけを考えることにするよ。</P>\n",
    "<P>この4種類の相関行列は、こうなっている。</P>\n",
    "<P class=\"photo\"><img src=\"image/factor1.jpg\" width=\"330\" height=\"95\"></P>\n",
    "<P>マカダミアナッツとウォールナッツの相関が高くて、チョコレートチョコチップの相関も高い。</P>\n",
    "<P>この現象について、因子分析では、マカダミアナッツとウォールナッツに対してひとつの因子が共通に働いていると考える。同様に、チョコレートチョコチップにもまた別の因子が共通に働いていると考える。この因子のことを「<em>共通因子</em>」と呼んでいる。イメージにするとこうなる。</P>\n",
    "<P class=\"photo\"><img src=\"image/factor2.jpg\" width=\"569\" height=\"203\"></P>\n",
    "<P>「ナッツの共通因子」というものがあるとすれば、それがマカダミアナッツとウォールナッツに働いているので、マカダミアナッツとウォールナッツの相関が高くなるという考え方だ。同様に、「チョコの共通因子」というものがあるとすれば、それがチョコレートとチョコチップに働いているので、チョコレートとチョコチップの相関が高くなるわけだ。</P>\n",
    "<P>共通因子に対して、マカダミアナッツやチョコレートの好みなどの変数を「<em>観測変数</em>」と呼んでいる。実際に観測されたデータという意味だ。</P>\n",
    "<P class=\"photo\"><img src=\"image/aiko-fushigi.jpg\" width=\"148\" height=\"128\"></P>\n",
    "<P class=\"speech\">───共通因子と観測変数の関係は、前にやった偏相関にちょっと似ていますね。</P>\n",
    "<P class=\"speech\">「そうだね。偏相関の場合は、共通因子も実際に観測されたデータだったけれども、この３つの変数の関係は偏相関に似ている。つまり、共通因子があるために、それが働いている観測変数同士の相関が高くなる、という考え方だ」</P>\n",
    "<P class=\"speech\">───でも、因子分析では、共通因子は実際のデータではないんですね。</P>\n",
    "<P class=\"speech\">「そうだ。あくまでも仮想的なものだよ。そして、その共通因子を求めることが因子分析という統計手法なんだ」</P>"
   ]
  },
  {
   "cell_type": "markdown",
   "metadata": {},
   "source": [
    "<h2 STYLE=\"background: #c2edff;padding: 0.5em;\"><a href=\"http://kogolab.chillout.jp/elearn/icecream/chap8/sec2.html\" target=\"_blank\">8.2　固有値</a></h2>\n",
    "\n",
    "<P class=\"photo\"><img src=\"image/aiko-ganbaru.jpg\" width=\"181\" height=\"133\"></P>\n",
    "<P class=\"speech\">───それじゃ、さっそく因子分析の計算の仕方を教えてください。Excelとかでできるんですよね？</P>\n",
    "<P class=\"speech\">「アイ子ちゃん、残念ながら、基本的なExcelでは、因子分析は計算できないんだ。いろいろな値を推定するために繰り返し計算が必要なので、かなり複雑な計算になるから」</P>\n",
    "<P class=\"speech\">───え？　じゃあ、どうしたらいいんですか？</P>\n",
    "<P class=\"speech\">「因子分析を実行するためには、統計ソフトと呼ばれるアプリケーションソフトを使う必要がある。広く使われている統計ソフトとしては、SPSSやSASが有名だ。ただし個人で買うにはちょっと値段が高い。その他には、Excelのアドイン（付加的なプログラム）として統計ソフトが販売されている。また、最近ではWeb上で統計解析ができるようなサイトも出てきているよ」</P>\n",
    "<P class=\"speech\">───ふーん、統計ソフトを手に入れることが必要なのね。</P>\n",
    "<P class=\"photo\"><img src=\"image/senpai-futsu.jpg\" width=\"152\" height=\"127\"></P>\n",
    "<P>ここでは、さっきの4種類のアイスクリームのデータを使って、実際に因子分析を実行しながら、説明していこう。</P>\n",
    "<P>まず、相関行列から出したね。これだ。</P>\n",
    "<P class=\"photo\"><img src=\"image/factor1.jpg\" width=\"330\" height=\"95\"></P>\n",
    "<P>次に「<em>固有値</em>」というものが計算される。</P>\n",
    "<P class=\"photo\"><img src=\"image/factor3.jpg\" width=\"305\" height=\"138\"></P>\n",
    "<P>この固有値は、共通因子の数を決めるのに手がかりになる。</P>\n",
    "<P class=\"speech\">───共通因子の数は、はじめから決まってはいないんですか？</P>\n",
    "<P>うん。決まっていないんだよ。さっきの図を見てみよう。</P>\n",
    "<P class=\"photo\"><img src=\"image/factor2.jpg\" width=\"569\" height=\"203\"></P>\n",
    "<P>ここでは、ナッツ系に影響する共通因子と、チョコ系に影響する共通因子の合計２つを考えたけれども、これはあくまで仮説だ。共通因子は１つかもしれないし、３つかもしれないんだ。ただし、最大で４つだ。なぜならば観測変数が４つだから。</P>\n",
    "<P>でも、観測変数の数と共通因子の数が同じでは、わざわざ共通因子を考えた意味がなくなってしまうよね。「<em>できるだけ多くの観測変数をできるだけ少ない共通因子で説明しよう</em>」とするのが因子分析だからね。</P>\n",
    "<P class=\"speech\">───その共通因子の数を決める手がかりが固有値というわけですね。</P>\n",
    "<P>そうだ。</P>\n",
    "<P>さっきの固有値を折れ線グラフにしてみよう。</P>\n",
    "<P class=\"photo\"><img src=\"image/factor4.jpg\" width=\"401\" height=\"332\"></P>\n",
    "<P>共通因子の数を決めるための規準はいくつかあるけれども、ここでは「固有値の落ち方」を見る方法を説明しよう。</P>\n",
    "<P>この折れ線グラフを見てわかるように、番号が大きくなるにつれて固有値はだんだん小さくなる。その落ち方をよく見ると、2番目の固有値と3番目の固有値を境にして傾きが急激に変わっているね。2から3への傾きは急だけど、3から4への傾きはなだらかになっている。</P>\n",
    "<P>そこで、２つの共通因子を仮定する。残りは仮定しても大勢に影響はないと判断するわけだ。</P>"
   ]
  },
  {
   "cell_type": "markdown",
   "metadata": {},
   "source": [
    "<h2 STYLE=\"background: #c2edff;padding: 0.5em;\"><a href=\"http://kogolab.chillout.jp/elearn/icecream/chap8/sec3.html\" target=\"_blank\">8.3　因子負荷</a></h2>\n",
    "\n",
    "<P class=\"photo\"><img src=\"image/senpai-setsumei.jpg\" width=\"135\" height=\"136\"></P>\n",
    "<p>固有値についてわかったところで、次に進もう。</p>\n",
    "<p>次に、<em>因子負荷（あるいは因子負荷量）</em>というものが計算される。</p>\n",
    "<p class=\"photo\"><img src=\"image/factor5.jpg\" width=\"356\" height=\"186\"></p>\n",
    "<p>因子負荷というのは、観測変数に対して共通因子がどれくらいの強さで影響を与えているかを示したものだ。図にするとこうなる。</p>\n",
    "<p class=\"photo\"><img src=\"image/factor6.jpg\" width=\"567\" height=\"204\"></p>\n",
    "<p>ナッツの共通因子は、マカダミアナッツとウォールナッツに大きな因子負荷があり（オレンジの矢印）、チョコレートとチョコチップに対する因子負荷は小さい（グレーの矢印）ということだ。</p>\n",
    "<p>また、チョコの共通因子は、チョコレートとチョコチップに大きな因子負荷があり（ブルーの矢印）、マカダミアナッツとウォールナッツに対する因子負荷は小さい（グレーの矢印）ということだ。</p>\n",
    "<p class=\"speech\">───でも、三ヶ島先輩、おかしいですよ！　「因子1」の因子負荷を見てみると、4種類の観測変数すべてに対して、-0.5～-0.7くらいの因子負荷になっているじゃないですか。</p>\n",
    "<p class=\"speech\">───その一方で、「因子2」の因子負荷を見てみると、チョコレートとチョコチップでは、0.4～0.6、マカダミアナッツとウォールナッツでは、-0.4～-0.6くらいなので、これは「チョコの共通因子」かなとは思うんですが。</p>\n",
    "<p class=\"photo\"><img src=\"image/factor7.jpg\" width=\"346\" height=\"180\"></p>\n",
    "<p>そう、確かに、因子1は4種類のすべてのアイスクリームに対して、同じような因子負荷の値を示している。これでは、因子1は何の因子かわからない。あえていえば、全部の観測変数に共通の共通因子ということになるけど。</p>\n",
    "<p>一方、因子2については、ナッツの2種類には負の因子負荷量を示し、チョコの2種類には正の因子負荷量を示したということで、単純に「チョコの共通因子」とは呼べなくなる。あえていえば「チョコには正、ナッツには負の因子負荷を示す共通因子」ということだけど、これじゃわかりにくいよね。</p>\n",
    "<p>これについては、次のセクションで解決していくことにしよう。</p>\n",
    "<p class=\"photo\"><img src=\"image/senpai-setsumei.jpg\" width=\"135\" height=\"136\"></p>\n",
    "<p>さて、次にいく前に、ここの結果で出ている、共通性や寄与率といったことについて説明しておこう。</p>\n",
    "<p class=\"photo\"><img src=\"image/factor8.jpg\" width=\"479\" height=\"233\"></p>\n",
    "<p>まず、<em>共通性</em>だ。これは<em>観測変数ごとの因子負荷の２乗和</em>だ。これが大きくなると、ここで採用した共通因子で説明される割合が大きくなるということになる。逆に、小さくなると、共通因子で説明される割合が小さくなる。これは、その観測変数が独自に持っている因子「<em>独自因子</em>」が効いているということになる。</p>\n",
    "<p>もし、共通性が小さい観測変数があるとしたら、これは共通因子で説明される割合が小さいということだから、その因子分析の因子では説明しきれない変数である可能性が高い。そのような場合には、その変数を削除して再度、因子分析をしたりすることもある。いずれにしても、共通性の小さい変数には注意が必要だ。</p>\n",
    "<p>次に、<em>負荷量の２乗和</em>で、これは<em>因子寄与</em>とも呼ばれる。これは<em>因子ごとの因子負荷の２乗和</em>で計算される。これは、その因子が全部の観測変数に対してどれくらいの寄与をしているかという指標になる。</p>\n",
    "<p>因子寄与は、因子ごとに計算されて、その合計は理論的には観測変数の数になる。この場合だと、観測変数が４つなので、因子寄与の合計は4になる。そこで、因子寄与を観測変数の数で割ったものを<em>寄与率</em>と呼ぶ。単位はパーセントだ。寄与率を見れば、その因子が全体に対してどれくらい寄与しているのかが読み取れる。</p>\n",
    "<p><em>累積寄与率</em>というのは、寄与率を順次合計していったものだ。因子2までの累積寄与率は41.10053と26.47217を足し算したものになっているね。</p>"
   ]
  },
  {
   "cell_type": "markdown",
   "metadata": {},
   "source": [
    "<h2 STYLE=\"background: #c2edff;padding: 0.5em;\"><a href=\"http://kogolab.chillout.jp/elearn/icecream/chap8/sec4.html\" target=\"_blank\">8.4　回転</a></h2>\n",
    "\n",
    "<p class=\"photo\"><img src=\"image/senpai-futsu.jpg\" width=\"152\" height=\"127\"></p>\n",
    "<p>さて、因子負荷ということを説明した。共通因子が、観測変数に対してどれくらいの重み付けを持っているかということだ。</p>\n",
    "<p class=\"photo\"><img src=\"image/factor7.jpg\" width=\"346\" height=\"180\"></p>\n",
    "<p>これだね。でもこのままだと、因子1、因子2とも「何の共通因子」かということがわかりにくい。</p>\n",
    "<p>でも、試しにこれをグラフに表現してみよう。</p>\n",
    "<p>横軸に因子1の因子負荷をとり、縦軸に因子2の因子負荷をとって、それぞれの観測変数をプロットしてみる。すると、こうなる。</p>\n",
    "<p class=\"photo\"><img src=\"image/factor9.jpg\" width=\"432\" height=\"403\"></p>\n",
    "<p class=\"speech\">───あれっ！　グラフにプロットしてみると、ちゃんとチョコ系はチョコ系にまとまっているし、ナッツ系はナッツ系でまとまっているわ。</p>\n",
    "<p class=\"photo\"><img src=\"image/aiko-hirameku.jpg\" width=\"185\" height=\"135\"></p>\n",
    "<p>そうなんだ。因子負荷をグラフにプロットしてみると、ちゃんと観測変数の地図ができていることがわかる。</p>\n",
    "<p>問題は、このままだと、因子1、因子2といった共通因子の解釈が難しいということだ。</p>\n",
    "<p class=\"speech\">───解釈が難しいというのはどういうことなんですか？</p>\n",
    "<p>簡単に言えば、名前がつけにくいということだね。できれば、因子1に「ナッツ系の因子」とか、因子2に「チョコ系の因子」というような名前をつけたい。そうすると解釈が簡単になるでしょう？</p>\n",
    "<p class=\"speech\">───なるほど、そうするにはどうしたらいいのですか？</p>\n",
    "<p>軸を回転させることだ。こんなふうにね。</p>\n",
    "<p class=\"photo\"><img src=\"image/factor10.jpg\" width=\"574\" height=\"520\"></p>\n",
    "<p>これは元の軸を、反時計回りに45度くらい回転してみたものだ。</p>\n",
    "<p>そうするとどうだろう。因子1の軸は「ナッツ系の軸」にならないだろうか。そして、因子2の軸は「チョコ系の軸」に。</p>\n",
    "<p class=\"speech\">───ああ、ほんとうですね。確かに軸を回転させると解釈が簡単にできるようになります。</p>\n",
    "<p class=\"speech\">───でも、軸を勝手に回転してしまっていいんですか？</p>\n",
    "<p>うん。いいんだ。元の観測変数同士の関係が変わらなければ、軸は自由にとることができるのさ。軸の回転方法にはいくつかのやり方があるが、ここでは「<em>バリマックス法</em>」という回転方法を使うことにしよう。</p>\n",
    "<p>そうして、軸を回転させると、このような計算結果が出てくる。</p>\n",
    "<p class=\"photo\"><img src=\"image/factor11.jpg\" width=\"363\" height=\"184\"></p>\n",
    "<p>これを見てみると、因子1では、マカダミアナッツとウォールナッツが（マイナスだけど）高い値を示して、チョコレートとチョコチップはゼロに近い値になっているね。</p>\n",
    "<p>一方、因子2では、マカダミアナッツとウォールナッツがゼロに近い値になっていて、チョコレートとチョコチップは正の高い値を示している。</p>\n",
    "<p>こうなれば、因子1は「ナッツ系の因子」、因子2は「チョコ系の因子」と名前を付けることができる。</p>\n",
    "<p>最終的な地図（因子負荷）はこんなグラフになるよ。</p>\n",
    "<p class=\"photo\"><img src=\"image/factor12.jpg\" width=\"526\" height=\"407\"></p>\n",
    "<p>これで、ひとまずの因子分析はおしまいだ。</p>\n",
    "<p class=\"photo\"><img src=\"image/aiko-ureshii.jpg\" width=\"152\" height=\"133\"></p>\n",
    "<p class=\"speech\">───きれいな地図にたどりついたわ。因子分析って、まるで探偵をしているみたいで、面白いわね。</p>\n",
    "<p class=\"speech\">───よし、それじゃ、元のデータを使って、因子分析をしてみよう。コーンも手伝って。</p>\n",
    "<p class=\"photo\"><img src=\"image/corn.jpg\" width=\"120\" height=\"91\"></p>"
   ]
  },
  {
   "cell_type": "markdown",
   "metadata": {},
   "source": [
    "<h4 style=\"padding: 0.25em 0.5em;color: #494949;background: transparent;border-left: solid 5px #7db4e6;\">課題8.1</h4>\n",
    "\n",
    "<P>「アイスクリームの好みについてのアンケート」のデータから次の13種類のアイスクリームのデータを利用して因子分析を行った。</P>\n",
    "<P>これが、13種類のアイスクリームの相関行列である。</P>\n",
    "<P class=\"photo\"><img src=\"image/tsuuka1.jpg\" width=\"577\" height=\"402\"></P>\n",
    "<P>(1)　次は固有値の計算結果である。共通因子の数を決めなさい。また、その根拠を書きなさい。</P>\n",
    "<P class=\"photo\"><img src=\"image/tsuuka2.jpg\" width=\"291\" height=\"283\"></P>\n",
    "<P>(2)　次は、回転前の因子負荷の計算結果である。その共通性の値について気がつくことを書きなさい。</P>\n",
    "<P class=\"photo\"><img src=\"image/tsuuka3.jpg\" width=\"500\" height=\"335\"></P>\n",
    "<P>(3)　次はバリマックス法による回転後の因子負荷である。因子負荷の値を見て、因子1から因子4のそれぞれに、名前を付けなさい。また、名前の簡単な根拠を添えなさい。</P>\n",
    "<P class=\"photo\"><img src=\"image/tsuuka4.jpg\" width=\"501\" height=\"327\"></P>"
   ]
  },
  {
   "cell_type": "code",
   "execution_count": null,
   "metadata": {
    "collapsed": true
   },
   "outputs": [],
   "source": [
    "# 課題8.1"
   ]
  },
  {
   "cell_type": "markdown",
   "metadata": {},
   "source": [
    "<h2 STYLE=\"background: #c2edff;padding: 0.5em;\"><a href=\"http://kogolab.chillout.jp/elearn/icecream/chap8/sec4.html\" target=\"_blank\">8.5　Pythonで因子分析</a></h2>\n",
    "\n",
    "Pythonでは、因子分析を行うためのライブラリが使えます。\n",
    "\n",
    "因子分析を行う前に、リストの正規化をする（Z値に変換する）関数を作成します。"
   ]
  },
  {
   "cell_type": "code",
   "execution_count": null,
   "metadata": {
    "collapsed": true
   },
   "outputs": [],
   "source": [
    "# リストの正規化をする（Z値に変換する）関数\n",
    "def normalize(data):"
   ]
  },
  {
   "cell_type": "code",
   "execution_count": null,
   "metadata": {
    "collapsed": true
   },
   "outputs": [],
   "source": [
    "# リストのリストの正規化をする（Z値に変換する）関数\n",
    "def normalize2(data):\n",
    "    list = []\n",
    "    for x in data:\n",
    "        list.append(normalize(x))\n",
    "    return list"
   ]
  },
  {
   "cell_type": "markdown",
   "metadata": {},
   "source": [
    "因子分析を行う以下のコードを実行してください。"
   ]
  },
  {
   "cell_type": "code",
   "execution_count": null,
   "metadata": {
    "collapsed": true
   },
   "outputs": [],
   "source": [
    "# 図やグラフを図示するためのライブラリをインポートする。\n",
    "import matplotlib.pyplot as plt\n",
    "%matplotlib inline"
   ]
  },
  {
   "cell_type": "code",
   "execution_count": null,
   "metadata": {
    "collapsed": true
   },
   "outputs": [],
   "source": [
    "# 機械学習のライブラリから、因子分析のプログラムをインポート\n",
    "from sklearn.decomposition import FactorAnalysis"
   ]
  },
  {
   "cell_type": "code",
   "execution_count": null,
   "metadata": {
    "collapsed": true
   },
   "outputs": [],
   "source": [
    "# 因子分析の実行\n",
    "fa = FactorAnalysis()\n",
    "factors = fa.fit_transform(normalize2(matrix))"
   ]
  },
  {
   "cell_type": "code",
   "execution_count": null,
   "metadata": {
    "collapsed": false
   },
   "outputs": [],
   "source": [
    "# 左から順に第一因子、第二因子、、、\n",
    "pd.DataFrame(factors, index=val_names)"
   ]
  },
  {
   "cell_type": "code",
   "execution_count": null,
   "metadata": {
    "collapsed": false
   },
   "outputs": [],
   "source": [
    "# 第一因子と第二因子でプロットする\n",
    "plt.figure(figsize=(8, 8))\n",
    "for x, y, name in zip(factors[:, 0], factors[:, 1], val_names):\n",
    "    plt.text(x, y, name, alpha=0.8, size=10)\n",
    "plt.scatter(factors[:, 0], factors[:, 1], alpha=0.8)\n",
    "plt.title(\"Factor Analysis\")\n",
    "plt.xlabel(\"The first factor score\")\n",
    "plt.ylabel(\"The second factor score\")\n",
    "plt.grid(True)\n",
    "plt.show()"
   ]
  },
  {
   "cell_type": "markdown",
   "metadata": {},
   "source": [
    "<h4 style=\"padding: 0.25em 0.5em;color: #494949;background: transparent;border-left: solid 5px #7db4e6;\">課題8.2</h4>\n",
    "\n",
    "上と同様にして、第三因子と第四因子でプロットしてください。また、以上の結果から、アイスクリームの味の好みについて何が言えそうか考察してください。"
   ]
  },
  {
   "cell_type": "code",
   "execution_count": null,
   "metadata": {
    "collapsed": true
   },
   "outputs": [],
   "source": [
    "# 課題8.2"
   ]
  },
  {
   "cell_type": "markdown",
   "metadata": {},
   "source": [
    "<h2 STYLE=\"background: #c2edff;padding: 0.5em;\">アイスクリーム統計学 第８章 課題</h2>\n",
    "\n",
    "__課題8.1__、および __課題8.2__ を解いて、指定のメールアドレスまでメールしてください。メール送信後は、エラーが帰ってきてないことを確認してください（メールアドレスを間違える人がときどき居ます）。\n",
    "* 締切：11月3日（今すぐでなくても結構です）\n",
    "* メールタイトル：「アイスクリーム統計学 第８章」\n",
    "* 学籍番号と氏名を明記すること。\n",
    "* 感想などがあれば書いてくれると嬉しいです。次回以降の講義の改善につながるかも知れません。"
   ]
  },
  {
   "cell_type": "code",
   "execution_count": null,
   "metadata": {
    "collapsed": true
   },
   "outputs": [],
   "source": [
    "# アイスクリーム統計学 第８章 課題"
   ]
  },
  {
   "cell_type": "markdown",
   "metadata": {},
   "source": [
    "<h2 STYLE=\"background: #c2edff;padding: 0.5em;\">終わったら、<a href=\"IceCreamStatistics09.ipynb\">第９章：因子分析 (2)</a> に進んでください。</h2>\n",
    "（2017年10月31日講義、11月3日課題提出締切）"
   ]
  }
 ],
 "metadata": {
  "kernelspec": {
   "display_name": "Python 3",
   "language": "python",
   "name": "python3"
  },
  "language_info": {
   "codemirror_mode": {
    "name": "ipython",
    "version": 3
   },
   "file_extension": ".py",
   "mimetype": "text/x-python",
   "name": "python",
   "nbconvert_exporter": "python",
   "pygments_lexer": "ipython3",
   "version": "3.4.5"
  }
 },
 "nbformat": 4,
 "nbformat_minor": 0
}
