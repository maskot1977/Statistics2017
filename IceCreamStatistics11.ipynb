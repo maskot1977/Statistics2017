{
 "cells": [
  {
   "cell_type": "markdown",
   "metadata": {},
   "source": [
    "# アイスクリーム統計学 with Python 第11章\n",
    "\n",
    "第１２回講義（2017年11月3日講義、11月7日課題提出締切）\n",
    "\n",
    "このページは、<a href=\"http://kogolab.chillout.jp/elearn/icecream/index.html\" target=\"_blank\">アイスクリーム統計学にようこそ！</a>を終えた学生向けに、復習と補足のために私が追記したものです。\n",
    "\n",
    "<h1 STYLE=\"background: #c2edff;padding: 0.5em;\">第１１章 線形回帰の復習</h1>\n",
    "\n",
    "<a href=\"IceCreamStatistics04.ipynb\">第４章</a>、<a href=\"IceCreamStatistics05.ipynb\">第５章</a>、<a href=\"IceCreamStatistics06.ipynb\">第６章</a> で学習した線形回帰の復習を兼ねて、Pythonのライブラリを使ってみましょう。\n",
    "<ol>\n",
    "<li><a href=\"#1\">「ワインの品質」データ読み込み</a>\n",
    "<li><a href=\"#2\">単回帰分析</a>\n",
    "<li><a href=\"#3\">重回帰分析</a>\n",
    "<li><a href=\"#4\">練習</a>\n",
    "</ol>"
   ]
  },
  {
   "cell_type": "code",
   "execution_count": null,
   "metadata": {
    "collapsed": true
   },
   "outputs": [],
   "source": [
    "# 数値計算やデータフレーム操作に関するライブラリをインポートする\n",
    "import numpy as np\n",
    "import pandas as pd"
   ]
  },
  {
   "cell_type": "code",
   "execution_count": null,
   "metadata": {
    "collapsed": true
   },
   "outputs": [],
   "source": [
    "# URL によるリソースへのアクセスを提供するライブラリをインポートする。\n",
    "# import urllib # Python 2 の場合\n",
    "import urllib.request # Python 3 の場合"
   ]
  },
  {
   "cell_type": "code",
   "execution_count": null,
   "metadata": {
    "collapsed": true
   },
   "outputs": [],
   "source": [
    "# 図やグラフを図示するためのライブラリをインポートする。\n",
    "import matplotlib.pyplot as plt\n",
    "%matplotlib inline"
   ]
  },
  {
   "cell_type": "code",
   "execution_count": null,
   "metadata": {
    "collapsed": true
   },
   "outputs": [],
   "source": [
    "# 線形回帰を行なうライブラリ\n",
    "from sklearn import linear_model"
   ]
  },
  {
   "cell_type": "markdown",
   "metadata": {},
   "source": [
    "<h3 STYLE=\"background: #c2edff;padding: 0.5em;\"><a name=\"1\">1. 「ワインの品質」データ読み込み</a></h3>\n",
    "\n",
    "データは <a href=\"http://archive.ics.uci.edu/ml/index.php\" target=\"_blank\">UC Irvine Machine Learning Repository</a> から取得したものを少し改変しました。\n",
    "\n",
    "* 赤ワイン https://raw.githubusercontent.com/chemo-wakate/tutorial-6th/master/beginner/data/winequality-red.txt\n",
    "\n",
    "* 白ワイン https://raw.githubusercontent.com/chemo-wakate/tutorial-6th/master/beginner/data/winequality-white.txt\n",
    "\n",
    "<h4 style=\"border-bottom: solid 1px black;\">　<a href=\"http://archive.ics.uci.edu/ml/machine-learning-databases/wine-quality/winequality.names\">詳細</a></h4>\n",
    "\n",
    "<ol>\n",
    "<li>fixed acidity : 不揮発酸濃度（ほぼ酒石酸濃度）\n",
    "<li>volatile acidity : 揮発酸濃度（ほぼ酢酸濃度）\n",
    "<li>citric acid : クエン酸濃度\n",
    "<li>residual sugar : 残存糖濃度\n",
    "<li>chlorides : 塩化物濃度\n",
    "<li>free sulfur dioxide : 遊離亜硫酸濃度\n",
    "<li>total sulfur dioxide : 亜硫酸濃度\n",
    "<li>density : 密度\n",
    "<li>pH : pH\n",
    "<li>sulphates : 硫酸塩濃度\n",
    "<li>alcohol : アルコール度数\n",
    "<li>quality (score between 0 and 10) : 0-10 の値で示される品質のスコア\n",
    "</ol>"
   ]
  },
  {
   "cell_type": "code",
   "execution_count": null,
   "metadata": {
    "collapsed": false
   },
   "outputs": [],
   "source": [
    "# ウェブ上のリソースを指定する\n",
    "url = 'https://raw.githubusercontent.com/chemo-wakate/tutorial-6th/master/beginner/data/winequality-red.txt'\n",
    "# 指定したURLからリソースをダウンロードし、名前をつける。\n",
    "# urllib.urlretrieve(url, 'winequality-red.csv') # Python 2 の場合\n",
    "urllib.request.urlretrieve(url, 'winequality-red.txt') # Python 3 の場合"
   ]
  },
  {
   "cell_type": "code",
   "execution_count": null,
   "metadata": {
    "collapsed": true
   },
   "outputs": [],
   "source": [
    "# データの読み込み\n",
    "df1 = pd.read_csv('winequality-red.txt', sep='\\t', index_col=0) "
   ]
  },
  {
   "cell_type": "code",
   "execution_count": null,
   "metadata": {
    "collapsed": false
   },
   "outputs": [],
   "source": [
    "df1.head() # 先頭５行まで表示"
   ]
  },
  {
   "cell_type": "markdown",
   "metadata": {},
   "source": [
    "<h3 STYLE=\"background: #c2edff;padding: 0.5em;\"><a name=\"2\">2. 単回帰分析</a></h3>\n",
    "\n",
    "まずは、説明変数を１つだけ用いて単回帰分析を行います。"
   ]
  },
  {
   "cell_type": "code",
   "execution_count": null,
   "metadata": {
    "collapsed": false
   },
   "outputs": [],
   "source": [
    "clf = linear_model.LinearRegression()"
   ]
  },
  {
   "cell_type": "code",
   "execution_count": null,
   "metadata": {
    "collapsed": true
   },
   "outputs": [],
   "source": [
    "X = df1.loc[:, ['pH']].as_matrix() # 説明変数 = pH"
   ]
  },
  {
   "cell_type": "code",
   "execution_count": null,
   "metadata": {
    "collapsed": false
   },
   "outputs": [],
   "source": [
    "pd.DataFrame(X).T # 中身の確認。縦に長いと見にくいので転置して表示。"
   ]
  },
  {
   "cell_type": "code",
   "execution_count": null,
   "metadata": {
    "collapsed": true
   },
   "outputs": [],
   "source": [
    "Y = df1['fixed acidity'].as_matrix() # 目的変数 = fixed acidity"
   ]
  },
  {
   "cell_type": "code",
   "execution_count": null,
   "metadata": {
    "collapsed": false
   },
   "outputs": [],
   "source": [
    "pd.DataFrame(Y).T # 中身の確認。縦に長いと見にくいので転置して表示。"
   ]
  },
  {
   "cell_type": "code",
   "execution_count": null,
   "metadata": {
    "collapsed": false
   },
   "outputs": [],
   "source": [
    "clf.fit(X, Y) # 予測モデルを作成"
   ]
  },
  {
   "cell_type": "code",
   "execution_count": null,
   "metadata": {
    "collapsed": false
   },
   "outputs": [],
   "source": [
    "# 回帰係数\n",
    "clf.coef_"
   ]
  },
  {
   "cell_type": "code",
   "execution_count": null,
   "metadata": {
    "collapsed": false
   },
   "outputs": [],
   "source": [
    "# 切片\n",
    "clf.intercept_"
   ]
  },
  {
   "cell_type": "markdown",
   "metadata": {},
   "source": [
    "以上の結果は、説明変数と目的変数の関係が次の回帰式で表されることを示しています。"
   ]
  },
  {
   "cell_type": "raw",
   "metadata": {
    "collapsed": true
   },
   "source": [
    "[fixed acidity] = -7.70229968 × [pH] + 33.822823396397531"
   ]
  },
  {
   "cell_type": "markdown",
   "metadata": {},
   "source": [
    "決定係数は寄与率とも呼ばれ、説明変数が目的変数のどれくらいを説明できるかを表す値であり、１に近いほどモデルの精度が高いことを表します。"
   ]
  },
  {
   "cell_type": "code",
   "execution_count": null,
   "metadata": {
    "collapsed": false
   },
   "outputs": [],
   "source": [
    "# 決定係数\n",
    "clf.score(X, Y)"
   ]
  },
  {
   "cell_type": "markdown",
   "metadata": {},
   "source": [
    "結果を 2 次元座標上にプロットすると、以下のようになります。青線が回帰直線を表します。"
   ]
  },
  {
   "cell_type": "code",
   "execution_count": null,
   "metadata": {
    "collapsed": false
   },
   "outputs": [],
   "source": [
    "# 散布図\n",
    "plt.scatter(X, Y)\n",
    " \n",
    "# 回帰直線\n",
    "plt.title('Linear regression')\n",
    "plt.plot(X, clf.predict(X))\n",
    "plt.xlabel('pH')\n",
    "plt.ylabel('fixed acidity')\n",
    "plt.grid()\n",
    "plt.show()"
   ]
  },
  {
   "cell_type": "markdown",
   "metadata": {},
   "source": [
    "<h3 STYLE=\"background: #c2edff;padding: 0.5em;\"><a name=\"3\">3. 重回帰</a></h3>\n",
    "\n",
    "続いて、「quality」を目的変数に、「quality」以外を説明変数として、重回帰分析を行います。"
   ]
  },
  {
   "cell_type": "code",
   "execution_count": null,
   "metadata": {
    "collapsed": false
   },
   "outputs": [],
   "source": [
    "clf = linear_model.LinearRegression()\n",
    " \n",
    "# 説明変数に \"quality (品質スコア以外すべて)\" を利用\n",
    "df1_except_quality = df1.drop('quality', axis=1)\n",
    "X = df1_except_quality.as_matrix()\n",
    " \n",
    "# 目的変数に \"quality (品質スコア)\" を利用\n",
    "Y = df1['quality'].as_matrix()\n",
    " \n",
    "# 予測モデルを作成\n",
    "clf.fit(X, Y)\n",
    "  \n",
    "# 切片 (誤差)\n",
    "print(clf.intercept_)\n",
    "\n",
    "# 偏回帰係数\n",
    "pd.DataFrame({'Name':df1_except_quality.columns, 'Coefficients':clf.coef_}).sort_values('Coefficients', ascending=False) "
   ]
  },
  {
   "cell_type": "markdown",
   "metadata": {},
   "source": [
    "上記の結果からワインの品質スコアは、以下のような回帰式で表せることがわかります。"
   ]
  },
  {
   "cell_type": "raw",
   "metadata": {
    "collapsed": true
   },
   "source": [
    "[quality] = 21.9652084495 + 0.916334 × [sulphates] + 0.276198 × [alcohol] +\n",
    "            0.024991 × [fixed acidity] + 0.016331 × [residual sugar] +\n",
    "            0.004361 × [free sulfur dioxide] + (-0.003265) × [total sulfur dioxide] +\n",
    "            (-0.182564) × [citric acid] + (-0.413653) × [pH] + \n",
    "            (-1.083590) × [volatile acidity] + (-1.874225) × [chlorides] +\n",
    "            (-17.881164) × [density] + "
   ]
  },
  {
   "cell_type": "markdown",
   "metadata": {},
   "source": [
    "ただし決定係数は次の値です。"
   ]
  },
  {
   "cell_type": "code",
   "execution_count": null,
   "metadata": {
    "collapsed": false
   },
   "outputs": [],
   "source": [
    "clf.score(X, Y)"
   ]
  },
  {
   "cell_type": "markdown",
   "metadata": {},
   "source": [
    "各変数がどの程度目的変数に影響しているかを確認するには、各変数を正規化 (標準化) し、平均 = 0, 標準偏差 = 1 になるように変換した上で、重回帰分析を行うと偏回帰係数の大小で比較することができるようになります。"
   ]
  },
  {
   "cell_type": "code",
   "execution_count": null,
   "metadata": {
    "collapsed": false
   },
   "outputs": [],
   "source": [
    "clf = linear_model.LinearRegression()\n",
    " \n",
    "# データフレームの各列を正規化\n",
    "df1s = df1.apply(lambda x: (x - np.mean(x)) / (np.max(x) - np.min(x)))\n",
    " \n",
    "# 説明変数に \"quality (品質スコア以外すべて)\" を利用\n",
    "df1s_except_quality = df1s.drop(\"quality\", axis=1)\n",
    "X = df1s_except_quality.as_matrix()\n",
    " \n",
    "# 目的変数に \"quality (品質スコア)\" を利用\n",
    "Y = df1s['quality'].as_matrix()\n",
    " \n",
    "# 予測モデルを作成\n",
    "clf.fit(X, Y)\n",
    " \n",
    "# 偏回帰係数\n",
    "pd.DataFrame({'Name':df1s_except_quality.columns,\n",
    "                    'Coefficients':np.abs(clf.coef_)}).sort_values('Coefficients', ascending=False) "
   ]
  },
  {
   "cell_type": "markdown",
   "metadata": {},
   "source": [
    "正規化した偏回帰係数を確認すると、alcohol (アルコール度数) が最も高い値を示し、品質に大きな影響を与えていることがわかります。"
   ]
  },
  {
   "cell_type": "markdown",
   "metadata": {
    "collapsed": true
   },
   "source": [
    "<h4 style=\"padding: 0.25em 0.5em;color: #494949;background: transparent;border-left: solid 5px #7db4e6;\"><a name=\"4\">課題11.1</a></h4>\n",
    "\n",
    "白ワインのデータ(https://raw.githubusercontent.com/chemo-wakate/tutorial-6th/master/beginner/data/winequality-white.txt) を読み込み、単回帰分析、重回帰分析を行なってください。"
   ]
  },
  {
   "cell_type": "code",
   "execution_count": null,
   "metadata": {
    "collapsed": true
   },
   "outputs": [],
   "source": [
    "# 課題11.1"
   ]
  },
  {
   "cell_type": "markdown",
   "metadata": {},
   "source": [
    "<h2 STYLE=\"background: #c2edff;padding: 0.5em;\">アイスクリーム統計学 第１１章 課題</h2>\n",
    "\n",
    "__課題11.1__ を解いて、指定のメールアドレスまでメールしてください。メール送信後は、エラーが帰ってきてないことを確認してください（メールアドレスを間違える人がときどき居ます）。\n",
    "* 締切：11月7日（今すぐでなくても結構です）\n",
    "* メールタイトル：「アイスクリーム統計学 第１１章」\n",
    "* 学籍番号と氏名を明記すること。\n",
    "* 感想などがあれば書いてくれると嬉しいです。次回以降の講義の改善につながるかも知れません。"
   ]
  },
  {
   "cell_type": "code",
   "execution_count": null,
   "metadata": {
    "collapsed": true
   },
   "outputs": [],
   "source": [
    "# アイスクリーム統計学 第１１章 課題"
   ]
  },
  {
   "cell_type": "markdown",
   "metadata": {},
   "source": [
    "お疲れ様でした。これでハンバーグ統計学・アイスクリーム統計学をすべて修了しました。\n",
    "\n",
    "さらに意欲のある人は、例えば次のテーマに挑戦してみてください。\n",
    "\n",
    "* <a href=\"http://nbviewer.jupyter.org/github/Koteraken/Experiment2017/blob/master/MachineLearning.ipynb\" target=\"_blank\">機械学習で二値分類</a>\n",
    "\n",
    "機械学習とは、今話題になっている「人工知能」の一分野で、いろいろなモノを自動で判別する手法です。"
   ]
  }
 ],
 "metadata": {
  "kernelspec": {
   "display_name": "Python 3",
   "language": "python",
   "name": "python3"
  },
  "language_info": {
   "codemirror_mode": {
    "name": "ipython",
    "version": 3
   },
   "file_extension": ".py",
   "mimetype": "text/x-python",
   "name": "python",
   "nbconvert_exporter": "python",
   "pygments_lexer": "ipython3",
   "version": "3.4.5"
  }
 },
 "nbformat": 4,
 "nbformat_minor": 2
}
