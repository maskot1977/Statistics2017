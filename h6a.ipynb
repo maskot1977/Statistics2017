{
 "cells": [
  {
   "cell_type": "markdown",
   "metadata": {},
   "source": [
    "# ハンバーガー統計学 with Python 第6章\n",
    "\n",
    "第５回講義（2017年10月13日講義、10月17日課題提出締切）\n",
    "\n",
    "このページは、<a href=\"http://kogolab.chillout.jp/elearn/hamburger/index.html\" target=\"_blank\">ハンバーガー統計学にようこそ！</a>の内容をプログラミング言語 Python に合わせて書き直したものです（著作権者の許諾を得て利用しております）。"
   ]
  },
  {
   "cell_type": "markdown",
   "metadata": {
    "collapsed": true
   },
   "source": [
    "<h1 STYLE=\"background: #c2edff;padding: 0.5em;\"><a href=\"http://kogolab.chillout.jp/elearn/hamburger/chap6/sec0.html\" target=\"_blank\">第6章 分散分析（１要因）</a></h1>\n",
    "\n",
    "<img src=\"image/salesman00021.jpg\">\n",
    "\n",
    "「困ったよ～！！！！」\n",
    "\n",
    "あなたがワクワクバーガーのお店に行くと、あなたの姿を見つけたとたん、店員さんが走ってきました。\n",
    "\n",
    "新しく作られたハンバーガーは、実際に新商品として売り出されて、順調に売り上げを伸ばしていると聞いていたあなたは、一体何が起きたのか気になりました。\n",
    "\n",
    "「実は、このお店とモグモグの間に、新しいハンバーガーショップ、バーガーパクパク亭が開店したんだ。ただでさえ、二店でしのぎをけずってたのに、3店じゃもう……」"
   ]
  },
  {
   "cell_type": "markdown",
   "metadata": {},
   "source": [
    "<h2 STYLE=\"background: #c2edff;padding: 0.5em;\"><a href=\"http://kogolab.chillout.jp/elearn/hamburger/chap6/sec1.html\" target=\"_blank\">6.1　なぜt検定が使えないか</a></h2>\n",
    "\n",
    "バーガーパクパク亭という、新しいライバル店の出現です。\n",
    "\n",
    "<table border=\"0\"><tr>\n",
    "<td><img src=\"image/m-shop.jpg\"></td>\n",
    "<td><img src=\"image/p-shop.jpg\"></td>\n",
    "<td><img src=\"image/w-shop.jpg\"></td>\n",
    "</tr></table>\n",
    "\n",
    "あなたは店員さんからこんなお願いをされました。\n",
    "\n",
    "「とりあえずうちは、ポテトが看板商品だから、t検定をやって、3つのどのポテトが一番おいしいか調べてくれよ～～～～。」\n",
    "\n",
    "<table border=\"0\"><tr>\n",
    "<td><img src=\"image/m-potato00001.jpg\"></td>\n",
    "<td><img src=\"image/p-potato.jpg\"></td>\n",
    "<td><img src=\"image/w-potato00001.jpg\"></td>\n",
    "</tr></table>\n",
    "\n",
    "「それはできません」\n",
    "\n",
    "「えっ……（絶句）」\n",
    "\n",
    "<img src=\"image/salesman00004.jpg\">\n",
    "\n",
    "あなたにできないことはないと思っていた店員さんは絶句しました。\n",
    "\n",
    "「あ、いや、自分ができない、ってことじゃなくて、t検定では、それはできない、ってことです。t検定は、2つの標本間の平均の差を調べるものなので、標本が3つ以上になると、t検定は使っちゃダメなんです。今回の場合だと、ワクワク、モグモグ、パクパクの3つですよね」\n",
    "\n",
    "標本が3つ以上だとt検定は使えない？\n",
    "\n",
    "「え、だって、ワクワクとモグモグ、モグモグとパクパク、ワクワクとパクパク、この3つの組み合わせについてt検定をやればいい話じゃないの？」\n",
    "\n",
    "「あの、それがダメなんです。やっちゃいけないんです」"
   ]
  },
  {
   "cell_type": "markdown",
   "metadata": {},
   "source": [
    "<h4 style=\"border-bottom: solid 1px black;\">なぜt検定が使えないか</h4>\n",
    "\n",
    "t検定の話に入る前に、コイン投げの話をします。\n",
    "\n",
    "「コインを1回投げて、表が出る確率は？」\n",
    "\n",
    "これは簡単ですね。1/2です。\n",
    "\n",
    " \n",
    "\n",
    "「では、コインを2回投げて、少なくとも1回表が出る確率は？」\n",
    "\n",
    "「少なくとも1回表が出る」というのは、「全部裏が出る」の反対の事象になります。\n",
    "\n",
    "少なくとも1回表が出る　＝　（表　と　表）、（表　と　裏）、（裏　と　表）\n",
    "全部裏が出る　　　　　　＝　（裏　と　裏）\n",
    "つまり「少なくとも1回表が出る」確率は、全部の事象（確率は1）から2回とも裏が出る確率をひいたものになります。\n",
    "\n",
    "<img src=\"image/eq6001coin.gif\">\n",
    "\n",
    "つまり、2回コインを投げると、少なくとも1回表が出る確率は、0.75となり、1回しか投げなかったときの確率0.5よりも高くなりますね。\n",
    "\n",
    " \n",
    "\n",
    "「では、サイコロを2回振って、少なくとも1回は3の目がでる確率は？」\n",
    "\n",
    "これは、全部の事象（確率1）から2回とも3以外の目が出る確率をひいたものになります。\n",
    "\n",
    "<img src=\"image/eq6002dice.gif\">\n",
    "\n",
    "つまり、2回サイコロを振ると、少なくとも1回3の目が出る確率は、0.31となり、1回しか振らなかったときの確率（1/6＝0.17）よりも高くなりますね。\n",
    "\n",
    " \n",
    "\n",
    "このように、同じことを繰り返すと、特定のことが起こる確率が高くなるということがわかります。\n",
    "\n",
    "そこで、t検定の話に入ります。\n",
    "\n",
    "A, B, Cの3つの標本があるとき、AとB、BとC、AとCの、3つにおいてt検定を行った場合、「少なくとも1つの組み合わせに、差がでる確率」は、1から「3つの組み合わせすべてに差がでない確率」をひいたものになることが分かります。\n",
    "\n",
    "「差がでない確率」は、全体の確率（1）から差がでる確率をひいたものになります。ここでは、差が出る確率を5％（0.05）としましょう。そうすると、差がでない確率は、1－0.05　となります。\n",
    "\n",
    "そうすると「少なくとも1つの組み合わせに、差がでる確率」は次のようになります。\n",
    "\n",
    "<img src=\"image/eq6003sa.gif\">\n",
    "\n",
    "これを計算すると、\n",
    "\n",
    "＝　1　－　（0.95×0.95×0.95）\n",
    "＝　1　－　0.857　\n",
    "＝　0.143\n",
    "\n",
    "となります。\n",
    "\n",
    "「少なくとも1つの組み合わせに、差がでる確率」は、0.143になり、1回だけのときの確率（0.05）に比べて、差がでる確率が高くなります。つまり、0.05から比べると3倍弱、確率が高くなります。\n",
    "\n",
    "つまり、比較する回数が増えれば増えるほど、実際は差がないのに、差があるとされる確率が増えてしまうことになります。\n",
    "\n",
    "これが、t検定は3つ以上の標本間の差の検定には使えないという理由です。"
   ]
  },
  {
   "cell_type": "markdown",
   "metadata": {},
   "source": [
    "<h2 STYLE=\"background: #c2edff;padding: 0.5em;\"><a href=\"http://kogolab.chillout.jp/elearn/hamburger/chap6/sec2.html\" target=\"_blank\">6.2　分散分析とは</a></h2>\n",
    "\n",
    "ここではt検定は使えないので、別の検定方法を考えなければなりません。その方法は「分散分析」といいます。\n",
    "\n",
    "分散分析について説明する前に、まずデータを取ってきましょう。\n",
    "\n",
    "ワクワク、モグモグ、パクパクのポテト20個ずつを手に入れて、駅に向かい、通行人合計60人にランダムにどれかひとつのポテトを食べてもらいました。そして、そのおいしさについて、100点満点で点数をつけてもらいました。\n",
    "\n",
    "以下が、それぞれのお店のポテトの評価データです。"
   ]
  },
  {
   "cell_type": "code",
   "execution_count": 1,
   "metadata": {
    "collapsed": true
   },
   "outputs": [],
   "source": [
    "wakuwaku = [80, 75, 80, 90, 95, 80, 80, 85, 85, 80, 90, 80, 75, 90, 85, 85, 90, 90, 85, 80]\n",
    "mogumogu = [75, 70, 80, 85, 90, 75, 85, 80, 80, 75, 80, 75, 70, 85, 80, 75, 80, 80, 90, 80]\n",
    "pakupaku = [80, 80, 80, 90, 95, 85, 95, 90, 85, 90, 95, 85, 98, 95, 85, 85, 90, 90, 85, 85]"
   ]
  },
  {
   "cell_type": "markdown",
   "metadata": {},
   "source": [
    "それぞれのお店のデータ数と平均と標準偏差を計算しましょう。"
   ]
  },
  {
   "cell_type": "code",
   "execution_count": 2,
   "metadata": {
    "collapsed": true
   },
   "outputs": [],
   "source": [
    "# 平均値を求める関数\n",
    "def average(list):\n",
    "    sum = 0\n",
    "    for x in list:\n",
    "        sum += x\n",
    "    return sum / len(list)"
   ]
  },
  {
   "cell_type": "code",
   "execution_count": 3,
   "metadata": {
    "collapsed": true
   },
   "outputs": [],
   "source": [
    "# 分散を計算する\n",
    "def variance(list):\n",
    "    ave = average(list)\n",
    "    sum = 0\n",
    "    for x in list:\n",
    "        sum += (x - ave) ** 2\n",
    "    return sum / len(list)"
   ]
  },
  {
   "cell_type": "code",
   "execution_count": 4,
   "metadata": {
    "collapsed": true
   },
   "outputs": [],
   "source": [
    "# 標準偏差を計算する\n",
    "import math\n",
    "def standard_deviation(list):\n",
    "    return math.sqrt(variance(list))"
   ]
  },
  {
   "cell_type": "code",
   "execution_count": 5,
   "metadata": {
    "collapsed": false
   },
   "outputs": [
    {
     "name": "stdout",
     "output_type": "stream",
     "text": [
      "20 84.0 5.385164807134504\n",
      "20 79.5 5.454356057317857\n",
      "20 88.15 5.341114115987412\n"
     ]
    }
   ],
   "source": [
    "# それぞれのお店のデータ数と平均と標準偏差\n",
    "print(len(wakuwaku), average(wakuwaku), standard_deviation(wakuwaku))\n",
    "print(len(mogumogu), average(mogumogu), standard_deviation(mogumogu))\n",
    "print(len(pakupaku), average(pakupaku), standard_deviation(pakupaku))"
   ]
  },
  {
   "cell_type": "markdown",
   "metadata": {},
   "source": [
    "さらに、全体の、データ数と平均と標準偏差を計算しましょう。"
   ]
  },
  {
   "cell_type": "code",
   "execution_count": 6,
   "metadata": {
    "collapsed": false
   },
   "outputs": [
    {
     "name": "stdout",
     "output_type": "stream",
     "text": [
      "60 83.88333333333334 6.447458586313078\n"
     ]
    }
   ],
   "source": [
    "# 全体のデータ数と平均と標準偏差\n",
    "zentai = wakuwaku + mogumogu + pakupaku\n",
    "print(len(zentai), average(zentai), standard_deviation(zentai))"
   ]
  },
  {
   "cell_type": "markdown",
   "metadata": {},
   "source": [
    "計算結果を見ると、標準偏差はどの店もだいたい同じ。評価の平均は、パクパク（88.15）、ワクワク（84.00）、モグモグ（79.50）の順で高いようです。また、全体の平均は、83.88でした。"
   ]
  },
  {
   "cell_type": "markdown",
   "metadata": {},
   "source": [
    "<h4 style=\"border-bottom: solid 1px black;\">帰無仮説、対立仮説を立てよう</h4>\n",
    "\n",
    "それでは各平均が出揃ったところで、3つ以上の平均の差の検定方法について考えてみましょう。\n",
    "\n",
    "最初に、帰無仮説を立てることから出発します。\n",
    "\n",
    "帰無仮説は「3つのお店のポテトの評価（母集団）の平均に差はない」です。\n",
    "\n",
    "もっと正確に言うと「3つのお店のポテトの評価（母集団）の平均のどの組み合わせにおいても差はない」ということです。\n",
    "\n",
    "そうすると、対立仮説は「3つのお店のポテトの評価（母集団）の平均の少なくともひとつの組み合わせに差がある」となります。\n",
    "\n",
    "ここで、対立仮説は「すべての組み合わせに差がある」ではないことに注意してください。そうではなく「少なくともひとつの組み合わせに差がある」ということです。「すべての組み合わせに差がある」場合もこの中に含まれることになります。"
   ]
  },
  {
   "cell_type": "markdown",
   "metadata": {},
   "source": [
    "<h4 style=\"border-bottom: solid 1px black;\">平均からのズレ（分散）を分析するから分散分析</h4>\n",
    "\n",
    "それでは、分散分析の考え方について説明していきましょう。\n",
    "\n",
    "いま、3つのお店の評価データはこんなふうになっています（分布の形はいいかげんです）。\n",
    "\n",
    "<img src=\"image/anova2.jpg\">\n",
    "\n",
    "モグモグの中のひとつのデータ（●で示したもの）について考えます。\n",
    "\n",
    "<img src=\"image/anova3.jpg\">\n",
    "\n",
    "このデータは、全体の平均から矢印の分だけズレています。\n",
    "\n",
    "よく見ると、全体の平均からのズレは、「全体の平均とモグモグの平均のズレ」と「モグモグの平均からのズレ」に分解できます。下のように。\n",
    "\n",
    "<img src=\"image/anova4.jpg\">\n",
    "\n",
    "ここで、「全体の平均とモグモグの平均のズレ」は何を表しているかと考えると、これは全体の平均から各群（各標本集団）がどれほどズレているかということです。これを「群間のズレ」と呼びましょう。\n",
    "\n",
    "一方、「モグモグの平均からのズレ」は何を表しているかというと、群（標本集団）の中で、個々のデータがどれほどズレているかということです。これを「群内のズレ」と呼びましょう。\n",
    "\n",
    "そうすると、すべてのデータについて、全体の平均からのズレは、群間のズレと群内のズレに分解できます。\n",
    "\n",
    "つまり、すべてのデータについて、\n",
    "\n",
    "全体の平均からのズレ　＝　群間のズレ　＋　群内のズレ\n",
    "\n",
    "ということが成り立ちます。"
   ]
  },
  {
   "cell_type": "markdown",
   "metadata": {},
   "source": [
    "<h4 style=\"border-bottom: solid 1px black;\">群間のズレと群内のズレを比較する</h4>\n",
    "\n",
    "さて、群間のズレは、標本集団の間の違いを表しています。これが大きくなるということは、各群の平均が大きく異なるということです。\n",
    "\n",
    "一方、群内のズレは、同じ標本集団の中でのばらつきですので、「誤差」や「個人差」として扱うことができます。\n",
    "\n",
    "もし、群内のズレに比べて、群間のズレが大きければ、標本集団の間の違いが大きいということですから、「母集団の平均に差がない」という帰無仮説を棄却することになります。\n",
    "\n",
    "逆に、群内のズレに比べて、群間のズレが小さければ、標本集団の間の違いが大きいとはいえないですから、「母集団の平均に差がない」という帰無仮説を採択することになります。\n",
    "\n",
    "これが分散分析の考え方です。"
   ]
  },
  {
   "cell_type": "markdown",
   "metadata": {},
   "source": [
    "<h2 STYLE=\"background: #c2edff;padding: 0.5em;\"><a href=\"http://kogolab.chillout.jp/elearn/hamburger/chap6/sec3.html\" target=\"_blank\">6.3　分散分析をしよう</a></h2>\n",
    "\n",
    "では、実際にデータを使って、分散分析の計算をしてみましょう。\n",
    "\n",
    "<h4 style=\"padding: 0.25em 0.5em;color: #494949;background: transparent;border-left: solid 5px #7db4e6;\">課題6.2</h4>\n",
    "\n",
    "ワクワク、モグモグ、パクパクのポテト20個ずつを手に入れて、駅に向かい、通行人合計60人にランダムにどれかひとつのポテトを食べてもらいました。そして、そのおいしさについて、100点満点で点数をつけてもらいました。このデータについて、以下の問いに答えてください。\n",
    " <TABLE BORDER=\"1\" align=\"center\" CELLPADDING=\"0\" CELLSPACING=\"0\">\n",
    "    <TR align=\"center\"> \n",
    "      <td bgcolor=\"#cccccc\"></td>\n",
    "      <TD bgcolor=\"#EEBBBB\">ワクワク</TD>\n",
    "      <TD bgcolor=\"#BBBBEE\">モグモグ</TD>\n",
    "      <TD bgcolor=\"#BBEEBB\">パクパク</TD>\n",
    "      <td bgcolor=\"#cccccc\">全体</td>\n",
    "      <td bgcolor=\"#cccccc\">群内</td>\n",
    "      <td bgcolor=\"#cccccc\">群間</td>\n",
    "    </TR>\n",
    "    <TR align=center> \n",
    "      <td bgcolor=\"#cccccc\">1</td>\n",
    "      <TD HEIGHT=\"30\">80</TD>\n",
    "      <TD>75</TD>\n",
    "      <TD>80</TD>\n",
    "      <td bgcolor=\"#cccccc\"></td>\n",
    "      <td bgcolor=\"#cccccc\"></td>\n",
    "      <td bgcolor=\"#cccccc\"></td>\n",
    "    </TR>\n",
    "    <TR align=center> \n",
    "      <td bgcolor=\"#cccccc\">2</td>\n",
    "      <TD HEIGHT=\"30\">75</TD>\n",
    "      <TD>70</TD>\n",
    "      <TD>80</TD>\n",
    "      <td bgcolor=\"#cccccc\"></td>\n",
    "      <td bgcolor=\"#cccccc\"></td>\n",
    "      <td bgcolor=\"#cccccc\"></td>\n",
    "    </TR>\n",
    "    <TR align=center> \n",
    "      <td bgcolor=\"#cccccc\">3</td>\n",
    "      <TD HEIGHT=\"30\">80</TD>\n",
    "      <TD>80</TD>\n",
    "      <TD>80</TD>\n",
    "      <td bgcolor=\"#cccccc\"></td>\n",
    "      <td bgcolor=\"#cccccc\"></td>\n",
    "      <td bgcolor=\"#cccccc\"></td>\n",
    "    </TR>\n",
    "    <TR align=center> \n",
    "      <td bgcolor=\"#cccccc\">4</td>\n",
    "      <TD HEIGHT=\"30\">90</TD>\n",
    "      <TD>85</TD>\n",
    "      <TD>90</TD>\n",
    "      <td bgcolor=\"#cccccc\"></td>\n",
    "      <td bgcolor=\"#cccccc\"></td>\n",
    "      <td bgcolor=\"#cccccc\"></td>\n",
    "    </TR>\n",
    "    <TR align=center> \n",
    "      <td bgcolor=\"#cccccc\">5</td>\n",
    "      <TD HEIGHT=\"30\">95</TD>\n",
    "      <TD>90</TD>\n",
    "      <TD>95</TD>\n",
    "      <td bgcolor=\"#cccccc\"></td>\n",
    "      <td bgcolor=\"#cccccc\"></td>\n",
    "      <td bgcolor=\"#cccccc\"></td>\n",
    "    </TR>\n",
    "    <TR align=center> \n",
    "      <td bgcolor=\"#cccccc\">6</td>\n",
    "      <TD HEIGHT=\"30\">80</TD>\n",
    "      <TD>75</TD>\n",
    "      <TD>85</TD>\n",
    "      <td bgcolor=\"#cccccc\"></td>\n",
    "      <td bgcolor=\"#cccccc\"></td>\n",
    "      <td bgcolor=\"#cccccc\"></td>\n",
    "    </TR>\n",
    "    <TR align=center> \n",
    "      <td bgcolor=\"#cccccc\">7</td>\n",
    "      <TD HEIGHT=\"30\">80</TD>\n",
    "      <TD>85</TD>\n",
    "      <TD>95</TD>\n",
    "      <td bgcolor=\"#cccccc\"></td>\n",
    "      <td bgcolor=\"#cccccc\"></td>\n",
    "      <td bgcolor=\"#cccccc\"></td>\n",
    "    </TR>\n",
    "    <TR align=center> \n",
    "      <td bgcolor=\"#cccccc\">8</td>\n",
    "      <TD HEIGHT=\"30\">85</TD>\n",
    "      <TD>80</TD>\n",
    "      <TD>90</TD>\n",
    "      <td bgcolor=\"#cccccc\"></td>\n",
    "      <td bgcolor=\"#cccccc\"></td>\n",
    "      <td bgcolor=\"#cccccc\"></td>\n",
    "    </TR>\n",
    "    <TR align=center> \n",
    "      <td bgcolor=\"#cccccc\">9</td>\n",
    "      <TD HEIGHT=\"30\">85</TD>\n",
    "      <TD>80</TD>\n",
    "      <TD>85</TD>\n",
    "      <td bgcolor=\"#cccccc\"></td>\n",
    "      <td bgcolor=\"#cccccc\"></td>\n",
    "      <td bgcolor=\"#cccccc\"></td>\n",
    "    </TR>\n",
    "    <TR align=center> \n",
    "      <td bgcolor=\"#cccccc\">10</td>\n",
    "      <TD HEIGHT=\"30\">80</TD>\n",
    "      <TD>75</TD>\n",
    "      <TD>90</TD>\n",
    "      <td bgcolor=\"#cccccc\"></td>\n",
    "      <td bgcolor=\"#cccccc\"></td>\n",
    "      <td bgcolor=\"#cccccc\"></td>\n",
    "    </TR>\n",
    "    <TR align=center> \n",
    "      <td bgcolor=\"#cccccc\">11</td>\n",
    "      <TD HEIGHT=\"30\">90</TD>\n",
    "      <TD>80</TD>\n",
    "      <TD>95</TD>\n",
    "      <td bgcolor=\"#cccccc\"></td>\n",
    "      <td bgcolor=\"#cccccc\"></td>\n",
    "      <td bgcolor=\"#cccccc\"></td>\n",
    "    </TR>\n",
    "    <TR align=center> \n",
    "      <td bgcolor=\"#cccccc\">12</td>\n",
    "      <TD HEIGHT=\"30\">80</TD>\n",
    "      <TD>75</TD>\n",
    "      <TD>85</TD>\n",
    "      <td bgcolor=\"#cccccc\"></td>\n",
    "      <td bgcolor=\"#cccccc\"></td>\n",
    "      <td bgcolor=\"#cccccc\"></td>\n",
    "    </TR>\n",
    "    <TR align=center> \n",
    "      <td bgcolor=\"#cccccc\">13</td>\n",
    "      <TD HEIGHT=\"30\">75</TD>\n",
    "      <TD>70</TD>\n",
    "      <TD>98</TD>\n",
    "      <td bgcolor=\"#cccccc\"></td>\n",
    "      <td bgcolor=\"#cccccc\"></td>\n",
    "      <td bgcolor=\"#cccccc\"></td>\n",
    "    </TR>\n",
    "    <TR align=center> \n",
    "      <td bgcolor=\"#cccccc\">14</td>\n",
    "      <TD HEIGHT=\"30\">90</TD>\n",
    "      <TD>85</TD>\n",
    "      <TD>95</TD>\n",
    "      <td bgcolor=\"#cccccc\"></td>\n",
    "      <td bgcolor=\"#cccccc\"></td>\n",
    "      <td bgcolor=\"#cccccc\"></td>\n",
    "    </TR>\n",
    "    <TR align=center> \n",
    "      <td bgcolor=\"#cccccc\">15</td>\n",
    "      <TD HEIGHT=\"30\">85</TD>\n",
    "      <TD>80</TD>\n",
    "      <TD>85</TD>\n",
    "      <td bgcolor=\"#cccccc\"></td>\n",
    "      <td bgcolor=\"#cccccc\"></td>\n",
    "      <td bgcolor=\"#cccccc\"></td>\n",
    "    </TR>\n",
    "    <TR align=center> \n",
    "      <td bgcolor=\"#cccccc\">16</td>\n",
    "      <TD HEIGHT=\"30\">85</TD>\n",
    "      <TD>75</TD>\n",
    "      <TD>85</TD>\n",
    "      <td bgcolor=\"#cccccc\"></td>\n",
    "      <td bgcolor=\"#cccccc\"></td>\n",
    "      <td bgcolor=\"#cccccc\"></td>\n",
    "    </TR>\n",
    "    <TR align=center> \n",
    "      <td bgcolor=\"#cccccc\">17</td>\n",
    "      <TD HEIGHT=\"30\">90</TD>\n",
    "      <TD>80</TD>\n",
    "      <TD>90</TD>\n",
    "      <td bgcolor=\"#cccccc\"></td>\n",
    "      <td bgcolor=\"#cccccc\"></td>\n",
    "      <td bgcolor=\"#cccccc\"></td>\n",
    "    </TR>\n",
    "    <TR align=center> \n",
    "      <td bgcolor=\"#cccccc\">18</td>\n",
    "      <TD HEIGHT=\"30\">90</TD>\n",
    "      <TD>80</TD>\n",
    "      <TD>90</TD>\n",
    "      <td bgcolor=\"#cccccc\"></td>\n",
    "      <td bgcolor=\"#cccccc\"></td>\n",
    "      <td bgcolor=\"#cccccc\"></td>\n",
    "    </TR>\n",
    "    <TR align=center> \n",
    "      <td bgcolor=\"#cccccc\">19</td>\n",
    "      <TD HEIGHT=\"30\">85</TD>\n",
    "      <TD>90</TD>\n",
    "      <TD>85</TD>\n",
    "      <td bgcolor=\"#cccccc\"></td>\n",
    "      <td bgcolor=\"#cccccc\"></td>\n",
    "      <td bgcolor=\"#cccccc\"></td>\n",
    "    </TR>\n",
    "    <TR align=center> \n",
    "      <td bgcolor=\"#cccccc\">20</td>\n",
    "      <TD HEIGHT=\"30\">80</TD>\n",
    "      <TD>80</TD>\n",
    "      <TD>85</TD>\n",
    "      <td bgcolor=\"#cccccc\"></td>\n",
    "      <td bgcolor=\"#cccccc\"></td>\n",
    "      <td bgcolor=\"#cccccc\"></td>\n",
    "    </TR>\n",
    "    <tr><td bgcolor=\"#cccccc\">平均</td><td>( a )</td><td>( b )</td><td>( c )</td><td>( d )</td>\n",
    "          <td bgcolor=\"#cccccc\"></td>\n",
    "      <td bgcolor=\"#cccccc\"></td>\n",
    "    </tr>\n",
    "    <tr><td bgcolor=\"#cccccc\">偏差平方和</td><td>( e )</td><td>( f )</td><td>( g )</td><td>( h )</td><td>( i )</td><td>( j )</td></tr>\n",
    "  </TABLE>"
   ]
  },
  {
   "cell_type": "markdown",
   "metadata": {},
   "source": [
    "* 帰無仮説を「3つのお店のポテトの評価（母集団）の平均のどの組み合わせにおいても差はない」とします。対立仮説は何か答えてください。"
   ]
  },
  {
   "cell_type": "code",
   "execution_count": 7,
   "metadata": {
    "collapsed": true
   },
   "outputs": [],
   "source": [
    "# 対立仮説\n",
    "# 3つのお店のポテトの評価（母集団）の平均のうち、いずれかの組み合わせにおいて差がある。"
   ]
  },
  {
   "cell_type": "markdown",
   "metadata": {},
   "source": [
    "* それぞれの店のポテトの点数の平均（上表 a, b, c ）と全体の平均（上表 d ）を求めてください。"
   ]
  },
  {
   "cell_type": "code",
   "execution_count": 8,
   "metadata": {
    "collapsed": true
   },
   "outputs": [],
   "source": [
    "wakuwaku = [80, 75, 80, 90, 95, 80, 80, 85, 85, 80, 90, 80, 75, 90, 85, 85, 90, 90, 85, 80]\n",
    "mogumogu = [75, 70, 80, 85, 90, 75, 85, 80, 80, 75, 80, 75, 70, 85, 80, 75, 80, 80, 90, 80]\n",
    "pakupaku = [80, 80, 80, 90, 95, 85, 95, 90, 85, 90, 95, 85, 98, 95, 85, 85, 90, 90, 85, 85]"
   ]
  },
  {
   "cell_type": "code",
   "execution_count": 9,
   "metadata": {
    "collapsed": false
   },
   "outputs": [
    {
     "name": "stdout",
     "output_type": "stream",
     "text": [
      "84.0 79.5 88.15\n"
     ]
    }
   ],
   "source": [
    "# それぞれの店のポテトの点数の平均（上表 a, b, c ）\n",
    "a = average(wakuwaku)\n",
    "b = average(mogumogu)\n",
    "c = average(pakupaku)\n",
    "print (a, b, c)"
   ]
  },
  {
   "cell_type": "code",
   "execution_count": 10,
   "metadata": {
    "collapsed": false
   },
   "outputs": [
    {
     "name": "stdout",
     "output_type": "stream",
     "text": [
      "83.88333333333334\n"
     ]
    }
   ],
   "source": [
    "# 全体の平均（上表 d ）\n",
    "d = average(zentai)\n",
    "print(d)"
   ]
  },
  {
   "cell_type": "markdown",
   "metadata": {},
   "source": [
    "* それぞれの店のポテトの点数の偏差平方和（上表 e, f, g ）と全体の偏差平方和（上表 h ）を求めてください。"
   ]
  },
  {
   "cell_type": "code",
   "execution_count": 11,
   "metadata": {
    "collapsed": true
   },
   "outputs": [],
   "source": [
    "def sum_square_deviation(list): # 偏差平方和\n",
    "    ave = average(list)\n",
    "    sum = 0\n",
    "    for x in list:\n",
    "        sum += (x - ave)**2\n",
    "    return sum"
   ]
  },
  {
   "cell_type": "code",
   "execution_count": 12,
   "metadata": {
    "collapsed": false
   },
   "outputs": [
    {
     "name": "stdout",
     "output_type": "stream",
     "text": [
      "580.0 595.0 570.5499999999998\n"
     ]
    }
   ],
   "source": [
    "# それぞれの店のポテトの点数の偏差平方和（上表 e, f, g ）\n",
    "e = sum_square_deviation(wakuwaku)\n",
    "f = sum_square_deviation(mogumogu)\n",
    "g = sum_square_deviation(pakupaku)\n",
    "print (e, f, g)"
   ]
  },
  {
   "cell_type": "code",
   "execution_count": 13,
   "metadata": {
    "collapsed": false
   },
   "outputs": [
    {
     "name": "stdout",
     "output_type": "stream",
     "text": [
      "2494.1833333333343\n"
     ]
    }
   ],
   "source": [
    "# 全体の偏差平方和（上表 h ）\n",
    "h = sum_square_deviation(zentai)\n",
    "print(h)"
   ]
  },
  {
   "cell_type": "markdown",
   "metadata": {},
   "source": [
    "* 群内の偏差平方和（上表　i ）を求めてください。群内の平方和＝Σ（それぞれの群の偏差平方和）"
   ]
  },
  {
   "cell_type": "code",
   "execution_count": 14,
   "metadata": {
    "collapsed": false
   },
   "outputs": [
    {
     "name": "stdout",
     "output_type": "stream",
     "text": [
      "1745.5499999999997\n"
     ]
    }
   ],
   "source": [
    "# 群内の偏差平方和（上表　i ）\n",
    "i = sum_square_deviation(wakuwaku) + sum_square_deviation(mogumogu) + sum_square_deviation(pakupaku)\n",
    "print (i)"
   ]
  },
  {
   "cell_type": "markdown",
   "metadata": {},
   "source": [
    "* 群間の偏差平方和（上表 j ）を求めてください。 群間の平方和 = Σ((群内平均ー全体平均)の2乗✕個数)"
   ]
  },
  {
   "cell_type": "code",
   "execution_count": 15,
   "metadata": {
    "collapsed": false
   },
   "outputs": [
    {
     "name": "stdout",
     "output_type": "stream",
     "text": [
      "748.6333333333343\n"
     ]
    }
   ],
   "source": [
    "# 群間の偏差平方和（上表 j ）\n",
    "j = 0\n",
    "for group in [wakuwaku, mogumogu, pakupaku]:\n",
    "    j += (average(group) - average(zentai))**2 * len(group)\n",
    "print (j)"
   ]
  },
  {
   "cell_type": "markdown",
   "metadata": {},
   "source": [
    "<h4 style=\"border-bottom: solid 1px black;\">分散分析表を作る</h4>\n",
    "\n",
    "分散分析をするために、分散分析表を作ります。群間・群内・全体の偏差平方和は既に計算済みです。\n",
    "<TABLE BORDER=\"1\" align=\"center\" CELLPADDING=\"2\" CELLSPACING=\"0\">\n",
    "  <TR> \n",
    "    <TD WIDTH=100 BGCOLOR=\"#CCCCCC\"> <CENTER>\n",
    "        要因 </CENTER></TD>\n",
    "    <TD WIDTH=100 BGCOLOR=\"#DDDDDD\"> <CENTER>\n",
    "        偏差平方和 </CENTER></TD>\n",
    "    <TD WIDTH=100 BGCOLOR=\"#DDDDDD\"> <CENTER>\n",
    "        自由度 </CENTER></TD>\n",
    "    <TD WIDTH=100 BGCOLOR=\"#DDDDDD\"> <CENTER>\n",
    "        平均平方 </CENTER></TD>\n",
    "    <TD WIDTH=100 BGCOLOR=\"#DDDDDD\"> <CENTER>\n",
    "        F\n",
    "</CENTER></TD>\n",
    "  </TR>\n",
    "  <TR> \n",
    "    <TD WIDTH=100 BGCOLOR=\"#DDDDDD\"> <CENTER>\n",
    "        群間\n",
    "</CENTER></TD>\n",
    "    <TD WIDTH=100> <CENTER>( j )\n",
    "        　 </CENTER></TD>\n",
    "    <TD WIDTH=100> <CENTER>( k )\n",
    "        　 </CENTER></TD>\n",
    "    <TD WIDTH=100> <CENTER>( n )\n",
    "        　 </CENTER></TD>\n",
    "    <TD WIDTH=100> <CENTER>( p )\n",
    "        　 </CENTER></TD>\n",
    "  </TR>\n",
    "  <TR> \n",
    "    <TD WIDTH=100 BGCOLOR=\"#DDDDDD\"> <CENTER>\n",
    "        群内 \n",
    "      </CENTER></TD>\n",
    "    <TD WIDTH=100> <CENTER>( i )\n",
    "        　 </CENTER></TD>\n",
    "    <TD WIDTH=100> <CENTER>( l )\n",
    "        　 </CENTER></TD>\n",
    "    <TD WIDTH=100> <CENTER>( o )\n",
    "        　 </CENTER></TD>\n",
    "  </TR>\n",
    "  <TR> \n",
    "    <TD WIDTH=100 BGCOLOR=\"#CCCCCC\"> <CENTER>\n",
    "        全体 </CENTER></TD>\n",
    "    <TD WIDTH=100> <CENTER>( h )\n",
    "        　 </CENTER></TD>\n",
    "    <TD WIDTH=100> <CENTER>( m )\n",
    "        　 </CENTER></TD>\n",
    "  </TR>\n",
    "</TABLE>\n",
    "\n",
    "* 自由度を求めてください。\n",
    "  * ( k ) 群間の自由度　=　群の数　－　1\n",
    "  * ( l ) 群内の自由度　=　（群1のデータ数－1）＋（群2のデータ数－1）+（群3のデータ数－1）\n",
    "  * ( m ) 全体の自由度　=　データの総個数　－　1"
   ]
  },
  {
   "cell_type": "code",
   "execution_count": 16,
   "metadata": {
    "collapsed": false
   },
   "outputs": [
    {
     "name": "stdout",
     "output_type": "stream",
     "text": [
      "2 57 59\n"
     ]
    }
   ],
   "source": [
    "# 自由度\n",
    "k = 3 - 1\n",
    "l = (len(wakuwaku) - 1) + (len(mogumogu) - 1) + (len(pakupaku) - 1)\n",
    "m = len(wakuwaku + mogumogu + pakupaku) - 1\n",
    "print (k, l, m)"
   ]
  },
  {
   "cell_type": "markdown",
   "metadata": {},
   "source": [
    "* 平均平方を求めてください。（上表 n, o）\n",
    "  * 平均平方＝偏差平方和／自由度"
   ]
  },
  {
   "cell_type": "code",
   "execution_count": 17,
   "metadata": {
    "collapsed": false
   },
   "outputs": [
    {
     "name": "stdout",
     "output_type": "stream",
     "text": [
      "374.3166666666672 30.62368421052631\n"
     ]
    }
   ],
   "source": [
    "# 平均平方\n",
    "n = j / k\n",
    "o = i / l\n",
    "print (n, o)"
   ]
  },
  {
   "cell_type": "markdown",
   "metadata": {},
   "source": [
    "* F値を求めてください。（上表 p ）\n",
    "  * F　＝ 群間の平均平方／群内の平均平方"
   ]
  },
  {
   "cell_type": "code",
   "execution_count": 18,
   "metadata": {
    "collapsed": false
   },
   "outputs": [
    {
     "name": "stdout",
     "output_type": "stream",
     "text": [
      "12.223110194494591\n"
     ]
    }
   ],
   "source": [
    "# F値\n",
    "f_value = n / o\n",
    "print (f_value)"
   ]
  },
  {
   "cell_type": "markdown",
   "metadata": {},
   "source": [
    "これで分散分析表が完成しました。"
   ]
  },
  {
   "cell_type": "markdown",
   "metadata": {},
   "source": [
    "<h4 style=\"border-bottom: solid 1px black;\">5%有意水準のF分布表の値と比較する</h4>"
   ]
  },
  {
   "cell_type": "markdown",
   "metadata": {},
   "source": [
    "これまで、カイ２乗検定を行うときは「カイ２乗分布表」を見ました。また、t検定のときは「t分布表」を見ました。\n",
    "\n",
    "分散分析では「F分布表」で棄却域を見ます。\n",
    "\n",
    "F分布表は次のようになっています。\n",
    "\n",
    "<TABLE BORDER=\"1\" align=\"center\" CELLPADDING=\"2\" CELLSPACING=\"0\">\n",
    "  <TR> \n",
    "    <TD WIDTH=100 rowspan=\"2\" BGCOLOR=\"#CCCCCC\"> <CENTER>\n",
    "        群内の自由度 \n",
    "      </CENTER>\n",
    "      <div align=\"center\"></div></TD>\n",
    "    <TD colspan=\"5\" BGCOLOR=\"#dddddd\"> <CENTER>\n",
    "        群間の自由度 \n",
    "      </CENTER>\n",
    "      <CENTER>\n",
    "      </CENTER>\n",
    "      <CENTER>\n",
    "      </CENTER>\n",
    "      <CENTER>\n",
    "      </CENTER></TD>\n",
    "  </TR>\n",
    "  <TR> \n",
    "    <TD WIDTH=100 BGCOLOR=\"#dddddd\"> <div align=\"center\">1</div></TD>\n",
    "    <TD WIDTH=100 BGCOLOR=\"#dddddd\"> <div align=\"center\">2</div></TD>\n",
    "    <TD WIDTH=100 BGCOLOR=\"#dddddd\"> <div align=\"center\">3</div></TD>\n",
    "    <TD WIDTH=100 BGCOLOR=\"#dddddd\"> <div align=\"center\">4</div></TD>\n",
    "    <TD WIDTH=100 BGCOLOR=\"#dddddd\"> <div align=\"center\">5</div></TD>\n",
    "  </TR>\n",
    "  <TR> \n",
    "    <TD BGCOLOR=\"#CCCCCC\"><div align=\"center\">10</div></TD>\n",
    "    <TD BGCOLOR=\"#eeeeee\"><div align=\"right\">4.96</div></TD>\n",
    "    <TD BGCOLOR=\"#eeeeee\"><div align=\"right\">4.10</div></TD>\n",
    "    <TD BGCOLOR=\"#eeeeee\"><div align=\"right\">3.71</div></TD>\n",
    "    <TD BGCOLOR=\"#eeeeee\"><div align=\"right\">3.48</div></TD>\n",
    "    <TD BGCOLOR=\"#eeeeee\"><div align=\"right\">3.33</div></TD>\n",
    "  </TR>\n",
    "  <TR> \n",
    "    <TD BGCOLOR=\"#CCCCCC\"><div align=\"center\">20</div></TD>\n",
    "    <TD BGCOLOR=\"#eeeeee\"><div align=\"right\">4.35</div></TD>\n",
    "    <TD BGCOLOR=\"#eeeeee\"><div align=\"right\">3.49</div></TD>\n",
    "    <TD BGCOLOR=\"#eeeeee\"><div align=\"right\">3.10</div></TD>\n",
    "    <TD BGCOLOR=\"#eeeeee\"><div align=\"right\">2.87</div></TD>\n",
    "    <TD BGCOLOR=\"#eeeeee\"><div align=\"right\">2.71</div></TD>\n",
    "  </TR>\n",
    "  <TR> \n",
    "    <TD BGCOLOR=\"#CCCCCC\"><div align=\"center\">30</div></TD>\n",
    "    <TD BGCOLOR=\"#eeeeee\"><div align=\"right\">4.17</div></TD>\n",
    "    <TD BGCOLOR=\"#eeeeee\"><div align=\"right\">3.32</div></TD>\n",
    "    <TD BGCOLOR=\"#eeeeee\"><div align=\"right\">2.92</div></TD>\n",
    "    <TD BGCOLOR=\"#eeeeee\"><div align=\"right\">2.69</div></TD>\n",
    "    <TD BGCOLOR=\"#eeeeee\"><div align=\"right\">2.53</div></TD>\n",
    "  </TR>\n",
    "  <TR> \n",
    "    <TD BGCOLOR=\"#CCCCCC\"><div align=\"center\">40</div></TD>\n",
    "    <TD BGCOLOR=\"#eeeeee\"><div align=\"right\">4.08</div></TD>\n",
    "    <TD BGCOLOR=\"#eeeeee\"><div align=\"right\">3.23</div></TD>\n",
    "    <TD BGCOLOR=\"#eeeeee\"><div align=\"right\">2.84</div></TD>\n",
    "    <TD BGCOLOR=\"#eeeeee\"><div align=\"right\">2.61</div></TD>\n",
    "    <TD BGCOLOR=\"#eeeeee\"><div align=\"right\">2.45</div></TD>\n",
    "  </TR>\n",
    "  <TR> \n",
    "    <TD BGCOLOR=\"#CCCCCC\"><div align=\"center\">50</div></TD>\n",
    "    <TD BGCOLOR=\"#eeeeee\"><div align=\"right\">4.03</div></TD>\n",
    "    <TD BGCOLOR=\"#eeeeee\"><div align=\"right\">3.18</div></TD>\n",
    "    <TD BGCOLOR=\"#eeeeee\"><div align=\"right\">2.79</div></TD>\n",
    "    <TD BGCOLOR=\"#eeeeee\"><div align=\"right\">2.56</div></TD>\n",
    "    <TD BGCOLOR=\"#eeeeee\"><div align=\"right\">2.40</div></TD>\n",
    "  </TR>\n",
    "  <TR> \n",
    "    <TD BGCOLOR=\"#CCCCCC\"><div align=\"center\">60</div></TD>\n",
    "    <TD BGCOLOR=\"#eeeeee\"><div align=\"right\">4.00</div></TD>\n",
    "    <TD BGCOLOR=\"#eeeeee\"><div align=\"right\">3.15</div></TD>\n",
    "    <TD BGCOLOR=\"#eeeeee\"><div align=\"right\">2.76</div></TD>\n",
    "    <TD BGCOLOR=\"#eeeeee\"><div align=\"right\">2.53</div></TD>\n",
    "    <TD BGCOLOR=\"#eeeeee\"><div align=\"right\">2.37</div></TD>\n",
    "  </TR>\n",
    "  <TR> \n",
    "    <TD BGCOLOR=\"#CCCCCC\"><div align=\"center\">70</div></TD>\n",
    "    <TD BGCOLOR=\"#eeeeee\"><div align=\"right\">3.98</div></TD>\n",
    "    <TD BGCOLOR=\"#eeeeee\"><div align=\"right\">3.13</div></TD>\n",
    "    <TD BGCOLOR=\"#eeeeee\"><div align=\"right\">2.74</div></TD>\n",
    "    <TD BGCOLOR=\"#eeeeee\"><div align=\"right\">2.50</div></TD>\n",
    "    <TD BGCOLOR=\"#eeeeee\"><div align=\"right\">2.35</div></TD>\n",
    "  </TR>\n",
    "  <TR> \n",
    "    <TD BGCOLOR=\"#CCCCCC\"><div align=\"center\">80</div></TD>\n",
    "    <TD BGCOLOR=\"#eeeeee\"><div align=\"right\">3.96</div></TD>\n",
    "    <TD BGCOLOR=\"#eeeeee\"><div align=\"right\">3.11</div></TD>\n",
    "    <TD BGCOLOR=\"#eeeeee\"><div align=\"right\">2.72</div></TD>\n",
    "    <TD BGCOLOR=\"#eeeeee\"><div align=\"right\">2.49</div></TD>\n",
    "    <TD BGCOLOR=\"#eeeeee\"><div align=\"right\">2.33</div></TD>\n",
    "  </TR>\n",
    "  <TR> \n",
    "    <TD BGCOLOR=\"#CCCCCC\"><div align=\"center\">90</div></TD>\n",
    "    <TD BGCOLOR=\"#eeeeee\"><div align=\"right\">3.95</div></TD>\n",
    "    <TD BGCOLOR=\"#eeeeee\"><div align=\"right\">3.10</div></TD>\n",
    "    <TD BGCOLOR=\"#eeeeee\"><div align=\"right\">2.71</div></TD>\n",
    "    <TD BGCOLOR=\"#eeeeee\"><div align=\"right\">2.47</div></TD>\n",
    "    <TD BGCOLOR=\"#eeeeee\"><div align=\"right\">2.32</div></TD>\n",
    "  </TR>\n",
    "  <TR> \n",
    "    <TD BGCOLOR=\"#CCCCCC\"><div align=\"center\">100</div></TD>\n",
    "    <TD BGCOLOR=\"#eeeeee\"><div align=\"right\">3.94</div></TD>\n",
    "    <TD BGCOLOR=\"#eeeeee\"><div align=\"right\">3.09</div></TD>\n",
    "    <TD BGCOLOR=\"#eeeeee\"><div align=\"right\">2.70</div></TD>\n",
    "    <TD BGCOLOR=\"#eeeeee\"><div align=\"right\">2.46</div></TD>\n",
    "    <TD BGCOLOR=\"#eeeeee\"><div align=\"right\">2.31</div></TD>\n",
    "  </TR>\n",
    "  <TR> \n",
    "    <TD BGCOLOR=\"#CCCCCC\"><div align=\"center\">200</div></TD>\n",
    "    <TD BGCOLOR=\"#eeeeee\"><div align=\"right\">3.89</div></TD>\n",
    "    <TD BGCOLOR=\"#eeeeee\"><div align=\"right\">3.04</div></TD>\n",
    "    <TD BGCOLOR=\"#eeeeee\"><div align=\"right\">2.65</div></TD>\n",
    "    <TD BGCOLOR=\"#eeeeee\"><div align=\"right\">2.42</div></TD>\n",
    "    <TD BGCOLOR=\"#eeeeee\"><div align=\"right\">2.26</div></TD>\n",
    "  </TR>\n",
    "  <TR> \n",
    "    <TD BGCOLOR=\"#CCCCCC\"><div align=\"center\">300</div></TD>\n",
    "    <TD BGCOLOR=\"#eeeeee\"><div align=\"right\">3.87</div></TD>\n",
    "    <TD BGCOLOR=\"#eeeeee\"><div align=\"right\">3.03</div></TD>\n",
    "    <TD BGCOLOR=\"#eeeeee\"><div align=\"right\">2.63</div></TD>\n",
    "    <TD BGCOLOR=\"#eeeeee\"><div align=\"right\">2.40</div></TD>\n",
    "    <TD BGCOLOR=\"#eeeeee\"><div align=\"right\">2.24</div></TD>\n",
    "  </TR>\n",
    "</TABLE>\n",
    "\n",
    "カイ２乗分布表も、t分布表も自由度はひとつでしたが、F分布表には自由度が2つあります。 群内の自由度と群間の自由度の両方を指定する必要があるからです。\n",
    "\n",
    "今回は、群内の自由度が57ですので、一番近い60のところを見ます。さらに群間の自由度は2でしたので、2のところをみます。\n",
    "\n",
    "そうすると、5%有意水準で、F=3.15が棄却域の境目であることがわかります。\n",
    "\n",
    "いま、計算したFは12.22でしたので、5%有意水準で棄却域にはいります。\n",
    "\n",
    "帰無仮説である「3つのお店のポテトの評価の平均に差はない」は棄却されました。\n",
    "\n",
    "つまり「3つのお店のポテトの評価の平均には差がある」ということになります。\n",
    "\n",
    "どれとどれの間に差があるかはわかりませんが、少なくともひとつの組み合わせの間で差があるということになります。"
   ]
  },
  {
   "cell_type": "markdown",
   "metadata": {},
   "source": [
    "<h4 style=\"border-bottom: solid 1px black;\">1%有意水準のF分布表の値と比較する</h4>\n",
    "\n",
    "では、有意水準を1%としたときは、どうなるでしょうか。\n",
    "\n",
    "下の表を使って、結論を下してみてください。\n",
    "\n",
    "<TABLE BORDER=\"1\" align=\"center\" CELLPADDING=\"2\" CELLSPACING=\"0\">\n",
    "  <TR> \n",
    "    <TD WIDTH=100 rowspan=\"2\" BGCOLOR=\"#bCCCCC\"> \n",
    "      <CENTER>\n",
    "        群内の自由度 \n",
    "      </CENTER>\n",
    "      <div align=\"center\"></div></TD>\n",
    "    <TD colspan=\"5\" BGCOLOR=\"#bddddd\"> \n",
    "      <CENTER>\n",
    "        群間の自由度 \n",
    "      </CENTER>\n",
    "      <CENTER>\n",
    "      </CENTER>\n",
    "      <CENTER>\n",
    "      </CENTER>\n",
    "      <CENTER>\n",
    "      </CENTER></TD>\n",
    "  </TR>\n",
    "  <TR> \n",
    "    <TD WIDTH=100 BGCOLOR=\"#bddddd\"> \n",
    "      <div align=\"center\">1</div></TD>\n",
    "    <TD WIDTH=100 BGCOLOR=\"#bddddd\"> \n",
    "      <div align=\"center\">2</div></TD>\n",
    "    <TD WIDTH=100 BGCOLOR=\"#bddddd\"> \n",
    "      <div align=\"center\">3</div></TD>\n",
    "    <TD WIDTH=100 BGCOLOR=\"#bddddd\"> \n",
    "      <div align=\"center\">4</div></TD>\n",
    "    <TD WIDTH=100 BGCOLOR=\"#bddddd\"> \n",
    "      <div align=\"center\">5</div></TD>\n",
    "  </TR>\n",
    "  <TR> \n",
    "    <TD BGCOLOR=\"#bCCCCC\"> \n",
    "      <div align=\"center\">10</div></TD>\n",
    "    <TD BGCOLOR=\"#eeeeee\"><div align=\"right\">10.04</div></TD>\n",
    "    <TD BGCOLOR=\"#eeeeee\"><div align=\"right\">7.56</div></TD>\n",
    "    <TD BGCOLOR=\"#eeeeee\"><div align=\"right\">6.55</div></TD>\n",
    "    <TD BGCOLOR=\"#eeeeee\"><div align=\"right\">5.99</div></TD>\n",
    "    <TD BGCOLOR=\"#eeeeee\"><div align=\"right\">5.64</div></TD>\n",
    "  </TR>\n",
    "  <TR> \n",
    "    <TD BGCOLOR=\"#bCCCCC\"> \n",
    "      <div align=\"center\">20</div></TD>\n",
    "    <TD BGCOLOR=\"#eeeeee\"><div align=\"right\">8.10</div></TD>\n",
    "    <TD BGCOLOR=\"#eeeeee\"><div align=\"right\">5.85</div></TD>\n",
    "    <TD BGCOLOR=\"#eeeeee\"><div align=\"right\">4.94</div></TD>\n",
    "    <TD BGCOLOR=\"#eeeeee\"><div align=\"right\">4.43</div></TD>\n",
    "    <TD BGCOLOR=\"#eeeeee\"><div align=\"right\">4.10</div></TD>\n",
    "  </TR>\n",
    "  <TR> \n",
    "    <TD BGCOLOR=\"#bCCCCC\"> \n",
    "      <div align=\"center\">30</div></TD>\n",
    "    <TD BGCOLOR=\"#eeeeee\"><div align=\"right\">7.56</div></TD>\n",
    "    <TD BGCOLOR=\"#eeeeee\"><div align=\"right\">5.39</div></TD>\n",
    "    <TD BGCOLOR=\"#eeeeee\"><div align=\"right\">4.51</div></TD>\n",
    "    <TD BGCOLOR=\"#eeeeee\"><div align=\"right\">4.02</div></TD>\n",
    "    <TD BGCOLOR=\"#eeeeee\"><div align=\"right\">3.70</div></TD>\n",
    "  </TR>\n",
    "  <TR> \n",
    "    <TD BGCOLOR=\"#bCCCCC\"> \n",
    "      <div align=\"center\">40</div></TD>\n",
    "    <TD BGCOLOR=\"#eeeeee\"><div align=\"right\">7.31</div></TD>\n",
    "    <TD BGCOLOR=\"#eeeeee\"><div align=\"right\">5.18</div></TD>\n",
    "    <TD BGCOLOR=\"#eeeeee\"><div align=\"right\">4.31</div></TD>\n",
    "    <TD BGCOLOR=\"#eeeeee\"><div align=\"right\">3.83</div></TD>\n",
    "    <TD BGCOLOR=\"#eeeeee\"><div align=\"right\">3.51</div></TD>\n",
    "  </TR>\n",
    "  <TR> \n",
    "    <TD BGCOLOR=\"#bCCCCC\"> \n",
    "      <div align=\"center\">50</div></TD>\n",
    "    <TD BGCOLOR=\"#eeeeee\"><div align=\"right\">7.17</div></TD>\n",
    "    <TD BGCOLOR=\"#eeeeee\"><div align=\"right\">5.06</div></TD>\n",
    "    <TD BGCOLOR=\"#eeeeee\"><div align=\"right\">4.20</div></TD>\n",
    "    <TD BGCOLOR=\"#eeeeee\"><div align=\"right\">3.72</div></TD>\n",
    "    <TD BGCOLOR=\"#eeeeee\"><div align=\"right\">3.41</div></TD>\n",
    "  </TR>\n",
    "  <TR> \n",
    "    <TD BGCOLOR=\"#bCCCCC\"> \n",
    "      <div align=\"center\">60</div></TD>\n",
    "    <TD BGCOLOR=\"#eeeeee\"><div align=\"right\">7.08</div></TD>\n",
    "    <TD BGCOLOR=\"#eeeeee\"><div align=\"right\">4.98</div></TD>\n",
    "    <TD BGCOLOR=\"#eeeeee\"><div align=\"right\">4.13</div></TD>\n",
    "    <TD BGCOLOR=\"#eeeeee\"><div align=\"right\">3.65</div></TD>\n",
    "    <TD BGCOLOR=\"#eeeeee\"><div align=\"right\">3.34</div></TD>\n",
    "  </TR>\n",
    "  <TR> \n",
    "    <TD BGCOLOR=\"#bCCCCC\"> \n",
    "      <div align=\"center\">70</div></TD>\n",
    "    <TD BGCOLOR=\"#eeeeee\"><div align=\"right\">7.01</div></TD>\n",
    "    <TD BGCOLOR=\"#eeeeee\"><div align=\"right\">4.92</div></TD>\n",
    "    <TD BGCOLOR=\"#eeeeee\"><div align=\"right\">4.07</div></TD>\n",
    "    <TD BGCOLOR=\"#eeeeee\"><div align=\"right\">3.60</div></TD>\n",
    "    <TD BGCOLOR=\"#eeeeee\"><div align=\"right\">3.29</div></TD>\n",
    "  </TR>\n",
    "  <TR> \n",
    "    <TD BGCOLOR=\"#bCCCCC\"> \n",
    "      <div align=\"center\">80</div></TD>\n",
    "    <TD BGCOLOR=\"#eeeeee\"><div align=\"right\">6.96</div></TD>\n",
    "    <TD BGCOLOR=\"#eeeeee\"><div align=\"right\">4.88</div></TD>\n",
    "    <TD BGCOLOR=\"#eeeeee\"><div align=\"right\">4.04</div></TD>\n",
    "    <TD BGCOLOR=\"#eeeeee\"><div align=\"right\">3.56</div></TD>\n",
    "    <TD BGCOLOR=\"#eeeeee\"><div align=\"right\">3.26</div></TD>\n",
    "  </TR>\n",
    "  <TR> \n",
    "    <TD BGCOLOR=\"#bCCCCC\"> \n",
    "      <div align=\"center\">90</div></TD>\n",
    "    <TD BGCOLOR=\"#eeeeee\"><div align=\"right\">6.93</div></TD>\n",
    "    <TD BGCOLOR=\"#eeeeee\"><div align=\"right\">4.85</div></TD>\n",
    "    <TD BGCOLOR=\"#eeeeee\"><div align=\"right\">4.01</div></TD>\n",
    "    <TD BGCOLOR=\"#eeeeee\"><div align=\"right\">3.53</div></TD>\n",
    "    <TD BGCOLOR=\"#eeeeee\"><div align=\"right\">3.23</div></TD>\n",
    "  </TR>\n",
    "  <TR> \n",
    "    <TD BGCOLOR=\"#bCCCCC\"> \n",
    "      <div align=\"center\">100</div></TD>\n",
    "    <TD BGCOLOR=\"#eeeeee\"><div align=\"right\">6.90</div></TD>\n",
    "    <TD BGCOLOR=\"#eeeeee\"><div align=\"right\">4.82</div></TD>\n",
    "    <TD BGCOLOR=\"#eeeeee\"><div align=\"right\">3.98</div></TD>\n",
    "    <TD BGCOLOR=\"#eeeeee\"><div align=\"right\">3.51</div></TD>\n",
    "    <TD BGCOLOR=\"#eeeeee\"><div align=\"right\">3.21</div></TD>\n",
    "  </TR>\n",
    "  <TR> \n",
    "    <TD BGCOLOR=\"#bCCCCC\"> \n",
    "      <div align=\"center\">200</div></TD>\n",
    "    <TD BGCOLOR=\"#eeeeee\"><div align=\"right\">6.76</div></TD>\n",
    "    <TD BGCOLOR=\"#eeeeee\"><div align=\"right\">4.71</div></TD>\n",
    "    <TD BGCOLOR=\"#eeeeee\"><div align=\"right\">3.88</div></TD>\n",
    "    <TD BGCOLOR=\"#eeeeee\"><div align=\"right\">3.41</div></TD>\n",
    "    <TD BGCOLOR=\"#eeeeee\"><div align=\"right\">3.11</div></TD>\n",
    "  </TR>\n",
    "  <TR> \n",
    "    <TD BGCOLOR=\"#bCCCCC\"> \n",
    "      <div align=\"center\">300</div></TD>\n",
    "    <TD BGCOLOR=\"#eeeeee\"><div align=\"right\">6.72</div></TD>\n",
    "    <TD BGCOLOR=\"#eeeeee\"><div align=\"right\">4.68</div></TD>\n",
    "    <TD BGCOLOR=\"#eeeeee\"><div align=\"right\">3.85</div></TD>\n",
    "    <TD BGCOLOR=\"#eeeeee\"><div align=\"right\">3.38</div></TD>\n",
    "    <TD BGCOLOR=\"#eeeeee\"><div align=\"right\">3.08</div></TD>\n",
    "  </TR>\n",
    "</TABLE>"
   ]
  },
  {
   "cell_type": "markdown",
   "metadata": {},
   "source": [
    "* 計算したF値と、F分布表を比較して、帰無仮説が棄却できるかどうか説明してください。"
   ]
  },
  {
   "cell_type": "code",
   "execution_count": 19,
   "metadata": {
    "collapsed": true
   },
   "outputs": [],
   "source": [
    "# 計算したF値と、F分布表を比較\n",
    "\n",
    "# 群間の自由度は2、群内の自由度は57なので、5%有意水準のF値は約3.15、\n",
    "# 同様に1%有意水準のF値は約4.98である。対して、計算したF値は12.2だった。\n",
    "# したがって、どちらの有意水準においても棄却域に入るため、\n",
    "# 帰無仮説である「3つのお店のポテトの評価に差はない」は棄却された。\n",
    "# すなわち、ワクワク、モグモグ、パクパクのうち少なくともひとつの組み合わせの間で差があると言える。"
   ]
  },
  {
   "cell_type": "markdown",
   "metadata": {},
   "source": [
    "<h4 style=\"border-bottom: solid 1px black;\">多重比較</h4>\n",
    "\n",
    "なお、どの組み合わせで差があるかということを、さらに調べるためには、多重比較という方法があります。\n",
    "\n",
    "多重比較には、何種類かのやり方がありますが、この教材では扱いません。"
   ]
  },
  {
   "cell_type": "markdown",
   "metadata": {},
   "source": [
    "<h2 STYLE=\"background: #c2edff;padding: 0.5em;\"><a href=\"http://kogolab.chillout.jp/elearn/hamburger/chap6/sec4.html\" target=\"_blank\">6.4　実践編：3種類のハンバーガーの比較</a></h2>\n",
    "\n",
    "「モグモグの味が変わった！」\n",
    "\n",
    "<img src=\"image/m-burger00001.jpg\">\n",
    "\n",
    "店員さんが言いました。どうやらモグモグは、パクパクの進出を恐れ、ハンバーガーの改良を行ったらしいのです。\n",
    "\n",
    "「パクパクも入れたハンバーガーの検定はやってないよね。モグモグも味を変えたことだし、3つで分散分析をやってよ」\n",
    "\n",
    "<img src=\"image/salesman00009.jpg\">\n",
    "\n",
    "「おねがい！！」\n",
    "\n",
    "手に15個ずつのハンバーガーを抱えあなたは駅に行き、データをとってきました。\n",
    "\n",
    "それぞれ15人の女子高生、全部で45人の女子高生に食べてもらい、100点満点で点数をつけてもらいました。\n",
    "\n",
    "<h4 style=\"padding: 0.25em 0.5em;color: #494949;background: transparent;border-left: solid 5px #7db4e6;\">課題6.4</h4>\n",
    "\n",
    "下記のデータを用いて、分散分析を行ってください。"
   ]
  },
  {
   "cell_type": "code",
   "execution_count": 20,
   "metadata": {
    "collapsed": true
   },
   "outputs": [],
   "source": [
    "wakuwaku = [90, 70, 75, 90, 65, 70, 80, 85, 75, 75, 85, 75, 80, 90, 80]\n",
    "mogumogu = [75, 95, 75, 80, 75, 85, 75, 85, 80, 65, 90, 75, 90, 75, 85]\n",
    "pakupaku = [65, 60, 75, 80, 65, 60, 70, 85, 70, 75, 75, 70, 80, 75, 80]"
   ]
  },
  {
   "cell_type": "markdown",
   "metadata": {},
   "source": [
    "* まず帰無仮説と対立仮説を立てよう"
   ]
  },
  {
   "cell_type": "code",
   "execution_count": 21,
   "metadata": {
    "collapsed": true
   },
   "outputs": [],
   "source": [
    "# 帰無仮説 : ３つのグループの母集団の平均には差がない\n",
    "# 対立仮説 : ３つのグループの母集団の少なくとも１つの組み合わせに差がある"
   ]
  },
  {
   "cell_type": "markdown",
   "metadata": {},
   "source": [
    "* データ数、平均、分散、平方和を計算しよう"
   ]
  },
  {
   "cell_type": "code",
   "execution_count": 22,
   "metadata": {
    "collapsed": false
   },
   "outputs": [
    {
     "name": "stdout",
     "output_type": "stream",
     "text": [
      "15 79.0 57.333333333333336 860.0\n",
      "15 80.33333333333333 58.222222222222214 873.3333333333333\n",
      "15 72.33333333333333 52.888888888888886 793.3333333333333\n"
     ]
    }
   ],
   "source": [
    "# データ数、平均、分散、平方和\n",
    "print(len(wakuwaku), average(wakuwaku), variance(wakuwaku), sum_square_deviation(wakuwaku))\n",
    "print(len(mogumogu), average(mogumogu), variance(mogumogu), sum_square_deviation(mogumogu))\n",
    "print(len(pakupaku), average(pakupaku), variance(pakupaku), sum_square_deviation(pakupaku))"
   ]
  },
  {
   "cell_type": "markdown",
   "metadata": {},
   "source": [
    "* 分散分析表を作ろう"
   ]
  },
  {
   "cell_type": "code",
   "execution_count": 23,
   "metadata": {
    "collapsed": true
   },
   "outputs": [],
   "source": [
    "# 分散分析表\n",
    "zentai = wakuwaku + mogumogu + pakupaku\n",
    "j = 0\n",
    "for group in [wakuwaku, mogumogu, pakupaku]:\n",
    "    j += (average(group) - average(zentai))**2 * len(group)\n",
    "\n",
    "i = sum_square_deviation(wakuwaku) + sum_square_deviation(mogumogu) + sum_square_deviation(pakupaku)\n",
    "\n",
    "h = sum_square_deviation(zentai)\n",
    "\n",
    "k = 3 - 1\n",
    "l = (len(wakuwaku) - 1) + (len(mogumogu) - 1) + (len(pakupaku) - 1)\n",
    "m = len(wakuwaku + mogumogu + pakupaku) - 1\n",
    "\n",
    "n = j / k\n",
    "o = i / l\n",
    "\n",
    "f_value = n / o"
   ]
  },
  {
   "cell_type": "code",
   "execution_count": 24,
   "metadata": {
    "collapsed": false
   },
   "outputs": [
    {
     "data": {
      "text/plain": [
       "4.580474934036942"
      ]
     },
     "execution_count": 24,
     "metadata": {},
     "output_type": "execute_result"
    }
   ],
   "source": [
    "f_value"
   ]
  },
  {
   "cell_type": "markdown",
   "metadata": {},
   "source": [
    "* F分布表を見て、分かることを書いてください。"
   ]
  },
  {
   "cell_type": "code",
   "execution_count": 25,
   "metadata": {
    "collapsed": true
   },
   "outputs": [],
   "source": [
    "# F分布表を見て、分かること\n",
    "\n",
    "# 群間の自由度は2、群内の自由度は42なので、5%有意水準のF値は約3.23、\n",
    "# 同様に1%有意水準のF値は約4.98である。対して、計算したF値は4.58だった。\n",
    "# したがって、5%有意水準において棄却域に入るが、1%有意水準においては棄却域に入らない。\n",
    "# 帰無仮説である「3つのお店のバーガーの評価に差はない」は5%有意水準において棄却された。\n",
    "# すなわち、ワクワク、モグモグ、パクパクのうち少なくともひとつの組み合わせの間で、\n",
    "# 5%有意水準において差があると言えるが、1%有意水準において差があると言えるほどの違いではない。"
   ]
  },
  {
   "cell_type": "markdown",
   "metadata": {},
   "source": [
    "<h2 STYLE=\"background: #c2edff;padding: 0.5em;\">ハンバーガー統計学 第６章 課題</h2>\n",
    "\n",
    "__課題6.2__、および __課題6.4__ を解いて、指定のメールアドレスまでメールしてください。メール送信後は、エラーが帰ってきてないことを確認してください（メールアドレスを間違える人がときどき居ます）。\n",
    "* 締切：10月17日（今すぐでなくても結構です）\n",
    "* メールタイトル：「ハンバーガー統計学 第６章」\n",
    "* 学籍番号と氏名を明記すること。\n",
    "* 感想などがあれば書いてくれると嬉しいです。次回以降の講義の改善につながるかも知れません。"
   ]
  },
  {
   "cell_type": "code",
   "execution_count": 26,
   "metadata": {
    "collapsed": true
   },
   "outputs": [],
   "source": [
    "# ハンバーガー統計学 第６章 課題"
   ]
  },
  {
   "cell_type": "markdown",
   "metadata": {},
   "source": [
    "<h2 STYLE=\"background: #c2edff;padding: 0.5em;\">終わったら、<a href=\"HamburgerStatistics07.ipynb\">第７章：分散分析（２要因）</a> に進んでください。</h2>\n",
    "（2017年10月13日講義、10月17日課題提出締切）"
   ]
  }
 ],
 "metadata": {
  "kernelspec": {
   "display_name": "Python 3",
   "language": "python",
   "name": "python3"
  },
  "language_info": {
   "codemirror_mode": {
    "name": "ipython",
    "version": 3
   },
   "file_extension": ".py",
   "mimetype": "text/x-python",
   "name": "python",
   "nbconvert_exporter": "python",
   "pygments_lexer": "ipython3",
   "version": "3.4.5"
  }
 },
 "nbformat": 4,
 "nbformat_minor": 0
}
